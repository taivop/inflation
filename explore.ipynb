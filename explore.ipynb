{
 "cells": [
  {
   "cell_type": "code",
   "execution_count": 298,
   "id": "f64d812e",
   "metadata": {},
   "outputs": [],
   "source": [
    "import pandas as pd\n",
    "import numpy as np\n",
    "import plotly.express as px\n",
    "import plotly"
   ]
  },
  {
   "cell_type": "code",
   "execution_count": 119,
   "id": "2df6b9e8",
   "metadata": {},
   "outputs": [
    {
     "data": {
      "text/html": [
       "<div>\n",
       "<style scoped>\n",
       "    .dataframe tbody tr th:only-of-type {\n",
       "        vertical-align: middle;\n",
       "    }\n",
       "\n",
       "    .dataframe tbody tr th {\n",
       "        vertical-align: top;\n",
       "    }\n",
       "\n",
       "    .dataframe thead th {\n",
       "        text-align: right;\n",
       "    }\n",
       "</style>\n",
       "<table border=\"1\" class=\"dataframe\">\n",
       "  <thead>\n",
       "    <tr style=\"text-align: right;\">\n",
       "      <th></th>\n",
       "      <th>2019</th>\n",
       "      <th>2020</th>\n",
       "      <th>2021</th>\n",
       "      <th>2022</th>\n",
       "      <th>coicop</th>\n",
       "    </tr>\n",
       "  </thead>\n",
       "  <tbody>\n",
       "    <tr>\n",
       "      <th>0</th>\n",
       "      <td>90.20</td>\n",
       "      <td>82.93</td>\n",
       "      <td>94.82</td>\n",
       "      <td>121.47</td>\n",
       "      <td>AP</td>\n",
       "    </tr>\n",
       "    <tr>\n",
       "      <th>1</th>\n",
       "      <td>3.85</td>\n",
       "      <td>3.63</td>\n",
       "      <td>4.21</td>\n",
       "      <td>4.56</td>\n",
       "      <td>APF</td>\n",
       "    </tr>\n",
       "    <tr>\n",
       "      <th>2</th>\n",
       "      <td>86.36</td>\n",
       "      <td>79.30</td>\n",
       "      <td>90.60</td>\n",
       "      <td>116.92</td>\n",
       "      <td>APM</td>\n",
       "    </tr>\n",
       "    <tr>\n",
       "      <th>3</th>\n",
       "      <td>30.45</td>\n",
       "      <td>26.48</td>\n",
       "      <td>30.47</td>\n",
       "      <td>31.62</td>\n",
       "      <td>AP_NNRG</td>\n",
       "    </tr>\n",
       "    <tr>\n",
       "      <th>4</th>\n",
       "      <td>59.76</td>\n",
       "      <td>56.45</td>\n",
       "      <td>64.35</td>\n",
       "      <td>89.85</td>\n",
       "      <td>AP_NRG</td>\n",
       "    </tr>\n",
       "  </tbody>\n",
       "</table>\n",
       "</div>"
      ],
      "text/plain": [
       "    2019   2020   2021    2022   coicop\n",
       "0  90.20  82.93  94.82  121.47       AP\n",
       "1   3.85   3.63   4.21    4.56      APF\n",
       "2  86.36  79.30  90.60  116.92      APM\n",
       "3  30.45  26.48  30.47   31.62  AP_NNRG\n",
       "4  59.76  56.45  64.35   89.85   AP_NRG"
      ]
     },
     "execution_count": 119,
     "metadata": {},
     "output_type": "execute_result"
    }
   ],
   "source": [
    "# Price index weights on different goods\n",
    "# https://ec.europa.eu/eurostat/databrowser/view/PRC_HICP_INW__custom_2846029/default/table?lang=en\n",
    "weights = pd.read_csv('data/prc_hicp_inw__custom_2846029_page_tabular.tsv', sep=\"\\t\")\n",
    "\n",
    "\n",
    "# Clean weights\n",
    "def extract_coicop(col, position):\n",
    "    return col.str.split(\",\", expand=True)[position]\n",
    "\n",
    "weights[\"coicop\"] = extract_coicop(weights[\"freq,coicop,geo\\TIME_PERIOD\"], 1)\n",
    "weights.columns = [c.strip() for c in weights.columns]\n",
    "weights = weights.drop(\"freq,coicop,geo\\TIME_PERIOD\", axis=1)\n",
    "weights.head()"
   ]
  },
  {
   "cell_type": "code",
   "execution_count": 122,
   "id": "7d1f5ef2",
   "metadata": {},
   "outputs": [
    {
     "data": {
      "text/html": [
       "<div>\n",
       "<style scoped>\n",
       "    .dataframe tbody tr th:only-of-type {\n",
       "        vertical-align: middle;\n",
       "    }\n",
       "\n",
       "    .dataframe tbody tr th {\n",
       "        vertical-align: top;\n",
       "    }\n",
       "\n",
       "    .dataframe thead th {\n",
       "        text-align: right;\n",
       "    }\n",
       "</style>\n",
       "<table border=\"1\" class=\"dataframe\">\n",
       "  <thead>\n",
       "    <tr style=\"text-align: right;\">\n",
       "      <th></th>\n",
       "      <th>2021-08</th>\n",
       "      <th>2021-09</th>\n",
       "      <th>2021-10</th>\n",
       "      <th>2021-11</th>\n",
       "      <th>2021-12</th>\n",
       "      <th>2022-01</th>\n",
       "      <th>2022-02</th>\n",
       "      <th>2022-03</th>\n",
       "      <th>2022-04</th>\n",
       "      <th>2022-05</th>\n",
       "      <th>coicop</th>\n",
       "    </tr>\n",
       "  </thead>\n",
       "  <tbody>\n",
       "    <tr>\n",
       "      <th>0</th>\n",
       "      <td>0.5</td>\n",
       "      <td>10.7</td>\n",
       "      <td>-7.2</td>\n",
       "      <td>7.8</td>\n",
       "      <td>29.2</td>\n",
       "      <td>-10.7</td>\n",
       "      <td>-5.0</td>\n",
       "      <td>3.0</td>\n",
       "      <td>24.3</td>\n",
       "      <td>:</td>\n",
       "      <td>AP</td>\n",
       "    </tr>\n",
       "    <tr>\n",
       "      <th>1</th>\n",
       "      <td>0.0</td>\n",
       "      <td>0.0</td>\n",
       "      <td>0.0</td>\n",
       "      <td>0.0</td>\n",
       "      <td>0.0</td>\n",
       "      <td>1.3</td>\n",
       "      <td>0.0</td>\n",
       "      <td>0.0</td>\n",
       "      <td>0.0</td>\n",
       "      <td>:</td>\n",
       "      <td>APF</td>\n",
       "    </tr>\n",
       "    <tr>\n",
       "      <th>2</th>\n",
       "      <td>0.5</td>\n",
       "      <td>11.2</td>\n",
       "      <td>-7.5</td>\n",
       "      <td>8.2</td>\n",
       "      <td>30.3</td>\n",
       "      <td>-11.1</td>\n",
       "      <td>-5.2</td>\n",
       "      <td>3.2</td>\n",
       "      <td>25.4</td>\n",
       "      <td>:</td>\n",
       "      <td>APM</td>\n",
       "    </tr>\n",
       "    <tr>\n",
       "      <th>3</th>\n",
       "      <td>0.0</td>\n",
       "      <td>0.0</td>\n",
       "      <td>0.0</td>\n",
       "      <td>0.0</td>\n",
       "      <td>0.1</td>\n",
       "      <td>0.4</td>\n",
       "      <td>0.3</td>\n",
       "      <td>2.1</td>\n",
       "      <td>0.7</td>\n",
       "      <td>:</td>\n",
       "      <td>AP_NNRG</td>\n",
       "    </tr>\n",
       "    <tr>\n",
       "      <th>4</th>\n",
       "      <td>0.7</td>\n",
       "      <td>15.0</td>\n",
       "      <td>-9.7</td>\n",
       "      <td>10.9</td>\n",
       "      <td>39.3</td>\n",
       "      <td>-14.6</td>\n",
       "      <td>-7.2</td>\n",
       "      <td>3.4</td>\n",
       "      <td>34.8</td>\n",
       "      <td>:</td>\n",
       "      <td>AP_NRG</td>\n",
       "    </tr>\n",
       "  </tbody>\n",
       "</table>\n",
       "</div>"
      ],
      "text/plain": [
       "   2021-08  2021-09  2021-10  2021-11  2021-12  2022-01  2022-02  2022-03  \\\n",
       "0      0.5     10.7     -7.2      7.8     29.2    -10.7     -5.0      3.0   \n",
       "1      0.0      0.0      0.0      0.0      0.0      1.3      0.0      0.0   \n",
       "2      0.5     11.2     -7.5      8.2     30.3    -11.1     -5.2      3.2   \n",
       "3      0.0      0.0      0.0      0.0      0.1      0.4      0.3      2.1   \n",
       "4      0.7     15.0     -9.7     10.9     39.3    -14.6     -7.2      3.4   \n",
       "\n",
       "   2022-04 2022-05   coicop  \n",
       "0     24.3      :        AP  \n",
       "1      0.0      :       APF  \n",
       "2     25.4      :       APM  \n",
       "3      0.7      :   AP_NNRG  \n",
       "4     34.8      :    AP_NRG  "
      ]
     },
     "execution_count": 122,
     "metadata": {},
     "output_type": "execute_result"
    }
   ],
   "source": [
    "# Monthly inflation data\n",
    "# https://ec.europa.eu/eurostat/databrowser/view/PRC_HICP_MMOR__custom_2846191/default/table?lang=en\n",
    "monthly_inflation = pd.read_csv('data/prc_hicp_mmor__custom_2846191_page_tabular.tsv', sep=\"\\t\")\n",
    "\n",
    "# Clean monthly inflation data\n",
    "monthly_inflation[\"coicop\"] = extract_coicop(monthly_inflation[\"freq,unit,coicop,geo\\TIME_PERIOD\"], 2)\n",
    "monthly_inflation.columns = [c.strip() for c in monthly_inflation.columns]\n",
    "monthly_inflation = monthly_inflation.drop(\"freq,unit,coicop,geo\\TIME_PERIOD\", axis=1)\n",
    "monthly_inflation.head()"
   ]
  },
  {
   "cell_type": "code",
   "execution_count": 127,
   "id": "42f12ac8",
   "metadata": {},
   "outputs": [
    {
     "data": {
      "text/html": [
       "<div>\n",
       "<style scoped>\n",
       "    .dataframe tbody tr th:only-of-type {\n",
       "        vertical-align: middle;\n",
       "    }\n",
       "\n",
       "    .dataframe tbody tr th {\n",
       "        vertical-align: top;\n",
       "    }\n",
       "\n",
       "    .dataframe thead th {\n",
       "        text-align: right;\n",
       "    }\n",
       "</style>\n",
       "<table border=\"1\" class=\"dataframe\">\n",
       "  <thead>\n",
       "    <tr style=\"text-align: right;\">\n",
       "      <th></th>\n",
       "      <th>CODE_DIFF</th>\n",
       "      <th>LEVEL</th>\n",
       "      <th>EN_DESC</th>\n",
       "    </tr>\n",
       "  </thead>\n",
       "  <tbody>\n",
       "    <tr>\n",
       "      <th>0</th>\n",
       "      <td>TOTAL</td>\n",
       "      <td>1</td>\n",
       "      <td>Total</td>\n",
       "    </tr>\n",
       "    <tr>\n",
       "      <th>1</th>\n",
       "      <td>TOT_X_CP041_042</td>\n",
       "      <td>1</td>\n",
       "      <td>Total except actual rents</td>\n",
       "    </tr>\n",
       "    <tr>\n",
       "      <th>2</th>\n",
       "      <td>CP00</td>\n",
       "      <td>1</td>\n",
       "      <td>All-items HICP</td>\n",
       "    </tr>\n",
       "    <tr>\n",
       "      <th>3</th>\n",
       "      <td>CP01</td>\n",
       "      <td>1</td>\n",
       "      <td>Food and non-alcoholic beverages</td>\n",
       "    </tr>\n",
       "    <tr>\n",
       "      <th>4</th>\n",
       "      <td>CP011</td>\n",
       "      <td>2</td>\n",
       "      <td>Food</td>\n",
       "    </tr>\n",
       "  </tbody>\n",
       "</table>\n",
       "</div>"
      ],
      "text/plain": [
       "         CODE_DIFF  LEVEL                           EN_DESC\n",
       "0            TOTAL      1                             Total\n",
       "1  TOT_X_CP041_042      1         Total except actual rents\n",
       "2             CP00      1                    All-items HICP\n",
       "3             CP01      1  Food and non-alcoholic beverages\n",
       "4            CP011      2                              Food"
      ]
     },
     "execution_count": 127,
     "metadata": {},
     "output_type": "execute_result"
    }
   ],
   "source": [
    "# COICOP classifier\n",
    "# https://ec.europa.eu/eurostat/ramon/nomenclatures/index.cfm?TargetUrl=LST_CLS_DLD&StrLanguageCode=EN&StrNom=CL_COICOP&StrLayoutCode=LINEAR\n",
    "coicop = pd.read_excel('data/COICOP.xls', skiprows=2)\n",
    "\n",
    "# Clean COICOP\n",
    "coicop.columns = [c.strip() for c in coicop.columns]\n",
    "coicop = coicop.drop(labels=[\"DE_DESC\", \"FR_DESC\", \"DESC_AGGR\", \"INT_CODE\"], axis=1)\n",
    "coicop.head()"
   ]
  },
  {
   "cell_type": "markdown",
   "id": "0a91aeaa",
   "metadata": {},
   "source": [
    "# Treemap"
   ]
  },
  {
   "cell_type": "code",
   "execution_count": 261,
   "id": "c625dbdd",
   "metadata": {},
   "outputs": [],
   "source": [
    "MAX_LEVEL = 4 # How deep detail do we want to show?\n",
    "\n",
    "merged = monthly_inflation.merge(coicop, left_on=\"coicop\", right_on=\"CODE_DIFF\")\n",
    "merged = merged[merged[\"coicop\"].str.slice(0, 2) == \"CP\"]\n",
    "merged = merged[merged[\"LEVEL\"] == MAX_LEVEL]\n",
    "merged = merged.reset_index()\n",
    "\n",
    "# Add hierarchical description\n",
    "def get_level_description(codes, level=1):\n",
    "    \"\"\"Get the COICOP hierarchical description corresponding to `level` in `code`.\"\"\"\n",
    "    level_code = codes.str.slice(0, 3+level)\n",
    "    df = pd.DataFrame({\"level_code\": level_code})\n",
    "    df = df.merge(coicop, left_on=\"level_code\", right_on=\"CODE_DIFF\")\n",
    "    level_coicop_code = df[\"CODE_DIFF\"]\n",
    "    level_coicop_desc = df[\"EN_DESC\"]\n",
    "    return level_coicop_desc\n",
    "\n",
    "for level in range(1, MAX_LEVEL+1):\n",
    "    merged[f\"L{level}_DESC\"] = get_level_description(merged[\"coicop\"], level=level)\n",
    "    \n",
    "# Multiply percentage growths by index weight\n",
    "def get_coicop_weight(codes, month: str):\n",
    "    \"\"\"Get the weights in price index, given the COICOP code.\"\"\"\n",
    "    year = month[0:4]\n",
    "    df = pd.DataFrame({\"coicop\": codes})\n",
    "    df = df.merge(weights, left_on=\"coicop\", right_on=\"coicop\")\n",
    "#    df = df.rename({year: \"weight\"})\n",
    "#    df = df[\"coicop\", \"weight\"]\n",
    "    \n",
    "    return df[year]\n",
    "    \n",
    "\n",
    "# Weight and zero-floor the values for the month we care about\n",
    "month = \"2022-03\"\n",
    "merged[month] = np.maximum(np.zeros(merged[month].shape), merged[month].to_numpy())\n",
    "merged[month] = merged[month] * get_coicop_weight(merged[\"coicop\"], month=month)"
   ]
  },
  {
   "cell_type": "code",
   "execution_count": 309,
   "id": "e7dd0b15",
   "metadata": {},
   "outputs": [
    {
     "data": {
      "application/vnd.plotly.v1+json": {
       "config": {
        "plotlyServerURL": "https://plotly.com"
       },
       "data": [
        {
         "branchvalues": "total",
         "domain": {
          "x": [
           0,
           1
          ],
          "y": [
           0,
           1
          ]
         },
         "hovertemplate": "labels=%{label}<br>val=%{value}<br>parent=%{parent}<br>id=%{id}<extra></extra>",
         "ids": [
          "all/Recreation and culture/Audio-visual, photographic and information processing equipment/Information processing equipment/Accessories for information processing equipment",
          "all/Transport/Operation of personal transport equipment/Spares parts and accessories for personal transport equipment/Accessories for personal transport equipment",
          "all/Restaurants and hotels/Accommodation services/Accommodation services/Accommodation services of other establishments",
          "all/Miscellaneous goods and services/Other services n.e.c./Other services n.e.c./Administrative fees",
          "all/Alcoholic beverages, tobacco and narcotics/Alcoholic beverages/Spirits/Alcoholic soft drinks",
          "all/Miscellaneous goods and services/Personal effects n.e.c./Other personal effects/Articles for babies",
          "all/Miscellaneous goods and services/Personal care/Other appliances, articles and products for personal care/Articles for personal hygiene and wellness, esoteric products and beauty products",
          "all/Food and non-alcoholic beverages/Food/Food products n.e.c./Baby food",
          "all/Furnishings, household equipment and routine household maintenance/Household textiles/Household textiles/Bed linen",
          "all/Food and non-alcoholic beverages/Food/Meat/Beef and veal",
          "all/Food and non-alcoholic beverages/Food/Bread and cereals/Bread",
          "all/Food and non-alcoholic beverages/Food/Bread and cereals/Breakfast cereals",
          "all/Communications/Telephone and telefax services/Telephone and telefax services/Bundled telecommunication services",
          "all/Food and non-alcoholic beverages/Food/Oils and fats/Butter",
          "all/Recreation and culture/Audio-visual, photographic and information processing equipment/Photographic and cinematographic equipment and optical instruments/Cameras",
          "all/Furnishings, household equipment and routine household maintenance/Furniture and furnishings, carpets and other floor coverings/Carpets and other floor coverings/Carpet and rugs",
          "all/Miscellaneous goods and services/Financial services n.e.c./Other financial services n.e.c./Charges by banks and post offices",
          "all/Food and non-alcoholic beverages/Food/Milk, cheese and eggs/Cheese and curd",
          "all/Food and non-alcoholic beverages/Food/Sugar, jam, honey, chocolate and confectionery/Chocolate",
          "all/Alcoholic beverages, tobacco and narcotics/Tobacco/Tobacco/Cigarettes",
          "all/Recreation and culture/Recreational and cultural services/Cultural services/Cinemas, theatres, concerts",
          "all/Furnishings, household equipment and routine household maintenance/Goods and services for routine household maintenance/Non-durable household goods/Cleaning and maintenance products",
          "all/Furnishings, household equipment and routine household maintenance/Household appliances/Major household appliances whether electric or not/Cleaning equipment",
          "all/Clothing and footwear/Clothing/Cleaning, repair and hire of clothing/Cleaning of clothing",
          "all/Furnishings, household equipment and routine household maintenance/Goods and services for routine household maintenance/Domestic services and household services/Cleaning services",
          "all/Miscellaneous goods and services/Personal effects n.e.c./Jewellery, clocks and watches/Clocks and watches",
          "all/Furnishings, household equipment and routine household maintenance/Household appliances/Major household appliances whether electric or not/Clothes washing machines, clothes drying machines and dish washing machines",
          "all/Clothing and footwear/Clothing/Other articles of clothing and clothing accessories/Clothing accessories",
          "all/Housing, water, electricity, gas and other fuels/Electricity, gas and other fuels/Solid fuels/Coal",
          "all/Food and non-alcoholic beverages/Non-alcoholic beverages/Coffee, tea and cocoa/Cocoa and powdered chocolate",
          "all/Food and non-alcoholic beverages/Non-alcoholic beverages/Coffee, tea and cocoa/Coffee",
          "all/Furnishings, household equipment and routine household maintenance/Household appliances/Small electric household appliances/Coffee machines, tea-makers and similar appliances",
          "all/Food and non-alcoholic beverages/Food/Sugar, jam, honey, chocolate and confectionery/Confectionery products",
          "all/Furnishings, household equipment and routine household maintenance/Household appliances/Major household appliances whether electric or not/Cookers",
          "all/Health/Medical products, appliances and equipment/Therapeutic appliances and equipment/Corrective eye-glasses and contact lenses",
          "all/Food and non-alcoholic beverages/Food/Vegetables/Crisps",
          "all/Furnishings, household equipment and routine household maintenance/Glassware, tableware and household utensils/Glassware, tableware and household utensils/Cutlery, flatware and silverware",
          "all/Transport/Operation of personal transport equipment/Fuels and lubricants for personal transport equipment/Diesel",
          "all/Food and non-alcoholic beverages/Food/Fruit/Dried fruit and nuts",
          "all/Food and non-alcoholic beverages/Food/Vegetables/Dried vegetables, other preserved or processed vegetables",
          "all/Food and non-alcoholic beverages/Food/Meat/Dried, salted or smoked meat",
          "all/Food and non-alcoholic beverages/Food/Fish and seafood/Dried, smoked or salted fish and seafood",
          "all/Transport/Operation of personal transport equipment/Other services in respect of personal transport equipment/Driving lessons, tests, licences and road worthiness tests",
          "all/Food and non-alcoholic beverages/Food/Sugar, jam, honey, chocolate and confectionery/Edible ices and ice cream",
          "all/Food and non-alcoholic beverages/Food/Meat/Edible offal",
          "all/Food and non-alcoholic beverages/Food/Milk, cheese and eggs/Eggs",
          "all/Miscellaneous goods and services/Personal care/Electrical appliances for personal care/Electric appliances for personal care",
          "all/Recreation and culture/Other recreational items and equipment, gardens and pets/Equipment for sport, camping and open-air recreation/Equipment for sport",
          "all/Recreation and culture/Audio-visual, photographic and information processing equipment/Equipment for the reception, recording and reproduction of sound and picture/Equipment for the reception, recording and reproduction of sound",
          "all/Recreation and culture/Audio-visual, photographic and information processing equipment/Equipment for the reception, recording and reproduction of sound and picture/Equipment for the reception, recording and reproduction of sound and vision",
          "all/Restaurants and hotels/Catering services/Restaurants, cafés and the like/Fast food and take away food services",
          "all/Recreation and culture/Newspapers, books and stationery/Books/Fiction books",
          "all/Food and non-alcoholic beverages/Food/Bread and cereals/Flours and other cereals",
          "all/Furnishings, household equipment and routine household maintenance/Household appliances/Small electric household appliances/Food processing appliances",
          "all/Clothing and footwear/Footwear/Shoes and other footwear/Footwear for infants and children",
          "all/Clothing and footwear/Footwear/Shoes and other footwear/Footwear for men",
          "all/Clothing and footwear/Footwear/Shoes and other footwear/Footwear for women",
          "all/Alcoholic beverages, tobacco and narcotics/Alcoholic beverages/Wine/Fortified wines",
          "all/Food and non-alcoholic beverages/Food/Fish and seafood/Fresh or chilled fish",
          "all/Food and non-alcoholic beverages/Food/Fruit/Fresh or chilled fruit",
          "all/Food and non-alcoholic beverages/Food/Vegetables/Fresh or chilled vegetables other than potatoes and other tubers",
          "all/Food and non-alcoholic beverages/Food/Fish and seafood/Frozen fish",
          "all/Food and non-alcoholic beverages/Food/Fruit/Frozen fruit",
          "all/Food and non-alcoholic beverages/Food/Vegetables/Frozen vegetables other than potatoes and other tubers",
          "all/Food and non-alcoholic beverages/Non-alcoholic beverages/Mineral waters, soft drinks, fruit and vegetable juices/Fruit and vegetables juices",
          "all/Miscellaneous goods and services/Other services n.e.c./Other services n.e.c./Funeral services",
          "all/Furnishings, household equipment and routine household maintenance/Household textiles/Household textiles/Furnishings fabrics and curtains",
          "all/Recreation and culture/Other recreational items and equipment, gardens and pets/Games, toys and hobbies/Games and hobbies",
          "all/Recreation and culture/Other recreational items and equipment, gardens and pets/Gardens, plants and flowers/Garden products",
          "all/Clothing and footwear/Clothing/Garments/Garments for infants (0 to 2 years) and children (3 to 13 years)",
          "all/Clothing and footwear/Clothing/Garments/Garments for men",
          "all/Clothing and footwear/Clothing/Garments/Garments for women",
          "all/Furnishings, household equipment and routine household maintenance/Glassware, tableware and household utensils/Glassware, tableware and household utensils/Glassware, crystal-ware, ceramic ware and chinaware",
          "all/Miscellaneous goods and services/Personal care/Hairdressing salons and personal grooming establishments/Hairdressing for men and children",
          "all/Miscellaneous goods and services/Personal care/Hairdressing salons and personal grooming establishments/Hairdressing for women",
          "all/Furnishings, household equipment and routine household maintenance/Household appliances/Major household appliances whether electric or not/Heaters, air conditioners",
          "all/Transport/Operation of personal transport equipment/Other services in respect of personal transport equipment/Hire of garages, parking spaces and personal transport equipment",
          "all/Restaurants and hotels/Accommodation services/Accommodation services/Hotels, motels, inns and similar accommodation services",
          "all/Furnishings, household equipment and routine household maintenance/Furniture and furnishings, carpets and other floor coverings/Furniture and furnishings/Household furniture",
          "all/Transport/Transport services/Passenger transport by air/International flights",
          "all/Furnishings, household equipment and routine household maintenance/Household appliances/Small electric household appliances/Irons",
          "all/Food and non-alcoholic beverages/Food/Sugar, jam, honey, chocolate and confectionery/Jams, marmalades and honey",
          "all/Miscellaneous goods and services/Personal effects n.e.c./Jewellery, clocks and watches/Jewellery",
          "all/Alcoholic beverages, tobacco and narcotics/Alcoholic beverages/Beer/Lager beer",
          "all/Miscellaneous goods and services/Other services n.e.c./Other services n.e.c./Legal services and accountancy",
          "all/Communications/Postal services/Postal services/Letter handling services",
          "all/Furnishings, household equipment and routine household maintenance/Furniture and furnishings, carpets and other floor coverings/Furniture and furnishings/Lighting equipment",
          "all/Housing, water, electricity, gas and other fuels/Electricity, gas and other fuels/Gas/Liquefied hydrocarbons (butane, propane, etc.)",
          "all/Alcoholic beverages, tobacco and narcotics/Alcoholic beverages/Beer/Low and non-alcoholic beer",
          "all/Food and non-alcoholic beverages/Food/Milk, cheese and eggs/Low fat milk",
          "all/Transport/Operation of personal transport equipment/Fuels and lubricants for personal transport equipment/Lubricants",
          "all/Recreation and culture/Newspapers, books and stationery/Newspapers and periodicals/Magazines and periodicals",
          "all/Housing, water, electricity, gas and other fuels/Water supply and miscellaneous services relating to the dwelling/Other services relating to the dwelling n.e.c./Maintenance charges in multi-occupied buildings",
          "all/Food and non-alcoholic beverages/Food/Oils and fats/Margarine and other vegetable fats",
          "all/Food and non-alcoholic beverages/Non-alcoholic beverages/Mineral waters, soft drinks, fruit and vegetable juices/Mineral or spring waters",
          "all/Furnishings, household equipment and routine household maintenance/Tools and equipment for house and garden/Small tools and miscellaneous accessories/Miscellaneous small tool accessories",
          "all/Communications/Telephone and telefax equipment/Telephone and telefax equipment/Mobile telephone equipment",
          "all/Miscellaneous goods and services/Insurance/Insurance connected with transport/Motor vehicle insurance",
          "all/Furnishings, household equipment and routine household maintenance/Tools and equipment for house and garden/Major tools and equipment/Motorized major tools and equipment",
          "all/Recreation and culture/Recreational and cultural services/Cultural services/Museums, libraries, zoological gardens",
          "all/Housing, water, electricity, gas and other fuels/Electricity, gas and other fuels/Gas/Natural gas and town gas",
          "all/Transport/Purchase of vehicles/Motor cars/New motor cars",
          "all/Recreation and culture/Newspapers, books and stationery/Newspapers and periodicals/Newspapers",
          "all/Furnishings, household equipment and routine household maintenance/Glassware, tableware and household utensils/Glassware, tableware and household utensils/Non-electric kitchen utensils and articles",
          "all/Miscellaneous goods and services/Personal care/Other appliances, articles and products for personal care/Non-electrical appliances",
          "all/Furnishings, household equipment and routine household maintenance/Tools and equipment for house and garden/Small tools and miscellaneous accessories/Non-motorised small tools",
          "all/Food and non-alcoholic beverages/Food/Oils and fats/Olive oil",
          "all/Clothing and footwear/Clothing/Other articles of clothing and clothing accessories/Other articles of clothing",
          "all/Food and non-alcoholic beverages/Food/Bread and cereals/Other bakery products",
          "all/Food and non-alcoholic beverages/Food/Bread and cereals/Other cereal products",
          "all/Food and non-alcoholic beverages/Food/Oils and fats/Other edible oils",
          "all/Miscellaneous goods and services/Other services n.e.c./Other services n.e.c./Other fees and services",
          "all/Furnishings, household equipment and routine household maintenance/Furniture and furnishings, carpets and other floor coverings/Carpets and other floor coverings/Other floor coverings",
          "all/Food and non-alcoholic beverages/Food/Food products n.e.c./Other food products n.e.c.",
          "all/Food and non-alcoholic beverages/Food/Meat/Other meat preparations",
          "all/Health/Medical products, appliances and equipment/Other medical products/Other medical products n.e.c.",
          "all/Food and non-alcoholic beverages/Food/Milk, cheese and eggs/Other milk products",
          "all/Furnishings, household equipment and routine household maintenance/Goods and services for routine household maintenance/Non-durable household goods/Other non-durable small household articles",
          "all/Recreation and culture/Newspapers, books and stationery/Books/Other non-fiction books",
          "all/Health/Out-patient services/Paramedical services/Other paramedical services",
          "all/Miscellaneous goods and services/Personal effects n.e.c./Other personal effects/Other personal effects n.e.c.",
          "all/Communications/Postal services/Postal services/Other postal services",
          "all/Food and non-alcoholic beverages/Food/Fish and seafood/Other preserved or processed fish and seafood and fish and seafood preparations",
          "all/Housing, water, electricity, gas and other fuels/Maintenance and repair of the dwelling/Services for the maintenance and repair of the dwelling/Other services for maintenance and repair of the dwelling",
          "all/Housing, water, electricity, gas and other fuels/Water supply and miscellaneous services relating to the dwelling/Other services relating to the dwelling n.e.c./Other services related to dwelling",
          "all/Housing, water, electricity, gas and other fuels/Electricity, gas and other fuels/Solid fuels/Other solid fuels",
          "all/Recreation and culture/Newspapers, books and stationery/Stationery and drawing materials/Other stationery and drawing materials",
          "all/Health/Medical products, appliances and equipment/Therapeutic appliances and equipment/Other therapeutic appliances and equipment",
          "all/Food and non-alcoholic beverages/Food/Vegetables/Other tubers and products of tuber vegetables",
          "all/Recreation and culture/Package holidays/Package holidays/Package international holidays",
          "all/Recreation and culture/Newspapers, books and stationery/Stationery and drawing materials/Paper products",
          "all/Transport/Transport services/Passenger transport by road/Passenger transport by bus and coach",
          "all/Transport/Transport services/Passenger transport by sea and inland waterway/Passenger transport by sea",
          "all/Transport/Transport services/Passenger transport by road/Passenger transport by taxi and hired car with driver",
          "all/Transport/Transport services/Passenger transport by railway/Passenger transport by train",
          "all/Food and non-alcoholic beverages/Food/Bread and cereals/Pasta products and couscous",
          "all/Recreation and culture/Audio-visual, photographic and information processing equipment/Information processing equipment/Personal computers",
          "all/Miscellaneous goods and services/Personal care/Hairdressing salons and personal grooming establishments/Personal grooming treatments",
          "all/Transport/Operation of personal transport equipment/Fuels and lubricants for personal transport equipment/Petrol",
          "all/Recreation and culture/Recreational and cultural services/Cultural services/Photographic services",
          "all/Food and non-alcoholic beverages/Food/Bread and cereals/Pizza and quiche",
          "all/Recreation and culture/Other recreational items and equipment, gardens and pets/Gardens, plants and flowers/Plants and flowers",
          "all/Food and non-alcoholic beverages/Food/Meat/Pork",
          "all/Food and non-alcoholic beverages/Food/Vegetables/Potatoes",
          "all/Food and non-alcoholic beverages/Food/Meat/Poultry",
          "all/Education/Pre-primary and primary education/Pre-primary and primary education/Pre-primary education ",
          "all/Recreation and culture/Audio-visual, photographic and information processing equipment/Recording media/Pre-recorded recording media",
          "all/Health/Medical products, appliances and equipment/Other medical products/Pregnancy tests and mechanical contraceptive devices",
          "all/Food and non-alcoholic beverages/Food/Fruit/Preserved fruit and fruit-based products",
          "all/Food and non-alcoholic beverages/Food/Milk, cheese and eggs/Preserved milk",
          "all/Recreation and culture/Other recreational items and equipment, gardens and pets/Pets and related products/Products for pets",
          "all/Food and non-alcoholic beverages/Food/Food products n.e.c./Ready-made meals",
          "all/Recreation and culture/Recreational and cultural services/Recreational and sporting services/Recreational and sporting services - Attendance",
          "all/Recreation and culture/Recreational and cultural services/Recreational and sporting services/Recreational and sporting services - Participation",
          "all/Furnishings, household equipment and routine household maintenance/Household appliances/Major household appliances whether electric or not/Refrigerators, freezers and fridge-freezers",
          "all/Clothing and footwear/Clothing/Cleaning, repair and hire of clothing/Repair and hire of clothing",
          "all/Miscellaneous goods and services/Personal effects n.e.c./Jewellery, clocks and watches/Repair of jewellery, clocks and watches",
          "all/Furnishings, household equipment and routine household maintenance/Tools and equipment for house and garden/Major tools and equipment/Repair, leasing and rental of major tools and equipment",
          "all/Restaurants and hotels/Catering services/Restaurants, cafés and the like/Restaurants, cafés and dancing establishments",
          "all/Miscellaneous goods and services/Social protection/Social protection/Retirement homes for elderly persons and residences for disabled persons",
          "all/Food and non-alcoholic beverages/Food/Bread and cereals/Rice",
          "all/Food and non-alcoholic beverages/Food/Food products n.e.c./Salt, spices and culinary herbs",
          "all/Food and non-alcoholic beverages/Food/Food products n.e.c./Sauces, condiments",
          "all/Transport/Purchase of vehicles/Motor cars/Second-hand motor cars",
          "all/Housing, water, electricity, gas and other fuels/Water supply and miscellaneous services relating to the dwelling/Other services relating to the dwelling n.e.c./Security services",
          "all/Food and non-alcoholic beverages/Non-alcoholic beverages/Mineral waters, soft drinks, fruit and vegetable juices/Soft drinks",
          "all/Recreation and culture/Audio-visual, photographic and information processing equipment/Information processing equipment/Software",
          "all/Transport/Operation of personal transport equipment/Spares parts and accessories for personal transport equipment/Spare parts for personal transport equipment",
          "all/Health/Out-patient services/Medical services/Specialist practice",
          "all/Alcoholic beverages, tobacco and narcotics/Alcoholic beverages/Spirits/Spirits and liqueurs",
          "all/Food and non-alcoholic beverages/Food/Sugar, jam, honey, chocolate and confectionery/Sugar",
          "all/Furnishings, household equipment and routine household maintenance/Household textiles/Household textiles/Table linen and bathroom linen",
          "all/Food and non-alcoholic beverages/Non-alcoholic beverages/Coffee, tea and cocoa/Tea",
          "all/Recreation and culture/Recreational and cultural services/Cultural services/Television and radio licence fees, subscriptions",
          "all/Recreation and culture/Other recreational items and equipment, gardens and pets/Games, toys and hobbies/Toys and celebration articles",
          "all/Miscellaneous goods and services/Personal effects n.e.c./Other personal effects/Travel goods",
          "all/Miscellaneous goods and services/Insurance/Insurance connected with transport/Travel insurance",
          "all/Transport/Operation of personal transport equipment/Spares parts and accessories for personal transport equipment/Tyres",
          "all/Recreation and culture/Audio-visual, photographic and information processing equipment/Recording media/Unrecorded recording media",
          "all/Food and non-alcoholic beverages/Food/Milk, cheese and eggs/Whole milk",
          "all/Alcoholic beverages, tobacco and narcotics/Alcoholic beverages/Wine/Wine from grapes",
          "all/Alcoholic beverages, tobacco and narcotics/Alcoholic beverages/Wine/Wine from other fruits",
          "all/Communications/Telephone and telefax services/Telephone and telefax services/Wired telephone services",
          "all/Communications/Telephone and telefax services/Telephone and telefax services/Wireless telephone services",
          "all/Food and non-alcoholic beverages/Food/Milk, cheese and eggs/Yoghurt",
          "all/Restaurants and hotels/Accommodation services/Accommodation services",
          "all/Alcoholic beverages, tobacco and narcotics/Alcoholic beverages/Beer",
          "all/Recreation and culture/Newspapers, books and stationery/Books",
          "all/Food and non-alcoholic beverages/Food/Bread and cereals",
          "all/Furnishings, household equipment and routine household maintenance/Furniture and furnishings, carpets and other floor coverings/Carpets and other floor coverings",
          "all/Clothing and footwear/Clothing/Cleaning, repair and hire of clothing",
          "all/Food and non-alcoholic beverages/Non-alcoholic beverages/Coffee, tea and cocoa",
          "all/Recreation and culture/Recreational and cultural services/Cultural services",
          "all/Furnishings, household equipment and routine household maintenance/Goods and services for routine household maintenance/Domestic services and household services",
          "all/Miscellaneous goods and services/Personal care/Electrical appliances for personal care",
          "all/Recreation and culture/Other recreational items and equipment, gardens and pets/Equipment for sport, camping and open-air recreation",
          "all/Recreation and culture/Audio-visual, photographic and information processing equipment/Equipment for the reception, recording and reproduction of sound and picture",
          "all/Food and non-alcoholic beverages/Food/Fish and seafood",
          "all/Food and non-alcoholic beverages/Food/Food products n.e.c.",
          "all/Food and non-alcoholic beverages/Food/Fruit",
          "all/Transport/Operation of personal transport equipment/Fuels and lubricants for personal transport equipment",
          "all/Furnishings, household equipment and routine household maintenance/Furniture and furnishings, carpets and other floor coverings/Furniture and furnishings",
          "all/Recreation and culture/Other recreational items and equipment, gardens and pets/Games, toys and hobbies",
          "all/Recreation and culture/Other recreational items and equipment, gardens and pets/Gardens, plants and flowers",
          "all/Clothing and footwear/Clothing/Garments",
          "all/Housing, water, electricity, gas and other fuels/Electricity, gas and other fuels/Gas",
          "all/Furnishings, household equipment and routine household maintenance/Glassware, tableware and household utensils/Glassware, tableware and household utensils",
          "all/Miscellaneous goods and services/Personal care/Hairdressing salons and personal grooming establishments",
          "all/Furnishings, household equipment and routine household maintenance/Household textiles/Household textiles",
          "all/Recreation and culture/Audio-visual, photographic and information processing equipment/Information processing equipment",
          "all/Miscellaneous goods and services/Insurance/Insurance connected with transport",
          "all/Miscellaneous goods and services/Personal effects n.e.c./Jewellery, clocks and watches",
          "all/Furnishings, household equipment and routine household maintenance/Household appliances/Major household appliances whether electric or not",
          "all/Furnishings, household equipment and routine household maintenance/Tools and equipment for house and garden/Major tools and equipment",
          "all/Food and non-alcoholic beverages/Food/Meat",
          "all/Health/Out-patient services/Medical services",
          "all/Food and non-alcoholic beverages/Food/Milk, cheese and eggs",
          "all/Food and non-alcoholic beverages/Non-alcoholic beverages/Mineral waters, soft drinks, fruit and vegetable juices",
          "all/Transport/Purchase of vehicles/Motor cars",
          "all/Recreation and culture/Newspapers, books and stationery/Newspapers and periodicals",
          "all/Furnishings, household equipment and routine household maintenance/Goods and services for routine household maintenance/Non-durable household goods",
          "all/Food and non-alcoholic beverages/Food/Oils and fats",
          "all/Miscellaneous goods and services/Personal care/Other appliances, articles and products for personal care",
          "all/Clothing and footwear/Clothing/Other articles of clothing and clothing accessories",
          "all/Miscellaneous goods and services/Financial services n.e.c./Other financial services n.e.c.",
          "all/Health/Medical products, appliances and equipment/Other medical products",
          "all/Miscellaneous goods and services/Personal effects n.e.c./Other personal effects",
          "all/Transport/Operation of personal transport equipment/Other services in respect of personal transport equipment",
          "all/Miscellaneous goods and services/Other services n.e.c./Other services n.e.c.",
          "all/Housing, water, electricity, gas and other fuels/Water supply and miscellaneous services relating to the dwelling/Other services relating to the dwelling n.e.c.",
          "all/Recreation and culture/Package holidays/Package holidays",
          "all/Health/Out-patient services/Paramedical services",
          "all/Transport/Transport services/Passenger transport by air",
          "all/Transport/Transport services/Passenger transport by railway",
          "all/Transport/Transport services/Passenger transport by road",
          "all/Transport/Transport services/Passenger transport by sea and inland waterway",
          "all/Recreation and culture/Other recreational items and equipment, gardens and pets/Pets and related products",
          "all/Recreation and culture/Audio-visual, photographic and information processing equipment/Photographic and cinematographic equipment and optical instruments",
          "all/Communications/Postal services/Postal services",
          "all/Education/Pre-primary and primary education/Pre-primary and primary education",
          "all/Recreation and culture/Audio-visual, photographic and information processing equipment/Recording media",
          "all/Recreation and culture/Recreational and cultural services/Recreational and sporting services",
          "all/Restaurants and hotels/Catering services/Restaurants, cafés and the like",
          "all/Housing, water, electricity, gas and other fuels/Maintenance and repair of the dwelling/Services for the maintenance and repair of the dwelling",
          "all/Clothing and footwear/Footwear/Shoes and other footwear",
          "all/Furnishings, household equipment and routine household maintenance/Household appliances/Small electric household appliances",
          "all/Furnishings, household equipment and routine household maintenance/Tools and equipment for house and garden/Small tools and miscellaneous accessories",
          "all/Miscellaneous goods and services/Social protection/Social protection",
          "all/Housing, water, electricity, gas and other fuels/Electricity, gas and other fuels/Solid fuels",
          "all/Transport/Operation of personal transport equipment/Spares parts and accessories for personal transport equipment",
          "all/Alcoholic beverages, tobacco and narcotics/Alcoholic beverages/Spirits",
          "all/Recreation and culture/Newspapers, books and stationery/Stationery and drawing materials",
          "all/Food and non-alcoholic beverages/Food/Sugar, jam, honey, chocolate and confectionery",
          "all/Communications/Telephone and telefax equipment/Telephone and telefax equipment",
          "all/Communications/Telephone and telefax services/Telephone and telefax services",
          "all/Health/Medical products, appliances and equipment/Therapeutic appliances and equipment",
          "all/Alcoholic beverages, tobacco and narcotics/Tobacco/Tobacco",
          "all/Food and non-alcoholic beverages/Food/Vegetables",
          "all/Alcoholic beverages, tobacco and narcotics/Alcoholic beverages/Wine",
          "all/Restaurants and hotels/Accommodation services",
          "all/Alcoholic beverages, tobacco and narcotics/Alcoholic beverages",
          "all/Recreation and culture/Audio-visual, photographic and information processing equipment",
          "all/Restaurants and hotels/Catering services",
          "all/Clothing and footwear/Clothing",
          "all/Housing, water, electricity, gas and other fuels/Electricity, gas and other fuels",
          "all/Miscellaneous goods and services/Financial services n.e.c.",
          "all/Food and non-alcoholic beverages/Food",
          "all/Clothing and footwear/Footwear",
          "all/Furnishings, household equipment and routine household maintenance/Furniture and furnishings, carpets and other floor coverings",
          "all/Furnishings, household equipment and routine household maintenance/Glassware, tableware and household utensils",
          "all/Furnishings, household equipment and routine household maintenance/Goods and services for routine household maintenance",
          "all/Furnishings, household equipment and routine household maintenance/Household appliances",
          "all/Furnishings, household equipment and routine household maintenance/Household textiles",
          "all/Miscellaneous goods and services/Insurance",
          "all/Housing, water, electricity, gas and other fuels/Maintenance and repair of the dwelling",
          "all/Health/Medical products, appliances and equipment",
          "all/Recreation and culture/Newspapers, books and stationery",
          "all/Food and non-alcoholic beverages/Non-alcoholic beverages",
          "all/Transport/Operation of personal transport equipment",
          "all/Recreation and culture/Other recreational items and equipment, gardens and pets",
          "all/Miscellaneous goods and services/Other services n.e.c.",
          "all/Health/Out-patient services",
          "all/Recreation and culture/Package holidays",
          "all/Miscellaneous goods and services/Personal care",
          "all/Miscellaneous goods and services/Personal effects n.e.c.",
          "all/Communications/Postal services",
          "all/Education/Pre-primary and primary education",
          "all/Transport/Purchase of vehicles",
          "all/Recreation and culture/Recreational and cultural services",
          "all/Miscellaneous goods and services/Social protection",
          "all/Communications/Telephone and telefax equipment",
          "all/Communications/Telephone and telefax services",
          "all/Alcoholic beverages, tobacco and narcotics/Tobacco",
          "all/Furnishings, household equipment and routine household maintenance/Tools and equipment for house and garden",
          "all/Transport/Transport services",
          "all/Housing, water, electricity, gas and other fuels/Water supply and miscellaneous services relating to the dwelling",
          "all/Alcoholic beverages, tobacco and narcotics",
          "all/Clothing and footwear",
          "all/Communications",
          "all/Education",
          "all/Food and non-alcoholic beverages",
          "all/Furnishings, household equipment and routine household maintenance",
          "all/Health",
          "all/Housing, water, electricity, gas and other fuels",
          "all/Miscellaneous goods and services",
          "all/Recreation and culture",
          "all/Restaurants and hotels",
          "all/Transport",
          "all"
         ],
         "labels": [
          "Accessories for information processing equipment",
          "Accessories for personal transport equipment",
          "Accommodation services of other establishments",
          "Administrative fees",
          "Alcoholic soft drinks",
          "Articles for babies",
          "Articles for personal hygiene and wellness, esoteric products and beauty products",
          "Baby food",
          "Bed linen",
          "Beef and veal",
          "Bread",
          "Breakfast cereals",
          "Bundled telecommunication services",
          "Butter",
          "Cameras",
          "Carpet and rugs",
          "Charges by banks and post offices",
          "Cheese and curd",
          "Chocolate",
          "Cigarettes",
          "Cinemas, theatres, concerts",
          "Cleaning and maintenance products",
          "Cleaning equipment",
          "Cleaning of clothing",
          "Cleaning services",
          "Clocks and watches",
          "Clothes washing machines, clothes drying machines and dish washing machines",
          "Clothing accessories",
          "Coal",
          "Cocoa and powdered chocolate",
          "Coffee",
          "Coffee machines, tea-makers and similar appliances",
          "Confectionery products",
          "Cookers",
          "Corrective eye-glasses and contact lenses",
          "Crisps",
          "Cutlery, flatware and silverware",
          "Diesel",
          "Dried fruit and nuts",
          "Dried vegetables, other preserved or processed vegetables",
          "Dried, salted or smoked meat",
          "Dried, smoked or salted fish and seafood",
          "Driving lessons, tests, licences and road worthiness tests",
          "Edible ices and ice cream",
          "Edible offal",
          "Eggs",
          "Electric appliances for personal care",
          "Equipment for sport",
          "Equipment for the reception, recording and reproduction of sound",
          "Equipment for the reception, recording and reproduction of sound and vision",
          "Fast food and take away food services",
          "Fiction books",
          "Flours and other cereals",
          "Food processing appliances",
          "Footwear for infants and children",
          "Footwear for men",
          "Footwear for women",
          "Fortified wines",
          "Fresh or chilled fish",
          "Fresh or chilled fruit",
          "Fresh or chilled vegetables other than potatoes and other tubers",
          "Frozen fish",
          "Frozen fruit",
          "Frozen vegetables other than potatoes and other tubers",
          "Fruit and vegetables juices",
          "Funeral services",
          "Furnishings fabrics and curtains",
          "Games and hobbies",
          "Garden products",
          "Garments for infants (0 to 2 years) and children (3 to 13 years)",
          "Garments for men",
          "Garments for women",
          "Glassware, crystal-ware, ceramic ware and chinaware",
          "Hairdressing for men and children",
          "Hairdressing for women",
          "Heaters, air conditioners",
          "Hire of garages, parking spaces and personal transport equipment",
          "Hotels, motels, inns and similar accommodation services",
          "Household furniture",
          "International flights",
          "Irons",
          "Jams, marmalades and honey",
          "Jewellery",
          "Lager beer",
          "Legal services and accountancy",
          "Letter handling services",
          "Lighting equipment",
          "Liquefied hydrocarbons (butane, propane, etc.)",
          "Low and non-alcoholic beer",
          "Low fat milk",
          "Lubricants",
          "Magazines and periodicals",
          "Maintenance charges in multi-occupied buildings",
          "Margarine and other vegetable fats",
          "Mineral or spring waters",
          "Miscellaneous small tool accessories",
          "Mobile telephone equipment",
          "Motor vehicle insurance",
          "Motorized major tools and equipment",
          "Museums, libraries, zoological gardens",
          "Natural gas and town gas",
          "New motor cars",
          "Newspapers",
          "Non-electric kitchen utensils and articles",
          "Non-electrical appliances",
          "Non-motorised small tools",
          "Olive oil",
          "Other articles of clothing",
          "Other bakery products",
          "Other cereal products",
          "Other edible oils",
          "Other fees and services",
          "Other floor coverings",
          "Other food products n.e.c.",
          "Other meat preparations",
          "Other medical products n.e.c.",
          "Other milk products",
          "Other non-durable small household articles",
          "Other non-fiction books",
          "Other paramedical services",
          "Other personal effects n.e.c.",
          "Other postal services",
          "Other preserved or processed fish and seafood and fish and seafood preparations",
          "Other services for maintenance and repair of the dwelling",
          "Other services related to dwelling",
          "Other solid fuels",
          "Other stationery and drawing materials",
          "Other therapeutic appliances and equipment",
          "Other tubers and products of tuber vegetables",
          "Package international holidays",
          "Paper products",
          "Passenger transport by bus and coach",
          "Passenger transport by sea",
          "Passenger transport by taxi and hired car with driver",
          "Passenger transport by train",
          "Pasta products and couscous",
          "Personal computers",
          "Personal grooming treatments",
          "Petrol",
          "Photographic services",
          "Pizza and quiche",
          "Plants and flowers",
          "Pork",
          "Potatoes",
          "Poultry",
          "Pre-primary education ",
          "Pre-recorded recording media",
          "Pregnancy tests and mechanical contraceptive devices",
          "Preserved fruit and fruit-based products",
          "Preserved milk",
          "Products for pets",
          "Ready-made meals",
          "Recreational and sporting services - Attendance",
          "Recreational and sporting services - Participation",
          "Refrigerators, freezers and fridge-freezers",
          "Repair and hire of clothing",
          "Repair of jewellery, clocks and watches",
          "Repair, leasing and rental of major tools and equipment",
          "Restaurants, cafés and dancing establishments",
          "Retirement homes for elderly persons and residences for disabled persons",
          "Rice",
          "Salt, spices and culinary herbs",
          "Sauces, condiments",
          "Second-hand motor cars",
          "Security services",
          "Soft drinks",
          "Software",
          "Spare parts for personal transport equipment",
          "Specialist practice",
          "Spirits and liqueurs",
          "Sugar",
          "Table linen and bathroom linen",
          "Tea",
          "Television and radio licence fees, subscriptions",
          "Toys and celebration articles",
          "Travel goods",
          "Travel insurance",
          "Tyres",
          "Unrecorded recording media",
          "Whole milk",
          "Wine from grapes",
          "Wine from other fruits",
          "Wired telephone services",
          "Wireless telephone services",
          "Yoghurt",
          "Accommodation services",
          "Beer",
          "Books",
          "Bread and cereals",
          "Carpets and other floor coverings",
          "Cleaning, repair and hire of clothing",
          "Coffee, tea and cocoa",
          "Cultural services",
          "Domestic services and household services",
          "Electrical appliances for personal care",
          "Equipment for sport, camping and open-air recreation",
          "Equipment for the reception, recording and reproduction of sound and picture",
          "Fish and seafood",
          "Food products n.e.c.",
          "Fruit",
          "Fuels and lubricants for personal transport equipment",
          "Furniture and furnishings",
          "Games, toys and hobbies",
          "Gardens, plants and flowers",
          "Garments",
          "Gas",
          "Glassware, tableware and household utensils",
          "Hairdressing salons and personal grooming establishments",
          "Household textiles",
          "Information processing equipment",
          "Insurance connected with transport",
          "Jewellery, clocks and watches",
          "Major household appliances whether electric or not",
          "Major tools and equipment",
          "Meat",
          "Medical services",
          "Milk, cheese and eggs",
          "Mineral waters, soft drinks, fruit and vegetable juices",
          "Motor cars",
          "Newspapers and periodicals",
          "Non-durable household goods",
          "Oils and fats",
          "Other appliances, articles and products for personal care",
          "Other articles of clothing and clothing accessories",
          "Other financial services n.e.c.",
          "Other medical products",
          "Other personal effects",
          "Other services in respect of personal transport equipment",
          "Other services n.e.c.",
          "Other services relating to the dwelling n.e.c.",
          "Package holidays",
          "Paramedical services",
          "Passenger transport by air",
          "Passenger transport by railway",
          "Passenger transport by road",
          "Passenger transport by sea and inland waterway",
          "Pets and related products",
          "Photographic and cinematographic equipment and optical instruments",
          "Postal services",
          "Pre-primary and primary education",
          "Recording media",
          "Recreational and sporting services",
          "Restaurants, cafés and the like",
          "Services for the maintenance and repair of the dwelling",
          "Shoes and other footwear",
          "Small electric household appliances",
          "Small tools and miscellaneous accessories",
          "Social protection",
          "Solid fuels",
          "Spares parts and accessories for personal transport equipment",
          "Spirits",
          "Stationery and drawing materials",
          "Sugar, jam, honey, chocolate and confectionery",
          "Telephone and telefax equipment",
          "Telephone and telefax services",
          "Therapeutic appliances and equipment",
          "Tobacco",
          "Vegetables",
          "Wine",
          "Accommodation services",
          "Alcoholic beverages",
          "Audio-visual, photographic and information processing equipment",
          "Catering services",
          "Clothing",
          "Electricity, gas and other fuels",
          "Financial services n.e.c.",
          "Food",
          "Footwear",
          "Furniture and furnishings, carpets and other floor coverings",
          "Glassware, tableware and household utensils",
          "Goods and services for routine household maintenance",
          "Household appliances",
          "Household textiles",
          "Insurance",
          "Maintenance and repair of the dwelling",
          "Medical products, appliances and equipment",
          "Newspapers, books and stationery",
          "Non-alcoholic beverages",
          "Operation of personal transport equipment",
          "Other recreational items and equipment, gardens and pets",
          "Other services n.e.c.",
          "Out-patient services",
          "Package holidays",
          "Personal care",
          "Personal effects n.e.c.",
          "Postal services",
          "Pre-primary and primary education",
          "Purchase of vehicles",
          "Recreational and cultural services",
          "Social protection",
          "Telephone and telefax equipment",
          "Telephone and telefax services",
          "Tobacco",
          "Tools and equipment for house and garden",
          "Transport services",
          "Water supply and miscellaneous services relating to the dwelling",
          "Alcoholic beverages, tobacco and narcotics",
          "Clothing and footwear",
          "Communications",
          "Education",
          "Food and non-alcoholic beverages",
          "Furnishings, household equipment and routine household maintenance",
          "Health",
          "Housing, water, electricity, gas and other fuels",
          "Miscellaneous goods and services",
          "Recreation and culture",
          "Restaurants and hotels",
          "Transport",
          "all"
         ],
         "name": "",
         "parents": [
          "all/Recreation and culture/Audio-visual, photographic and information processing equipment/Information processing equipment",
          "all/Transport/Operation of personal transport equipment/Spares parts and accessories for personal transport equipment",
          "all/Restaurants and hotels/Accommodation services/Accommodation services",
          "all/Miscellaneous goods and services/Other services n.e.c./Other services n.e.c.",
          "all/Alcoholic beverages, tobacco and narcotics/Alcoholic beverages/Spirits",
          "all/Miscellaneous goods and services/Personal effects n.e.c./Other personal effects",
          "all/Miscellaneous goods and services/Personal care/Other appliances, articles and products for personal care",
          "all/Food and non-alcoholic beverages/Food/Food products n.e.c.",
          "all/Furnishings, household equipment and routine household maintenance/Household textiles/Household textiles",
          "all/Food and non-alcoholic beverages/Food/Meat",
          "all/Food and non-alcoholic beverages/Food/Bread and cereals",
          "all/Food and non-alcoholic beverages/Food/Bread and cereals",
          "all/Communications/Telephone and telefax services/Telephone and telefax services",
          "all/Food and non-alcoholic beverages/Food/Oils and fats",
          "all/Recreation and culture/Audio-visual, photographic and information processing equipment/Photographic and cinematographic equipment and optical instruments",
          "all/Furnishings, household equipment and routine household maintenance/Furniture and furnishings, carpets and other floor coverings/Carpets and other floor coverings",
          "all/Miscellaneous goods and services/Financial services n.e.c./Other financial services n.e.c.",
          "all/Food and non-alcoholic beverages/Food/Milk, cheese and eggs",
          "all/Food and non-alcoholic beverages/Food/Sugar, jam, honey, chocolate and confectionery",
          "all/Alcoholic beverages, tobacco and narcotics/Tobacco/Tobacco",
          "all/Recreation and culture/Recreational and cultural services/Cultural services",
          "all/Furnishings, household equipment and routine household maintenance/Goods and services for routine household maintenance/Non-durable household goods",
          "all/Furnishings, household equipment and routine household maintenance/Household appliances/Major household appliances whether electric or not",
          "all/Clothing and footwear/Clothing/Cleaning, repair and hire of clothing",
          "all/Furnishings, household equipment and routine household maintenance/Goods and services for routine household maintenance/Domestic services and household services",
          "all/Miscellaneous goods and services/Personal effects n.e.c./Jewellery, clocks and watches",
          "all/Furnishings, household equipment and routine household maintenance/Household appliances/Major household appliances whether electric or not",
          "all/Clothing and footwear/Clothing/Other articles of clothing and clothing accessories",
          "all/Housing, water, electricity, gas and other fuels/Electricity, gas and other fuels/Solid fuels",
          "all/Food and non-alcoholic beverages/Non-alcoholic beverages/Coffee, tea and cocoa",
          "all/Food and non-alcoholic beverages/Non-alcoholic beverages/Coffee, tea and cocoa",
          "all/Furnishings, household equipment and routine household maintenance/Household appliances/Small electric household appliances",
          "all/Food and non-alcoholic beverages/Food/Sugar, jam, honey, chocolate and confectionery",
          "all/Furnishings, household equipment and routine household maintenance/Household appliances/Major household appliances whether electric or not",
          "all/Health/Medical products, appliances and equipment/Therapeutic appliances and equipment",
          "all/Food and non-alcoholic beverages/Food/Vegetables",
          "all/Furnishings, household equipment and routine household maintenance/Glassware, tableware and household utensils/Glassware, tableware and household utensils",
          "all/Transport/Operation of personal transport equipment/Fuels and lubricants for personal transport equipment",
          "all/Food and non-alcoholic beverages/Food/Fruit",
          "all/Food and non-alcoholic beverages/Food/Vegetables",
          "all/Food and non-alcoholic beverages/Food/Meat",
          "all/Food and non-alcoholic beverages/Food/Fish and seafood",
          "all/Transport/Operation of personal transport equipment/Other services in respect of personal transport equipment",
          "all/Food and non-alcoholic beverages/Food/Sugar, jam, honey, chocolate and confectionery",
          "all/Food and non-alcoholic beverages/Food/Meat",
          "all/Food and non-alcoholic beverages/Food/Milk, cheese and eggs",
          "all/Miscellaneous goods and services/Personal care/Electrical appliances for personal care",
          "all/Recreation and culture/Other recreational items and equipment, gardens and pets/Equipment for sport, camping and open-air recreation",
          "all/Recreation and culture/Audio-visual, photographic and information processing equipment/Equipment for the reception, recording and reproduction of sound and picture",
          "all/Recreation and culture/Audio-visual, photographic and information processing equipment/Equipment for the reception, recording and reproduction of sound and picture",
          "all/Restaurants and hotels/Catering services/Restaurants, cafés and the like",
          "all/Recreation and culture/Newspapers, books and stationery/Books",
          "all/Food and non-alcoholic beverages/Food/Bread and cereals",
          "all/Furnishings, household equipment and routine household maintenance/Household appliances/Small electric household appliances",
          "all/Clothing and footwear/Footwear/Shoes and other footwear",
          "all/Clothing and footwear/Footwear/Shoes and other footwear",
          "all/Clothing and footwear/Footwear/Shoes and other footwear",
          "all/Alcoholic beverages, tobacco and narcotics/Alcoholic beverages/Wine",
          "all/Food and non-alcoholic beverages/Food/Fish and seafood",
          "all/Food and non-alcoholic beverages/Food/Fruit",
          "all/Food and non-alcoholic beverages/Food/Vegetables",
          "all/Food and non-alcoholic beverages/Food/Fish and seafood",
          "all/Food and non-alcoholic beverages/Food/Fruit",
          "all/Food and non-alcoholic beverages/Food/Vegetables",
          "all/Food and non-alcoholic beverages/Non-alcoholic beverages/Mineral waters, soft drinks, fruit and vegetable juices",
          "all/Miscellaneous goods and services/Other services n.e.c./Other services n.e.c.",
          "all/Furnishings, household equipment and routine household maintenance/Household textiles/Household textiles",
          "all/Recreation and culture/Other recreational items and equipment, gardens and pets/Games, toys and hobbies",
          "all/Recreation and culture/Other recreational items and equipment, gardens and pets/Gardens, plants and flowers",
          "all/Clothing and footwear/Clothing/Garments",
          "all/Clothing and footwear/Clothing/Garments",
          "all/Clothing and footwear/Clothing/Garments",
          "all/Furnishings, household equipment and routine household maintenance/Glassware, tableware and household utensils/Glassware, tableware and household utensils",
          "all/Miscellaneous goods and services/Personal care/Hairdressing salons and personal grooming establishments",
          "all/Miscellaneous goods and services/Personal care/Hairdressing salons and personal grooming establishments",
          "all/Furnishings, household equipment and routine household maintenance/Household appliances/Major household appliances whether electric or not",
          "all/Transport/Operation of personal transport equipment/Other services in respect of personal transport equipment",
          "all/Restaurants and hotels/Accommodation services/Accommodation services",
          "all/Furnishings, household equipment and routine household maintenance/Furniture and furnishings, carpets and other floor coverings/Furniture and furnishings",
          "all/Transport/Transport services/Passenger transport by air",
          "all/Furnishings, household equipment and routine household maintenance/Household appliances/Small electric household appliances",
          "all/Food and non-alcoholic beverages/Food/Sugar, jam, honey, chocolate and confectionery",
          "all/Miscellaneous goods and services/Personal effects n.e.c./Jewellery, clocks and watches",
          "all/Alcoholic beverages, tobacco and narcotics/Alcoholic beverages/Beer",
          "all/Miscellaneous goods and services/Other services n.e.c./Other services n.e.c.",
          "all/Communications/Postal services/Postal services",
          "all/Furnishings, household equipment and routine household maintenance/Furniture and furnishings, carpets and other floor coverings/Furniture and furnishings",
          "all/Housing, water, electricity, gas and other fuels/Electricity, gas and other fuels/Gas",
          "all/Alcoholic beverages, tobacco and narcotics/Alcoholic beverages/Beer",
          "all/Food and non-alcoholic beverages/Food/Milk, cheese and eggs",
          "all/Transport/Operation of personal transport equipment/Fuels and lubricants for personal transport equipment",
          "all/Recreation and culture/Newspapers, books and stationery/Newspapers and periodicals",
          "all/Housing, water, electricity, gas and other fuels/Water supply and miscellaneous services relating to the dwelling/Other services relating to the dwelling n.e.c.",
          "all/Food and non-alcoholic beverages/Food/Oils and fats",
          "all/Food and non-alcoholic beverages/Non-alcoholic beverages/Mineral waters, soft drinks, fruit and vegetable juices",
          "all/Furnishings, household equipment and routine household maintenance/Tools and equipment for house and garden/Small tools and miscellaneous accessories",
          "all/Communications/Telephone and telefax equipment/Telephone and telefax equipment",
          "all/Miscellaneous goods and services/Insurance/Insurance connected with transport",
          "all/Furnishings, household equipment and routine household maintenance/Tools and equipment for house and garden/Major tools and equipment",
          "all/Recreation and culture/Recreational and cultural services/Cultural services",
          "all/Housing, water, electricity, gas and other fuels/Electricity, gas and other fuels/Gas",
          "all/Transport/Purchase of vehicles/Motor cars",
          "all/Recreation and culture/Newspapers, books and stationery/Newspapers and periodicals",
          "all/Furnishings, household equipment and routine household maintenance/Glassware, tableware and household utensils/Glassware, tableware and household utensils",
          "all/Miscellaneous goods and services/Personal care/Other appliances, articles and products for personal care",
          "all/Furnishings, household equipment and routine household maintenance/Tools and equipment for house and garden/Small tools and miscellaneous accessories",
          "all/Food and non-alcoholic beverages/Food/Oils and fats",
          "all/Clothing and footwear/Clothing/Other articles of clothing and clothing accessories",
          "all/Food and non-alcoholic beverages/Food/Bread and cereals",
          "all/Food and non-alcoholic beverages/Food/Bread and cereals",
          "all/Food and non-alcoholic beverages/Food/Oils and fats",
          "all/Miscellaneous goods and services/Other services n.e.c./Other services n.e.c.",
          "all/Furnishings, household equipment and routine household maintenance/Furniture and furnishings, carpets and other floor coverings/Carpets and other floor coverings",
          "all/Food and non-alcoholic beverages/Food/Food products n.e.c.",
          "all/Food and non-alcoholic beverages/Food/Meat",
          "all/Health/Medical products, appliances and equipment/Other medical products",
          "all/Food and non-alcoholic beverages/Food/Milk, cheese and eggs",
          "all/Furnishings, household equipment and routine household maintenance/Goods and services for routine household maintenance/Non-durable household goods",
          "all/Recreation and culture/Newspapers, books and stationery/Books",
          "all/Health/Out-patient services/Paramedical services",
          "all/Miscellaneous goods and services/Personal effects n.e.c./Other personal effects",
          "all/Communications/Postal services/Postal services",
          "all/Food and non-alcoholic beverages/Food/Fish and seafood",
          "all/Housing, water, electricity, gas and other fuels/Maintenance and repair of the dwelling/Services for the maintenance and repair of the dwelling",
          "all/Housing, water, electricity, gas and other fuels/Water supply and miscellaneous services relating to the dwelling/Other services relating to the dwelling n.e.c.",
          "all/Housing, water, electricity, gas and other fuels/Electricity, gas and other fuels/Solid fuels",
          "all/Recreation and culture/Newspapers, books and stationery/Stationery and drawing materials",
          "all/Health/Medical products, appliances and equipment/Therapeutic appliances and equipment",
          "all/Food and non-alcoholic beverages/Food/Vegetables",
          "all/Recreation and culture/Package holidays/Package holidays",
          "all/Recreation and culture/Newspapers, books and stationery/Stationery and drawing materials",
          "all/Transport/Transport services/Passenger transport by road",
          "all/Transport/Transport services/Passenger transport by sea and inland waterway",
          "all/Transport/Transport services/Passenger transport by road",
          "all/Transport/Transport services/Passenger transport by railway",
          "all/Food and non-alcoholic beverages/Food/Bread and cereals",
          "all/Recreation and culture/Audio-visual, photographic and information processing equipment/Information processing equipment",
          "all/Miscellaneous goods and services/Personal care/Hairdressing salons and personal grooming establishments",
          "all/Transport/Operation of personal transport equipment/Fuels and lubricants for personal transport equipment",
          "all/Recreation and culture/Recreational and cultural services/Cultural services",
          "all/Food and non-alcoholic beverages/Food/Bread and cereals",
          "all/Recreation and culture/Other recreational items and equipment, gardens and pets/Gardens, plants and flowers",
          "all/Food and non-alcoholic beverages/Food/Meat",
          "all/Food and non-alcoholic beverages/Food/Vegetables",
          "all/Food and non-alcoholic beverages/Food/Meat",
          "all/Education/Pre-primary and primary education/Pre-primary and primary education",
          "all/Recreation and culture/Audio-visual, photographic and information processing equipment/Recording media",
          "all/Health/Medical products, appliances and equipment/Other medical products",
          "all/Food and non-alcoholic beverages/Food/Fruit",
          "all/Food and non-alcoholic beverages/Food/Milk, cheese and eggs",
          "all/Recreation and culture/Other recreational items and equipment, gardens and pets/Pets and related products",
          "all/Food and non-alcoholic beverages/Food/Food products n.e.c.",
          "all/Recreation and culture/Recreational and cultural services/Recreational and sporting services",
          "all/Recreation and culture/Recreational and cultural services/Recreational and sporting services",
          "all/Furnishings, household equipment and routine household maintenance/Household appliances/Major household appliances whether electric or not",
          "all/Clothing and footwear/Clothing/Cleaning, repair and hire of clothing",
          "all/Miscellaneous goods and services/Personal effects n.e.c./Jewellery, clocks and watches",
          "all/Furnishings, household equipment and routine household maintenance/Tools and equipment for house and garden/Major tools and equipment",
          "all/Restaurants and hotels/Catering services/Restaurants, cafés and the like",
          "all/Miscellaneous goods and services/Social protection/Social protection",
          "all/Food and non-alcoholic beverages/Food/Bread and cereals",
          "all/Food and non-alcoholic beverages/Food/Food products n.e.c.",
          "all/Food and non-alcoholic beverages/Food/Food products n.e.c.",
          "all/Transport/Purchase of vehicles/Motor cars",
          "all/Housing, water, electricity, gas and other fuels/Water supply and miscellaneous services relating to the dwelling/Other services relating to the dwelling n.e.c.",
          "all/Food and non-alcoholic beverages/Non-alcoholic beverages/Mineral waters, soft drinks, fruit and vegetable juices",
          "all/Recreation and culture/Audio-visual, photographic and information processing equipment/Information processing equipment",
          "all/Transport/Operation of personal transport equipment/Spares parts and accessories for personal transport equipment",
          "all/Health/Out-patient services/Medical services",
          "all/Alcoholic beverages, tobacco and narcotics/Alcoholic beverages/Spirits",
          "all/Food and non-alcoholic beverages/Food/Sugar, jam, honey, chocolate and confectionery",
          "all/Furnishings, household equipment and routine household maintenance/Household textiles/Household textiles",
          "all/Food and non-alcoholic beverages/Non-alcoholic beverages/Coffee, tea and cocoa",
          "all/Recreation and culture/Recreational and cultural services/Cultural services",
          "all/Recreation and culture/Other recreational items and equipment, gardens and pets/Games, toys and hobbies",
          "all/Miscellaneous goods and services/Personal effects n.e.c./Other personal effects",
          "all/Miscellaneous goods and services/Insurance/Insurance connected with transport",
          "all/Transport/Operation of personal transport equipment/Spares parts and accessories for personal transport equipment",
          "all/Recreation and culture/Audio-visual, photographic and information processing equipment/Recording media",
          "all/Food and non-alcoholic beverages/Food/Milk, cheese and eggs",
          "all/Alcoholic beverages, tobacco and narcotics/Alcoholic beverages/Wine",
          "all/Alcoholic beverages, tobacco and narcotics/Alcoholic beverages/Wine",
          "all/Communications/Telephone and telefax services/Telephone and telefax services",
          "all/Communications/Telephone and telefax services/Telephone and telefax services",
          "all/Food and non-alcoholic beverages/Food/Milk, cheese and eggs",
          "all/Restaurants and hotels/Accommodation services",
          "all/Alcoholic beverages, tobacco and narcotics/Alcoholic beverages",
          "all/Recreation and culture/Newspapers, books and stationery",
          "all/Food and non-alcoholic beverages/Food",
          "all/Furnishings, household equipment and routine household maintenance/Furniture and furnishings, carpets and other floor coverings",
          "all/Clothing and footwear/Clothing",
          "all/Food and non-alcoholic beverages/Non-alcoholic beverages",
          "all/Recreation and culture/Recreational and cultural services",
          "all/Furnishings, household equipment and routine household maintenance/Goods and services for routine household maintenance",
          "all/Miscellaneous goods and services/Personal care",
          "all/Recreation and culture/Other recreational items and equipment, gardens and pets",
          "all/Recreation and culture/Audio-visual, photographic and information processing equipment",
          "all/Food and non-alcoholic beverages/Food",
          "all/Food and non-alcoholic beverages/Food",
          "all/Food and non-alcoholic beverages/Food",
          "all/Transport/Operation of personal transport equipment",
          "all/Furnishings, household equipment and routine household maintenance/Furniture and furnishings, carpets and other floor coverings",
          "all/Recreation and culture/Other recreational items and equipment, gardens and pets",
          "all/Recreation and culture/Other recreational items and equipment, gardens and pets",
          "all/Clothing and footwear/Clothing",
          "all/Housing, water, electricity, gas and other fuels/Electricity, gas and other fuels",
          "all/Furnishings, household equipment and routine household maintenance/Glassware, tableware and household utensils",
          "all/Miscellaneous goods and services/Personal care",
          "all/Furnishings, household equipment and routine household maintenance/Household textiles",
          "all/Recreation and culture/Audio-visual, photographic and information processing equipment",
          "all/Miscellaneous goods and services/Insurance",
          "all/Miscellaneous goods and services/Personal effects n.e.c.",
          "all/Furnishings, household equipment and routine household maintenance/Household appliances",
          "all/Furnishings, household equipment and routine household maintenance/Tools and equipment for house and garden",
          "all/Food and non-alcoholic beverages/Food",
          "all/Health/Out-patient services",
          "all/Food and non-alcoholic beverages/Food",
          "all/Food and non-alcoholic beverages/Non-alcoholic beverages",
          "all/Transport/Purchase of vehicles",
          "all/Recreation and culture/Newspapers, books and stationery",
          "all/Furnishings, household equipment and routine household maintenance/Goods and services for routine household maintenance",
          "all/Food and non-alcoholic beverages/Food",
          "all/Miscellaneous goods and services/Personal care",
          "all/Clothing and footwear/Clothing",
          "all/Miscellaneous goods and services/Financial services n.e.c.",
          "all/Health/Medical products, appliances and equipment",
          "all/Miscellaneous goods and services/Personal effects n.e.c.",
          "all/Transport/Operation of personal transport equipment",
          "all/Miscellaneous goods and services/Other services n.e.c.",
          "all/Housing, water, electricity, gas and other fuels/Water supply and miscellaneous services relating to the dwelling",
          "all/Recreation and culture/Package holidays",
          "all/Health/Out-patient services",
          "all/Transport/Transport services",
          "all/Transport/Transport services",
          "all/Transport/Transport services",
          "all/Transport/Transport services",
          "all/Recreation and culture/Other recreational items and equipment, gardens and pets",
          "all/Recreation and culture/Audio-visual, photographic and information processing equipment",
          "all/Communications/Postal services",
          "all/Education/Pre-primary and primary education",
          "all/Recreation and culture/Audio-visual, photographic and information processing equipment",
          "all/Recreation and culture/Recreational and cultural services",
          "all/Restaurants and hotels/Catering services",
          "all/Housing, water, electricity, gas and other fuels/Maintenance and repair of the dwelling",
          "all/Clothing and footwear/Footwear",
          "all/Furnishings, household equipment and routine household maintenance/Household appliances",
          "all/Furnishings, household equipment and routine household maintenance/Tools and equipment for house and garden",
          "all/Miscellaneous goods and services/Social protection",
          "all/Housing, water, electricity, gas and other fuels/Electricity, gas and other fuels",
          "all/Transport/Operation of personal transport equipment",
          "all/Alcoholic beverages, tobacco and narcotics/Alcoholic beverages",
          "all/Recreation and culture/Newspapers, books and stationery",
          "all/Food and non-alcoholic beverages/Food",
          "all/Communications/Telephone and telefax equipment",
          "all/Communications/Telephone and telefax services",
          "all/Health/Medical products, appliances and equipment",
          "all/Alcoholic beverages, tobacco and narcotics/Tobacco",
          "all/Food and non-alcoholic beverages/Food",
          "all/Alcoholic beverages, tobacco and narcotics/Alcoholic beverages",
          "all/Restaurants and hotels",
          "all/Alcoholic beverages, tobacco and narcotics",
          "all/Recreation and culture",
          "all/Restaurants and hotels",
          "all/Clothing and footwear",
          "all/Housing, water, electricity, gas and other fuels",
          "all/Miscellaneous goods and services",
          "all/Food and non-alcoholic beverages",
          "all/Clothing and footwear",
          "all/Furnishings, household equipment and routine household maintenance",
          "all/Furnishings, household equipment and routine household maintenance",
          "all/Furnishings, household equipment and routine household maintenance",
          "all/Furnishings, household equipment and routine household maintenance",
          "all/Furnishings, household equipment and routine household maintenance",
          "all/Miscellaneous goods and services",
          "all/Housing, water, electricity, gas and other fuels",
          "all/Health",
          "all/Recreation and culture",
          "all/Food and non-alcoholic beverages",
          "all/Transport",
          "all/Recreation and culture",
          "all/Miscellaneous goods and services",
          "all/Health",
          "all/Recreation and culture",
          "all/Miscellaneous goods and services",
          "all/Miscellaneous goods and services",
          "all/Communications",
          "all/Education",
          "all/Transport",
          "all/Recreation and culture",
          "all/Miscellaneous goods and services",
          "all/Communications",
          "all/Communications",
          "all/Alcoholic beverages, tobacco and narcotics",
          "all/Furnishings, household equipment and routine household maintenance",
          "all/Transport",
          "all/Housing, water, electricity, gas and other fuels",
          "all",
          "all",
          "all",
          "all",
          "all",
          "all",
          "all",
          "all",
          "all",
          "all",
          "all",
          "all",
          ""
         ],
         "root": {
          "color": "lightgrey"
         },
         "type": "treemap",
         "values": [
          0,
          0.336,
          0.274,
          0,
          0,
          0.06999999999999999,
          3.692,
          0.854,
          0,
          3.267,
          38.272,
          1.068,
          0,
          4.726,
          0.264,
          0,
          0,
          4.152,
          2.42,
          8.05,
          4.524,
          3.549,
          0,
          0,
          0.338,
          0.279,
          11.7,
          0,
          0,
          0.272,
          5.115000000000001,
          1.4400000000000002,
          0,
          0.6120000000000001,
          0,
          3.582,
          1.6380000000000001,
          0,
          0,
          18.828000000000003,
          0,
          10.092,
          3.8940000000000006,
          0,
          1.4029999999999998,
          34.236000000000004,
          0.48,
          0,
          0,
          0,
          9.423,
          35.370000000000005,
          17.189999999999998,
          0,
          16.137,
          9.958,
          14.532,
          0,
          34.295,
          0,
          75.25999999999999,
          1.716,
          3.128,
          0.8119999999999999,
          1.236,
          0,
          0,
          0.122,
          0.924,
          0,
          9.234,
          81.733,
          0,
          1.572,
          0,
          3.0300000000000002,
          0,
          176.952,
          29.325,
          42.655,
          0.76,
          4.03,
          0,
          0,
          0,
          0,
          31.396,
          8.96,
          0,
          7.878,
          0.222,
          12.648,
          0,
          1.5839999999999999,
          3.9520000000000004,
          4.05,
          0,
          17.248,
          0,
          0,
          1099.1999999999998,
          20.408,
          5.4,
          0.4,
          0,
          2.0240000000000005,
          1.2240000000000002,
          1.458,
          2.664,
          0.13799999999999998,
          14.774000000000001,
          0.375,
          2.47,
          1.7249999999999999,
          8.6,
          1.3719999999999999,
          35.557,
          20.242,
          1.364,
          5.168,
          1.136,
          0,
          14.975999999999999,
          8.36,
          2.552,
          174.59,
          2.484,
          0,
          1.1,
          80.214,
          6.887,
          44.772,
          3.51,
          6.816,
          0,
          16.821,
          0,
          0,
          0,
          0,
          8.528,
          0,
          22.837,
          3.096,
          17.496000000000002,
          0,
          3.52,
          0.7040000000000001,
          3.577,
          4.0120000000000005,
          25.759999999999998,
          35.779,
          0.664,
          4.49,
          5.24,
          0.096,
          0.06999999999999999,
          1.75,
          29.200000000000003,
          40.15,
          2.136,
          18.055999999999997,
          0,
          5.169,
          0,
          2.28,
          0,
          1.6019999999999999,
          1.2960000000000003,
          22.662,
          5.7,
          0.36800000000000005,
          3.63,
          0,
          4.871999999999999,
          0,
          2.3120000000000003,
          2.76,
          0,
          0.8039999999999999,
          7.279999999999999,
          0.396,
          0,
          0,
          0.844,
          177.226,
          0,
          36.734,
          86.817,
          2.47,
          0.096,
          9.017000000000001,
          4.524,
          0.338,
          0.48,
          0,
          0,
          61.079,
          56.414,
          6.705,
          0.222,
          60.721000000000004,
          4.993999999999999,
          0.924,
          90.967,
          1108.1599999999999,
          2.0380000000000003,
          1.572,
          0.36800000000000005,
          0,
          19.560000000000002,
          0.34900000000000003,
          20.582,
          1.75,
          53.603,
          1.2960000000000003,
          87.483,
          7.468,
          25.577,
          18.048000000000002,
          23.791,
          22.308,
          3.692,
          1.458,
          0,
          2.076,
          1.206,
          3.8940000000000006,
          0.375,
          2.552,
          80.214,
          5.168,
          42.655,
          0,
          51.588,
          3.51,
          25.759999999999998,
          0.264,
          0,
          0,
          3.52,
          5.154,
          38.623000000000005,
          8.36,
          40.627,
          2.2,
          6.074,
          40.15,
          174.59,
          4.6979999999999995,
          22.662,
          9.370999999999999,
          12.15,
          0,
          0,
          0,
          8.05,
          102.678,
          7.675999999999999,
          177.226,
          30.337999999999997,
          3.7840000000000003,
          38.623000000000005,
          92.521,
          1282.7499999999998,
          0,
          489.237,
          40.627,
          63.191,
          2.0380000000000003,
          24.129,
          22.782,
          0.36800000000000005,
          19.560000000000002,
          8.36,
          2.076,
          64.153,
          16.485,
          8.814,
          31.677999999999997,
          0.375,
          6.464,
          80.214,
          5.744,
          1.555,
          0,
          0,
          25.577,
          9.678,
          40.15,
          0,
          0,
          8.05,
          7.824,
          97.753,
          2.552,
          38.388,
          133.148,
          0,
          0,
          505.722,
          120.332,
          8.540000000000001,
          1293.6619999999998,
          67.384,
          189.507,
          215.849,
          132.144,
          2704.676
         ]
        }
       ],
       "layout": {
        "font": {
         "size": 10
        },
        "height": 800,
        "legend": {
         "tracegroupgap": 0
        },
        "margin": {
         "b": 25,
         "l": 25,
         "r": 25,
         "t": 50
        },
        "template": {
         "data": {
          "bar": [
           {
            "error_x": {
             "color": "#2a3f5f"
            },
            "error_y": {
             "color": "#2a3f5f"
            },
            "marker": {
             "line": {
              "color": "#E5ECF6",
              "width": 0.5
             },
             "pattern": {
              "fillmode": "overlay",
              "size": 10,
              "solidity": 0.2
             }
            },
            "type": "bar"
           }
          ],
          "barpolar": [
           {
            "marker": {
             "line": {
              "color": "#E5ECF6",
              "width": 0.5
             },
             "pattern": {
              "fillmode": "overlay",
              "size": 10,
              "solidity": 0.2
             }
            },
            "type": "barpolar"
           }
          ],
          "carpet": [
           {
            "aaxis": {
             "endlinecolor": "#2a3f5f",
             "gridcolor": "white",
             "linecolor": "white",
             "minorgridcolor": "white",
             "startlinecolor": "#2a3f5f"
            },
            "baxis": {
             "endlinecolor": "#2a3f5f",
             "gridcolor": "white",
             "linecolor": "white",
             "minorgridcolor": "white",
             "startlinecolor": "#2a3f5f"
            },
            "type": "carpet"
           }
          ],
          "choropleth": [
           {
            "colorbar": {
             "outlinewidth": 0,
             "ticks": ""
            },
            "type": "choropleth"
           }
          ],
          "contour": [
           {
            "colorbar": {
             "outlinewidth": 0,
             "ticks": ""
            },
            "colorscale": [
             [
              0,
              "#0d0887"
             ],
             [
              0.1111111111111111,
              "#46039f"
             ],
             [
              0.2222222222222222,
              "#7201a8"
             ],
             [
              0.3333333333333333,
              "#9c179e"
             ],
             [
              0.4444444444444444,
              "#bd3786"
             ],
             [
              0.5555555555555556,
              "#d8576b"
             ],
             [
              0.6666666666666666,
              "#ed7953"
             ],
             [
              0.7777777777777778,
              "#fb9f3a"
             ],
             [
              0.8888888888888888,
              "#fdca26"
             ],
             [
              1,
              "#f0f921"
             ]
            ],
            "type": "contour"
           }
          ],
          "contourcarpet": [
           {
            "colorbar": {
             "outlinewidth": 0,
             "ticks": ""
            },
            "type": "contourcarpet"
           }
          ],
          "heatmap": [
           {
            "colorbar": {
             "outlinewidth": 0,
             "ticks": ""
            },
            "colorscale": [
             [
              0,
              "#0d0887"
             ],
             [
              0.1111111111111111,
              "#46039f"
             ],
             [
              0.2222222222222222,
              "#7201a8"
             ],
             [
              0.3333333333333333,
              "#9c179e"
             ],
             [
              0.4444444444444444,
              "#bd3786"
             ],
             [
              0.5555555555555556,
              "#d8576b"
             ],
             [
              0.6666666666666666,
              "#ed7953"
             ],
             [
              0.7777777777777778,
              "#fb9f3a"
             ],
             [
              0.8888888888888888,
              "#fdca26"
             ],
             [
              1,
              "#f0f921"
             ]
            ],
            "type": "heatmap"
           }
          ],
          "heatmapgl": [
           {
            "colorbar": {
             "outlinewidth": 0,
             "ticks": ""
            },
            "colorscale": [
             [
              0,
              "#0d0887"
             ],
             [
              0.1111111111111111,
              "#46039f"
             ],
             [
              0.2222222222222222,
              "#7201a8"
             ],
             [
              0.3333333333333333,
              "#9c179e"
             ],
             [
              0.4444444444444444,
              "#bd3786"
             ],
             [
              0.5555555555555556,
              "#d8576b"
             ],
             [
              0.6666666666666666,
              "#ed7953"
             ],
             [
              0.7777777777777778,
              "#fb9f3a"
             ],
             [
              0.8888888888888888,
              "#fdca26"
             ],
             [
              1,
              "#f0f921"
             ]
            ],
            "type": "heatmapgl"
           }
          ],
          "histogram": [
           {
            "marker": {
             "pattern": {
              "fillmode": "overlay",
              "size": 10,
              "solidity": 0.2
             }
            },
            "type": "histogram"
           }
          ],
          "histogram2d": [
           {
            "colorbar": {
             "outlinewidth": 0,
             "ticks": ""
            },
            "colorscale": [
             [
              0,
              "#0d0887"
             ],
             [
              0.1111111111111111,
              "#46039f"
             ],
             [
              0.2222222222222222,
              "#7201a8"
             ],
             [
              0.3333333333333333,
              "#9c179e"
             ],
             [
              0.4444444444444444,
              "#bd3786"
             ],
             [
              0.5555555555555556,
              "#d8576b"
             ],
             [
              0.6666666666666666,
              "#ed7953"
             ],
             [
              0.7777777777777778,
              "#fb9f3a"
             ],
             [
              0.8888888888888888,
              "#fdca26"
             ],
             [
              1,
              "#f0f921"
             ]
            ],
            "type": "histogram2d"
           }
          ],
          "histogram2dcontour": [
           {
            "colorbar": {
             "outlinewidth": 0,
             "ticks": ""
            },
            "colorscale": [
             [
              0,
              "#0d0887"
             ],
             [
              0.1111111111111111,
              "#46039f"
             ],
             [
              0.2222222222222222,
              "#7201a8"
             ],
             [
              0.3333333333333333,
              "#9c179e"
             ],
             [
              0.4444444444444444,
              "#bd3786"
             ],
             [
              0.5555555555555556,
              "#d8576b"
             ],
             [
              0.6666666666666666,
              "#ed7953"
             ],
             [
              0.7777777777777778,
              "#fb9f3a"
             ],
             [
              0.8888888888888888,
              "#fdca26"
             ],
             [
              1,
              "#f0f921"
             ]
            ],
            "type": "histogram2dcontour"
           }
          ],
          "mesh3d": [
           {
            "colorbar": {
             "outlinewidth": 0,
             "ticks": ""
            },
            "type": "mesh3d"
           }
          ],
          "parcoords": [
           {
            "line": {
             "colorbar": {
              "outlinewidth": 0,
              "ticks": ""
             }
            },
            "type": "parcoords"
           }
          ],
          "pie": [
           {
            "automargin": true,
            "type": "pie"
           }
          ],
          "scatter": [
           {
            "fillpattern": {
             "fillmode": "overlay",
             "size": 10,
             "solidity": 0.2
            },
            "type": "scatter"
           }
          ],
          "scatter3d": [
           {
            "line": {
             "colorbar": {
              "outlinewidth": 0,
              "ticks": ""
             }
            },
            "marker": {
             "colorbar": {
              "outlinewidth": 0,
              "ticks": ""
             }
            },
            "type": "scatter3d"
           }
          ],
          "scattercarpet": [
           {
            "marker": {
             "colorbar": {
              "outlinewidth": 0,
              "ticks": ""
             }
            },
            "type": "scattercarpet"
           }
          ],
          "scattergeo": [
           {
            "marker": {
             "colorbar": {
              "outlinewidth": 0,
              "ticks": ""
             }
            },
            "type": "scattergeo"
           }
          ],
          "scattergl": [
           {
            "marker": {
             "colorbar": {
              "outlinewidth": 0,
              "ticks": ""
             }
            },
            "type": "scattergl"
           }
          ],
          "scattermapbox": [
           {
            "marker": {
             "colorbar": {
              "outlinewidth": 0,
              "ticks": ""
             }
            },
            "type": "scattermapbox"
           }
          ],
          "scatterpolar": [
           {
            "marker": {
             "colorbar": {
              "outlinewidth": 0,
              "ticks": ""
             }
            },
            "type": "scatterpolar"
           }
          ],
          "scatterpolargl": [
           {
            "marker": {
             "colorbar": {
              "outlinewidth": 0,
              "ticks": ""
             }
            },
            "type": "scatterpolargl"
           }
          ],
          "scatterternary": [
           {
            "marker": {
             "colorbar": {
              "outlinewidth": 0,
              "ticks": ""
             }
            },
            "type": "scatterternary"
           }
          ],
          "surface": [
           {
            "colorbar": {
             "outlinewidth": 0,
             "ticks": ""
            },
            "colorscale": [
             [
              0,
              "#0d0887"
             ],
             [
              0.1111111111111111,
              "#46039f"
             ],
             [
              0.2222222222222222,
              "#7201a8"
             ],
             [
              0.3333333333333333,
              "#9c179e"
             ],
             [
              0.4444444444444444,
              "#bd3786"
             ],
             [
              0.5555555555555556,
              "#d8576b"
             ],
             [
              0.6666666666666666,
              "#ed7953"
             ],
             [
              0.7777777777777778,
              "#fb9f3a"
             ],
             [
              0.8888888888888888,
              "#fdca26"
             ],
             [
              1,
              "#f0f921"
             ]
            ],
            "type": "surface"
           }
          ],
          "table": [
           {
            "cells": {
             "fill": {
              "color": "#EBF0F8"
             },
             "line": {
              "color": "white"
             }
            },
            "header": {
             "fill": {
              "color": "#C8D4E3"
             },
             "line": {
              "color": "white"
             }
            },
            "type": "table"
           }
          ]
         },
         "layout": {
          "annotationdefaults": {
           "arrowcolor": "#2a3f5f",
           "arrowhead": 0,
           "arrowwidth": 1
          },
          "autotypenumbers": "strict",
          "coloraxis": {
           "colorbar": {
            "outlinewidth": 0,
            "ticks": ""
           }
          },
          "colorscale": {
           "diverging": [
            [
             0,
             "#8e0152"
            ],
            [
             0.1,
             "#c51b7d"
            ],
            [
             0.2,
             "#de77ae"
            ],
            [
             0.3,
             "#f1b6da"
            ],
            [
             0.4,
             "#fde0ef"
            ],
            [
             0.5,
             "#f7f7f7"
            ],
            [
             0.6,
             "#e6f5d0"
            ],
            [
             0.7,
             "#b8e186"
            ],
            [
             0.8,
             "#7fbc41"
            ],
            [
             0.9,
             "#4d9221"
            ],
            [
             1,
             "#276419"
            ]
           ],
           "sequential": [
            [
             0,
             "#0d0887"
            ],
            [
             0.1111111111111111,
             "#46039f"
            ],
            [
             0.2222222222222222,
             "#7201a8"
            ],
            [
             0.3333333333333333,
             "#9c179e"
            ],
            [
             0.4444444444444444,
             "#bd3786"
            ],
            [
             0.5555555555555556,
             "#d8576b"
            ],
            [
             0.6666666666666666,
             "#ed7953"
            ],
            [
             0.7777777777777778,
             "#fb9f3a"
            ],
            [
             0.8888888888888888,
             "#fdca26"
            ],
            [
             1,
             "#f0f921"
            ]
           ],
           "sequentialminus": [
            [
             0,
             "#0d0887"
            ],
            [
             0.1111111111111111,
             "#46039f"
            ],
            [
             0.2222222222222222,
             "#7201a8"
            ],
            [
             0.3333333333333333,
             "#9c179e"
            ],
            [
             0.4444444444444444,
             "#bd3786"
            ],
            [
             0.5555555555555556,
             "#d8576b"
            ],
            [
             0.6666666666666666,
             "#ed7953"
            ],
            [
             0.7777777777777778,
             "#fb9f3a"
            ],
            [
             0.8888888888888888,
             "#fdca26"
            ],
            [
             1,
             "#f0f921"
            ]
           ]
          },
          "colorway": [
           "#636efa",
           "#EF553B",
           "#00cc96",
           "#ab63fa",
           "#FFA15A",
           "#19d3f3",
           "#FF6692",
           "#B6E880",
           "#FF97FF",
           "#FECB52"
          ],
          "font": {
           "color": "#2a3f5f"
          },
          "geo": {
           "bgcolor": "white",
           "lakecolor": "white",
           "landcolor": "#E5ECF6",
           "showlakes": true,
           "showland": true,
           "subunitcolor": "white"
          },
          "hoverlabel": {
           "align": "left"
          },
          "hovermode": "closest",
          "mapbox": {
           "style": "light"
          },
          "paper_bgcolor": "white",
          "plot_bgcolor": "#E5ECF6",
          "polar": {
           "angularaxis": {
            "gridcolor": "white",
            "linecolor": "white",
            "ticks": ""
           },
           "bgcolor": "#E5ECF6",
           "radialaxis": {
            "gridcolor": "white",
            "linecolor": "white",
            "ticks": ""
           }
          },
          "scene": {
           "xaxis": {
            "backgroundcolor": "#E5ECF6",
            "gridcolor": "white",
            "gridwidth": 2,
            "linecolor": "white",
            "showbackground": true,
            "ticks": "",
            "zerolinecolor": "white"
           },
           "yaxis": {
            "backgroundcolor": "#E5ECF6",
            "gridcolor": "white",
            "gridwidth": 2,
            "linecolor": "white",
            "showbackground": true,
            "ticks": "",
            "zerolinecolor": "white"
           },
           "zaxis": {
            "backgroundcolor": "#E5ECF6",
            "gridcolor": "white",
            "gridwidth": 2,
            "linecolor": "white",
            "showbackground": true,
            "ticks": "",
            "zerolinecolor": "white"
           }
          },
          "shapedefaults": {
           "line": {
            "color": "#2a3f5f"
           }
          },
          "ternary": {
           "aaxis": {
            "gridcolor": "white",
            "linecolor": "white",
            "ticks": ""
           },
           "baxis": {
            "gridcolor": "white",
            "linecolor": "white",
            "ticks": ""
           },
           "bgcolor": "#E5ECF6",
           "caxis": {
            "gridcolor": "white",
            "linecolor": "white",
            "ticks": ""
           }
          },
          "title": {
           "x": 0.05
          },
          "xaxis": {
           "automargin": true,
           "gridcolor": "white",
           "linecolor": "white",
           "ticks": "",
           "title": {
            "standoff": 15
           },
           "zerolinecolor": "white",
           "zerolinewidth": 2
          },
          "yaxis": {
           "automargin": true,
           "gridcolor": "white",
           "linecolor": "white",
           "ticks": "",
           "title": {
            "standoff": 15
           },
           "zerolinecolor": "white",
           "zerolinewidth": 2
          }
         }
        }
       }
      },
      "text/html": [
       "<div>                            <div id=\"187da0ff-5a26-48f1-86c9-a5cc24a0abe6\" class=\"plotly-graph-div\" style=\"height:800px; width:100%;\"></div>            <script type=\"text/javascript\">                require([\"plotly\"], function(Plotly) {                    window.PLOTLYENV=window.PLOTLYENV || {};                                    if (document.getElementById(\"187da0ff-5a26-48f1-86c9-a5cc24a0abe6\")) {                    Plotly.newPlot(                        \"187da0ff-5a26-48f1-86c9-a5cc24a0abe6\",                        [{\"branchvalues\":\"total\",\"domain\":{\"x\":[0.0,1.0],\"y\":[0.0,1.0]},\"hovertemplate\":\"labels=%{label}<br>val=%{value}<br>parent=%{parent}<br>id=%{id}<extra></extra>\",\"ids\":[\"all/Recreation and culture/Audio-visual, photographic and information processing equipment/Information processing equipment/Accessories for information processing equipment\",\"all/Transport/Operation of personal transport equipment/Spares parts and accessories for personal transport equipment/Accessories for personal transport equipment\",\"all/Restaurants and hotels/Accommodation services/Accommodation services/Accommodation services of other establishments\",\"all/Miscellaneous goods and services/Other services n.e.c./Other services n.e.c./Administrative fees\",\"all/Alcoholic beverages, tobacco and narcotics/Alcoholic beverages/Spirits/Alcoholic soft drinks\",\"all/Miscellaneous goods and services/Personal effects n.e.c./Other personal effects/Articles for babies\",\"all/Miscellaneous goods and services/Personal care/Other appliances, articles and products for personal care/Articles for personal hygiene and wellness, esoteric products and beauty products\",\"all/Food and non-alcoholic beverages/Food/Food products n.e.c./Baby food\",\"all/Furnishings, household equipment and routine household maintenance/Household textiles/Household textiles/Bed linen\",\"all/Food and non-alcoholic beverages/Food/Meat/Beef and veal\",\"all/Food and non-alcoholic beverages/Food/Bread and cereals/Bread\",\"all/Food and non-alcoholic beverages/Food/Bread and cereals/Breakfast cereals\",\"all/Communications/Telephone and telefax services/Telephone and telefax services/Bundled telecommunication services\",\"all/Food and non-alcoholic beverages/Food/Oils and fats/Butter\",\"all/Recreation and culture/Audio-visual, photographic and information processing equipment/Photographic and cinematographic equipment and optical instruments/Cameras\",\"all/Furnishings, household equipment and routine household maintenance/Furniture and furnishings, carpets and other floor coverings/Carpets and other floor coverings/Carpet and rugs\",\"all/Miscellaneous goods and services/Financial services n.e.c./Other financial services n.e.c./Charges by banks and post offices\",\"all/Food and non-alcoholic beverages/Food/Milk, cheese and eggs/Cheese and curd\",\"all/Food and non-alcoholic beverages/Food/Sugar, jam, honey, chocolate and confectionery/Chocolate\",\"all/Alcoholic beverages, tobacco and narcotics/Tobacco/Tobacco/Cigarettes\",\"all/Recreation and culture/Recreational and cultural services/Cultural services/Cinemas, theatres, concerts\",\"all/Furnishings, household equipment and routine household maintenance/Goods and services for routine household maintenance/Non-durable household goods/Cleaning and maintenance products\",\"all/Furnishings, household equipment and routine household maintenance/Household appliances/Major household appliances whether electric or not/Cleaning equipment\",\"all/Clothing and footwear/Clothing/Cleaning, repair and hire of clothing/Cleaning of clothing\",\"all/Furnishings, household equipment and routine household maintenance/Goods and services for routine household maintenance/Domestic services and household services/Cleaning services\",\"all/Miscellaneous goods and services/Personal effects n.e.c./Jewellery, clocks and watches/Clocks and watches\",\"all/Furnishings, household equipment and routine household maintenance/Household appliances/Major household appliances whether electric or not/Clothes washing machines, clothes drying machines and dish washing machines\",\"all/Clothing and footwear/Clothing/Other articles of clothing and clothing accessories/Clothing accessories\",\"all/Housing, water, electricity, gas and other fuels/Electricity, gas and other fuels/Solid fuels/Coal\",\"all/Food and non-alcoholic beverages/Non-alcoholic beverages/Coffee, tea and cocoa/Cocoa and powdered chocolate\",\"all/Food and non-alcoholic beverages/Non-alcoholic beverages/Coffee, tea and cocoa/Coffee\",\"all/Furnishings, household equipment and routine household maintenance/Household appliances/Small electric household appliances/Coffee machines, tea-makers and similar appliances\",\"all/Food and non-alcoholic beverages/Food/Sugar, jam, honey, chocolate and confectionery/Confectionery products\",\"all/Furnishings, household equipment and routine household maintenance/Household appliances/Major household appliances whether electric or not/Cookers\",\"all/Health/Medical products, appliances and equipment/Therapeutic appliances and equipment/Corrective eye-glasses and contact lenses\",\"all/Food and non-alcoholic beverages/Food/Vegetables/Crisps\",\"all/Furnishings, household equipment and routine household maintenance/Glassware, tableware and household utensils/Glassware, tableware and household utensils/Cutlery, flatware and silverware\",\"all/Transport/Operation of personal transport equipment/Fuels and lubricants for personal transport equipment/Diesel\",\"all/Food and non-alcoholic beverages/Food/Fruit/Dried fruit and nuts\",\"all/Food and non-alcoholic beverages/Food/Vegetables/Dried vegetables, other preserved or processed vegetables\",\"all/Food and non-alcoholic beverages/Food/Meat/Dried, salted or smoked meat\",\"all/Food and non-alcoholic beverages/Food/Fish and seafood/Dried, smoked or salted fish and seafood\",\"all/Transport/Operation of personal transport equipment/Other services in respect of personal transport equipment/Driving lessons, tests, licences and road worthiness tests\",\"all/Food and non-alcoholic beverages/Food/Sugar, jam, honey, chocolate and confectionery/Edible ices and ice cream\",\"all/Food and non-alcoholic beverages/Food/Meat/Edible offal\",\"all/Food and non-alcoholic beverages/Food/Milk, cheese and eggs/Eggs\",\"all/Miscellaneous goods and services/Personal care/Electrical appliances for personal care/Electric appliances for personal care\",\"all/Recreation and culture/Other recreational items and equipment, gardens and pets/Equipment for sport, camping and open-air recreation/Equipment for sport\",\"all/Recreation and culture/Audio-visual, photographic and information processing equipment/Equipment for the reception, recording and reproduction of sound and picture/Equipment for the reception, recording and reproduction of sound\",\"all/Recreation and culture/Audio-visual, photographic and information processing equipment/Equipment for the reception, recording and reproduction of sound and picture/Equipment for the reception, recording and reproduction of sound and vision\",\"all/Restaurants and hotels/Catering services/Restaurants, caf\\u00e9s and the like/Fast food and take away food services\",\"all/Recreation and culture/Newspapers, books and stationery/Books/Fiction books\",\"all/Food and non-alcoholic beverages/Food/Bread and cereals/Flours and other cereals\",\"all/Furnishings, household equipment and routine household maintenance/Household appliances/Small electric household appliances/Food processing appliances\",\"all/Clothing and footwear/Footwear/Shoes and other footwear/Footwear for infants and children\",\"all/Clothing and footwear/Footwear/Shoes and other footwear/Footwear for men\",\"all/Clothing and footwear/Footwear/Shoes and other footwear/Footwear for women\",\"all/Alcoholic beverages, tobacco and narcotics/Alcoholic beverages/Wine/Fortified wines\",\"all/Food and non-alcoholic beverages/Food/Fish and seafood/Fresh or chilled fish\",\"all/Food and non-alcoholic beverages/Food/Fruit/Fresh or chilled fruit\",\"all/Food and non-alcoholic beverages/Food/Vegetables/Fresh or chilled vegetables other than potatoes and other tubers\",\"all/Food and non-alcoholic beverages/Food/Fish and seafood/Frozen fish\",\"all/Food and non-alcoholic beverages/Food/Fruit/Frozen fruit\",\"all/Food and non-alcoholic beverages/Food/Vegetables/Frozen vegetables other than potatoes and other tubers\",\"all/Food and non-alcoholic beverages/Non-alcoholic beverages/Mineral waters, soft drinks, fruit and vegetable juices/Fruit and vegetables juices\",\"all/Miscellaneous goods and services/Other services n.e.c./Other services n.e.c./Funeral services\",\"all/Furnishings, household equipment and routine household maintenance/Household textiles/Household textiles/Furnishings fabrics and curtains\",\"all/Recreation and culture/Other recreational items and equipment, gardens and pets/Games, toys and hobbies/Games and hobbies\",\"all/Recreation and culture/Other recreational items and equipment, gardens and pets/Gardens, plants and flowers/Garden products\",\"all/Clothing and footwear/Clothing/Garments/Garments for infants (0 to 2 years) and children (3 to 13 years)\",\"all/Clothing and footwear/Clothing/Garments/Garments for men\",\"all/Clothing and footwear/Clothing/Garments/Garments for women\",\"all/Furnishings, household equipment and routine household maintenance/Glassware, tableware and household utensils/Glassware, tableware and household utensils/Glassware, crystal-ware, ceramic ware and chinaware\",\"all/Miscellaneous goods and services/Personal care/Hairdressing salons and personal grooming establishments/Hairdressing for men and children\",\"all/Miscellaneous goods and services/Personal care/Hairdressing salons and personal grooming establishments/Hairdressing for women\",\"all/Furnishings, household equipment and routine household maintenance/Household appliances/Major household appliances whether electric or not/Heaters, air conditioners\",\"all/Transport/Operation of personal transport equipment/Other services in respect of personal transport equipment/Hire of garages, parking spaces and personal transport equipment\",\"all/Restaurants and hotels/Accommodation services/Accommodation services/Hotels, motels, inns and similar accommodation services\",\"all/Furnishings, household equipment and routine household maintenance/Furniture and furnishings, carpets and other floor coverings/Furniture and furnishings/Household furniture\",\"all/Transport/Transport services/Passenger transport by air/International flights\",\"all/Furnishings, household equipment and routine household maintenance/Household appliances/Small electric household appliances/Irons\",\"all/Food and non-alcoholic beverages/Food/Sugar, jam, honey, chocolate and confectionery/Jams, marmalades and honey\",\"all/Miscellaneous goods and services/Personal effects n.e.c./Jewellery, clocks and watches/Jewellery\",\"all/Alcoholic beverages, tobacco and narcotics/Alcoholic beverages/Beer/Lager beer\",\"all/Miscellaneous goods and services/Other services n.e.c./Other services n.e.c./Legal services and accountancy\",\"all/Communications/Postal services/Postal services/Letter handling services\",\"all/Furnishings, household equipment and routine household maintenance/Furniture and furnishings, carpets and other floor coverings/Furniture and furnishings/Lighting equipment\",\"all/Housing, water, electricity, gas and other fuels/Electricity, gas and other fuels/Gas/Liquefied hydrocarbons (butane, propane, etc.)\",\"all/Alcoholic beverages, tobacco and narcotics/Alcoholic beverages/Beer/Low and non-alcoholic beer\",\"all/Food and non-alcoholic beverages/Food/Milk, cheese and eggs/Low fat milk\",\"all/Transport/Operation of personal transport equipment/Fuels and lubricants for personal transport equipment/Lubricants\",\"all/Recreation and culture/Newspapers, books and stationery/Newspapers and periodicals/Magazines and periodicals\",\"all/Housing, water, electricity, gas and other fuels/Water supply and miscellaneous services relating to the dwelling/Other services relating to the dwelling n.e.c./Maintenance charges in multi-occupied buildings\",\"all/Food and non-alcoholic beverages/Food/Oils and fats/Margarine and other vegetable fats\",\"all/Food and non-alcoholic beverages/Non-alcoholic beverages/Mineral waters, soft drinks, fruit and vegetable juices/Mineral or spring waters\",\"all/Furnishings, household equipment and routine household maintenance/Tools and equipment for house and garden/Small tools and miscellaneous accessories/Miscellaneous small tool accessories\",\"all/Communications/Telephone and telefax equipment/Telephone and telefax equipment/Mobile telephone equipment\",\"all/Miscellaneous goods and services/Insurance/Insurance connected with transport/Motor vehicle insurance\",\"all/Furnishings, household equipment and routine household maintenance/Tools and equipment for house and garden/Major tools and equipment/Motorized major tools and equipment\",\"all/Recreation and culture/Recreational and cultural services/Cultural services/Museums, libraries, zoological gardens\",\"all/Housing, water, electricity, gas and other fuels/Electricity, gas and other fuels/Gas/Natural gas and town gas\",\"all/Transport/Purchase of vehicles/Motor cars/New motor cars\",\"all/Recreation and culture/Newspapers, books and stationery/Newspapers and periodicals/Newspapers\",\"all/Furnishings, household equipment and routine household maintenance/Glassware, tableware and household utensils/Glassware, tableware and household utensils/Non-electric kitchen utensils and articles\",\"all/Miscellaneous goods and services/Personal care/Other appliances, articles and products for personal care/Non-electrical appliances\",\"all/Furnishings, household equipment and routine household maintenance/Tools and equipment for house and garden/Small tools and miscellaneous accessories/Non-motorised small tools\",\"all/Food and non-alcoholic beverages/Food/Oils and fats/Olive oil\",\"all/Clothing and footwear/Clothing/Other articles of clothing and clothing accessories/Other articles of clothing\",\"all/Food and non-alcoholic beverages/Food/Bread and cereals/Other bakery products\",\"all/Food and non-alcoholic beverages/Food/Bread and cereals/Other cereal products\",\"all/Food and non-alcoholic beverages/Food/Oils and fats/Other edible oils\",\"all/Miscellaneous goods and services/Other services n.e.c./Other services n.e.c./Other fees and services\",\"all/Furnishings, household equipment and routine household maintenance/Furniture and furnishings, carpets and other floor coverings/Carpets and other floor coverings/Other floor coverings\",\"all/Food and non-alcoholic beverages/Food/Food products n.e.c./Other food products n.e.c.\",\"all/Food and non-alcoholic beverages/Food/Meat/Other meat preparations\",\"all/Health/Medical products, appliances and equipment/Other medical products/Other medical products n.e.c.\",\"all/Food and non-alcoholic beverages/Food/Milk, cheese and eggs/Other milk products\",\"all/Furnishings, household equipment and routine household maintenance/Goods and services for routine household maintenance/Non-durable household goods/Other non-durable small household articles\",\"all/Recreation and culture/Newspapers, books and stationery/Books/Other non-fiction books\",\"all/Health/Out-patient services/Paramedical services/Other paramedical services\",\"all/Miscellaneous goods and services/Personal effects n.e.c./Other personal effects/Other personal effects n.e.c.\",\"all/Communications/Postal services/Postal services/Other postal services\",\"all/Food and non-alcoholic beverages/Food/Fish and seafood/Other preserved or processed fish and seafood and fish and seafood preparations\",\"all/Housing, water, electricity, gas and other fuels/Maintenance and repair of the dwelling/Services for the maintenance and repair of the dwelling/Other services for maintenance and repair of the dwelling\",\"all/Housing, water, electricity, gas and other fuels/Water supply and miscellaneous services relating to the dwelling/Other services relating to the dwelling n.e.c./Other services related to dwelling\",\"all/Housing, water, electricity, gas and other fuels/Electricity, gas and other fuels/Solid fuels/Other solid fuels\",\"all/Recreation and culture/Newspapers, books and stationery/Stationery and drawing materials/Other stationery and drawing materials\",\"all/Health/Medical products, appliances and equipment/Therapeutic appliances and equipment/Other therapeutic appliances and equipment\",\"all/Food and non-alcoholic beverages/Food/Vegetables/Other tubers and products of tuber vegetables\",\"all/Recreation and culture/Package holidays/Package holidays/Package international holidays\",\"all/Recreation and culture/Newspapers, books and stationery/Stationery and drawing materials/Paper products\",\"all/Transport/Transport services/Passenger transport by road/Passenger transport by bus and coach\",\"all/Transport/Transport services/Passenger transport by sea and inland waterway/Passenger transport by sea\",\"all/Transport/Transport services/Passenger transport by road/Passenger transport by taxi and hired car with driver\",\"all/Transport/Transport services/Passenger transport by railway/Passenger transport by train\",\"all/Food and non-alcoholic beverages/Food/Bread and cereals/Pasta products and couscous\",\"all/Recreation and culture/Audio-visual, photographic and information processing equipment/Information processing equipment/Personal computers\",\"all/Miscellaneous goods and services/Personal care/Hairdressing salons and personal grooming establishments/Personal grooming treatments\",\"all/Transport/Operation of personal transport equipment/Fuels and lubricants for personal transport equipment/Petrol\",\"all/Recreation and culture/Recreational and cultural services/Cultural services/Photographic services\",\"all/Food and non-alcoholic beverages/Food/Bread and cereals/Pizza and quiche\",\"all/Recreation and culture/Other recreational items and equipment, gardens and pets/Gardens, plants and flowers/Plants and flowers\",\"all/Food and non-alcoholic beverages/Food/Meat/Pork\",\"all/Food and non-alcoholic beverages/Food/Vegetables/Potatoes\",\"all/Food and non-alcoholic beverages/Food/Meat/Poultry\",\"all/Education/Pre-primary and primary education/Pre-primary and primary education/Pre-primary education \",\"all/Recreation and culture/Audio-visual, photographic and information processing equipment/Recording media/Pre-recorded recording media\",\"all/Health/Medical products, appliances and equipment/Other medical products/Pregnancy tests and mechanical contraceptive devices\",\"all/Food and non-alcoholic beverages/Food/Fruit/Preserved fruit and fruit-based products\",\"all/Food and non-alcoholic beverages/Food/Milk, cheese and eggs/Preserved milk\",\"all/Recreation and culture/Other recreational items and equipment, gardens and pets/Pets and related products/Products for pets\",\"all/Food and non-alcoholic beverages/Food/Food products n.e.c./Ready-made meals\",\"all/Recreation and culture/Recreational and cultural services/Recreational and sporting services/Recreational and sporting services - Attendance\",\"all/Recreation and culture/Recreational and cultural services/Recreational and sporting services/Recreational and sporting services - Participation\",\"all/Furnishings, household equipment and routine household maintenance/Household appliances/Major household appliances whether electric or not/Refrigerators, freezers and fridge-freezers\",\"all/Clothing and footwear/Clothing/Cleaning, repair and hire of clothing/Repair and hire of clothing\",\"all/Miscellaneous goods and services/Personal effects n.e.c./Jewellery, clocks and watches/Repair of jewellery, clocks and watches\",\"all/Furnishings, household equipment and routine household maintenance/Tools and equipment for house and garden/Major tools and equipment/Repair, leasing and rental of major tools and equipment\",\"all/Restaurants and hotels/Catering services/Restaurants, caf\\u00e9s and the like/Restaurants, caf\\u00e9s and dancing establishments\",\"all/Miscellaneous goods and services/Social protection/Social protection/Retirement homes for elderly persons and residences for disabled persons\",\"all/Food and non-alcoholic beverages/Food/Bread and cereals/Rice\",\"all/Food and non-alcoholic beverages/Food/Food products n.e.c./Salt, spices and culinary herbs\",\"all/Food and non-alcoholic beverages/Food/Food products n.e.c./Sauces, condiments\",\"all/Transport/Purchase of vehicles/Motor cars/Second-hand motor cars\",\"all/Housing, water, electricity, gas and other fuels/Water supply and miscellaneous services relating to the dwelling/Other services relating to the dwelling n.e.c./Security services\",\"all/Food and non-alcoholic beverages/Non-alcoholic beverages/Mineral waters, soft drinks, fruit and vegetable juices/Soft drinks\",\"all/Recreation and culture/Audio-visual, photographic and information processing equipment/Information processing equipment/Software\",\"all/Transport/Operation of personal transport equipment/Spares parts and accessories for personal transport equipment/Spare parts for personal transport equipment\",\"all/Health/Out-patient services/Medical services/Specialist practice\",\"all/Alcoholic beverages, tobacco and narcotics/Alcoholic beverages/Spirits/Spirits and liqueurs\",\"all/Food and non-alcoholic beverages/Food/Sugar, jam, honey, chocolate and confectionery/Sugar\",\"all/Furnishings, household equipment and routine household maintenance/Household textiles/Household textiles/Table linen and bathroom linen\",\"all/Food and non-alcoholic beverages/Non-alcoholic beverages/Coffee, tea and cocoa/Tea\",\"all/Recreation and culture/Recreational and cultural services/Cultural services/Television and radio licence fees, subscriptions\",\"all/Recreation and culture/Other recreational items and equipment, gardens and pets/Games, toys and hobbies/Toys and celebration articles\",\"all/Miscellaneous goods and services/Personal effects n.e.c./Other personal effects/Travel goods\",\"all/Miscellaneous goods and services/Insurance/Insurance connected with transport/Travel insurance\",\"all/Transport/Operation of personal transport equipment/Spares parts and accessories for personal transport equipment/Tyres\",\"all/Recreation and culture/Audio-visual, photographic and information processing equipment/Recording media/Unrecorded recording media\",\"all/Food and non-alcoholic beverages/Food/Milk, cheese and eggs/Whole milk\",\"all/Alcoholic beverages, tobacco and narcotics/Alcoholic beverages/Wine/Wine from grapes\",\"all/Alcoholic beverages, tobacco and narcotics/Alcoholic beverages/Wine/Wine from other fruits\",\"all/Communications/Telephone and telefax services/Telephone and telefax services/Wired telephone services\",\"all/Communications/Telephone and telefax services/Telephone and telefax services/Wireless telephone services\",\"all/Food and non-alcoholic beverages/Food/Milk, cheese and eggs/Yoghurt\",\"all/Restaurants and hotels/Accommodation services/Accommodation services\",\"all/Alcoholic beverages, tobacco and narcotics/Alcoholic beverages/Beer\",\"all/Recreation and culture/Newspapers, books and stationery/Books\",\"all/Food and non-alcoholic beverages/Food/Bread and cereals\",\"all/Furnishings, household equipment and routine household maintenance/Furniture and furnishings, carpets and other floor coverings/Carpets and other floor coverings\",\"all/Clothing and footwear/Clothing/Cleaning, repair and hire of clothing\",\"all/Food and non-alcoholic beverages/Non-alcoholic beverages/Coffee, tea and cocoa\",\"all/Recreation and culture/Recreational and cultural services/Cultural services\",\"all/Furnishings, household equipment and routine household maintenance/Goods and services for routine household maintenance/Domestic services and household services\",\"all/Miscellaneous goods and services/Personal care/Electrical appliances for personal care\",\"all/Recreation and culture/Other recreational items and equipment, gardens and pets/Equipment for sport, camping and open-air recreation\",\"all/Recreation and culture/Audio-visual, photographic and information processing equipment/Equipment for the reception, recording and reproduction of sound and picture\",\"all/Food and non-alcoholic beverages/Food/Fish and seafood\",\"all/Food and non-alcoholic beverages/Food/Food products n.e.c.\",\"all/Food and non-alcoholic beverages/Food/Fruit\",\"all/Transport/Operation of personal transport equipment/Fuels and lubricants for personal transport equipment\",\"all/Furnishings, household equipment and routine household maintenance/Furniture and furnishings, carpets and other floor coverings/Furniture and furnishings\",\"all/Recreation and culture/Other recreational items and equipment, gardens and pets/Games, toys and hobbies\",\"all/Recreation and culture/Other recreational items and equipment, gardens and pets/Gardens, plants and flowers\",\"all/Clothing and footwear/Clothing/Garments\",\"all/Housing, water, electricity, gas and other fuels/Electricity, gas and other fuels/Gas\",\"all/Furnishings, household equipment and routine household maintenance/Glassware, tableware and household utensils/Glassware, tableware and household utensils\",\"all/Miscellaneous goods and services/Personal care/Hairdressing salons and personal grooming establishments\",\"all/Furnishings, household equipment and routine household maintenance/Household textiles/Household textiles\",\"all/Recreation and culture/Audio-visual, photographic and information processing equipment/Information processing equipment\",\"all/Miscellaneous goods and services/Insurance/Insurance connected with transport\",\"all/Miscellaneous goods and services/Personal effects n.e.c./Jewellery, clocks and watches\",\"all/Furnishings, household equipment and routine household maintenance/Household appliances/Major household appliances whether electric or not\",\"all/Furnishings, household equipment and routine household maintenance/Tools and equipment for house and garden/Major tools and equipment\",\"all/Food and non-alcoholic beverages/Food/Meat\",\"all/Health/Out-patient services/Medical services\",\"all/Food and non-alcoholic beverages/Food/Milk, cheese and eggs\",\"all/Food and non-alcoholic beverages/Non-alcoholic beverages/Mineral waters, soft drinks, fruit and vegetable juices\",\"all/Transport/Purchase of vehicles/Motor cars\",\"all/Recreation and culture/Newspapers, books and stationery/Newspapers and periodicals\",\"all/Furnishings, household equipment and routine household maintenance/Goods and services for routine household maintenance/Non-durable household goods\",\"all/Food and non-alcoholic beverages/Food/Oils and fats\",\"all/Miscellaneous goods and services/Personal care/Other appliances, articles and products for personal care\",\"all/Clothing and footwear/Clothing/Other articles of clothing and clothing accessories\",\"all/Miscellaneous goods and services/Financial services n.e.c./Other financial services n.e.c.\",\"all/Health/Medical products, appliances and equipment/Other medical products\",\"all/Miscellaneous goods and services/Personal effects n.e.c./Other personal effects\",\"all/Transport/Operation of personal transport equipment/Other services in respect of personal transport equipment\",\"all/Miscellaneous goods and services/Other services n.e.c./Other services n.e.c.\",\"all/Housing, water, electricity, gas and other fuels/Water supply and miscellaneous services relating to the dwelling/Other services relating to the dwelling n.e.c.\",\"all/Recreation and culture/Package holidays/Package holidays\",\"all/Health/Out-patient services/Paramedical services\",\"all/Transport/Transport services/Passenger transport by air\",\"all/Transport/Transport services/Passenger transport by railway\",\"all/Transport/Transport services/Passenger transport by road\",\"all/Transport/Transport services/Passenger transport by sea and inland waterway\",\"all/Recreation and culture/Other recreational items and equipment, gardens and pets/Pets and related products\",\"all/Recreation and culture/Audio-visual, photographic and information processing equipment/Photographic and cinematographic equipment and optical instruments\",\"all/Communications/Postal services/Postal services\",\"all/Education/Pre-primary and primary education/Pre-primary and primary education\",\"all/Recreation and culture/Audio-visual, photographic and information processing equipment/Recording media\",\"all/Recreation and culture/Recreational and cultural services/Recreational and sporting services\",\"all/Restaurants and hotels/Catering services/Restaurants, caf\\u00e9s and the like\",\"all/Housing, water, electricity, gas and other fuels/Maintenance and repair of the dwelling/Services for the maintenance and repair of the dwelling\",\"all/Clothing and footwear/Footwear/Shoes and other footwear\",\"all/Furnishings, household equipment and routine household maintenance/Household appliances/Small electric household appliances\",\"all/Furnishings, household equipment and routine household maintenance/Tools and equipment for house and garden/Small tools and miscellaneous accessories\",\"all/Miscellaneous goods and services/Social protection/Social protection\",\"all/Housing, water, electricity, gas and other fuels/Electricity, gas and other fuels/Solid fuels\",\"all/Transport/Operation of personal transport equipment/Spares parts and accessories for personal transport equipment\",\"all/Alcoholic beverages, tobacco and narcotics/Alcoholic beverages/Spirits\",\"all/Recreation and culture/Newspapers, books and stationery/Stationery and drawing materials\",\"all/Food and non-alcoholic beverages/Food/Sugar, jam, honey, chocolate and confectionery\",\"all/Communications/Telephone and telefax equipment/Telephone and telefax equipment\",\"all/Communications/Telephone and telefax services/Telephone and telefax services\",\"all/Health/Medical products, appliances and equipment/Therapeutic appliances and equipment\",\"all/Alcoholic beverages, tobacco and narcotics/Tobacco/Tobacco\",\"all/Food and non-alcoholic beverages/Food/Vegetables\",\"all/Alcoholic beverages, tobacco and narcotics/Alcoholic beverages/Wine\",\"all/Restaurants and hotels/Accommodation services\",\"all/Alcoholic beverages, tobacco and narcotics/Alcoholic beverages\",\"all/Recreation and culture/Audio-visual, photographic and information processing equipment\",\"all/Restaurants and hotels/Catering services\",\"all/Clothing and footwear/Clothing\",\"all/Housing, water, electricity, gas and other fuels/Electricity, gas and other fuels\",\"all/Miscellaneous goods and services/Financial services n.e.c.\",\"all/Food and non-alcoholic beverages/Food\",\"all/Clothing and footwear/Footwear\",\"all/Furnishings, household equipment and routine household maintenance/Furniture and furnishings, carpets and other floor coverings\",\"all/Furnishings, household equipment and routine household maintenance/Glassware, tableware and household utensils\",\"all/Furnishings, household equipment and routine household maintenance/Goods and services for routine household maintenance\",\"all/Furnishings, household equipment and routine household maintenance/Household appliances\",\"all/Furnishings, household equipment and routine household maintenance/Household textiles\",\"all/Miscellaneous goods and services/Insurance\",\"all/Housing, water, electricity, gas and other fuels/Maintenance and repair of the dwelling\",\"all/Health/Medical products, appliances and equipment\",\"all/Recreation and culture/Newspapers, books and stationery\",\"all/Food and non-alcoholic beverages/Non-alcoholic beverages\",\"all/Transport/Operation of personal transport equipment\",\"all/Recreation and culture/Other recreational items and equipment, gardens and pets\",\"all/Miscellaneous goods and services/Other services n.e.c.\",\"all/Health/Out-patient services\",\"all/Recreation and culture/Package holidays\",\"all/Miscellaneous goods and services/Personal care\",\"all/Miscellaneous goods and services/Personal effects n.e.c.\",\"all/Communications/Postal services\",\"all/Education/Pre-primary and primary education\",\"all/Transport/Purchase of vehicles\",\"all/Recreation and culture/Recreational and cultural services\",\"all/Miscellaneous goods and services/Social protection\",\"all/Communications/Telephone and telefax equipment\",\"all/Communications/Telephone and telefax services\",\"all/Alcoholic beverages, tobacco and narcotics/Tobacco\",\"all/Furnishings, household equipment and routine household maintenance/Tools and equipment for house and garden\",\"all/Transport/Transport services\",\"all/Housing, water, electricity, gas and other fuels/Water supply and miscellaneous services relating to the dwelling\",\"all/Alcoholic beverages, tobacco and narcotics\",\"all/Clothing and footwear\",\"all/Communications\",\"all/Education\",\"all/Food and non-alcoholic beverages\",\"all/Furnishings, household equipment and routine household maintenance\",\"all/Health\",\"all/Housing, water, electricity, gas and other fuels\",\"all/Miscellaneous goods and services\",\"all/Recreation and culture\",\"all/Restaurants and hotels\",\"all/Transport\",\"all\"],\"labels\":[\"Accessories for information processing equipment\",\"Accessories for personal transport equipment\",\"Accommodation services of other establishments\",\"Administrative fees\",\"Alcoholic soft drinks\",\"Articles for babies\",\"Articles for personal hygiene and wellness, esoteric products and beauty products\",\"Baby food\",\"Bed linen\",\"Beef and veal\",\"Bread\",\"Breakfast cereals\",\"Bundled telecommunication services\",\"Butter\",\"Cameras\",\"Carpet and rugs\",\"Charges by banks and post offices\",\"Cheese and curd\",\"Chocolate\",\"Cigarettes\",\"Cinemas, theatres, concerts\",\"Cleaning and maintenance products\",\"Cleaning equipment\",\"Cleaning of clothing\",\"Cleaning services\",\"Clocks and watches\",\"Clothes washing machines, clothes drying machines and dish washing machines\",\"Clothing accessories\",\"Coal\",\"Cocoa and powdered chocolate\",\"Coffee\",\"Coffee machines, tea-makers and similar appliances\",\"Confectionery products\",\"Cookers\",\"Corrective eye-glasses and contact lenses\",\"Crisps\",\"Cutlery, flatware and silverware\",\"Diesel\",\"Dried fruit and nuts\",\"Dried vegetables, other preserved or processed vegetables\",\"Dried, salted or smoked meat\",\"Dried, smoked or salted fish and seafood\",\"Driving lessons, tests, licences and road worthiness tests\",\"Edible ices and ice cream\",\"Edible offal\",\"Eggs\",\"Electric appliances for personal care\",\"Equipment for sport\",\"Equipment for the reception, recording and reproduction of sound\",\"Equipment for the reception, recording and reproduction of sound and vision\",\"Fast food and take away food services\",\"Fiction books\",\"Flours and other cereals\",\"Food processing appliances\",\"Footwear for infants and children\",\"Footwear for men\",\"Footwear for women\",\"Fortified wines\",\"Fresh or chilled fish\",\"Fresh or chilled fruit\",\"Fresh or chilled vegetables other than potatoes and other tubers\",\"Frozen fish\",\"Frozen fruit\",\"Frozen vegetables other than potatoes and other tubers\",\"Fruit and vegetables juices\",\"Funeral services\",\"Furnishings fabrics and curtains\",\"Games and hobbies\",\"Garden products\",\"Garments for infants (0 to 2 years) and children (3 to 13 years)\",\"Garments for men\",\"Garments for women\",\"Glassware, crystal-ware, ceramic ware and chinaware\",\"Hairdressing for men and children\",\"Hairdressing for women\",\"Heaters, air conditioners\",\"Hire of garages, parking spaces and personal transport equipment\",\"Hotels, motels, inns and similar accommodation services\",\"Household furniture\",\"International flights\",\"Irons\",\"Jams, marmalades and honey\",\"Jewellery\",\"Lager beer\",\"Legal services and accountancy\",\"Letter handling services\",\"Lighting equipment\",\"Liquefied hydrocarbons (butane, propane, etc.)\",\"Low and non-alcoholic beer\",\"Low fat milk\",\"Lubricants\",\"Magazines and periodicals\",\"Maintenance charges in multi-occupied buildings\",\"Margarine and other vegetable fats\",\"Mineral or spring waters\",\"Miscellaneous small tool accessories\",\"Mobile telephone equipment\",\"Motor vehicle insurance\",\"Motorized major tools and equipment\",\"Museums, libraries, zoological gardens\",\"Natural gas and town gas\",\"New motor cars\",\"Newspapers\",\"Non-electric kitchen utensils and articles\",\"Non-electrical appliances\",\"Non-motorised small tools\",\"Olive oil\",\"Other articles of clothing\",\"Other bakery products\",\"Other cereal products\",\"Other edible oils\",\"Other fees and services\",\"Other floor coverings\",\"Other food products n.e.c.\",\"Other meat preparations\",\"Other medical products n.e.c.\",\"Other milk products\",\"Other non-durable small household articles\",\"Other non-fiction books\",\"Other paramedical services\",\"Other personal effects n.e.c.\",\"Other postal services\",\"Other preserved or processed fish and seafood and fish and seafood preparations\",\"Other services for maintenance and repair of the dwelling\",\"Other services related to dwelling\",\"Other solid fuels\",\"Other stationery and drawing materials\",\"Other therapeutic appliances and equipment\",\"Other tubers and products of tuber vegetables\",\"Package international holidays\",\"Paper products\",\"Passenger transport by bus and coach\",\"Passenger transport by sea\",\"Passenger transport by taxi and hired car with driver\",\"Passenger transport by train\",\"Pasta products and couscous\",\"Personal computers\",\"Personal grooming treatments\",\"Petrol\",\"Photographic services\",\"Pizza and quiche\",\"Plants and flowers\",\"Pork\",\"Potatoes\",\"Poultry\",\"Pre-primary education \",\"Pre-recorded recording media\",\"Pregnancy tests and mechanical contraceptive devices\",\"Preserved fruit and fruit-based products\",\"Preserved milk\",\"Products for pets\",\"Ready-made meals\",\"Recreational and sporting services - Attendance\",\"Recreational and sporting services - Participation\",\"Refrigerators, freezers and fridge-freezers\",\"Repair and hire of clothing\",\"Repair of jewellery, clocks and watches\",\"Repair, leasing and rental of major tools and equipment\",\"Restaurants, caf\\u00e9s and dancing establishments\",\"Retirement homes for elderly persons and residences for disabled persons\",\"Rice\",\"Salt, spices and culinary herbs\",\"Sauces, condiments\",\"Second-hand motor cars\",\"Security services\",\"Soft drinks\",\"Software\",\"Spare parts for personal transport equipment\",\"Specialist practice\",\"Spirits and liqueurs\",\"Sugar\",\"Table linen and bathroom linen\",\"Tea\",\"Television and radio licence fees, subscriptions\",\"Toys and celebration articles\",\"Travel goods\",\"Travel insurance\",\"Tyres\",\"Unrecorded recording media\",\"Whole milk\",\"Wine from grapes\",\"Wine from other fruits\",\"Wired telephone services\",\"Wireless telephone services\",\"Yoghurt\",\"Accommodation services\",\"Beer\",\"Books\",\"Bread and cereals\",\"Carpets and other floor coverings\",\"Cleaning, repair and hire of clothing\",\"Coffee, tea and cocoa\",\"Cultural services\",\"Domestic services and household services\",\"Electrical appliances for personal care\",\"Equipment for sport, camping and open-air recreation\",\"Equipment for the reception, recording and reproduction of sound and picture\",\"Fish and seafood\",\"Food products n.e.c.\",\"Fruit\",\"Fuels and lubricants for personal transport equipment\",\"Furniture and furnishings\",\"Games, toys and hobbies\",\"Gardens, plants and flowers\",\"Garments\",\"Gas\",\"Glassware, tableware and household utensils\",\"Hairdressing salons and personal grooming establishments\",\"Household textiles\",\"Information processing equipment\",\"Insurance connected with transport\",\"Jewellery, clocks and watches\",\"Major household appliances whether electric or not\",\"Major tools and equipment\",\"Meat\",\"Medical services\",\"Milk, cheese and eggs\",\"Mineral waters, soft drinks, fruit and vegetable juices\",\"Motor cars\",\"Newspapers and periodicals\",\"Non-durable household goods\",\"Oils and fats\",\"Other appliances, articles and products for personal care\",\"Other articles of clothing and clothing accessories\",\"Other financial services n.e.c.\",\"Other medical products\",\"Other personal effects\",\"Other services in respect of personal transport equipment\",\"Other services n.e.c.\",\"Other services relating to the dwelling n.e.c.\",\"Package holidays\",\"Paramedical services\",\"Passenger transport by air\",\"Passenger transport by railway\",\"Passenger transport by road\",\"Passenger transport by sea and inland waterway\",\"Pets and related products\",\"Photographic and cinematographic equipment and optical instruments\",\"Postal services\",\"Pre-primary and primary education\",\"Recording media\",\"Recreational and sporting services\",\"Restaurants, caf\\u00e9s and the like\",\"Services for the maintenance and repair of the dwelling\",\"Shoes and other footwear\",\"Small electric household appliances\",\"Small tools and miscellaneous accessories\",\"Social protection\",\"Solid fuels\",\"Spares parts and accessories for personal transport equipment\",\"Spirits\",\"Stationery and drawing materials\",\"Sugar, jam, honey, chocolate and confectionery\",\"Telephone and telefax equipment\",\"Telephone and telefax services\",\"Therapeutic appliances and equipment\",\"Tobacco\",\"Vegetables\",\"Wine\",\"Accommodation services\",\"Alcoholic beverages\",\"Audio-visual, photographic and information processing equipment\",\"Catering services\",\"Clothing\",\"Electricity, gas and other fuels\",\"Financial services n.e.c.\",\"Food\",\"Footwear\",\"Furniture and furnishings, carpets and other floor coverings\",\"Glassware, tableware and household utensils\",\"Goods and services for routine household maintenance\",\"Household appliances\",\"Household textiles\",\"Insurance\",\"Maintenance and repair of the dwelling\",\"Medical products, appliances and equipment\",\"Newspapers, books and stationery\",\"Non-alcoholic beverages\",\"Operation of personal transport equipment\",\"Other recreational items and equipment, gardens and pets\",\"Other services n.e.c.\",\"Out-patient services\",\"Package holidays\",\"Personal care\",\"Personal effects n.e.c.\",\"Postal services\",\"Pre-primary and primary education\",\"Purchase of vehicles\",\"Recreational and cultural services\",\"Social protection\",\"Telephone and telefax equipment\",\"Telephone and telefax services\",\"Tobacco\",\"Tools and equipment for house and garden\",\"Transport services\",\"Water supply and miscellaneous services relating to the dwelling\",\"Alcoholic beverages, tobacco and narcotics\",\"Clothing and footwear\",\"Communications\",\"Education\",\"Food and non-alcoholic beverages\",\"Furnishings, household equipment and routine household maintenance\",\"Health\",\"Housing, water, electricity, gas and other fuels\",\"Miscellaneous goods and services\",\"Recreation and culture\",\"Restaurants and hotels\",\"Transport\",\"all\"],\"name\":\"\",\"parents\":[\"all/Recreation and culture/Audio-visual, photographic and information processing equipment/Information processing equipment\",\"all/Transport/Operation of personal transport equipment/Spares parts and accessories for personal transport equipment\",\"all/Restaurants and hotels/Accommodation services/Accommodation services\",\"all/Miscellaneous goods and services/Other services n.e.c./Other services n.e.c.\",\"all/Alcoholic beverages, tobacco and narcotics/Alcoholic beverages/Spirits\",\"all/Miscellaneous goods and services/Personal effects n.e.c./Other personal effects\",\"all/Miscellaneous goods and services/Personal care/Other appliances, articles and products for personal care\",\"all/Food and non-alcoholic beverages/Food/Food products n.e.c.\",\"all/Furnishings, household equipment and routine household maintenance/Household textiles/Household textiles\",\"all/Food and non-alcoholic beverages/Food/Meat\",\"all/Food and non-alcoholic beverages/Food/Bread and cereals\",\"all/Food and non-alcoholic beverages/Food/Bread and cereals\",\"all/Communications/Telephone and telefax services/Telephone and telefax services\",\"all/Food and non-alcoholic beverages/Food/Oils and fats\",\"all/Recreation and culture/Audio-visual, photographic and information processing equipment/Photographic and cinematographic equipment and optical instruments\",\"all/Furnishings, household equipment and routine household maintenance/Furniture and furnishings, carpets and other floor coverings/Carpets and other floor coverings\",\"all/Miscellaneous goods and services/Financial services n.e.c./Other financial services n.e.c.\",\"all/Food and non-alcoholic beverages/Food/Milk, cheese and eggs\",\"all/Food and non-alcoholic beverages/Food/Sugar, jam, honey, chocolate and confectionery\",\"all/Alcoholic beverages, tobacco and narcotics/Tobacco/Tobacco\",\"all/Recreation and culture/Recreational and cultural services/Cultural services\",\"all/Furnishings, household equipment and routine household maintenance/Goods and services for routine household maintenance/Non-durable household goods\",\"all/Furnishings, household equipment and routine household maintenance/Household appliances/Major household appliances whether electric or not\",\"all/Clothing and footwear/Clothing/Cleaning, repair and hire of clothing\",\"all/Furnishings, household equipment and routine household maintenance/Goods and services for routine household maintenance/Domestic services and household services\",\"all/Miscellaneous goods and services/Personal effects n.e.c./Jewellery, clocks and watches\",\"all/Furnishings, household equipment and routine household maintenance/Household appliances/Major household appliances whether electric or not\",\"all/Clothing and footwear/Clothing/Other articles of clothing and clothing accessories\",\"all/Housing, water, electricity, gas and other fuels/Electricity, gas and other fuels/Solid fuels\",\"all/Food and non-alcoholic beverages/Non-alcoholic beverages/Coffee, tea and cocoa\",\"all/Food and non-alcoholic beverages/Non-alcoholic beverages/Coffee, tea and cocoa\",\"all/Furnishings, household equipment and routine household maintenance/Household appliances/Small electric household appliances\",\"all/Food and non-alcoholic beverages/Food/Sugar, jam, honey, chocolate and confectionery\",\"all/Furnishings, household equipment and routine household maintenance/Household appliances/Major household appliances whether electric or not\",\"all/Health/Medical products, appliances and equipment/Therapeutic appliances and equipment\",\"all/Food and non-alcoholic beverages/Food/Vegetables\",\"all/Furnishings, household equipment and routine household maintenance/Glassware, tableware and household utensils/Glassware, tableware and household utensils\",\"all/Transport/Operation of personal transport equipment/Fuels and lubricants for personal transport equipment\",\"all/Food and non-alcoholic beverages/Food/Fruit\",\"all/Food and non-alcoholic beverages/Food/Vegetables\",\"all/Food and non-alcoholic beverages/Food/Meat\",\"all/Food and non-alcoholic beverages/Food/Fish and seafood\",\"all/Transport/Operation of personal transport equipment/Other services in respect of personal transport equipment\",\"all/Food and non-alcoholic beverages/Food/Sugar, jam, honey, chocolate and confectionery\",\"all/Food and non-alcoholic beverages/Food/Meat\",\"all/Food and non-alcoholic beverages/Food/Milk, cheese and eggs\",\"all/Miscellaneous goods and services/Personal care/Electrical appliances for personal care\",\"all/Recreation and culture/Other recreational items and equipment, gardens and pets/Equipment for sport, camping and open-air recreation\",\"all/Recreation and culture/Audio-visual, photographic and information processing equipment/Equipment for the reception, recording and reproduction of sound and picture\",\"all/Recreation and culture/Audio-visual, photographic and information processing equipment/Equipment for the reception, recording and reproduction of sound and picture\",\"all/Restaurants and hotels/Catering services/Restaurants, caf\\u00e9s and the like\",\"all/Recreation and culture/Newspapers, books and stationery/Books\",\"all/Food and non-alcoholic beverages/Food/Bread and cereals\",\"all/Furnishings, household equipment and routine household maintenance/Household appliances/Small electric household appliances\",\"all/Clothing and footwear/Footwear/Shoes and other footwear\",\"all/Clothing and footwear/Footwear/Shoes and other footwear\",\"all/Clothing and footwear/Footwear/Shoes and other footwear\",\"all/Alcoholic beverages, tobacco and narcotics/Alcoholic beverages/Wine\",\"all/Food and non-alcoholic beverages/Food/Fish and seafood\",\"all/Food and non-alcoholic beverages/Food/Fruit\",\"all/Food and non-alcoholic beverages/Food/Vegetables\",\"all/Food and non-alcoholic beverages/Food/Fish and seafood\",\"all/Food and non-alcoholic beverages/Food/Fruit\",\"all/Food and non-alcoholic beverages/Food/Vegetables\",\"all/Food and non-alcoholic beverages/Non-alcoholic beverages/Mineral waters, soft drinks, fruit and vegetable juices\",\"all/Miscellaneous goods and services/Other services n.e.c./Other services n.e.c.\",\"all/Furnishings, household equipment and routine household maintenance/Household textiles/Household textiles\",\"all/Recreation and culture/Other recreational items and equipment, gardens and pets/Games, toys and hobbies\",\"all/Recreation and culture/Other recreational items and equipment, gardens and pets/Gardens, plants and flowers\",\"all/Clothing and footwear/Clothing/Garments\",\"all/Clothing and footwear/Clothing/Garments\",\"all/Clothing and footwear/Clothing/Garments\",\"all/Furnishings, household equipment and routine household maintenance/Glassware, tableware and household utensils/Glassware, tableware and household utensils\",\"all/Miscellaneous goods and services/Personal care/Hairdressing salons and personal grooming establishments\",\"all/Miscellaneous goods and services/Personal care/Hairdressing salons and personal grooming establishments\",\"all/Furnishings, household equipment and routine household maintenance/Household appliances/Major household appliances whether electric or not\",\"all/Transport/Operation of personal transport equipment/Other services in respect of personal transport equipment\",\"all/Restaurants and hotels/Accommodation services/Accommodation services\",\"all/Furnishings, household equipment and routine household maintenance/Furniture and furnishings, carpets and other floor coverings/Furniture and furnishings\",\"all/Transport/Transport services/Passenger transport by air\",\"all/Furnishings, household equipment and routine household maintenance/Household appliances/Small electric household appliances\",\"all/Food and non-alcoholic beverages/Food/Sugar, jam, honey, chocolate and confectionery\",\"all/Miscellaneous goods and services/Personal effects n.e.c./Jewellery, clocks and watches\",\"all/Alcoholic beverages, tobacco and narcotics/Alcoholic beverages/Beer\",\"all/Miscellaneous goods and services/Other services n.e.c./Other services n.e.c.\",\"all/Communications/Postal services/Postal services\",\"all/Furnishings, household equipment and routine household maintenance/Furniture and furnishings, carpets and other floor coverings/Furniture and furnishings\",\"all/Housing, water, electricity, gas and other fuels/Electricity, gas and other fuels/Gas\",\"all/Alcoholic beverages, tobacco and narcotics/Alcoholic beverages/Beer\",\"all/Food and non-alcoholic beverages/Food/Milk, cheese and eggs\",\"all/Transport/Operation of personal transport equipment/Fuels and lubricants for personal transport equipment\",\"all/Recreation and culture/Newspapers, books and stationery/Newspapers and periodicals\",\"all/Housing, water, electricity, gas and other fuels/Water supply and miscellaneous services relating to the dwelling/Other services relating to the dwelling n.e.c.\",\"all/Food and non-alcoholic beverages/Food/Oils and fats\",\"all/Food and non-alcoholic beverages/Non-alcoholic beverages/Mineral waters, soft drinks, fruit and vegetable juices\",\"all/Furnishings, household equipment and routine household maintenance/Tools and equipment for house and garden/Small tools and miscellaneous accessories\",\"all/Communications/Telephone and telefax equipment/Telephone and telefax equipment\",\"all/Miscellaneous goods and services/Insurance/Insurance connected with transport\",\"all/Furnishings, household equipment and routine household maintenance/Tools and equipment for house and garden/Major tools and equipment\",\"all/Recreation and culture/Recreational and cultural services/Cultural services\",\"all/Housing, water, electricity, gas and other fuels/Electricity, gas and other fuels/Gas\",\"all/Transport/Purchase of vehicles/Motor cars\",\"all/Recreation and culture/Newspapers, books and stationery/Newspapers and periodicals\",\"all/Furnishings, household equipment and routine household maintenance/Glassware, tableware and household utensils/Glassware, tableware and household utensils\",\"all/Miscellaneous goods and services/Personal care/Other appliances, articles and products for personal care\",\"all/Furnishings, household equipment and routine household maintenance/Tools and equipment for house and garden/Small tools and miscellaneous accessories\",\"all/Food and non-alcoholic beverages/Food/Oils and fats\",\"all/Clothing and footwear/Clothing/Other articles of clothing and clothing accessories\",\"all/Food and non-alcoholic beverages/Food/Bread and cereals\",\"all/Food and non-alcoholic beverages/Food/Bread and cereals\",\"all/Food and non-alcoholic beverages/Food/Oils and fats\",\"all/Miscellaneous goods and services/Other services n.e.c./Other services n.e.c.\",\"all/Furnishings, household equipment and routine household maintenance/Furniture and furnishings, carpets and other floor coverings/Carpets and other floor coverings\",\"all/Food and non-alcoholic beverages/Food/Food products n.e.c.\",\"all/Food and non-alcoholic beverages/Food/Meat\",\"all/Health/Medical products, appliances and equipment/Other medical products\",\"all/Food and non-alcoholic beverages/Food/Milk, cheese and eggs\",\"all/Furnishings, household equipment and routine household maintenance/Goods and services for routine household maintenance/Non-durable household goods\",\"all/Recreation and culture/Newspapers, books and stationery/Books\",\"all/Health/Out-patient services/Paramedical services\",\"all/Miscellaneous goods and services/Personal effects n.e.c./Other personal effects\",\"all/Communications/Postal services/Postal services\",\"all/Food and non-alcoholic beverages/Food/Fish and seafood\",\"all/Housing, water, electricity, gas and other fuels/Maintenance and repair of the dwelling/Services for the maintenance and repair of the dwelling\",\"all/Housing, water, electricity, gas and other fuels/Water supply and miscellaneous services relating to the dwelling/Other services relating to the dwelling n.e.c.\",\"all/Housing, water, electricity, gas and other fuels/Electricity, gas and other fuels/Solid fuels\",\"all/Recreation and culture/Newspapers, books and stationery/Stationery and drawing materials\",\"all/Health/Medical products, appliances and equipment/Therapeutic appliances and equipment\",\"all/Food and non-alcoholic beverages/Food/Vegetables\",\"all/Recreation and culture/Package holidays/Package holidays\",\"all/Recreation and culture/Newspapers, books and stationery/Stationery and drawing materials\",\"all/Transport/Transport services/Passenger transport by road\",\"all/Transport/Transport services/Passenger transport by sea and inland waterway\",\"all/Transport/Transport services/Passenger transport by road\",\"all/Transport/Transport services/Passenger transport by railway\",\"all/Food and non-alcoholic beverages/Food/Bread and cereals\",\"all/Recreation and culture/Audio-visual, photographic and information processing equipment/Information processing equipment\",\"all/Miscellaneous goods and services/Personal care/Hairdressing salons and personal grooming establishments\",\"all/Transport/Operation of personal transport equipment/Fuels and lubricants for personal transport equipment\",\"all/Recreation and culture/Recreational and cultural services/Cultural services\",\"all/Food and non-alcoholic beverages/Food/Bread and cereals\",\"all/Recreation and culture/Other recreational items and equipment, gardens and pets/Gardens, plants and flowers\",\"all/Food and non-alcoholic beverages/Food/Meat\",\"all/Food and non-alcoholic beverages/Food/Vegetables\",\"all/Food and non-alcoholic beverages/Food/Meat\",\"all/Education/Pre-primary and primary education/Pre-primary and primary education\",\"all/Recreation and culture/Audio-visual, photographic and information processing equipment/Recording media\",\"all/Health/Medical products, appliances and equipment/Other medical products\",\"all/Food and non-alcoholic beverages/Food/Fruit\",\"all/Food and non-alcoholic beverages/Food/Milk, cheese and eggs\",\"all/Recreation and culture/Other recreational items and equipment, gardens and pets/Pets and related products\",\"all/Food and non-alcoholic beverages/Food/Food products n.e.c.\",\"all/Recreation and culture/Recreational and cultural services/Recreational and sporting services\",\"all/Recreation and culture/Recreational and cultural services/Recreational and sporting services\",\"all/Furnishings, household equipment and routine household maintenance/Household appliances/Major household appliances whether electric or not\",\"all/Clothing and footwear/Clothing/Cleaning, repair and hire of clothing\",\"all/Miscellaneous goods and services/Personal effects n.e.c./Jewellery, clocks and watches\",\"all/Furnishings, household equipment and routine household maintenance/Tools and equipment for house and garden/Major tools and equipment\",\"all/Restaurants and hotels/Catering services/Restaurants, caf\\u00e9s and the like\",\"all/Miscellaneous goods and services/Social protection/Social protection\",\"all/Food and non-alcoholic beverages/Food/Bread and cereals\",\"all/Food and non-alcoholic beverages/Food/Food products n.e.c.\",\"all/Food and non-alcoholic beverages/Food/Food products n.e.c.\",\"all/Transport/Purchase of vehicles/Motor cars\",\"all/Housing, water, electricity, gas and other fuels/Water supply and miscellaneous services relating to the dwelling/Other services relating to the dwelling n.e.c.\",\"all/Food and non-alcoholic beverages/Non-alcoholic beverages/Mineral waters, soft drinks, fruit and vegetable juices\",\"all/Recreation and culture/Audio-visual, photographic and information processing equipment/Information processing equipment\",\"all/Transport/Operation of personal transport equipment/Spares parts and accessories for personal transport equipment\",\"all/Health/Out-patient services/Medical services\",\"all/Alcoholic beverages, tobacco and narcotics/Alcoholic beverages/Spirits\",\"all/Food and non-alcoholic beverages/Food/Sugar, jam, honey, chocolate and confectionery\",\"all/Furnishings, household equipment and routine household maintenance/Household textiles/Household textiles\",\"all/Food and non-alcoholic beverages/Non-alcoholic beverages/Coffee, tea and cocoa\",\"all/Recreation and culture/Recreational and cultural services/Cultural services\",\"all/Recreation and culture/Other recreational items and equipment, gardens and pets/Games, toys and hobbies\",\"all/Miscellaneous goods and services/Personal effects n.e.c./Other personal effects\",\"all/Miscellaneous goods and services/Insurance/Insurance connected with transport\",\"all/Transport/Operation of personal transport equipment/Spares parts and accessories for personal transport equipment\",\"all/Recreation and culture/Audio-visual, photographic and information processing equipment/Recording media\",\"all/Food and non-alcoholic beverages/Food/Milk, cheese and eggs\",\"all/Alcoholic beverages, tobacco and narcotics/Alcoholic beverages/Wine\",\"all/Alcoholic beverages, tobacco and narcotics/Alcoholic beverages/Wine\",\"all/Communications/Telephone and telefax services/Telephone and telefax services\",\"all/Communications/Telephone and telefax services/Telephone and telefax services\",\"all/Food and non-alcoholic beverages/Food/Milk, cheese and eggs\",\"all/Restaurants and hotels/Accommodation services\",\"all/Alcoholic beverages, tobacco and narcotics/Alcoholic beverages\",\"all/Recreation and culture/Newspapers, books and stationery\",\"all/Food and non-alcoholic beverages/Food\",\"all/Furnishings, household equipment and routine household maintenance/Furniture and furnishings, carpets and other floor coverings\",\"all/Clothing and footwear/Clothing\",\"all/Food and non-alcoholic beverages/Non-alcoholic beverages\",\"all/Recreation and culture/Recreational and cultural services\",\"all/Furnishings, household equipment and routine household maintenance/Goods and services for routine household maintenance\",\"all/Miscellaneous goods and services/Personal care\",\"all/Recreation and culture/Other recreational items and equipment, gardens and pets\",\"all/Recreation and culture/Audio-visual, photographic and information processing equipment\",\"all/Food and non-alcoholic beverages/Food\",\"all/Food and non-alcoholic beverages/Food\",\"all/Food and non-alcoholic beverages/Food\",\"all/Transport/Operation of personal transport equipment\",\"all/Furnishings, household equipment and routine household maintenance/Furniture and furnishings, carpets and other floor coverings\",\"all/Recreation and culture/Other recreational items and equipment, gardens and pets\",\"all/Recreation and culture/Other recreational items and equipment, gardens and pets\",\"all/Clothing and footwear/Clothing\",\"all/Housing, water, electricity, gas and other fuels/Electricity, gas and other fuels\",\"all/Furnishings, household equipment and routine household maintenance/Glassware, tableware and household utensils\",\"all/Miscellaneous goods and services/Personal care\",\"all/Furnishings, household equipment and routine household maintenance/Household textiles\",\"all/Recreation and culture/Audio-visual, photographic and information processing equipment\",\"all/Miscellaneous goods and services/Insurance\",\"all/Miscellaneous goods and services/Personal effects n.e.c.\",\"all/Furnishings, household equipment and routine household maintenance/Household appliances\",\"all/Furnishings, household equipment and routine household maintenance/Tools and equipment for house and garden\",\"all/Food and non-alcoholic beverages/Food\",\"all/Health/Out-patient services\",\"all/Food and non-alcoholic beverages/Food\",\"all/Food and non-alcoholic beverages/Non-alcoholic beverages\",\"all/Transport/Purchase of vehicles\",\"all/Recreation and culture/Newspapers, books and stationery\",\"all/Furnishings, household equipment and routine household maintenance/Goods and services for routine household maintenance\",\"all/Food and non-alcoholic beverages/Food\",\"all/Miscellaneous goods and services/Personal care\",\"all/Clothing and footwear/Clothing\",\"all/Miscellaneous goods and services/Financial services n.e.c.\",\"all/Health/Medical products, appliances and equipment\",\"all/Miscellaneous goods and services/Personal effects n.e.c.\",\"all/Transport/Operation of personal transport equipment\",\"all/Miscellaneous goods and services/Other services n.e.c.\",\"all/Housing, water, electricity, gas and other fuels/Water supply and miscellaneous services relating to the dwelling\",\"all/Recreation and culture/Package holidays\",\"all/Health/Out-patient services\",\"all/Transport/Transport services\",\"all/Transport/Transport services\",\"all/Transport/Transport services\",\"all/Transport/Transport services\",\"all/Recreation and culture/Other recreational items and equipment, gardens and pets\",\"all/Recreation and culture/Audio-visual, photographic and information processing equipment\",\"all/Communications/Postal services\",\"all/Education/Pre-primary and primary education\",\"all/Recreation and culture/Audio-visual, photographic and information processing equipment\",\"all/Recreation and culture/Recreational and cultural services\",\"all/Restaurants and hotels/Catering services\",\"all/Housing, water, electricity, gas and other fuels/Maintenance and repair of the dwelling\",\"all/Clothing and footwear/Footwear\",\"all/Furnishings, household equipment and routine household maintenance/Household appliances\",\"all/Furnishings, household equipment and routine household maintenance/Tools and equipment for house and garden\",\"all/Miscellaneous goods and services/Social protection\",\"all/Housing, water, electricity, gas and other fuels/Electricity, gas and other fuels\",\"all/Transport/Operation of personal transport equipment\",\"all/Alcoholic beverages, tobacco and narcotics/Alcoholic beverages\",\"all/Recreation and culture/Newspapers, books and stationery\",\"all/Food and non-alcoholic beverages/Food\",\"all/Communications/Telephone and telefax equipment\",\"all/Communications/Telephone and telefax services\",\"all/Health/Medical products, appliances and equipment\",\"all/Alcoholic beverages, tobacco and narcotics/Tobacco\",\"all/Food and non-alcoholic beverages/Food\",\"all/Alcoholic beverages, tobacco and narcotics/Alcoholic beverages\",\"all/Restaurants and hotels\",\"all/Alcoholic beverages, tobacco and narcotics\",\"all/Recreation and culture\",\"all/Restaurants and hotels\",\"all/Clothing and footwear\",\"all/Housing, water, electricity, gas and other fuels\",\"all/Miscellaneous goods and services\",\"all/Food and non-alcoholic beverages\",\"all/Clothing and footwear\",\"all/Furnishings, household equipment and routine household maintenance\",\"all/Furnishings, household equipment and routine household maintenance\",\"all/Furnishings, household equipment and routine household maintenance\",\"all/Furnishings, household equipment and routine household maintenance\",\"all/Furnishings, household equipment and routine household maintenance\",\"all/Miscellaneous goods and services\",\"all/Housing, water, electricity, gas and other fuels\",\"all/Health\",\"all/Recreation and culture\",\"all/Food and non-alcoholic beverages\",\"all/Transport\",\"all/Recreation and culture\",\"all/Miscellaneous goods and services\",\"all/Health\",\"all/Recreation and culture\",\"all/Miscellaneous goods and services\",\"all/Miscellaneous goods and services\",\"all/Communications\",\"all/Education\",\"all/Transport\",\"all/Recreation and culture\",\"all/Miscellaneous goods and services\",\"all/Communications\",\"all/Communications\",\"all/Alcoholic beverages, tobacco and narcotics\",\"all/Furnishings, household equipment and routine household maintenance\",\"all/Transport\",\"all/Housing, water, electricity, gas and other fuels\",\"all\",\"all\",\"all\",\"all\",\"all\",\"all\",\"all\",\"all\",\"all\",\"all\",\"all\",\"all\",\"\"],\"values\":[0.0,0.336,0.274,0.0,0.0,0.06999999999999999,3.692,0.854,0.0,3.267,38.272,1.068,0.0,4.726,0.264,0.0,0.0,4.152,2.42,8.05,4.524,3.549,0.0,0.0,0.338,0.279,11.7,0.0,0.0,0.272,5.115000000000001,1.4400000000000002,0.0,0.6120000000000001,0.0,3.582,1.6380000000000001,0.0,0.0,18.828000000000003,0.0,10.092,3.8940000000000006,0.0,1.4029999999999998,34.236000000000004,0.48,0.0,0.0,0.0,9.423,35.370000000000005,17.189999999999998,0.0,16.137,9.958,14.532,0.0,34.295,0.0,75.25999999999999,1.716,3.128,0.8119999999999999,1.236,0.0,0.0,0.122,0.924,0.0,9.234,81.733,0.0,1.572,0.0,3.0300000000000002,0.0,176.952,29.325,42.655,0.76,4.03,0.0,0.0,0.0,0.0,31.396,8.96,0.0,7.878,0.222,12.648,0.0,1.5839999999999999,3.9520000000000004,4.05,0.0,17.248,0.0,0.0,1099.1999999999998,20.408,5.4,0.4,0.0,2.0240000000000005,1.2240000000000002,1.458,2.664,0.13799999999999998,14.774000000000001,0.375,2.47,1.7249999999999999,8.6,1.3719999999999999,35.557,20.242,1.364,5.168,1.136,0.0,14.975999999999999,8.36,2.552,174.59,2.484,0.0,1.1,80.214,6.887,44.772,3.51,6.816,0.0,16.821,0.0,0.0,0.0,0.0,8.528,0.0,22.837,3.096,17.496000000000002,0.0,3.52,0.7040000000000001,3.577,4.0120000000000005,25.759999999999998,35.779,0.664,4.49,5.24,0.096,0.06999999999999999,1.75,29.200000000000003,40.15,2.136,18.055999999999997,0.0,5.169,0.0,2.28,0.0,1.6019999999999999,1.2960000000000003,22.662,5.7,0.36800000000000005,3.63,0.0,4.871999999999999,0.0,2.3120000000000003,2.76,0.0,0.8039999999999999,7.279999999999999,0.396,0.0,0.0,0.844,177.226,0.0,36.734,86.817,2.47,0.096,9.017000000000001,4.524,0.338,0.48,0.0,0.0,61.079,56.414,6.705,0.222,60.721000000000004,4.993999999999999,0.924,90.967,1108.1599999999999,2.0380000000000003,1.572,0.36800000000000005,0.0,19.560000000000002,0.34900000000000003,20.582,1.75,53.603,1.2960000000000003,87.483,7.468,25.577,18.048000000000002,23.791,22.308,3.692,1.458,0.0,2.076,1.206,3.8940000000000006,0.375,2.552,80.214,5.168,42.655,0.0,51.588,3.51,25.759999999999998,0.264,0.0,0.0,3.52,5.154,38.623000000000005,8.36,40.627,2.2,6.074,40.15,174.59,4.6979999999999995,22.662,9.370999999999999,12.15,0.0,0.0,0.0,8.05,102.678,7.675999999999999,177.226,30.337999999999997,3.7840000000000003,38.623000000000005,92.521,1282.7499999999998,0.0,489.237,40.627,63.191,2.0380000000000003,24.129,22.782,0.36800000000000005,19.560000000000002,8.36,2.076,64.153,16.485,8.814,31.677999999999997,0.375,6.464,80.214,5.744,1.555,0.0,0.0,25.577,9.678,40.15,0.0,0.0,8.05,7.824,97.753,2.552,38.388,133.148,0.0,0.0,505.722,120.332,8.540000000000001,1293.6619999999998,67.384,189.507,215.849,132.144,2704.676],\"type\":\"treemap\",\"root\":{\"color\":\"lightgrey\"}}],                        {\"template\":{\"data\":{\"histogram2dcontour\":[{\"type\":\"histogram2dcontour\",\"colorbar\":{\"outlinewidth\":0,\"ticks\":\"\"},\"colorscale\":[[0.0,\"#0d0887\"],[0.1111111111111111,\"#46039f\"],[0.2222222222222222,\"#7201a8\"],[0.3333333333333333,\"#9c179e\"],[0.4444444444444444,\"#bd3786\"],[0.5555555555555556,\"#d8576b\"],[0.6666666666666666,\"#ed7953\"],[0.7777777777777778,\"#fb9f3a\"],[0.8888888888888888,\"#fdca26\"],[1.0,\"#f0f921\"]]}],\"choropleth\":[{\"type\":\"choropleth\",\"colorbar\":{\"outlinewidth\":0,\"ticks\":\"\"}}],\"histogram2d\":[{\"type\":\"histogram2d\",\"colorbar\":{\"outlinewidth\":0,\"ticks\":\"\"},\"colorscale\":[[0.0,\"#0d0887\"],[0.1111111111111111,\"#46039f\"],[0.2222222222222222,\"#7201a8\"],[0.3333333333333333,\"#9c179e\"],[0.4444444444444444,\"#bd3786\"],[0.5555555555555556,\"#d8576b\"],[0.6666666666666666,\"#ed7953\"],[0.7777777777777778,\"#fb9f3a\"],[0.8888888888888888,\"#fdca26\"],[1.0,\"#f0f921\"]]}],\"heatmap\":[{\"type\":\"heatmap\",\"colorbar\":{\"outlinewidth\":0,\"ticks\":\"\"},\"colorscale\":[[0.0,\"#0d0887\"],[0.1111111111111111,\"#46039f\"],[0.2222222222222222,\"#7201a8\"],[0.3333333333333333,\"#9c179e\"],[0.4444444444444444,\"#bd3786\"],[0.5555555555555556,\"#d8576b\"],[0.6666666666666666,\"#ed7953\"],[0.7777777777777778,\"#fb9f3a\"],[0.8888888888888888,\"#fdca26\"],[1.0,\"#f0f921\"]]}],\"heatmapgl\":[{\"type\":\"heatmapgl\",\"colorbar\":{\"outlinewidth\":0,\"ticks\":\"\"},\"colorscale\":[[0.0,\"#0d0887\"],[0.1111111111111111,\"#46039f\"],[0.2222222222222222,\"#7201a8\"],[0.3333333333333333,\"#9c179e\"],[0.4444444444444444,\"#bd3786\"],[0.5555555555555556,\"#d8576b\"],[0.6666666666666666,\"#ed7953\"],[0.7777777777777778,\"#fb9f3a\"],[0.8888888888888888,\"#fdca26\"],[1.0,\"#f0f921\"]]}],\"contourcarpet\":[{\"type\":\"contourcarpet\",\"colorbar\":{\"outlinewidth\":0,\"ticks\":\"\"}}],\"contour\":[{\"type\":\"contour\",\"colorbar\":{\"outlinewidth\":0,\"ticks\":\"\"},\"colorscale\":[[0.0,\"#0d0887\"],[0.1111111111111111,\"#46039f\"],[0.2222222222222222,\"#7201a8\"],[0.3333333333333333,\"#9c179e\"],[0.4444444444444444,\"#bd3786\"],[0.5555555555555556,\"#d8576b\"],[0.6666666666666666,\"#ed7953\"],[0.7777777777777778,\"#fb9f3a\"],[0.8888888888888888,\"#fdca26\"],[1.0,\"#f0f921\"]]}],\"surface\":[{\"type\":\"surface\",\"colorbar\":{\"outlinewidth\":0,\"ticks\":\"\"},\"colorscale\":[[0.0,\"#0d0887\"],[0.1111111111111111,\"#46039f\"],[0.2222222222222222,\"#7201a8\"],[0.3333333333333333,\"#9c179e\"],[0.4444444444444444,\"#bd3786\"],[0.5555555555555556,\"#d8576b\"],[0.6666666666666666,\"#ed7953\"],[0.7777777777777778,\"#fb9f3a\"],[0.8888888888888888,\"#fdca26\"],[1.0,\"#f0f921\"]]}],\"mesh3d\":[{\"type\":\"mesh3d\",\"colorbar\":{\"outlinewidth\":0,\"ticks\":\"\"}}],\"scatter\":[{\"fillpattern\":{\"fillmode\":\"overlay\",\"size\":10,\"solidity\":0.2},\"type\":\"scatter\"}],\"parcoords\":[{\"type\":\"parcoords\",\"line\":{\"colorbar\":{\"outlinewidth\":0,\"ticks\":\"\"}}}],\"scatterpolargl\":[{\"type\":\"scatterpolargl\",\"marker\":{\"colorbar\":{\"outlinewidth\":0,\"ticks\":\"\"}}}],\"bar\":[{\"error_x\":{\"color\":\"#2a3f5f\"},\"error_y\":{\"color\":\"#2a3f5f\"},\"marker\":{\"line\":{\"color\":\"#E5ECF6\",\"width\":0.5},\"pattern\":{\"fillmode\":\"overlay\",\"size\":10,\"solidity\":0.2}},\"type\":\"bar\"}],\"scattergeo\":[{\"type\":\"scattergeo\",\"marker\":{\"colorbar\":{\"outlinewidth\":0,\"ticks\":\"\"}}}],\"scatterpolar\":[{\"type\":\"scatterpolar\",\"marker\":{\"colorbar\":{\"outlinewidth\":0,\"ticks\":\"\"}}}],\"histogram\":[{\"marker\":{\"pattern\":{\"fillmode\":\"overlay\",\"size\":10,\"solidity\":0.2}},\"type\":\"histogram\"}],\"scattergl\":[{\"type\":\"scattergl\",\"marker\":{\"colorbar\":{\"outlinewidth\":0,\"ticks\":\"\"}}}],\"scatter3d\":[{\"type\":\"scatter3d\",\"line\":{\"colorbar\":{\"outlinewidth\":0,\"ticks\":\"\"}},\"marker\":{\"colorbar\":{\"outlinewidth\":0,\"ticks\":\"\"}}}],\"scattermapbox\":[{\"type\":\"scattermapbox\",\"marker\":{\"colorbar\":{\"outlinewidth\":0,\"ticks\":\"\"}}}],\"scatterternary\":[{\"type\":\"scatterternary\",\"marker\":{\"colorbar\":{\"outlinewidth\":0,\"ticks\":\"\"}}}],\"scattercarpet\":[{\"type\":\"scattercarpet\",\"marker\":{\"colorbar\":{\"outlinewidth\":0,\"ticks\":\"\"}}}],\"carpet\":[{\"aaxis\":{\"endlinecolor\":\"#2a3f5f\",\"gridcolor\":\"white\",\"linecolor\":\"white\",\"minorgridcolor\":\"white\",\"startlinecolor\":\"#2a3f5f\"},\"baxis\":{\"endlinecolor\":\"#2a3f5f\",\"gridcolor\":\"white\",\"linecolor\":\"white\",\"minorgridcolor\":\"white\",\"startlinecolor\":\"#2a3f5f\"},\"type\":\"carpet\"}],\"table\":[{\"cells\":{\"fill\":{\"color\":\"#EBF0F8\"},\"line\":{\"color\":\"white\"}},\"header\":{\"fill\":{\"color\":\"#C8D4E3\"},\"line\":{\"color\":\"white\"}},\"type\":\"table\"}],\"barpolar\":[{\"marker\":{\"line\":{\"color\":\"#E5ECF6\",\"width\":0.5},\"pattern\":{\"fillmode\":\"overlay\",\"size\":10,\"solidity\":0.2}},\"type\":\"barpolar\"}],\"pie\":[{\"automargin\":true,\"type\":\"pie\"}]},\"layout\":{\"autotypenumbers\":\"strict\",\"colorway\":[\"#636efa\",\"#EF553B\",\"#00cc96\",\"#ab63fa\",\"#FFA15A\",\"#19d3f3\",\"#FF6692\",\"#B6E880\",\"#FF97FF\",\"#FECB52\"],\"font\":{\"color\":\"#2a3f5f\"},\"hovermode\":\"closest\",\"hoverlabel\":{\"align\":\"left\"},\"paper_bgcolor\":\"white\",\"plot_bgcolor\":\"#E5ECF6\",\"polar\":{\"bgcolor\":\"#E5ECF6\",\"angularaxis\":{\"gridcolor\":\"white\",\"linecolor\":\"white\",\"ticks\":\"\"},\"radialaxis\":{\"gridcolor\":\"white\",\"linecolor\":\"white\",\"ticks\":\"\"}},\"ternary\":{\"bgcolor\":\"#E5ECF6\",\"aaxis\":{\"gridcolor\":\"white\",\"linecolor\":\"white\",\"ticks\":\"\"},\"baxis\":{\"gridcolor\":\"white\",\"linecolor\":\"white\",\"ticks\":\"\"},\"caxis\":{\"gridcolor\":\"white\",\"linecolor\":\"white\",\"ticks\":\"\"}},\"coloraxis\":{\"colorbar\":{\"outlinewidth\":0,\"ticks\":\"\"}},\"colorscale\":{\"sequential\":[[0.0,\"#0d0887\"],[0.1111111111111111,\"#46039f\"],[0.2222222222222222,\"#7201a8\"],[0.3333333333333333,\"#9c179e\"],[0.4444444444444444,\"#bd3786\"],[0.5555555555555556,\"#d8576b\"],[0.6666666666666666,\"#ed7953\"],[0.7777777777777778,\"#fb9f3a\"],[0.8888888888888888,\"#fdca26\"],[1.0,\"#f0f921\"]],\"sequentialminus\":[[0.0,\"#0d0887\"],[0.1111111111111111,\"#46039f\"],[0.2222222222222222,\"#7201a8\"],[0.3333333333333333,\"#9c179e\"],[0.4444444444444444,\"#bd3786\"],[0.5555555555555556,\"#d8576b\"],[0.6666666666666666,\"#ed7953\"],[0.7777777777777778,\"#fb9f3a\"],[0.8888888888888888,\"#fdca26\"],[1.0,\"#f0f921\"]],\"diverging\":[[0,\"#8e0152\"],[0.1,\"#c51b7d\"],[0.2,\"#de77ae\"],[0.3,\"#f1b6da\"],[0.4,\"#fde0ef\"],[0.5,\"#f7f7f7\"],[0.6,\"#e6f5d0\"],[0.7,\"#b8e186\"],[0.8,\"#7fbc41\"],[0.9,\"#4d9221\"],[1,\"#276419\"]]},\"xaxis\":{\"gridcolor\":\"white\",\"linecolor\":\"white\",\"ticks\":\"\",\"title\":{\"standoff\":15},\"zerolinecolor\":\"white\",\"automargin\":true,\"zerolinewidth\":2},\"yaxis\":{\"gridcolor\":\"white\",\"linecolor\":\"white\",\"ticks\":\"\",\"title\":{\"standoff\":15},\"zerolinecolor\":\"white\",\"automargin\":true,\"zerolinewidth\":2},\"scene\":{\"xaxis\":{\"backgroundcolor\":\"#E5ECF6\",\"gridcolor\":\"white\",\"linecolor\":\"white\",\"showbackground\":true,\"ticks\":\"\",\"zerolinecolor\":\"white\",\"gridwidth\":2},\"yaxis\":{\"backgroundcolor\":\"#E5ECF6\",\"gridcolor\":\"white\",\"linecolor\":\"white\",\"showbackground\":true,\"ticks\":\"\",\"zerolinecolor\":\"white\",\"gridwidth\":2},\"zaxis\":{\"backgroundcolor\":\"#E5ECF6\",\"gridcolor\":\"white\",\"linecolor\":\"white\",\"showbackground\":true,\"ticks\":\"\",\"zerolinecolor\":\"white\",\"gridwidth\":2}},\"shapedefaults\":{\"line\":{\"color\":\"#2a3f5f\"}},\"annotationdefaults\":{\"arrowcolor\":\"#2a3f5f\",\"arrowhead\":0,\"arrowwidth\":1},\"geo\":{\"bgcolor\":\"white\",\"landcolor\":\"#E5ECF6\",\"subunitcolor\":\"white\",\"showland\":true,\"showlakes\":true,\"lakecolor\":\"white\"},\"title\":{\"x\":0.05},\"mapbox\":{\"style\":\"light\"}}},\"legend\":{\"tracegroupgap\":0},\"margin\":{\"t\":50,\"l\":25,\"r\":25,\"b\":25},\"height\":800,\"font\":{\"size\":10}},                        {\"responsive\": true}                    ).then(function(){\n",
       "                            \n",
       "var gd = document.getElementById('187da0ff-5a26-48f1-86c9-a5cc24a0abe6');\n",
       "var x = new MutationObserver(function (mutations, observer) {{\n",
       "        var display = window.getComputedStyle(gd).display;\n",
       "        if (!display || display === 'none') {{\n",
       "            console.log([gd, 'removed!']);\n",
       "            Plotly.purge(gd);\n",
       "            observer.disconnect();\n",
       "        }}\n",
       "}});\n",
       "\n",
       "// Listen for the removal of the full notebook cells\n",
       "var notebookContainer = gd.closest('#notebook-container');\n",
       "if (notebookContainer) {{\n",
       "    x.observe(notebookContainer, {childList: true});\n",
       "}}\n",
       "\n",
       "// Listen for the clearing of the current output cell\n",
       "var outputEl = gd.closest('.output');\n",
       "if (outputEl) {{\n",
       "    x.observe(outputEl, {childList: true});\n",
       "}}\n",
       "\n",
       "                        })                };                });            </script>        </div>"
      ]
     },
     "metadata": {},
     "output_type": "display_data"
    }
   ],
   "source": [
    "def plot_month(month, show=True):\n",
    "    percs = merged[month]\n",
    "    vals = merged[month]\n",
    "    vals = np.maximum(np.zeros(vals.shape), vals.to_numpy())\n",
    "    vals = vals * get_coicop_weight(merged[\"coicop\"], month=month)\n",
    "    columns = {\n",
    "        \"val\": vals,\n",
    "        \"perc\": percs\n",
    "    }\n",
    "    \n",
    "    for level in range(1, MAX_LEVEL+1):\n",
    "        columns[f\"L{level}_DESC\"] = merged[f\"L{level}_DESC\"]\n",
    "    df = pd.DataFrame(columns)\n",
    "    \n",
    "    TREEMAP_LEVELS = [f\"L{level}_DESC\" for level in range(1, MAX_LEVEL+1)]\n",
    "    fig = px.treemap(df, path=[px.Constant(\"all\"), *TREEMAP_LEVELS], values=\"val\", height=800)\n",
    "    fig.update_traces(root_color=\"lightgrey\")\n",
    "    fig.update_layout(margin = dict(t=50, l=25, r=25, b=25), font=dict(size=10))\n",
    "    \n",
    "    plotly.io.write_html(fig, f\"figures/{month}.html\")\n",
    "    \n",
    "    if show:\n",
    "        fig.show()\n",
    "\n",
    "    \n",
    "plot_month(\"2022-04\")"
   ]
  },
  {
   "cell_type": "code",
   "execution_count": 311,
   "id": "d8071691",
   "metadata": {},
   "outputs": [
    {
     "name": "stdout",
     "output_type": "stream",
     "text": [
      "2021-08\n",
      "2021-09\n",
      "2021-10\n",
      "2021-11\n",
      "2021-12\n",
      "2022-01\n",
      "2022-02\n",
      "2022-03\n",
      "2022-04\n"
     ]
    }
   ],
   "source": [
    "for month in merged.columns[1:10]:\n",
    "    print(month)\n",
    "    plot_month(month, show=False)"
   ]
  }
 ],
 "metadata": {
  "kernelspec": {
   "display_name": "Python 3 (ipykernel)",
   "language": "python",
   "name": "python3"
  },
  "language_info": {
   "codemirror_mode": {
    "name": "ipython",
    "version": 3
   },
   "file_extension": ".py",
   "mimetype": "text/x-python",
   "name": "python",
   "nbconvert_exporter": "python",
   "pygments_lexer": "ipython3",
   "version": "3.8.11"
  }
 },
 "nbformat": 4,
 "nbformat_minor": 5
}
