{
 "cells": [
  {
   "cell_type": "code",
   "execution_count": 85,
   "id": "00b618fa",
   "metadata": {},
   "outputs": [],
   "source": [
    "import pandas as pd\n",
    "import numpy as np\n",
    "import plotly.express as px\n",
    "import plotly"
   ]
  },
  {
   "cell_type": "code",
   "execution_count": 86,
   "id": "c28ac309",
   "metadata": {},
   "outputs": [
    {
     "data": {
      "text/html": [
       "<div>\n",
       "<style scoped>\n",
       "    .dataframe tbody tr th:only-of-type {\n",
       "        vertical-align: middle;\n",
       "    }\n",
       "\n",
       "    .dataframe tbody tr th {\n",
       "        vertical-align: top;\n",
       "    }\n",
       "\n",
       "    .dataframe thead th {\n",
       "        text-align: right;\n",
       "    }\n",
       "</style>\n",
       "<table border=\"1\" class=\"dataframe\">\n",
       "  <thead>\n",
       "    <tr style=\"text-align: right;\">\n",
       "      <th></th>\n",
       "      <th>2019</th>\n",
       "      <th>2020</th>\n",
       "      <th>2021</th>\n",
       "      <th>2022</th>\n",
       "      <th>coicop</th>\n",
       "    </tr>\n",
       "  </thead>\n",
       "  <tbody>\n",
       "    <tr>\n",
       "      <th>0</th>\n",
       "      <td>90.20</td>\n",
       "      <td>82.93</td>\n",
       "      <td>94.82</td>\n",
       "      <td>121.47</td>\n",
       "      <td>AP</td>\n",
       "    </tr>\n",
       "    <tr>\n",
       "      <th>1</th>\n",
       "      <td>3.85</td>\n",
       "      <td>3.63</td>\n",
       "      <td>4.21</td>\n",
       "      <td>4.56</td>\n",
       "      <td>APF</td>\n",
       "    </tr>\n",
       "    <tr>\n",
       "      <th>2</th>\n",
       "      <td>86.36</td>\n",
       "      <td>79.30</td>\n",
       "      <td>90.60</td>\n",
       "      <td>116.92</td>\n",
       "      <td>APM</td>\n",
       "    </tr>\n",
       "    <tr>\n",
       "      <th>3</th>\n",
       "      <td>30.45</td>\n",
       "      <td>26.48</td>\n",
       "      <td>30.47</td>\n",
       "      <td>31.62</td>\n",
       "      <td>AP_NNRG</td>\n",
       "    </tr>\n",
       "    <tr>\n",
       "      <th>4</th>\n",
       "      <td>59.76</td>\n",
       "      <td>56.45</td>\n",
       "      <td>64.35</td>\n",
       "      <td>89.85</td>\n",
       "      <td>AP_NRG</td>\n",
       "    </tr>\n",
       "  </tbody>\n",
       "</table>\n",
       "</div>"
      ],
      "text/plain": [
       "    2019   2020   2021    2022   coicop\n",
       "0  90.20  82.93  94.82  121.47       AP\n",
       "1   3.85   3.63   4.21    4.56      APF\n",
       "2  86.36  79.30  90.60  116.92      APM\n",
       "3  30.45  26.48  30.47   31.62  AP_NNRG\n",
       "4  59.76  56.45  64.35   89.85   AP_NRG"
      ]
     },
     "execution_count": 86,
     "metadata": {},
     "output_type": "execute_result"
    }
   ],
   "source": [
    "# Price index weights on different goods\n",
    "# https://ec.europa.eu/eurostat/databrowser/view/PRC_HICP_INW__custom_2846029/default/table?lang=en\n",
    "weights = pd.read_csv('data/prc_hicp_inw__custom_2846029_page_tabular.tsv', sep=\"\\t\")\n",
    "\n",
    "\n",
    "# Clean weights\n",
    "def extract_coicop(col, position):\n",
    "    return col.str.split(\",\", expand=True)[position]\n",
    "\n",
    "weights[\"coicop\"] = extract_coicop(weights[\"freq,coicop,geo\\TIME_PERIOD\"], 1)\n",
    "weights.columns = [c.strip() for c in weights.columns]\n",
    "weights = weights.drop(\"freq,coicop,geo\\TIME_PERIOD\", axis=1)\n",
    "weights.head()"
   ]
  },
  {
   "cell_type": "code",
   "execution_count": 87,
   "id": "96b3d8f3",
   "metadata": {},
   "outputs": [
    {
     "data": {
      "text/html": [
       "<div>\n",
       "<style scoped>\n",
       "    .dataframe tbody tr th:only-of-type {\n",
       "        vertical-align: middle;\n",
       "    }\n",
       "\n",
       "    .dataframe tbody tr th {\n",
       "        vertical-align: top;\n",
       "    }\n",
       "\n",
       "    .dataframe thead th {\n",
       "        text-align: right;\n",
       "    }\n",
       "</style>\n",
       "<table border=\"1\" class=\"dataframe\">\n",
       "  <thead>\n",
       "    <tr style=\"text-align: right;\">\n",
       "      <th></th>\n",
       "      <th>2021-08</th>\n",
       "      <th>2021-09</th>\n",
       "      <th>2021-10</th>\n",
       "      <th>2021-11</th>\n",
       "      <th>2021-12</th>\n",
       "      <th>2022-01</th>\n",
       "      <th>2022-02</th>\n",
       "      <th>2022-03</th>\n",
       "      <th>2022-04</th>\n",
       "      <th>2022-05</th>\n",
       "      <th>coicop</th>\n",
       "    </tr>\n",
       "  </thead>\n",
       "  <tbody>\n",
       "    <tr>\n",
       "      <th>0</th>\n",
       "      <td>0.5</td>\n",
       "      <td>10.7</td>\n",
       "      <td>-7.2</td>\n",
       "      <td>7.8</td>\n",
       "      <td>29.2</td>\n",
       "      <td>-10.7</td>\n",
       "      <td>-5.0</td>\n",
       "      <td>3.0</td>\n",
       "      <td>24.3</td>\n",
       "      <td>:</td>\n",
       "      <td>AP</td>\n",
       "    </tr>\n",
       "    <tr>\n",
       "      <th>1</th>\n",
       "      <td>0.0</td>\n",
       "      <td>0.0</td>\n",
       "      <td>0.0</td>\n",
       "      <td>0.0</td>\n",
       "      <td>0.0</td>\n",
       "      <td>1.3</td>\n",
       "      <td>0.0</td>\n",
       "      <td>0.0</td>\n",
       "      <td>0.0</td>\n",
       "      <td>:</td>\n",
       "      <td>APF</td>\n",
       "    </tr>\n",
       "    <tr>\n",
       "      <th>2</th>\n",
       "      <td>0.5</td>\n",
       "      <td>11.2</td>\n",
       "      <td>-7.5</td>\n",
       "      <td>8.2</td>\n",
       "      <td>30.3</td>\n",
       "      <td>-11.1</td>\n",
       "      <td>-5.2</td>\n",
       "      <td>3.2</td>\n",
       "      <td>25.4</td>\n",
       "      <td>:</td>\n",
       "      <td>APM</td>\n",
       "    </tr>\n",
       "    <tr>\n",
       "      <th>3</th>\n",
       "      <td>0.0</td>\n",
       "      <td>0.0</td>\n",
       "      <td>0.0</td>\n",
       "      <td>0.0</td>\n",
       "      <td>0.1</td>\n",
       "      <td>0.4</td>\n",
       "      <td>0.3</td>\n",
       "      <td>2.1</td>\n",
       "      <td>0.7</td>\n",
       "      <td>:</td>\n",
       "      <td>AP_NNRG</td>\n",
       "    </tr>\n",
       "    <tr>\n",
       "      <th>4</th>\n",
       "      <td>0.7</td>\n",
       "      <td>15.0</td>\n",
       "      <td>-9.7</td>\n",
       "      <td>10.9</td>\n",
       "      <td>39.3</td>\n",
       "      <td>-14.6</td>\n",
       "      <td>-7.2</td>\n",
       "      <td>3.4</td>\n",
       "      <td>34.8</td>\n",
       "      <td>:</td>\n",
       "      <td>AP_NRG</td>\n",
       "    </tr>\n",
       "  </tbody>\n",
       "</table>\n",
       "</div>"
      ],
      "text/plain": [
       "   2021-08  2021-09  2021-10  2021-11  2021-12  2022-01  2022-02  2022-03  \\\n",
       "0      0.5     10.7     -7.2      7.8     29.2    -10.7     -5.0      3.0   \n",
       "1      0.0      0.0      0.0      0.0      0.0      1.3      0.0      0.0   \n",
       "2      0.5     11.2     -7.5      8.2     30.3    -11.1     -5.2      3.2   \n",
       "3      0.0      0.0      0.0      0.0      0.1      0.4      0.3      2.1   \n",
       "4      0.7     15.0     -9.7     10.9     39.3    -14.6     -7.2      3.4   \n",
       "\n",
       "   2022-04 2022-05   coicop  \n",
       "0     24.3      :        AP  \n",
       "1      0.0      :       APF  \n",
       "2     25.4      :       APM  \n",
       "3      0.7      :   AP_NNRG  \n",
       "4     34.8      :    AP_NRG  "
      ]
     },
     "execution_count": 87,
     "metadata": {},
     "output_type": "execute_result"
    }
   ],
   "source": [
    "# Monthly inflation data\n",
    "# https://ec.europa.eu/eurostat/databrowser/view/PRC_HICP_MMOR__custom_2846191/default/table?lang=en\n",
    "monthly_inflation = pd.read_csv('data/prc_hicp_mmor__custom_2846191_page_tabular.tsv', sep=\"\\t\")\n",
    "\n",
    "# Clean monthly inflation data\n",
    "monthly_inflation[\"coicop\"] = extract_coicop(monthly_inflation[\"freq,unit,coicop,geo\\TIME_PERIOD\"], 2)\n",
    "monthly_inflation.columns = [c.strip() for c in monthly_inflation.columns]\n",
    "monthly_inflation = monthly_inflation.drop(\"freq,unit,coicop,geo\\TIME_PERIOD\", axis=1)\n",
    "monthly_inflation.head()"
   ]
  },
  {
   "cell_type": "code",
   "execution_count": 88,
   "id": "fb17882b",
   "metadata": {},
   "outputs": [
    {
     "data": {
      "text/html": [
       "<div>\n",
       "<style scoped>\n",
       "    .dataframe tbody tr th:only-of-type {\n",
       "        vertical-align: middle;\n",
       "    }\n",
       "\n",
       "    .dataframe tbody tr th {\n",
       "        vertical-align: top;\n",
       "    }\n",
       "\n",
       "    .dataframe thead th {\n",
       "        text-align: right;\n",
       "    }\n",
       "</style>\n",
       "<table border=\"1\" class=\"dataframe\">\n",
       "  <thead>\n",
       "    <tr style=\"text-align: right;\">\n",
       "      <th></th>\n",
       "      <th>CODE_DIFF</th>\n",
       "      <th>LEVEL</th>\n",
       "      <th>EN_DESC</th>\n",
       "    </tr>\n",
       "  </thead>\n",
       "  <tbody>\n",
       "    <tr>\n",
       "      <th>0</th>\n",
       "      <td>TOTAL</td>\n",
       "      <td>1</td>\n",
       "      <td>Total</td>\n",
       "    </tr>\n",
       "    <tr>\n",
       "      <th>1</th>\n",
       "      <td>TOT_X_CP041_042</td>\n",
       "      <td>1</td>\n",
       "      <td>Total except actual rents</td>\n",
       "    </tr>\n",
       "    <tr>\n",
       "      <th>2</th>\n",
       "      <td>CP00</td>\n",
       "      <td>1</td>\n",
       "      <td>All-items HICP</td>\n",
       "    </tr>\n",
       "    <tr>\n",
       "      <th>3</th>\n",
       "      <td>CP01</td>\n",
       "      <td>1</td>\n",
       "      <td>Food and non-alcoholic beverages</td>\n",
       "    </tr>\n",
       "    <tr>\n",
       "      <th>4</th>\n",
       "      <td>CP011</td>\n",
       "      <td>2</td>\n",
       "      <td>Food</td>\n",
       "    </tr>\n",
       "  </tbody>\n",
       "</table>\n",
       "</div>"
      ],
      "text/plain": [
       "         CODE_DIFF  LEVEL                           EN_DESC\n",
       "0            TOTAL      1                             Total\n",
       "1  TOT_X_CP041_042      1         Total except actual rents\n",
       "2             CP00      1                    All-items HICP\n",
       "3             CP01      1  Food and non-alcoholic beverages\n",
       "4            CP011      2                              Food"
      ]
     },
     "execution_count": 88,
     "metadata": {},
     "output_type": "execute_result"
    }
   ],
   "source": [
    "# COICOP classifier\n",
    "# https://ec.europa.eu/eurostat/ramon/nomenclatures/index.cfm?TargetUrl=LST_CLS_DLD&StrLanguageCode=EN&StrNom=CL_COICOP&StrLayoutCode=LINEAR\n",
    "coicop = pd.read_excel('data/COICOP.xls', skiprows=2)\n",
    "\n",
    "# Clean COICOP\n",
    "coicop.columns = [c.strip() for c in coicop.columns]\n",
    "coicop = coicop.drop(labels=[\"DE_DESC\", \"FR_DESC\", \"DESC_AGGR\", \"INT_CODE\"], axis=1)\n",
    "coicop.head()"
   ]
  },
  {
   "cell_type": "markdown",
   "id": "8f00052e",
   "metadata": {},
   "source": [
    "# Treemap"
   ]
  },
  {
   "cell_type": "code",
   "execution_count": 89,
   "id": "ac5f5198",
   "metadata": {},
   "outputs": [],
   "source": [
    "MAX_LEVEL = 4 # How deep detail do we want to show?\n",
    "\n",
    "merged = monthly_inflation.merge(coicop, left_on=\"coicop\", right_on=\"CODE_DIFF\")\n",
    "merged = merged[merged[\"coicop\"].str.slice(0, 2) == \"CP\"]\n",
    "merged = merged[merged[\"LEVEL\"] == MAX_LEVEL]\n",
    "merged = merged.reset_index()\n",
    "\n",
    "# Add hierarchical description\n",
    "def get_level_description(codes, level=1):\n",
    "    \"\"\"Get the COICOP hierarchical description corresponding to `level` in `code`.\"\"\"\n",
    "    level_code = codes.str.slice(0, 3+level)\n",
    "    df = pd.DataFrame({\"level_code\": level_code})\n",
    "    df = df.merge(coicop, left_on=\"level_code\", right_on=\"CODE_DIFF\")\n",
    "    level_coicop_code = df[\"CODE_DIFF\"]\n",
    "    level_coicop_desc = df[\"EN_DESC\"]\n",
    "    return level_coicop_desc\n",
    "\n",
    "for level in range(1, MAX_LEVEL+1):\n",
    "    merged[f\"L{level}_DESC\"] = get_level_description(merged[\"coicop\"], level=level)\n",
    "    \n",
    "# Multiply percentage growths by index weight\n",
    "def get_coicop_weight(codes, month: str):\n",
    "    \"\"\"Get the weights in price index, given the COICOP code.\"\"\"\n",
    "    year = month[0:4]\n",
    "    df = pd.DataFrame({\"coicop\": codes})\n",
    "    df = df.merge(weights, left_on=\"coicop\", right_on=\"coicop\")\n",
    "#    df = df.rename({year: \"weight\"})\n",
    "#    df = df[\"coicop\", \"weight\"]\n",
    "    \n",
    "    return df[year]"
   ]
  },
  {
   "cell_type": "code",
   "execution_count": 90,
   "id": "68aa4c01",
   "metadata": {},
   "outputs": [
    {
     "data": {
      "application/vnd.plotly.v1+json": {
       "config": {
        "plotlyServerURL": "https://plotly.com"
       },
       "data": [
        {
         "branchvalues": "total",
         "domain": {
          "x": [
           0,
           1
          ],
          "y": [
           0,
           1
          ]
         },
         "hovertemplate": "labels=%{label}<br>val=%{value}<br>parent=%{parent}<br>id=%{id}<extra></extra>",
         "ids": [
          "all/Recreation and culture/Audio-visual, photographic and information processing equipment/Information processing equipment/Accessories for information processing equipment",
          "all/Transport/Operation of personal transport equipment/Spares parts and accessories for personal transport equipment/Accessories for personal transport equipment",
          "all/Restaurants and hotels/Accommodation services/Accommodation services/Accommodation services of other establishments",
          "all/Miscellaneous goods and services/Other services n.e.c./Other services n.e.c./Administrative fees",
          "all/Alcoholic beverages, tobacco and narcotics/Alcoholic beverages/Spirits/Alcoholic soft drinks",
          "all/Miscellaneous goods and services/Personal effects n.e.c./Other personal effects/Articles for babies",
          "all/Miscellaneous goods and services/Personal care/Other appliances, articles and products for personal care/Articles for personal hygiene and wellness, esoteric products and beauty products",
          "all/Food and non-alcoholic beverages/Food/Food products n.e.c./Baby food",
          "all/Furnishings, household equipment and routine household maintenance/Household textiles/Household textiles/Bed linen",
          "all/Food and non-alcoholic beverages/Food/Meat/Beef and veal",
          "all/Food and non-alcoholic beverages/Food/Bread and cereals/Bread",
          "all/Food and non-alcoholic beverages/Food/Bread and cereals/Breakfast cereals",
          "all/Communications/Telephone and telefax services/Telephone and telefax services/Bundled telecommunication services",
          "all/Food and non-alcoholic beverages/Food/Oils and fats/Butter",
          "all/Recreation and culture/Audio-visual, photographic and information processing equipment/Photographic and cinematographic equipment and optical instruments/Cameras",
          "all/Furnishings, household equipment and routine household maintenance/Furniture and furnishings, carpets and other floor coverings/Carpets and other floor coverings/Carpet and rugs",
          "all/Miscellaneous goods and services/Financial services n.e.c./Other financial services n.e.c./Charges by banks and post offices",
          "all/Food and non-alcoholic beverages/Food/Milk, cheese and eggs/Cheese and curd",
          "all/Food and non-alcoholic beverages/Food/Sugar, jam, honey, chocolate and confectionery/Chocolate",
          "all/Alcoholic beverages, tobacco and narcotics/Tobacco/Tobacco/Cigarettes",
          "all/Recreation and culture/Recreational and cultural services/Cultural services/Cinemas, theatres, concerts",
          "all/Furnishings, household equipment and routine household maintenance/Goods and services for routine household maintenance/Non-durable household goods/Cleaning and maintenance products",
          "all/Furnishings, household equipment and routine household maintenance/Household appliances/Major household appliances whether electric or not/Cleaning equipment",
          "all/Clothing and footwear/Clothing/Cleaning, repair and hire of clothing/Cleaning of clothing",
          "all/Furnishings, household equipment and routine household maintenance/Goods and services for routine household maintenance/Domestic services and household services/Cleaning services",
          "all/Miscellaneous goods and services/Personal effects n.e.c./Jewellery, clocks and watches/Clocks and watches",
          "all/Furnishings, household equipment and routine household maintenance/Household appliances/Major household appliances whether electric or not/Clothes washing machines, clothes drying machines and dish washing machines",
          "all/Clothing and footwear/Clothing/Other articles of clothing and clothing accessories/Clothing accessories",
          "all/Housing, water, electricity, gas and other fuels/Electricity, gas and other fuels/Solid fuels/Coal",
          "all/Food and non-alcoholic beverages/Non-alcoholic beverages/Coffee, tea and cocoa/Cocoa and powdered chocolate",
          "all/Food and non-alcoholic beverages/Non-alcoholic beverages/Coffee, tea and cocoa/Coffee",
          "all/Furnishings, household equipment and routine household maintenance/Household appliances/Small electric household appliances/Coffee machines, tea-makers and similar appliances",
          "all/Food and non-alcoholic beverages/Food/Sugar, jam, honey, chocolate and confectionery/Confectionery products",
          "all/Furnishings, household equipment and routine household maintenance/Household appliances/Major household appliances whether electric or not/Cookers",
          "all/Health/Medical products, appliances and equipment/Therapeutic appliances and equipment/Corrective eye-glasses and contact lenses",
          "all/Food and non-alcoholic beverages/Food/Vegetables/Crisps",
          "all/Furnishings, household equipment and routine household maintenance/Glassware, tableware and household utensils/Glassware, tableware and household utensils/Cutlery, flatware and silverware",
          "all/Transport/Operation of personal transport equipment/Fuels and lubricants for personal transport equipment/Diesel",
          "all/Food and non-alcoholic beverages/Food/Fruit/Dried fruit and nuts",
          "all/Food and non-alcoholic beverages/Food/Vegetables/Dried vegetables, other preserved or processed vegetables",
          "all/Food and non-alcoholic beverages/Food/Meat/Dried, salted or smoked meat",
          "all/Food and non-alcoholic beverages/Food/Fish and seafood/Dried, smoked or salted fish and seafood",
          "all/Transport/Operation of personal transport equipment/Other services in respect of personal transport equipment/Driving lessons, tests, licences and road worthiness tests",
          "all/Food and non-alcoholic beverages/Food/Sugar, jam, honey, chocolate and confectionery/Edible ices and ice cream",
          "all/Food and non-alcoholic beverages/Food/Meat/Edible offal",
          "all/Food and non-alcoholic beverages/Food/Milk, cheese and eggs/Eggs",
          "all/Miscellaneous goods and services/Personal care/Electrical appliances for personal care/Electric appliances for personal care",
          "all/Recreation and culture/Other recreational items and equipment, gardens and pets/Equipment for sport, camping and open-air recreation/Equipment for sport",
          "all/Recreation and culture/Audio-visual, photographic and information processing equipment/Equipment for the reception, recording and reproduction of sound and picture/Equipment for the reception, recording and reproduction of sound",
          "all/Recreation and culture/Audio-visual, photographic and information processing equipment/Equipment for the reception, recording and reproduction of sound and picture/Equipment for the reception, recording and reproduction of sound and vision",
          "all/Restaurants and hotels/Catering services/Restaurants, cafés and the like/Fast food and take away food services",
          "all/Recreation and culture/Newspapers, books and stationery/Books/Fiction books",
          "all/Food and non-alcoholic beverages/Food/Bread and cereals/Flours and other cereals",
          "all/Furnishings, household equipment and routine household maintenance/Household appliances/Small electric household appliances/Food processing appliances",
          "all/Clothing and footwear/Footwear/Shoes and other footwear/Footwear for infants and children",
          "all/Clothing and footwear/Footwear/Shoes and other footwear/Footwear for men",
          "all/Clothing and footwear/Footwear/Shoes and other footwear/Footwear for women",
          "all/Alcoholic beverages, tobacco and narcotics/Alcoholic beverages/Wine/Fortified wines",
          "all/Food and non-alcoholic beverages/Food/Fish and seafood/Fresh or chilled fish",
          "all/Food and non-alcoholic beverages/Food/Fruit/Fresh or chilled fruit",
          "all/Food and non-alcoholic beverages/Food/Vegetables/Fresh or chilled vegetables other than potatoes and other tubers",
          "all/Food and non-alcoholic beverages/Food/Fish and seafood/Frozen fish",
          "all/Food and non-alcoholic beverages/Food/Fruit/Frozen fruit",
          "all/Food and non-alcoholic beverages/Food/Vegetables/Frozen vegetables other than potatoes and other tubers",
          "all/Food and non-alcoholic beverages/Non-alcoholic beverages/Mineral waters, soft drinks, fruit and vegetable juices/Fruit and vegetables juices",
          "all/Miscellaneous goods and services/Other services n.e.c./Other services n.e.c./Funeral services",
          "all/Furnishings, household equipment and routine household maintenance/Household textiles/Household textiles/Furnishings fabrics and curtains",
          "all/Recreation and culture/Other recreational items and equipment, gardens and pets/Games, toys and hobbies/Games and hobbies",
          "all/Recreation and culture/Other recreational items and equipment, gardens and pets/Gardens, plants and flowers/Garden products",
          "all/Clothing and footwear/Clothing/Garments/Garments for infants (0 to 2 years) and children (3 to 13 years)",
          "all/Clothing and footwear/Clothing/Garments/Garments for men",
          "all/Clothing and footwear/Clothing/Garments/Garments for women",
          "all/Furnishings, household equipment and routine household maintenance/Glassware, tableware and household utensils/Glassware, tableware and household utensils/Glassware, crystal-ware, ceramic ware and chinaware",
          "all/Miscellaneous goods and services/Personal care/Hairdressing salons and personal grooming establishments/Hairdressing for men and children",
          "all/Miscellaneous goods and services/Personal care/Hairdressing salons and personal grooming establishments/Hairdressing for women",
          "all/Furnishings, household equipment and routine household maintenance/Household appliances/Major household appliances whether electric or not/Heaters, air conditioners",
          "all/Transport/Operation of personal transport equipment/Other services in respect of personal transport equipment/Hire of garages, parking spaces and personal transport equipment",
          "all/Restaurants and hotels/Accommodation services/Accommodation services/Hotels, motels, inns and similar accommodation services",
          "all/Furnishings, household equipment and routine household maintenance/Furniture and furnishings, carpets and other floor coverings/Furniture and furnishings/Household furniture",
          "all/Transport/Transport services/Passenger transport by air/International flights",
          "all/Furnishings, household equipment and routine household maintenance/Household appliances/Small electric household appliances/Irons",
          "all/Food and non-alcoholic beverages/Food/Sugar, jam, honey, chocolate and confectionery/Jams, marmalades and honey",
          "all/Miscellaneous goods and services/Personal effects n.e.c./Jewellery, clocks and watches/Jewellery",
          "all/Alcoholic beverages, tobacco and narcotics/Alcoholic beverages/Beer/Lager beer",
          "all/Miscellaneous goods and services/Other services n.e.c./Other services n.e.c./Legal services and accountancy",
          "all/Communications/Postal services/Postal services/Letter handling services",
          "all/Furnishings, household equipment and routine household maintenance/Furniture and furnishings, carpets and other floor coverings/Furniture and furnishings/Lighting equipment",
          "all/Housing, water, electricity, gas and other fuels/Electricity, gas and other fuels/Gas/Liquefied hydrocarbons (butane, propane, etc.)",
          "all/Alcoholic beverages, tobacco and narcotics/Alcoholic beverages/Beer/Low and non-alcoholic beer",
          "all/Food and non-alcoholic beverages/Food/Milk, cheese and eggs/Low fat milk",
          "all/Transport/Operation of personal transport equipment/Fuels and lubricants for personal transport equipment/Lubricants",
          "all/Recreation and culture/Newspapers, books and stationery/Newspapers and periodicals/Magazines and periodicals",
          "all/Housing, water, electricity, gas and other fuels/Water supply and miscellaneous services relating to the dwelling/Other services relating to the dwelling n.e.c./Maintenance charges in multi-occupied buildings",
          "all/Food and non-alcoholic beverages/Food/Oils and fats/Margarine and other vegetable fats",
          "all/Food and non-alcoholic beverages/Non-alcoholic beverages/Mineral waters, soft drinks, fruit and vegetable juices/Mineral or spring waters",
          "all/Furnishings, household equipment and routine household maintenance/Tools and equipment for house and garden/Small tools and miscellaneous accessories/Miscellaneous small tool accessories",
          "all/Communications/Telephone and telefax equipment/Telephone and telefax equipment/Mobile telephone equipment",
          "all/Miscellaneous goods and services/Insurance/Insurance connected with transport/Motor vehicle insurance",
          "all/Furnishings, household equipment and routine household maintenance/Tools and equipment for house and garden/Major tools and equipment/Motorized major tools and equipment",
          "all/Recreation and culture/Recreational and cultural services/Cultural services/Museums, libraries, zoological gardens",
          "all/Housing, water, electricity, gas and other fuels/Electricity, gas and other fuels/Gas/Natural gas and town gas",
          "all/Transport/Purchase of vehicles/Motor cars/New motor cars",
          "all/Recreation and culture/Newspapers, books and stationery/Newspapers and periodicals/Newspapers",
          "all/Furnishings, household equipment and routine household maintenance/Glassware, tableware and household utensils/Glassware, tableware and household utensils/Non-electric kitchen utensils and articles",
          "all/Miscellaneous goods and services/Personal care/Other appliances, articles and products for personal care/Non-electrical appliances",
          "all/Furnishings, household equipment and routine household maintenance/Tools and equipment for house and garden/Small tools and miscellaneous accessories/Non-motorised small tools",
          "all/Food and non-alcoholic beverages/Food/Oils and fats/Olive oil",
          "all/Clothing and footwear/Clothing/Other articles of clothing and clothing accessories/Other articles of clothing",
          "all/Food and non-alcoholic beverages/Food/Bread and cereals/Other bakery products",
          "all/Food and non-alcoholic beverages/Food/Bread and cereals/Other cereal products",
          "all/Food and non-alcoholic beverages/Food/Oils and fats/Other edible oils",
          "all/Miscellaneous goods and services/Other services n.e.c./Other services n.e.c./Other fees and services",
          "all/Furnishings, household equipment and routine household maintenance/Furniture and furnishings, carpets and other floor coverings/Carpets and other floor coverings/Other floor coverings",
          "all/Food and non-alcoholic beverages/Food/Food products n.e.c./Other food products n.e.c.",
          "all/Food and non-alcoholic beverages/Food/Meat/Other meat preparations",
          "all/Health/Medical products, appliances and equipment/Other medical products/Other medical products n.e.c.",
          "all/Food and non-alcoholic beverages/Food/Milk, cheese and eggs/Other milk products",
          "all/Furnishings, household equipment and routine household maintenance/Goods and services for routine household maintenance/Non-durable household goods/Other non-durable small household articles",
          "all/Recreation and culture/Newspapers, books and stationery/Books/Other non-fiction books",
          "all/Health/Out-patient services/Paramedical services/Other paramedical services",
          "all/Miscellaneous goods and services/Personal effects n.e.c./Other personal effects/Other personal effects n.e.c.",
          "all/Communications/Postal services/Postal services/Other postal services",
          "all/Food and non-alcoholic beverages/Food/Fish and seafood/Other preserved or processed fish and seafood and fish and seafood preparations",
          "all/Housing, water, electricity, gas and other fuels/Maintenance and repair of the dwelling/Services for the maintenance and repair of the dwelling/Other services for maintenance and repair of the dwelling",
          "all/Housing, water, electricity, gas and other fuels/Water supply and miscellaneous services relating to the dwelling/Other services relating to the dwelling n.e.c./Other services related to dwelling",
          "all/Housing, water, electricity, gas and other fuels/Electricity, gas and other fuels/Solid fuels/Other solid fuels",
          "all/Recreation and culture/Newspapers, books and stationery/Stationery and drawing materials/Other stationery and drawing materials",
          "all/Health/Medical products, appliances and equipment/Therapeutic appliances and equipment/Other therapeutic appliances and equipment",
          "all/Food and non-alcoholic beverages/Food/Vegetables/Other tubers and products of tuber vegetables",
          "all/Recreation and culture/Package holidays/Package holidays/Package international holidays",
          "all/Recreation and culture/Newspapers, books and stationery/Stationery and drawing materials/Paper products",
          "all/Transport/Transport services/Passenger transport by road/Passenger transport by bus and coach",
          "all/Transport/Transport services/Passenger transport by sea and inland waterway/Passenger transport by sea",
          "all/Transport/Transport services/Passenger transport by road/Passenger transport by taxi and hired car with driver",
          "all/Transport/Transport services/Passenger transport by railway/Passenger transport by train",
          "all/Food and non-alcoholic beverages/Food/Bread and cereals/Pasta products and couscous",
          "all/Recreation and culture/Audio-visual, photographic and information processing equipment/Information processing equipment/Personal computers",
          "all/Miscellaneous goods and services/Personal care/Hairdressing salons and personal grooming establishments/Personal grooming treatments",
          "all/Transport/Operation of personal transport equipment/Fuels and lubricants for personal transport equipment/Petrol",
          "all/Recreation and culture/Recreational and cultural services/Cultural services/Photographic services",
          "all/Food and non-alcoholic beverages/Food/Bread and cereals/Pizza and quiche",
          "all/Recreation and culture/Other recreational items and equipment, gardens and pets/Gardens, plants and flowers/Plants and flowers",
          "all/Food and non-alcoholic beverages/Food/Meat/Pork",
          "all/Food and non-alcoholic beverages/Food/Vegetables/Potatoes",
          "all/Food and non-alcoholic beverages/Food/Meat/Poultry",
          "all/Education/Pre-primary and primary education/Pre-primary and primary education/Pre-primary education ",
          "all/Recreation and culture/Audio-visual, photographic and information processing equipment/Recording media/Pre-recorded recording media",
          "all/Health/Medical products, appliances and equipment/Other medical products/Pregnancy tests and mechanical contraceptive devices",
          "all/Food and non-alcoholic beverages/Food/Fruit/Preserved fruit and fruit-based products",
          "all/Food and non-alcoholic beverages/Food/Milk, cheese and eggs/Preserved milk",
          "all/Recreation and culture/Other recreational items and equipment, gardens and pets/Pets and related products/Products for pets",
          "all/Food and non-alcoholic beverages/Food/Food products n.e.c./Ready-made meals",
          "all/Recreation and culture/Recreational and cultural services/Recreational and sporting services/Recreational and sporting services - Attendance",
          "all/Recreation and culture/Recreational and cultural services/Recreational and sporting services/Recreational and sporting services - Participation",
          "all/Furnishings, household equipment and routine household maintenance/Household appliances/Major household appliances whether electric or not/Refrigerators, freezers and fridge-freezers",
          "all/Clothing and footwear/Clothing/Cleaning, repair and hire of clothing/Repair and hire of clothing",
          "all/Miscellaneous goods and services/Personal effects n.e.c./Jewellery, clocks and watches/Repair of jewellery, clocks and watches",
          "all/Furnishings, household equipment and routine household maintenance/Tools and equipment for house and garden/Major tools and equipment/Repair, leasing and rental of major tools and equipment",
          "all/Restaurants and hotels/Catering services/Restaurants, cafés and the like/Restaurants, cafés and dancing establishments",
          "all/Miscellaneous goods and services/Social protection/Social protection/Retirement homes for elderly persons and residences for disabled persons",
          "all/Food and non-alcoholic beverages/Food/Bread and cereals/Rice",
          "all/Food and non-alcoholic beverages/Food/Food products n.e.c./Salt, spices and culinary herbs",
          "all/Food and non-alcoholic beverages/Food/Food products n.e.c./Sauces, condiments",
          "all/Transport/Purchase of vehicles/Motor cars/Second-hand motor cars",
          "all/Housing, water, electricity, gas and other fuels/Water supply and miscellaneous services relating to the dwelling/Other services relating to the dwelling n.e.c./Security services",
          "all/Food and non-alcoholic beverages/Non-alcoholic beverages/Mineral waters, soft drinks, fruit and vegetable juices/Soft drinks",
          "all/Recreation and culture/Audio-visual, photographic and information processing equipment/Information processing equipment/Software",
          "all/Transport/Operation of personal transport equipment/Spares parts and accessories for personal transport equipment/Spare parts for personal transport equipment",
          "all/Health/Out-patient services/Medical services/Specialist practice",
          "all/Alcoholic beverages, tobacco and narcotics/Alcoholic beverages/Spirits/Spirits and liqueurs",
          "all/Food and non-alcoholic beverages/Food/Sugar, jam, honey, chocolate and confectionery/Sugar",
          "all/Furnishings, household equipment and routine household maintenance/Household textiles/Household textiles/Table linen and bathroom linen",
          "all/Food and non-alcoholic beverages/Non-alcoholic beverages/Coffee, tea and cocoa/Tea",
          "all/Recreation and culture/Recreational and cultural services/Cultural services/Television and radio licence fees, subscriptions",
          "all/Recreation and culture/Other recreational items and equipment, gardens and pets/Games, toys and hobbies/Toys and celebration articles",
          "all/Miscellaneous goods and services/Personal effects n.e.c./Other personal effects/Travel goods",
          "all/Miscellaneous goods and services/Insurance/Insurance connected with transport/Travel insurance",
          "all/Transport/Operation of personal transport equipment/Spares parts and accessories for personal transport equipment/Tyres",
          "all/Recreation and culture/Audio-visual, photographic and information processing equipment/Recording media/Unrecorded recording media",
          "all/Food and non-alcoholic beverages/Food/Milk, cheese and eggs/Whole milk",
          "all/Alcoholic beverages, tobacco and narcotics/Alcoholic beverages/Wine/Wine from grapes",
          "all/Alcoholic beverages, tobacco and narcotics/Alcoholic beverages/Wine/Wine from other fruits",
          "all/Communications/Telephone and telefax services/Telephone and telefax services/Wired telephone services",
          "all/Communications/Telephone and telefax services/Telephone and telefax services/Wireless telephone services",
          "all/Food and non-alcoholic beverages/Food/Milk, cheese and eggs/Yoghurt",
          "all/Restaurants and hotels/Accommodation services/Accommodation services",
          "all/Alcoholic beverages, tobacco and narcotics/Alcoholic beverages/Beer",
          "all/Recreation and culture/Newspapers, books and stationery/Books",
          "all/Food and non-alcoholic beverages/Food/Bread and cereals",
          "all/Furnishings, household equipment and routine household maintenance/Furniture and furnishings, carpets and other floor coverings/Carpets and other floor coverings",
          "all/Clothing and footwear/Clothing/Cleaning, repair and hire of clothing",
          "all/Food and non-alcoholic beverages/Non-alcoholic beverages/Coffee, tea and cocoa",
          "all/Recreation and culture/Recreational and cultural services/Cultural services",
          "all/Furnishings, household equipment and routine household maintenance/Goods and services for routine household maintenance/Domestic services and household services",
          "all/Miscellaneous goods and services/Personal care/Electrical appliances for personal care",
          "all/Recreation and culture/Other recreational items and equipment, gardens and pets/Equipment for sport, camping and open-air recreation",
          "all/Recreation and culture/Audio-visual, photographic and information processing equipment/Equipment for the reception, recording and reproduction of sound and picture",
          "all/Food and non-alcoholic beverages/Food/Fish and seafood",
          "all/Food and non-alcoholic beverages/Food/Food products n.e.c.",
          "all/Food and non-alcoholic beverages/Food/Fruit",
          "all/Transport/Operation of personal transport equipment/Fuels and lubricants for personal transport equipment",
          "all/Furnishings, household equipment and routine household maintenance/Furniture and furnishings, carpets and other floor coverings/Furniture and furnishings",
          "all/Recreation and culture/Other recreational items and equipment, gardens and pets/Games, toys and hobbies",
          "all/Recreation and culture/Other recreational items and equipment, gardens and pets/Gardens, plants and flowers",
          "all/Clothing and footwear/Clothing/Garments",
          "all/Housing, water, electricity, gas and other fuels/Electricity, gas and other fuels/Gas",
          "all/Furnishings, household equipment and routine household maintenance/Glassware, tableware and household utensils/Glassware, tableware and household utensils",
          "all/Miscellaneous goods and services/Personal care/Hairdressing salons and personal grooming establishments",
          "all/Furnishings, household equipment and routine household maintenance/Household textiles/Household textiles",
          "all/Recreation and culture/Audio-visual, photographic and information processing equipment/Information processing equipment",
          "all/Miscellaneous goods and services/Insurance/Insurance connected with transport",
          "all/Miscellaneous goods and services/Personal effects n.e.c./Jewellery, clocks and watches",
          "all/Furnishings, household equipment and routine household maintenance/Household appliances/Major household appliances whether electric or not",
          "all/Furnishings, household equipment and routine household maintenance/Tools and equipment for house and garden/Major tools and equipment",
          "all/Food and non-alcoholic beverages/Food/Meat",
          "all/Health/Out-patient services/Medical services",
          "all/Food and non-alcoholic beverages/Food/Milk, cheese and eggs",
          "all/Food and non-alcoholic beverages/Non-alcoholic beverages/Mineral waters, soft drinks, fruit and vegetable juices",
          "all/Transport/Purchase of vehicles/Motor cars",
          "all/Recreation and culture/Newspapers, books and stationery/Newspapers and periodicals",
          "all/Furnishings, household equipment and routine household maintenance/Goods and services for routine household maintenance/Non-durable household goods",
          "all/Food and non-alcoholic beverages/Food/Oils and fats",
          "all/Miscellaneous goods and services/Personal care/Other appliances, articles and products for personal care",
          "all/Clothing and footwear/Clothing/Other articles of clothing and clothing accessories",
          "all/Miscellaneous goods and services/Financial services n.e.c./Other financial services n.e.c.",
          "all/Health/Medical products, appliances and equipment/Other medical products",
          "all/Miscellaneous goods and services/Personal effects n.e.c./Other personal effects",
          "all/Transport/Operation of personal transport equipment/Other services in respect of personal transport equipment",
          "all/Miscellaneous goods and services/Other services n.e.c./Other services n.e.c.",
          "all/Housing, water, electricity, gas and other fuels/Water supply and miscellaneous services relating to the dwelling/Other services relating to the dwelling n.e.c.",
          "all/Recreation and culture/Package holidays/Package holidays",
          "all/Health/Out-patient services/Paramedical services",
          "all/Transport/Transport services/Passenger transport by air",
          "all/Transport/Transport services/Passenger transport by railway",
          "all/Transport/Transport services/Passenger transport by road",
          "all/Transport/Transport services/Passenger transport by sea and inland waterway",
          "all/Recreation and culture/Other recreational items and equipment, gardens and pets/Pets and related products",
          "all/Recreation and culture/Audio-visual, photographic and information processing equipment/Photographic and cinematographic equipment and optical instruments",
          "all/Communications/Postal services/Postal services",
          "all/Education/Pre-primary and primary education/Pre-primary and primary education",
          "all/Recreation and culture/Audio-visual, photographic and information processing equipment/Recording media",
          "all/Recreation and culture/Recreational and cultural services/Recreational and sporting services",
          "all/Restaurants and hotels/Catering services/Restaurants, cafés and the like",
          "all/Housing, water, electricity, gas and other fuels/Maintenance and repair of the dwelling/Services for the maintenance and repair of the dwelling",
          "all/Clothing and footwear/Footwear/Shoes and other footwear",
          "all/Furnishings, household equipment and routine household maintenance/Household appliances/Small electric household appliances",
          "all/Furnishings, household equipment and routine household maintenance/Tools and equipment for house and garden/Small tools and miscellaneous accessories",
          "all/Miscellaneous goods and services/Social protection/Social protection",
          "all/Housing, water, electricity, gas and other fuels/Electricity, gas and other fuels/Solid fuels",
          "all/Transport/Operation of personal transport equipment/Spares parts and accessories for personal transport equipment",
          "all/Alcoholic beverages, tobacco and narcotics/Alcoholic beverages/Spirits",
          "all/Recreation and culture/Newspapers, books and stationery/Stationery and drawing materials",
          "all/Food and non-alcoholic beverages/Food/Sugar, jam, honey, chocolate and confectionery",
          "all/Communications/Telephone and telefax equipment/Telephone and telefax equipment",
          "all/Communications/Telephone and telefax services/Telephone and telefax services",
          "all/Health/Medical products, appliances and equipment/Therapeutic appliances and equipment",
          "all/Alcoholic beverages, tobacco and narcotics/Tobacco/Tobacco",
          "all/Food and non-alcoholic beverages/Food/Vegetables",
          "all/Alcoholic beverages, tobacco and narcotics/Alcoholic beverages/Wine",
          "all/Restaurants and hotels/Accommodation services",
          "all/Alcoholic beverages, tobacco and narcotics/Alcoholic beverages",
          "all/Recreation and culture/Audio-visual, photographic and information processing equipment",
          "all/Restaurants and hotels/Catering services",
          "all/Clothing and footwear/Clothing",
          "all/Housing, water, electricity, gas and other fuels/Electricity, gas and other fuels",
          "all/Miscellaneous goods and services/Financial services n.e.c.",
          "all/Food and non-alcoholic beverages/Food",
          "all/Clothing and footwear/Footwear",
          "all/Furnishings, household equipment and routine household maintenance/Furniture and furnishings, carpets and other floor coverings",
          "all/Furnishings, household equipment and routine household maintenance/Glassware, tableware and household utensils",
          "all/Furnishings, household equipment and routine household maintenance/Goods and services for routine household maintenance",
          "all/Furnishings, household equipment and routine household maintenance/Household appliances",
          "all/Furnishings, household equipment and routine household maintenance/Household textiles",
          "all/Miscellaneous goods and services/Insurance",
          "all/Housing, water, electricity, gas and other fuels/Maintenance and repair of the dwelling",
          "all/Health/Medical products, appliances and equipment",
          "all/Recreation and culture/Newspapers, books and stationery",
          "all/Food and non-alcoholic beverages/Non-alcoholic beverages",
          "all/Transport/Operation of personal transport equipment",
          "all/Recreation and culture/Other recreational items and equipment, gardens and pets",
          "all/Miscellaneous goods and services/Other services n.e.c.",
          "all/Health/Out-patient services",
          "all/Recreation and culture/Package holidays",
          "all/Miscellaneous goods and services/Personal care",
          "all/Miscellaneous goods and services/Personal effects n.e.c.",
          "all/Communications/Postal services",
          "all/Education/Pre-primary and primary education",
          "all/Transport/Purchase of vehicles",
          "all/Recreation and culture/Recreational and cultural services",
          "all/Miscellaneous goods and services/Social protection",
          "all/Communications/Telephone and telefax equipment",
          "all/Communications/Telephone and telefax services",
          "all/Alcoholic beverages, tobacco and narcotics/Tobacco",
          "all/Furnishings, household equipment and routine household maintenance/Tools and equipment for house and garden",
          "all/Transport/Transport services",
          "all/Housing, water, electricity, gas and other fuels/Water supply and miscellaneous services relating to the dwelling",
          "all/Alcoholic beverages, tobacco and narcotics",
          "all/Clothing and footwear",
          "all/Communications",
          "all/Education",
          "all/Food and non-alcoholic beverages",
          "all/Furnishings, household equipment and routine household maintenance",
          "all/Health",
          "all/Housing, water, electricity, gas and other fuels",
          "all/Miscellaneous goods and services",
          "all/Recreation and culture",
          "all/Restaurants and hotels",
          "all/Transport",
          "all"
         ],
         "labels": [
          "Accessories for information processing equipment",
          "Accessories for personal transport equipment",
          "Accommodation services of other establishments",
          "Administrative fees",
          "Alcoholic soft drinks",
          "Articles for babies",
          "Articles for personal hygiene and wellness, esoteric products and beauty products",
          "Baby food",
          "Bed linen",
          "Beef and veal",
          "Bread",
          "Breakfast cereals",
          "Bundled telecommunication services",
          "Butter",
          "Cameras",
          "Carpet and rugs",
          "Charges by banks and post offices",
          "Cheese and curd",
          "Chocolate",
          "Cigarettes",
          "Cinemas, theatres, concerts",
          "Cleaning and maintenance products",
          "Cleaning equipment",
          "Cleaning of clothing",
          "Cleaning services",
          "Clocks and watches",
          "Clothes washing machines, clothes drying machines and dish washing machines",
          "Clothing accessories",
          "Coal",
          "Cocoa and powdered chocolate",
          "Coffee",
          "Coffee machines, tea-makers and similar appliances",
          "Confectionery products",
          "Cookers",
          "Corrective eye-glasses and contact lenses",
          "Crisps",
          "Cutlery, flatware and silverware",
          "Diesel",
          "Dried fruit and nuts",
          "Dried vegetables, other preserved or processed vegetables",
          "Dried, salted or smoked meat",
          "Dried, smoked or salted fish and seafood",
          "Driving lessons, tests, licences and road worthiness tests",
          "Edible ices and ice cream",
          "Edible offal",
          "Eggs",
          "Electric appliances for personal care",
          "Equipment for sport",
          "Equipment for the reception, recording and reproduction of sound",
          "Equipment for the reception, recording and reproduction of sound and vision",
          "Fast food and take away food services",
          "Fiction books",
          "Flours and other cereals",
          "Food processing appliances",
          "Footwear for infants and children",
          "Footwear for men",
          "Footwear for women",
          "Fortified wines",
          "Fresh or chilled fish",
          "Fresh or chilled fruit",
          "Fresh or chilled vegetables other than potatoes and other tubers",
          "Frozen fish",
          "Frozen fruit",
          "Frozen vegetables other than potatoes and other tubers",
          "Fruit and vegetables juices",
          "Funeral services",
          "Furnishings fabrics and curtains",
          "Games and hobbies",
          "Garden products",
          "Garments for infants (0 to 2 years) and children (3 to 13 years)",
          "Garments for men",
          "Garments for women",
          "Glassware, crystal-ware, ceramic ware and chinaware",
          "Hairdressing for men and children",
          "Hairdressing for women",
          "Heaters, air conditioners",
          "Hire of garages, parking spaces and personal transport equipment",
          "Hotels, motels, inns and similar accommodation services",
          "Household furniture",
          "International flights",
          "Irons",
          "Jams, marmalades and honey",
          "Jewellery",
          "Lager beer",
          "Legal services and accountancy",
          "Letter handling services",
          "Lighting equipment",
          "Liquefied hydrocarbons (butane, propane, etc.)",
          "Low and non-alcoholic beer",
          "Low fat milk",
          "Lubricants",
          "Magazines and periodicals",
          "Maintenance charges in multi-occupied buildings",
          "Margarine and other vegetable fats",
          "Mineral or spring waters",
          "Miscellaneous small tool accessories",
          "Mobile telephone equipment",
          "Motor vehicle insurance",
          "Motorized major tools and equipment",
          "Museums, libraries, zoological gardens",
          "Natural gas and town gas",
          "New motor cars",
          "Newspapers",
          "Non-electric kitchen utensils and articles",
          "Non-electrical appliances",
          "Non-motorised small tools",
          "Olive oil",
          "Other articles of clothing",
          "Other bakery products",
          "Other cereal products",
          "Other edible oils",
          "Other fees and services",
          "Other floor coverings",
          "Other food products n.e.c.",
          "Other meat preparations",
          "Other medical products n.e.c.",
          "Other milk products",
          "Other non-durable small household articles",
          "Other non-fiction books",
          "Other paramedical services",
          "Other personal effects n.e.c.",
          "Other postal services",
          "Other preserved or processed fish and seafood and fish and seafood preparations",
          "Other services for maintenance and repair of the dwelling",
          "Other services related to dwelling",
          "Other solid fuels",
          "Other stationery and drawing materials",
          "Other therapeutic appliances and equipment",
          "Other tubers and products of tuber vegetables",
          "Package international holidays",
          "Paper products",
          "Passenger transport by bus and coach",
          "Passenger transport by sea",
          "Passenger transport by taxi and hired car with driver",
          "Passenger transport by train",
          "Pasta products and couscous",
          "Personal computers",
          "Personal grooming treatments",
          "Petrol",
          "Photographic services",
          "Pizza and quiche",
          "Plants and flowers",
          "Pork",
          "Potatoes",
          "Poultry",
          "Pre-primary education ",
          "Pre-recorded recording media",
          "Pregnancy tests and mechanical contraceptive devices",
          "Preserved fruit and fruit-based products",
          "Preserved milk",
          "Products for pets",
          "Ready-made meals",
          "Recreational and sporting services - Attendance",
          "Recreational and sporting services - Participation",
          "Refrigerators, freezers and fridge-freezers",
          "Repair and hire of clothing",
          "Repair of jewellery, clocks and watches",
          "Repair, leasing and rental of major tools and equipment",
          "Restaurants, cafés and dancing establishments",
          "Retirement homes for elderly persons and residences for disabled persons",
          "Rice",
          "Salt, spices and culinary herbs",
          "Sauces, condiments",
          "Second-hand motor cars",
          "Security services",
          "Soft drinks",
          "Software",
          "Spare parts for personal transport equipment",
          "Specialist practice",
          "Spirits and liqueurs",
          "Sugar",
          "Table linen and bathroom linen",
          "Tea",
          "Television and radio licence fees, subscriptions",
          "Toys and celebration articles",
          "Travel goods",
          "Travel insurance",
          "Tyres",
          "Unrecorded recording media",
          "Whole milk",
          "Wine from grapes",
          "Wine from other fruits",
          "Wired telephone services",
          "Wireless telephone services",
          "Yoghurt",
          "Accommodation services",
          "Beer",
          "Books",
          "Bread and cereals",
          "Carpets and other floor coverings",
          "Cleaning, repair and hire of clothing",
          "Coffee, tea and cocoa",
          "Cultural services",
          "Domestic services and household services",
          "Electrical appliances for personal care",
          "Equipment for sport, camping and open-air recreation",
          "Equipment for the reception, recording and reproduction of sound and picture",
          "Fish and seafood",
          "Food products n.e.c.",
          "Fruit",
          "Fuels and lubricants for personal transport equipment",
          "Furniture and furnishings",
          "Games, toys and hobbies",
          "Gardens, plants and flowers",
          "Garments",
          "Gas",
          "Glassware, tableware and household utensils",
          "Hairdressing salons and personal grooming establishments",
          "Household textiles",
          "Information processing equipment",
          "Insurance connected with transport",
          "Jewellery, clocks and watches",
          "Major household appliances whether electric or not",
          "Major tools and equipment",
          "Meat",
          "Medical services",
          "Milk, cheese and eggs",
          "Mineral waters, soft drinks, fruit and vegetable juices",
          "Motor cars",
          "Newspapers and periodicals",
          "Non-durable household goods",
          "Oils and fats",
          "Other appliances, articles and products for personal care",
          "Other articles of clothing and clothing accessories",
          "Other financial services n.e.c.",
          "Other medical products",
          "Other personal effects",
          "Other services in respect of personal transport equipment",
          "Other services n.e.c.",
          "Other services relating to the dwelling n.e.c.",
          "Package holidays",
          "Paramedical services",
          "Passenger transport by air",
          "Passenger transport by railway",
          "Passenger transport by road",
          "Passenger transport by sea and inland waterway",
          "Pets and related products",
          "Photographic and cinematographic equipment and optical instruments",
          "Postal services",
          "Pre-primary and primary education",
          "Recording media",
          "Recreational and sporting services",
          "Restaurants, cafés and the like",
          "Services for the maintenance and repair of the dwelling",
          "Shoes and other footwear",
          "Small electric household appliances",
          "Small tools and miscellaneous accessories",
          "Social protection",
          "Solid fuels",
          "Spares parts and accessories for personal transport equipment",
          "Spirits",
          "Stationery and drawing materials",
          "Sugar, jam, honey, chocolate and confectionery",
          "Telephone and telefax equipment",
          "Telephone and telefax services",
          "Therapeutic appliances and equipment",
          "Tobacco",
          "Vegetables",
          "Wine",
          "Accommodation services",
          "Alcoholic beverages",
          "Audio-visual, photographic and information processing equipment",
          "Catering services",
          "Clothing",
          "Electricity, gas and other fuels",
          "Financial services n.e.c.",
          "Food",
          "Footwear",
          "Furniture and furnishings, carpets and other floor coverings",
          "Glassware, tableware and household utensils",
          "Goods and services for routine household maintenance",
          "Household appliances",
          "Household textiles",
          "Insurance",
          "Maintenance and repair of the dwelling",
          "Medical products, appliances and equipment",
          "Newspapers, books and stationery",
          "Non-alcoholic beverages",
          "Operation of personal transport equipment",
          "Other recreational items and equipment, gardens and pets",
          "Other services n.e.c.",
          "Out-patient services",
          "Package holidays",
          "Personal care",
          "Personal effects n.e.c.",
          "Postal services",
          "Pre-primary and primary education",
          "Purchase of vehicles",
          "Recreational and cultural services",
          "Social protection",
          "Telephone and telefax equipment",
          "Telephone and telefax services",
          "Tobacco",
          "Tools and equipment for house and garden",
          "Transport services",
          "Water supply and miscellaneous services relating to the dwelling",
          "Alcoholic beverages, tobacco and narcotics",
          "Clothing and footwear",
          "Communications",
          "Education",
          "Food and non-alcoholic beverages",
          "Furnishings, household equipment and routine household maintenance",
          "Health",
          "Housing, water, electricity, gas and other fuels",
          "Miscellaneous goods and services",
          "Recreation and culture",
          "Restaurants and hotels",
          "Transport",
          "all"
         ],
         "name": "",
         "parents": [
          "all/Recreation and culture/Audio-visual, photographic and information processing equipment/Information processing equipment",
          "all/Transport/Operation of personal transport equipment/Spares parts and accessories for personal transport equipment",
          "all/Restaurants and hotels/Accommodation services/Accommodation services",
          "all/Miscellaneous goods and services/Other services n.e.c./Other services n.e.c.",
          "all/Alcoholic beverages, tobacco and narcotics/Alcoholic beverages/Spirits",
          "all/Miscellaneous goods and services/Personal effects n.e.c./Other personal effects",
          "all/Miscellaneous goods and services/Personal care/Other appliances, articles and products for personal care",
          "all/Food and non-alcoholic beverages/Food/Food products n.e.c.",
          "all/Furnishings, household equipment and routine household maintenance/Household textiles/Household textiles",
          "all/Food and non-alcoholic beverages/Food/Meat",
          "all/Food and non-alcoholic beverages/Food/Bread and cereals",
          "all/Food and non-alcoholic beverages/Food/Bread and cereals",
          "all/Communications/Telephone and telefax services/Telephone and telefax services",
          "all/Food and non-alcoholic beverages/Food/Oils and fats",
          "all/Recreation and culture/Audio-visual, photographic and information processing equipment/Photographic and cinematographic equipment and optical instruments",
          "all/Furnishings, household equipment and routine household maintenance/Furniture and furnishings, carpets and other floor coverings/Carpets and other floor coverings",
          "all/Miscellaneous goods and services/Financial services n.e.c./Other financial services n.e.c.",
          "all/Food and non-alcoholic beverages/Food/Milk, cheese and eggs",
          "all/Food and non-alcoholic beverages/Food/Sugar, jam, honey, chocolate and confectionery",
          "all/Alcoholic beverages, tobacco and narcotics/Tobacco/Tobacco",
          "all/Recreation and culture/Recreational and cultural services/Cultural services",
          "all/Furnishings, household equipment and routine household maintenance/Goods and services for routine household maintenance/Non-durable household goods",
          "all/Furnishings, household equipment and routine household maintenance/Household appliances/Major household appliances whether electric or not",
          "all/Clothing and footwear/Clothing/Cleaning, repair and hire of clothing",
          "all/Furnishings, household equipment and routine household maintenance/Goods and services for routine household maintenance/Domestic services and household services",
          "all/Miscellaneous goods and services/Personal effects n.e.c./Jewellery, clocks and watches",
          "all/Furnishings, household equipment and routine household maintenance/Household appliances/Major household appliances whether electric or not",
          "all/Clothing and footwear/Clothing/Other articles of clothing and clothing accessories",
          "all/Housing, water, electricity, gas and other fuels/Electricity, gas and other fuels/Solid fuels",
          "all/Food and non-alcoholic beverages/Non-alcoholic beverages/Coffee, tea and cocoa",
          "all/Food and non-alcoholic beverages/Non-alcoholic beverages/Coffee, tea and cocoa",
          "all/Furnishings, household equipment and routine household maintenance/Household appliances/Small electric household appliances",
          "all/Food and non-alcoholic beverages/Food/Sugar, jam, honey, chocolate and confectionery",
          "all/Furnishings, household equipment and routine household maintenance/Household appliances/Major household appliances whether electric or not",
          "all/Health/Medical products, appliances and equipment/Therapeutic appliances and equipment",
          "all/Food and non-alcoholic beverages/Food/Vegetables",
          "all/Furnishings, household equipment and routine household maintenance/Glassware, tableware and household utensils/Glassware, tableware and household utensils",
          "all/Transport/Operation of personal transport equipment/Fuels and lubricants for personal transport equipment",
          "all/Food and non-alcoholic beverages/Food/Fruit",
          "all/Food and non-alcoholic beverages/Food/Vegetables",
          "all/Food and non-alcoholic beverages/Food/Meat",
          "all/Food and non-alcoholic beverages/Food/Fish and seafood",
          "all/Transport/Operation of personal transport equipment/Other services in respect of personal transport equipment",
          "all/Food and non-alcoholic beverages/Food/Sugar, jam, honey, chocolate and confectionery",
          "all/Food and non-alcoholic beverages/Food/Meat",
          "all/Food and non-alcoholic beverages/Food/Milk, cheese and eggs",
          "all/Miscellaneous goods and services/Personal care/Electrical appliances for personal care",
          "all/Recreation and culture/Other recreational items and equipment, gardens and pets/Equipment for sport, camping and open-air recreation",
          "all/Recreation and culture/Audio-visual, photographic and information processing equipment/Equipment for the reception, recording and reproduction of sound and picture",
          "all/Recreation and culture/Audio-visual, photographic and information processing equipment/Equipment for the reception, recording and reproduction of sound and picture",
          "all/Restaurants and hotels/Catering services/Restaurants, cafés and the like",
          "all/Recreation and culture/Newspapers, books and stationery/Books",
          "all/Food and non-alcoholic beverages/Food/Bread and cereals",
          "all/Furnishings, household equipment and routine household maintenance/Household appliances/Small electric household appliances",
          "all/Clothing and footwear/Footwear/Shoes and other footwear",
          "all/Clothing and footwear/Footwear/Shoes and other footwear",
          "all/Clothing and footwear/Footwear/Shoes and other footwear",
          "all/Alcoholic beverages, tobacco and narcotics/Alcoholic beverages/Wine",
          "all/Food and non-alcoholic beverages/Food/Fish and seafood",
          "all/Food and non-alcoholic beverages/Food/Fruit",
          "all/Food and non-alcoholic beverages/Food/Vegetables",
          "all/Food and non-alcoholic beverages/Food/Fish and seafood",
          "all/Food and non-alcoholic beverages/Food/Fruit",
          "all/Food and non-alcoholic beverages/Food/Vegetables",
          "all/Food and non-alcoholic beverages/Non-alcoholic beverages/Mineral waters, soft drinks, fruit and vegetable juices",
          "all/Miscellaneous goods and services/Other services n.e.c./Other services n.e.c.",
          "all/Furnishings, household equipment and routine household maintenance/Household textiles/Household textiles",
          "all/Recreation and culture/Other recreational items and equipment, gardens and pets/Games, toys and hobbies",
          "all/Recreation and culture/Other recreational items and equipment, gardens and pets/Gardens, plants and flowers",
          "all/Clothing and footwear/Clothing/Garments",
          "all/Clothing and footwear/Clothing/Garments",
          "all/Clothing and footwear/Clothing/Garments",
          "all/Furnishings, household equipment and routine household maintenance/Glassware, tableware and household utensils/Glassware, tableware and household utensils",
          "all/Miscellaneous goods and services/Personal care/Hairdressing salons and personal grooming establishments",
          "all/Miscellaneous goods and services/Personal care/Hairdressing salons and personal grooming establishments",
          "all/Furnishings, household equipment and routine household maintenance/Household appliances/Major household appliances whether electric or not",
          "all/Transport/Operation of personal transport equipment/Other services in respect of personal transport equipment",
          "all/Restaurants and hotels/Accommodation services/Accommodation services",
          "all/Furnishings, household equipment and routine household maintenance/Furniture and furnishings, carpets and other floor coverings/Furniture and furnishings",
          "all/Transport/Transport services/Passenger transport by air",
          "all/Furnishings, household equipment and routine household maintenance/Household appliances/Small electric household appliances",
          "all/Food and non-alcoholic beverages/Food/Sugar, jam, honey, chocolate and confectionery",
          "all/Miscellaneous goods and services/Personal effects n.e.c./Jewellery, clocks and watches",
          "all/Alcoholic beverages, tobacco and narcotics/Alcoholic beverages/Beer",
          "all/Miscellaneous goods and services/Other services n.e.c./Other services n.e.c.",
          "all/Communications/Postal services/Postal services",
          "all/Furnishings, household equipment and routine household maintenance/Furniture and furnishings, carpets and other floor coverings/Furniture and furnishings",
          "all/Housing, water, electricity, gas and other fuels/Electricity, gas and other fuels/Gas",
          "all/Alcoholic beverages, tobacco and narcotics/Alcoholic beverages/Beer",
          "all/Food and non-alcoholic beverages/Food/Milk, cheese and eggs",
          "all/Transport/Operation of personal transport equipment/Fuels and lubricants for personal transport equipment",
          "all/Recreation and culture/Newspapers, books and stationery/Newspapers and periodicals",
          "all/Housing, water, electricity, gas and other fuels/Water supply and miscellaneous services relating to the dwelling/Other services relating to the dwelling n.e.c.",
          "all/Food and non-alcoholic beverages/Food/Oils and fats",
          "all/Food and non-alcoholic beverages/Non-alcoholic beverages/Mineral waters, soft drinks, fruit and vegetable juices",
          "all/Furnishings, household equipment and routine household maintenance/Tools and equipment for house and garden/Small tools and miscellaneous accessories",
          "all/Communications/Telephone and telefax equipment/Telephone and telefax equipment",
          "all/Miscellaneous goods and services/Insurance/Insurance connected with transport",
          "all/Furnishings, household equipment and routine household maintenance/Tools and equipment for house and garden/Major tools and equipment",
          "all/Recreation and culture/Recreational and cultural services/Cultural services",
          "all/Housing, water, electricity, gas and other fuels/Electricity, gas and other fuels/Gas",
          "all/Transport/Purchase of vehicles/Motor cars",
          "all/Recreation and culture/Newspapers, books and stationery/Newspapers and periodicals",
          "all/Furnishings, household equipment and routine household maintenance/Glassware, tableware and household utensils/Glassware, tableware and household utensils",
          "all/Miscellaneous goods and services/Personal care/Other appliances, articles and products for personal care",
          "all/Furnishings, household equipment and routine household maintenance/Tools and equipment for house and garden/Small tools and miscellaneous accessories",
          "all/Food and non-alcoholic beverages/Food/Oils and fats",
          "all/Clothing and footwear/Clothing/Other articles of clothing and clothing accessories",
          "all/Food and non-alcoholic beverages/Food/Bread and cereals",
          "all/Food and non-alcoholic beverages/Food/Bread and cereals",
          "all/Food and non-alcoholic beverages/Food/Oils and fats",
          "all/Miscellaneous goods and services/Other services n.e.c./Other services n.e.c.",
          "all/Furnishings, household equipment and routine household maintenance/Furniture and furnishings, carpets and other floor coverings/Carpets and other floor coverings",
          "all/Food and non-alcoholic beverages/Food/Food products n.e.c.",
          "all/Food and non-alcoholic beverages/Food/Meat",
          "all/Health/Medical products, appliances and equipment/Other medical products",
          "all/Food and non-alcoholic beverages/Food/Milk, cheese and eggs",
          "all/Furnishings, household equipment and routine household maintenance/Goods and services for routine household maintenance/Non-durable household goods",
          "all/Recreation and culture/Newspapers, books and stationery/Books",
          "all/Health/Out-patient services/Paramedical services",
          "all/Miscellaneous goods and services/Personal effects n.e.c./Other personal effects",
          "all/Communications/Postal services/Postal services",
          "all/Food and non-alcoholic beverages/Food/Fish and seafood",
          "all/Housing, water, electricity, gas and other fuels/Maintenance and repair of the dwelling/Services for the maintenance and repair of the dwelling",
          "all/Housing, water, electricity, gas and other fuels/Water supply and miscellaneous services relating to the dwelling/Other services relating to the dwelling n.e.c.",
          "all/Housing, water, electricity, gas and other fuels/Electricity, gas and other fuels/Solid fuels",
          "all/Recreation and culture/Newspapers, books and stationery/Stationery and drawing materials",
          "all/Health/Medical products, appliances and equipment/Therapeutic appliances and equipment",
          "all/Food and non-alcoholic beverages/Food/Vegetables",
          "all/Recreation and culture/Package holidays/Package holidays",
          "all/Recreation and culture/Newspapers, books and stationery/Stationery and drawing materials",
          "all/Transport/Transport services/Passenger transport by road",
          "all/Transport/Transport services/Passenger transport by sea and inland waterway",
          "all/Transport/Transport services/Passenger transport by road",
          "all/Transport/Transport services/Passenger transport by railway",
          "all/Food and non-alcoholic beverages/Food/Bread and cereals",
          "all/Recreation and culture/Audio-visual, photographic and information processing equipment/Information processing equipment",
          "all/Miscellaneous goods and services/Personal care/Hairdressing salons and personal grooming establishments",
          "all/Transport/Operation of personal transport equipment/Fuels and lubricants for personal transport equipment",
          "all/Recreation and culture/Recreational and cultural services/Cultural services",
          "all/Food and non-alcoholic beverages/Food/Bread and cereals",
          "all/Recreation and culture/Other recreational items and equipment, gardens and pets/Gardens, plants and flowers",
          "all/Food and non-alcoholic beverages/Food/Meat",
          "all/Food and non-alcoholic beverages/Food/Vegetables",
          "all/Food and non-alcoholic beverages/Food/Meat",
          "all/Education/Pre-primary and primary education/Pre-primary and primary education",
          "all/Recreation and culture/Audio-visual, photographic and information processing equipment/Recording media",
          "all/Health/Medical products, appliances and equipment/Other medical products",
          "all/Food and non-alcoholic beverages/Food/Fruit",
          "all/Food and non-alcoholic beverages/Food/Milk, cheese and eggs",
          "all/Recreation and culture/Other recreational items and equipment, gardens and pets/Pets and related products",
          "all/Food and non-alcoholic beverages/Food/Food products n.e.c.",
          "all/Recreation and culture/Recreational and cultural services/Recreational and sporting services",
          "all/Recreation and culture/Recreational and cultural services/Recreational and sporting services",
          "all/Furnishings, household equipment and routine household maintenance/Household appliances/Major household appliances whether electric or not",
          "all/Clothing and footwear/Clothing/Cleaning, repair and hire of clothing",
          "all/Miscellaneous goods and services/Personal effects n.e.c./Jewellery, clocks and watches",
          "all/Furnishings, household equipment and routine household maintenance/Tools and equipment for house and garden/Major tools and equipment",
          "all/Restaurants and hotels/Catering services/Restaurants, cafés and the like",
          "all/Miscellaneous goods and services/Social protection/Social protection",
          "all/Food and non-alcoholic beverages/Food/Bread and cereals",
          "all/Food and non-alcoholic beverages/Food/Food products n.e.c.",
          "all/Food and non-alcoholic beverages/Food/Food products n.e.c.",
          "all/Transport/Purchase of vehicles/Motor cars",
          "all/Housing, water, electricity, gas and other fuels/Water supply and miscellaneous services relating to the dwelling/Other services relating to the dwelling n.e.c.",
          "all/Food and non-alcoholic beverages/Non-alcoholic beverages/Mineral waters, soft drinks, fruit and vegetable juices",
          "all/Recreation and culture/Audio-visual, photographic and information processing equipment/Information processing equipment",
          "all/Transport/Operation of personal transport equipment/Spares parts and accessories for personal transport equipment",
          "all/Health/Out-patient services/Medical services",
          "all/Alcoholic beverages, tobacco and narcotics/Alcoholic beverages/Spirits",
          "all/Food and non-alcoholic beverages/Food/Sugar, jam, honey, chocolate and confectionery",
          "all/Furnishings, household equipment and routine household maintenance/Household textiles/Household textiles",
          "all/Food and non-alcoholic beverages/Non-alcoholic beverages/Coffee, tea and cocoa",
          "all/Recreation and culture/Recreational and cultural services/Cultural services",
          "all/Recreation and culture/Other recreational items and equipment, gardens and pets/Games, toys and hobbies",
          "all/Miscellaneous goods and services/Personal effects n.e.c./Other personal effects",
          "all/Miscellaneous goods and services/Insurance/Insurance connected with transport",
          "all/Transport/Operation of personal transport equipment/Spares parts and accessories for personal transport equipment",
          "all/Recreation and culture/Audio-visual, photographic and information processing equipment/Recording media",
          "all/Food and non-alcoholic beverages/Food/Milk, cheese and eggs",
          "all/Alcoholic beverages, tobacco and narcotics/Alcoholic beverages/Wine",
          "all/Alcoholic beverages, tobacco and narcotics/Alcoholic beverages/Wine",
          "all/Communications/Telephone and telefax services/Telephone and telefax services",
          "all/Communications/Telephone and telefax services/Telephone and telefax services",
          "all/Food and non-alcoholic beverages/Food/Milk, cheese and eggs",
          "all/Restaurants and hotels/Accommodation services",
          "all/Alcoholic beverages, tobacco and narcotics/Alcoholic beverages",
          "all/Recreation and culture/Newspapers, books and stationery",
          "all/Food and non-alcoholic beverages/Food",
          "all/Furnishings, household equipment and routine household maintenance/Furniture and furnishings, carpets and other floor coverings",
          "all/Clothing and footwear/Clothing",
          "all/Food and non-alcoholic beverages/Non-alcoholic beverages",
          "all/Recreation and culture/Recreational and cultural services",
          "all/Furnishings, household equipment and routine household maintenance/Goods and services for routine household maintenance",
          "all/Miscellaneous goods and services/Personal care",
          "all/Recreation and culture/Other recreational items and equipment, gardens and pets",
          "all/Recreation and culture/Audio-visual, photographic and information processing equipment",
          "all/Food and non-alcoholic beverages/Food",
          "all/Food and non-alcoholic beverages/Food",
          "all/Food and non-alcoholic beverages/Food",
          "all/Transport/Operation of personal transport equipment",
          "all/Furnishings, household equipment and routine household maintenance/Furniture and furnishings, carpets and other floor coverings",
          "all/Recreation and culture/Other recreational items and equipment, gardens and pets",
          "all/Recreation and culture/Other recreational items and equipment, gardens and pets",
          "all/Clothing and footwear/Clothing",
          "all/Housing, water, electricity, gas and other fuels/Electricity, gas and other fuels",
          "all/Furnishings, household equipment and routine household maintenance/Glassware, tableware and household utensils",
          "all/Miscellaneous goods and services/Personal care",
          "all/Furnishings, household equipment and routine household maintenance/Household textiles",
          "all/Recreation and culture/Audio-visual, photographic and information processing equipment",
          "all/Miscellaneous goods and services/Insurance",
          "all/Miscellaneous goods and services/Personal effects n.e.c.",
          "all/Furnishings, household equipment and routine household maintenance/Household appliances",
          "all/Furnishings, household equipment and routine household maintenance/Tools and equipment for house and garden",
          "all/Food and non-alcoholic beverages/Food",
          "all/Health/Out-patient services",
          "all/Food and non-alcoholic beverages/Food",
          "all/Food and non-alcoholic beverages/Non-alcoholic beverages",
          "all/Transport/Purchase of vehicles",
          "all/Recreation and culture/Newspapers, books and stationery",
          "all/Furnishings, household equipment and routine household maintenance/Goods and services for routine household maintenance",
          "all/Food and non-alcoholic beverages/Food",
          "all/Miscellaneous goods and services/Personal care",
          "all/Clothing and footwear/Clothing",
          "all/Miscellaneous goods and services/Financial services n.e.c.",
          "all/Health/Medical products, appliances and equipment",
          "all/Miscellaneous goods and services/Personal effects n.e.c.",
          "all/Transport/Operation of personal transport equipment",
          "all/Miscellaneous goods and services/Other services n.e.c.",
          "all/Housing, water, electricity, gas and other fuels/Water supply and miscellaneous services relating to the dwelling",
          "all/Recreation and culture/Package holidays",
          "all/Health/Out-patient services",
          "all/Transport/Transport services",
          "all/Transport/Transport services",
          "all/Transport/Transport services",
          "all/Transport/Transport services",
          "all/Recreation and culture/Other recreational items and equipment, gardens and pets",
          "all/Recreation and culture/Audio-visual, photographic and information processing equipment",
          "all/Communications/Postal services",
          "all/Education/Pre-primary and primary education",
          "all/Recreation and culture/Audio-visual, photographic and information processing equipment",
          "all/Recreation and culture/Recreational and cultural services",
          "all/Restaurants and hotels/Catering services",
          "all/Housing, water, electricity, gas and other fuels/Maintenance and repair of the dwelling",
          "all/Clothing and footwear/Footwear",
          "all/Furnishings, household equipment and routine household maintenance/Household appliances",
          "all/Furnishings, household equipment and routine household maintenance/Tools and equipment for house and garden",
          "all/Miscellaneous goods and services/Social protection",
          "all/Housing, water, electricity, gas and other fuels/Electricity, gas and other fuels",
          "all/Transport/Operation of personal transport equipment",
          "all/Alcoholic beverages, tobacco and narcotics/Alcoholic beverages",
          "all/Recreation and culture/Newspapers, books and stationery",
          "all/Food and non-alcoholic beverages/Food",
          "all/Communications/Telephone and telefax equipment",
          "all/Communications/Telephone and telefax services",
          "all/Health/Medical products, appliances and equipment",
          "all/Alcoholic beverages, tobacco and narcotics/Tobacco",
          "all/Food and non-alcoholic beverages/Food",
          "all/Alcoholic beverages, tobacco and narcotics/Alcoholic beverages",
          "all/Restaurants and hotels",
          "all/Alcoholic beverages, tobacco and narcotics",
          "all/Recreation and culture",
          "all/Restaurants and hotels",
          "all/Clothing and footwear",
          "all/Housing, water, electricity, gas and other fuels",
          "all/Miscellaneous goods and services",
          "all/Food and non-alcoholic beverages",
          "all/Clothing and footwear",
          "all/Furnishings, household equipment and routine household maintenance",
          "all/Furnishings, household equipment and routine household maintenance",
          "all/Furnishings, household equipment and routine household maintenance",
          "all/Furnishings, household equipment and routine household maintenance",
          "all/Furnishings, household equipment and routine household maintenance",
          "all/Miscellaneous goods and services",
          "all/Housing, water, electricity, gas and other fuels",
          "all/Health",
          "all/Recreation and culture",
          "all/Food and non-alcoholic beverages",
          "all/Transport",
          "all/Recreation and culture",
          "all/Miscellaneous goods and services",
          "all/Health",
          "all/Recreation and culture",
          "all/Miscellaneous goods and services",
          "all/Miscellaneous goods and services",
          "all/Communications",
          "all/Education",
          "all/Transport",
          "all/Recreation and culture",
          "all/Miscellaneous goods and services",
          "all/Communications",
          "all/Communications",
          "all/Alcoholic beverages, tobacco and narcotics",
          "all/Furnishings, household equipment and routine household maintenance",
          "all/Transport",
          "all/Housing, water, electricity, gas and other fuels",
          "all",
          "all",
          "all",
          "all",
          "all",
          "all",
          "all",
          "all",
          "all",
          "all",
          "all",
          "all",
          ""
         ],
         "root": {
          "color": "lightgrey"
         },
         "type": "treemap",
         "values": [
          0.009017291538103095,
          0.06982103950732339,
          0,
          0,
          0.09573945568807224,
          0.005289472689948742,
          0.3022303943175951,
          0.03687518103849981,
          0.09934133471027543,
          0.04419228492626223,
          0.34578038613150636,
          0.04931803584247447,
          0,
          0.07702479755172978,
          0,
          0,
          0,
          0.9935140989635153,
          0.05333551629031648,
          0.5474604234096949,
          0.0047479314383587524,
          0.07023664093296224,
          0.06823419770033878,
          0.039041346044859766,
          0.009168419329244486,
          0.014054884576149517,
          0.0884097578177147,
          0,
          0.0029092099794718086,
          0.00020150372152185687,
          0.19325466292205584,
          0.056672921678022244,
          0.1717315466670025,
          0.07129453547095199,
          0.08752817903605656,
          0.12029772174854854,
          0.013261463672657207,
          2.1540621890860545,
          0.046471795775978236,
          0.21077289271186228,
          0.3723788773723915,
          0.10956764857750965,
          0.004458269838671084,
          0.21996650000629697,
          0.008450562321322873,
          0.28744505875092885,
          0,
          0,
          0.005856201906728965,
          0.02045262773446847,
          0.1846025968792111,
          0.16321801443270406,
          0.2285178141883808,
          0,
          0,
          0,
          0,
          0,
          0.4273642053826681,
          0.7976524816442704,
          2.25608604208909,
          0.0019646612848381044,
          0.06508570205155977,
          0.02191352971550193,
          0.011674621865672582,
          0.024029318791481433,
          0.04528796141203733,
          0.03380224928529149,
          0,
          0.2620555898391748,
          0.36179993199249394,
          0,
          0,
          0.004949435159880609,
          0,
          0,
          0.0029469919272571564,
          0.46335780763950984,
          0.43449239953150387,
          1.0235003715224866,
          0,
          0.10931576892560735,
          0.043323300127199225,
          0.07676032391723235,
          0,
          0,
          0.050476682241225146,
          0.003526315126632495,
          0.003878946639295745,
          0.22895860357920986,
          0.00465977356019294,
          0,
          0.028311272873820893,
          0.015112779114139264,
          0.053599989924813914,
          0.12468042769164894,
          0,
          0.23203153533241816,
          0.15238718940090423,
          0,
          0,
          0,
          0,
          0.040300744304371375,
          0.0019772552674332208,
          0.1019608830900596,
          0.030401873984610157,
          0,
          0.5200307293175321,
          0.006082893593441053,
          0.05268062919537045,
          0.01889097389267408,
          0,
          0.023613717365842602,
          0.3113862196642444,
          0.014810523531856478,
          0.3993929700389154,
          0.31646159465007623,
          0,
          0.020339281891112428,
          0.1466443333375313,
          0,
          0,
          0.07369998614661914,
          0.06829716761331436,
          1.034721610014735,
          0.07616840673526189,
          0,
          0.002518796519023211,
          1.242446758938579,
          0.015881012052441343,
          0,
          0.04862536679974309,
          0,
          0,
          0.05950656776192335,
          0,
          0,
          2.414153117640392,
          0,
          0.012392478873594195,
          0.41717567346321927,
          0.021044544916438927,
          0.2686044607886352,
          0,
          0.030502625845371077,
          0,
          0,
          0.007354885835547775,
          0.0008563908164678917,
          0,
          0.1948540987116356,
          0.027177814440260444,
          0.31666309837159806,
          0.05939322191856731,
          0.004231578151958995,
          0.004281954082339458,
          0.0092565772074103,
          0.2987922370691284,
          0.010112968023878191,
          0.07509791821467703,
          0,
          0.3821014319358211,
          0.39058977620492935,
          0.004332330012719923,
          0.01722856819011876,
          0,
          0.11096558064556755,
          0.09793080865962243,
          0,
          0.005037593038046422,
          0.030124806367517604,
          0.03948213543568883,
          0,
          0,
          0,
          0,
          0.03823533115877234,
          0,
          0,
          0.2619548379784139,
          0,
          0,
          0,
          0.047831945896250776,
          0.46335780763950984,
          0.0806392705565281,
          0.16321801443270406,
          1.2967268239235294,
          0,
          0.04327292419681876,
          0.23293830207926652,
          0.0047479314383587524,
          0.009168419329244486,
          0,
          0,
          0.026308829641197434,
          0.5388965152450159,
          0.6374444290517991,
          0.9165648653073561,
          4.572875080286639,
          0.484969081772729,
          0.03380224928529149,
          0.41717567346321927,
          0.6238555218316688,
          0.003526315126632495,
          0.053562207977028584,
          0.004949435159880609,
          0.17475410248983037,
          0.009017291538103095,
          0.23203153533241816,
          0.0616601387856882,
          0.28733171290757276,
          0.16164376660831453,
          0.75745248920066,
          0.09793080865962243,
          1.9579990680452881,
          0.08250317998060526,
          0.39058977620492935,
          0,
          0.38669823558303845,
          0.17522007984584964,
          0.3042076495850283,
          0,
          0,
          0.014810523531856478,
          0.15193380602748005,
          0.007405261765928241,
          0.04292029268415551,
          0.10094077049985517,
          1.242446758938579,
          0.020339281891112428,
          1.0235003715224866,
          0,
          0,
          0.04862536679974309,
          0,
          0,
          0,
          0.030502625845371077,
          0,
          0.3438409128118585,
          0.4833948339483395,
          0.07369998614661914,
          0,
          0.056672921678022244,
          0.22664131078170854,
          0.010112968023878191,
          1.0376308199942068,
          0.2190219513116633,
          0.09573945568807224,
          0.09204941878770323,
          0.5593869249272697,
          0,
          0,
          0.08752817903605656,
          0.5474604234096949,
          2.880193443572661,
          0.2619548379784139,
          0.46335780763950984,
          0.4383335642230142,
          0.03532612117930053,
          0.4833948339483395,
          0.6671284460284875,
          1.0411571351208393,
          0,
          9.71988463911943,
          0,
          0.484969081772729,
          0.053562207977028584,
          0.39586665491228296,
          0.344004634585595,
          0.17475410248983037,
          0.23203153533241816,
          0.07369998614661914,
          0.10233870256791304,
          0.2552674332204073,
          0.31544148205987177,
          4.799302293364231,
          0.4509779227485108,
          0.04292029268415551,
          0.11827009055073487,
          1.242446758938579,
          0.3091570847449089,
          0.21359394481316823,
          0,
          0.030502625845371077,
          0.39058977620492935,
          0.3485888442502173,
          0.010112968023878191,
          0,
          0,
          0.5474604234096949,
          0.38828507739002305,
          1.0721257383222298,
          0.10094077049985517,
          0.9857939876327091,
          0.6671284460284875,
          0,
          0.030502625845371077,
          10.0353261211793,
          1.841441759127489,
          0.2206087931186479,
          1.2157978917673136,
          0.8078158255985289,
          2.3326070803370147,
          0.9467526415878493,
          6.26201780789139,
          25.3457929801141
         ]
        }
       ],
       "layout": {
        "font": {
         "size": 13
        },
        "legend": {
         "tracegroupgap": 0
        },
        "margin": {
         "b": 25,
         "l": 25,
         "r": 25,
         "t": 100
        },
        "template": {
         "data": {
          "bar": [
           {
            "error_x": {
             "color": "#2a3f5f"
            },
            "error_y": {
             "color": "#2a3f5f"
            },
            "marker": {
             "line": {
              "color": "#E5ECF6",
              "width": 0.5
             },
             "pattern": {
              "fillmode": "overlay",
              "size": 10,
              "solidity": 0.2
             }
            },
            "type": "bar"
           }
          ],
          "barpolar": [
           {
            "marker": {
             "line": {
              "color": "#E5ECF6",
              "width": 0.5
             },
             "pattern": {
              "fillmode": "overlay",
              "size": 10,
              "solidity": 0.2
             }
            },
            "type": "barpolar"
           }
          ],
          "carpet": [
           {
            "aaxis": {
             "endlinecolor": "#2a3f5f",
             "gridcolor": "white",
             "linecolor": "white",
             "minorgridcolor": "white",
             "startlinecolor": "#2a3f5f"
            },
            "baxis": {
             "endlinecolor": "#2a3f5f",
             "gridcolor": "white",
             "linecolor": "white",
             "minorgridcolor": "white",
             "startlinecolor": "#2a3f5f"
            },
            "type": "carpet"
           }
          ],
          "choropleth": [
           {
            "colorbar": {
             "outlinewidth": 0,
             "ticks": ""
            },
            "type": "choropleth"
           }
          ],
          "contour": [
           {
            "colorbar": {
             "outlinewidth": 0,
             "ticks": ""
            },
            "colorscale": [
             [
              0,
              "#0d0887"
             ],
             [
              0.1111111111111111,
              "#46039f"
             ],
             [
              0.2222222222222222,
              "#7201a8"
             ],
             [
              0.3333333333333333,
              "#9c179e"
             ],
             [
              0.4444444444444444,
              "#bd3786"
             ],
             [
              0.5555555555555556,
              "#d8576b"
             ],
             [
              0.6666666666666666,
              "#ed7953"
             ],
             [
              0.7777777777777778,
              "#fb9f3a"
             ],
             [
              0.8888888888888888,
              "#fdca26"
             ],
             [
              1,
              "#f0f921"
             ]
            ],
            "type": "contour"
           }
          ],
          "contourcarpet": [
           {
            "colorbar": {
             "outlinewidth": 0,
             "ticks": ""
            },
            "type": "contourcarpet"
           }
          ],
          "heatmap": [
           {
            "colorbar": {
             "outlinewidth": 0,
             "ticks": ""
            },
            "colorscale": [
             [
              0,
              "#0d0887"
             ],
             [
              0.1111111111111111,
              "#46039f"
             ],
             [
              0.2222222222222222,
              "#7201a8"
             ],
             [
              0.3333333333333333,
              "#9c179e"
             ],
             [
              0.4444444444444444,
              "#bd3786"
             ],
             [
              0.5555555555555556,
              "#d8576b"
             ],
             [
              0.6666666666666666,
              "#ed7953"
             ],
             [
              0.7777777777777778,
              "#fb9f3a"
             ],
             [
              0.8888888888888888,
              "#fdca26"
             ],
             [
              1,
              "#f0f921"
             ]
            ],
            "type": "heatmap"
           }
          ],
          "heatmapgl": [
           {
            "colorbar": {
             "outlinewidth": 0,
             "ticks": ""
            },
            "colorscale": [
             [
              0,
              "#0d0887"
             ],
             [
              0.1111111111111111,
              "#46039f"
             ],
             [
              0.2222222222222222,
              "#7201a8"
             ],
             [
              0.3333333333333333,
              "#9c179e"
             ],
             [
              0.4444444444444444,
              "#bd3786"
             ],
             [
              0.5555555555555556,
              "#d8576b"
             ],
             [
              0.6666666666666666,
              "#ed7953"
             ],
             [
              0.7777777777777778,
              "#fb9f3a"
             ],
             [
              0.8888888888888888,
              "#fdca26"
             ],
             [
              1,
              "#f0f921"
             ]
            ],
            "type": "heatmapgl"
           }
          ],
          "histogram": [
           {
            "marker": {
             "pattern": {
              "fillmode": "overlay",
              "size": 10,
              "solidity": 0.2
             }
            },
            "type": "histogram"
           }
          ],
          "histogram2d": [
           {
            "colorbar": {
             "outlinewidth": 0,
             "ticks": ""
            },
            "colorscale": [
             [
              0,
              "#0d0887"
             ],
             [
              0.1111111111111111,
              "#46039f"
             ],
             [
              0.2222222222222222,
              "#7201a8"
             ],
             [
              0.3333333333333333,
              "#9c179e"
             ],
             [
              0.4444444444444444,
              "#bd3786"
             ],
             [
              0.5555555555555556,
              "#d8576b"
             ],
             [
              0.6666666666666666,
              "#ed7953"
             ],
             [
              0.7777777777777778,
              "#fb9f3a"
             ],
             [
              0.8888888888888888,
              "#fdca26"
             ],
             [
              1,
              "#f0f921"
             ]
            ],
            "type": "histogram2d"
           }
          ],
          "histogram2dcontour": [
           {
            "colorbar": {
             "outlinewidth": 0,
             "ticks": ""
            },
            "colorscale": [
             [
              0,
              "#0d0887"
             ],
             [
              0.1111111111111111,
              "#46039f"
             ],
             [
              0.2222222222222222,
              "#7201a8"
             ],
             [
              0.3333333333333333,
              "#9c179e"
             ],
             [
              0.4444444444444444,
              "#bd3786"
             ],
             [
              0.5555555555555556,
              "#d8576b"
             ],
             [
              0.6666666666666666,
              "#ed7953"
             ],
             [
              0.7777777777777778,
              "#fb9f3a"
             ],
             [
              0.8888888888888888,
              "#fdca26"
             ],
             [
              1,
              "#f0f921"
             ]
            ],
            "type": "histogram2dcontour"
           }
          ],
          "mesh3d": [
           {
            "colorbar": {
             "outlinewidth": 0,
             "ticks": ""
            },
            "type": "mesh3d"
           }
          ],
          "parcoords": [
           {
            "line": {
             "colorbar": {
              "outlinewidth": 0,
              "ticks": ""
             }
            },
            "type": "parcoords"
           }
          ],
          "pie": [
           {
            "automargin": true,
            "type": "pie"
           }
          ],
          "scatter": [
           {
            "fillpattern": {
             "fillmode": "overlay",
             "size": 10,
             "solidity": 0.2
            },
            "type": "scatter"
           }
          ],
          "scatter3d": [
           {
            "line": {
             "colorbar": {
              "outlinewidth": 0,
              "ticks": ""
             }
            },
            "marker": {
             "colorbar": {
              "outlinewidth": 0,
              "ticks": ""
             }
            },
            "type": "scatter3d"
           }
          ],
          "scattercarpet": [
           {
            "marker": {
             "colorbar": {
              "outlinewidth": 0,
              "ticks": ""
             }
            },
            "type": "scattercarpet"
           }
          ],
          "scattergeo": [
           {
            "marker": {
             "colorbar": {
              "outlinewidth": 0,
              "ticks": ""
             }
            },
            "type": "scattergeo"
           }
          ],
          "scattergl": [
           {
            "marker": {
             "colorbar": {
              "outlinewidth": 0,
              "ticks": ""
             }
            },
            "type": "scattergl"
           }
          ],
          "scattermapbox": [
           {
            "marker": {
             "colorbar": {
              "outlinewidth": 0,
              "ticks": ""
             }
            },
            "type": "scattermapbox"
           }
          ],
          "scatterpolar": [
           {
            "marker": {
             "colorbar": {
              "outlinewidth": 0,
              "ticks": ""
             }
            },
            "type": "scatterpolar"
           }
          ],
          "scatterpolargl": [
           {
            "marker": {
             "colorbar": {
              "outlinewidth": 0,
              "ticks": ""
             }
            },
            "type": "scatterpolargl"
           }
          ],
          "scatterternary": [
           {
            "marker": {
             "colorbar": {
              "outlinewidth": 0,
              "ticks": ""
             }
            },
            "type": "scatterternary"
           }
          ],
          "surface": [
           {
            "colorbar": {
             "outlinewidth": 0,
             "ticks": ""
            },
            "colorscale": [
             [
              0,
              "#0d0887"
             ],
             [
              0.1111111111111111,
              "#46039f"
             ],
             [
              0.2222222222222222,
              "#7201a8"
             ],
             [
              0.3333333333333333,
              "#9c179e"
             ],
             [
              0.4444444444444444,
              "#bd3786"
             ],
             [
              0.5555555555555556,
              "#d8576b"
             ],
             [
              0.6666666666666666,
              "#ed7953"
             ],
             [
              0.7777777777777778,
              "#fb9f3a"
             ],
             [
              0.8888888888888888,
              "#fdca26"
             ],
             [
              1,
              "#f0f921"
             ]
            ],
            "type": "surface"
           }
          ],
          "table": [
           {
            "cells": {
             "fill": {
              "color": "#EBF0F8"
             },
             "line": {
              "color": "white"
             }
            },
            "header": {
             "fill": {
              "color": "#C8D4E3"
             },
             "line": {
              "color": "white"
             }
            },
            "type": "table"
           }
          ]
         },
         "layout": {
          "annotationdefaults": {
           "arrowcolor": "#2a3f5f",
           "arrowhead": 0,
           "arrowwidth": 1
          },
          "autotypenumbers": "strict",
          "coloraxis": {
           "colorbar": {
            "outlinewidth": 0,
            "ticks": ""
           }
          },
          "colorscale": {
           "diverging": [
            [
             0,
             "#8e0152"
            ],
            [
             0.1,
             "#c51b7d"
            ],
            [
             0.2,
             "#de77ae"
            ],
            [
             0.3,
             "#f1b6da"
            ],
            [
             0.4,
             "#fde0ef"
            ],
            [
             0.5,
             "#f7f7f7"
            ],
            [
             0.6,
             "#e6f5d0"
            ],
            [
             0.7,
             "#b8e186"
            ],
            [
             0.8,
             "#7fbc41"
            ],
            [
             0.9,
             "#4d9221"
            ],
            [
             1,
             "#276419"
            ]
           ],
           "sequential": [
            [
             0,
             "#0d0887"
            ],
            [
             0.1111111111111111,
             "#46039f"
            ],
            [
             0.2222222222222222,
             "#7201a8"
            ],
            [
             0.3333333333333333,
             "#9c179e"
            ],
            [
             0.4444444444444444,
             "#bd3786"
            ],
            [
             0.5555555555555556,
             "#d8576b"
            ],
            [
             0.6666666666666666,
             "#ed7953"
            ],
            [
             0.7777777777777778,
             "#fb9f3a"
            ],
            [
             0.8888888888888888,
             "#fdca26"
            ],
            [
             1,
             "#f0f921"
            ]
           ],
           "sequentialminus": [
            [
             0,
             "#0d0887"
            ],
            [
             0.1111111111111111,
             "#46039f"
            ],
            [
             0.2222222222222222,
             "#7201a8"
            ],
            [
             0.3333333333333333,
             "#9c179e"
            ],
            [
             0.4444444444444444,
             "#bd3786"
            ],
            [
             0.5555555555555556,
             "#d8576b"
            ],
            [
             0.6666666666666666,
             "#ed7953"
            ],
            [
             0.7777777777777778,
             "#fb9f3a"
            ],
            [
             0.8888888888888888,
             "#fdca26"
            ],
            [
             1,
             "#f0f921"
            ]
           ]
          },
          "colorway": [
           "#636efa",
           "#EF553B",
           "#00cc96",
           "#ab63fa",
           "#FFA15A",
           "#19d3f3",
           "#FF6692",
           "#B6E880",
           "#FF97FF",
           "#FECB52"
          ],
          "font": {
           "color": "#2a3f5f"
          },
          "geo": {
           "bgcolor": "white",
           "lakecolor": "white",
           "landcolor": "#E5ECF6",
           "showlakes": true,
           "showland": true,
           "subunitcolor": "white"
          },
          "hoverlabel": {
           "align": "left"
          },
          "hovermode": "closest",
          "mapbox": {
           "style": "light"
          },
          "paper_bgcolor": "white",
          "plot_bgcolor": "#E5ECF6",
          "polar": {
           "angularaxis": {
            "gridcolor": "white",
            "linecolor": "white",
            "ticks": ""
           },
           "bgcolor": "#E5ECF6",
           "radialaxis": {
            "gridcolor": "white",
            "linecolor": "white",
            "ticks": ""
           }
          },
          "scene": {
           "xaxis": {
            "backgroundcolor": "#E5ECF6",
            "gridcolor": "white",
            "gridwidth": 2,
            "linecolor": "white",
            "showbackground": true,
            "ticks": "",
            "zerolinecolor": "white"
           },
           "yaxis": {
            "backgroundcolor": "#E5ECF6",
            "gridcolor": "white",
            "gridwidth": 2,
            "linecolor": "white",
            "showbackground": true,
            "ticks": "",
            "zerolinecolor": "white"
           },
           "zaxis": {
            "backgroundcolor": "#E5ECF6",
            "gridcolor": "white",
            "gridwidth": 2,
            "linecolor": "white",
            "showbackground": true,
            "ticks": "",
            "zerolinecolor": "white"
           }
          },
          "shapedefaults": {
           "line": {
            "color": "#2a3f5f"
           }
          },
          "ternary": {
           "aaxis": {
            "gridcolor": "white",
            "linecolor": "white",
            "ticks": ""
           },
           "baxis": {
            "gridcolor": "white",
            "linecolor": "white",
            "ticks": ""
           },
           "bgcolor": "#E5ECF6",
           "caxis": {
            "gridcolor": "white",
            "linecolor": "white",
            "ticks": ""
           }
          },
          "title": {
           "x": 0.05
          },
          "xaxis": {
           "automargin": true,
           "gridcolor": "white",
           "linecolor": "white",
           "ticks": "",
           "title": {
            "standoff": 15
           },
           "zerolinecolor": "white",
           "zerolinewidth": 2
          },
          "yaxis": {
           "automargin": true,
           "gridcolor": "white",
           "linecolor": "white",
           "ticks": "",
           "title": {
            "standoff": 15
           },
           "zerolinecolor": "white",
           "zerolinewidth": 2
          }
         }
        },
        "title": {
         "text": "\n<b>Consumer price growth by spending category, 2022-02 (1.3% month total) </b><br>\nPrev: <a href=\"https://taivoai-public.s3.eu-central-1.amazonaws.com/inflation_charts/2022-01.html\">2022-01</a>\nNext: <a href=\"https://taivoai-public.s3.eu-central-1.amazonaws.com/inflation_charts/2022-03.html\">2022-03</a>\n| Data: <a href=\"https://ec.europa.eu/eurostat/databrowser/view/PRC_HICP_MMOR__custom_2846191/default/table?lang=en\">Eurostat</a>\n| Author: <a href=\"https://taivo.ai/estonia-inflation-2022\">Taivo Pungas</a>\n    "
        }
       }
      },
      "text/html": [
       "<div>                            <div id=\"e18ed4a0-ab31-448c-8a80-d37344f92c64\" class=\"plotly-graph-div\" style=\"height:525px; width:100%;\"></div>            <script type=\"text/javascript\">                require([\"plotly\"], function(Plotly) {                    window.PLOTLYENV=window.PLOTLYENV || {};                                    if (document.getElementById(\"e18ed4a0-ab31-448c-8a80-d37344f92c64\")) {                    Plotly.newPlot(                        \"e18ed4a0-ab31-448c-8a80-d37344f92c64\",                        [{\"branchvalues\":\"total\",\"domain\":{\"x\":[0.0,1.0],\"y\":[0.0,1.0]},\"hovertemplate\":\"labels=%{label}<br>val=%{value}<br>parent=%{parent}<br>id=%{id}<extra></extra>\",\"ids\":[\"all/Recreation and culture/Audio-visual, photographic and information processing equipment/Information processing equipment/Accessories for information processing equipment\",\"all/Transport/Operation of personal transport equipment/Spares parts and accessories for personal transport equipment/Accessories for personal transport equipment\",\"all/Restaurants and hotels/Accommodation services/Accommodation services/Accommodation services of other establishments\",\"all/Miscellaneous goods and services/Other services n.e.c./Other services n.e.c./Administrative fees\",\"all/Alcoholic beverages, tobacco and narcotics/Alcoholic beverages/Spirits/Alcoholic soft drinks\",\"all/Miscellaneous goods and services/Personal effects n.e.c./Other personal effects/Articles for babies\",\"all/Miscellaneous goods and services/Personal care/Other appliances, articles and products for personal care/Articles for personal hygiene and wellness, esoteric products and beauty products\",\"all/Food and non-alcoholic beverages/Food/Food products n.e.c./Baby food\",\"all/Furnishings, household equipment and routine household maintenance/Household textiles/Household textiles/Bed linen\",\"all/Food and non-alcoholic beverages/Food/Meat/Beef and veal\",\"all/Food and non-alcoholic beverages/Food/Bread and cereals/Bread\",\"all/Food and non-alcoholic beverages/Food/Bread and cereals/Breakfast cereals\",\"all/Communications/Telephone and telefax services/Telephone and telefax services/Bundled telecommunication services\",\"all/Food and non-alcoholic beverages/Food/Oils and fats/Butter\",\"all/Recreation and culture/Audio-visual, photographic and information processing equipment/Photographic and cinematographic equipment and optical instruments/Cameras\",\"all/Furnishings, household equipment and routine household maintenance/Furniture and furnishings, carpets and other floor coverings/Carpets and other floor coverings/Carpet and rugs\",\"all/Miscellaneous goods and services/Financial services n.e.c./Other financial services n.e.c./Charges by banks and post offices\",\"all/Food and non-alcoholic beverages/Food/Milk, cheese and eggs/Cheese and curd\",\"all/Food and non-alcoholic beverages/Food/Sugar, jam, honey, chocolate and confectionery/Chocolate\",\"all/Alcoholic beverages, tobacco and narcotics/Tobacco/Tobacco/Cigarettes\",\"all/Recreation and culture/Recreational and cultural services/Cultural services/Cinemas, theatres, concerts\",\"all/Furnishings, household equipment and routine household maintenance/Goods and services for routine household maintenance/Non-durable household goods/Cleaning and maintenance products\",\"all/Furnishings, household equipment and routine household maintenance/Household appliances/Major household appliances whether electric or not/Cleaning equipment\",\"all/Clothing and footwear/Clothing/Cleaning, repair and hire of clothing/Cleaning of clothing\",\"all/Furnishings, household equipment and routine household maintenance/Goods and services for routine household maintenance/Domestic services and household services/Cleaning services\",\"all/Miscellaneous goods and services/Personal effects n.e.c./Jewellery, clocks and watches/Clocks and watches\",\"all/Furnishings, household equipment and routine household maintenance/Household appliances/Major household appliances whether electric or not/Clothes washing machines, clothes drying machines and dish washing machines\",\"all/Clothing and footwear/Clothing/Other articles of clothing and clothing accessories/Clothing accessories\",\"all/Housing, water, electricity, gas and other fuels/Electricity, gas and other fuels/Solid fuels/Coal\",\"all/Food and non-alcoholic beverages/Non-alcoholic beverages/Coffee, tea and cocoa/Cocoa and powdered chocolate\",\"all/Food and non-alcoholic beverages/Non-alcoholic beverages/Coffee, tea and cocoa/Coffee\",\"all/Furnishings, household equipment and routine household maintenance/Household appliances/Small electric household appliances/Coffee machines, tea-makers and similar appliances\",\"all/Food and non-alcoholic beverages/Food/Sugar, jam, honey, chocolate and confectionery/Confectionery products\",\"all/Furnishings, household equipment and routine household maintenance/Household appliances/Major household appliances whether electric or not/Cookers\",\"all/Health/Medical products, appliances and equipment/Therapeutic appliances and equipment/Corrective eye-glasses and contact lenses\",\"all/Food and non-alcoholic beverages/Food/Vegetables/Crisps\",\"all/Furnishings, household equipment and routine household maintenance/Glassware, tableware and household utensils/Glassware, tableware and household utensils/Cutlery, flatware and silverware\",\"all/Transport/Operation of personal transport equipment/Fuels and lubricants for personal transport equipment/Diesel\",\"all/Food and non-alcoholic beverages/Food/Fruit/Dried fruit and nuts\",\"all/Food and non-alcoholic beverages/Food/Vegetables/Dried vegetables, other preserved or processed vegetables\",\"all/Food and non-alcoholic beverages/Food/Meat/Dried, salted or smoked meat\",\"all/Food and non-alcoholic beverages/Food/Fish and seafood/Dried, smoked or salted fish and seafood\",\"all/Transport/Operation of personal transport equipment/Other services in respect of personal transport equipment/Driving lessons, tests, licences and road worthiness tests\",\"all/Food and non-alcoholic beverages/Food/Sugar, jam, honey, chocolate and confectionery/Edible ices and ice cream\",\"all/Food and non-alcoholic beverages/Food/Meat/Edible offal\",\"all/Food and non-alcoholic beverages/Food/Milk, cheese and eggs/Eggs\",\"all/Miscellaneous goods and services/Personal care/Electrical appliances for personal care/Electric appliances for personal care\",\"all/Recreation and culture/Other recreational items and equipment, gardens and pets/Equipment for sport, camping and open-air recreation/Equipment for sport\",\"all/Recreation and culture/Audio-visual, photographic and information processing equipment/Equipment for the reception, recording and reproduction of sound and picture/Equipment for the reception, recording and reproduction of sound\",\"all/Recreation and culture/Audio-visual, photographic and information processing equipment/Equipment for the reception, recording and reproduction of sound and picture/Equipment for the reception, recording and reproduction of sound and vision\",\"all/Restaurants and hotels/Catering services/Restaurants, caf\\u00e9s and the like/Fast food and take away food services\",\"all/Recreation and culture/Newspapers, books and stationery/Books/Fiction books\",\"all/Food and non-alcoholic beverages/Food/Bread and cereals/Flours and other cereals\",\"all/Furnishings, household equipment and routine household maintenance/Household appliances/Small electric household appliances/Food processing appliances\",\"all/Clothing and footwear/Footwear/Shoes and other footwear/Footwear for infants and children\",\"all/Clothing and footwear/Footwear/Shoes and other footwear/Footwear for men\",\"all/Clothing and footwear/Footwear/Shoes and other footwear/Footwear for women\",\"all/Alcoholic beverages, tobacco and narcotics/Alcoholic beverages/Wine/Fortified wines\",\"all/Food and non-alcoholic beverages/Food/Fish and seafood/Fresh or chilled fish\",\"all/Food and non-alcoholic beverages/Food/Fruit/Fresh or chilled fruit\",\"all/Food and non-alcoholic beverages/Food/Vegetables/Fresh or chilled vegetables other than potatoes and other tubers\",\"all/Food and non-alcoholic beverages/Food/Fish and seafood/Frozen fish\",\"all/Food and non-alcoholic beverages/Food/Fruit/Frozen fruit\",\"all/Food and non-alcoholic beverages/Food/Vegetables/Frozen vegetables other than potatoes and other tubers\",\"all/Food and non-alcoholic beverages/Non-alcoholic beverages/Mineral waters, soft drinks, fruit and vegetable juices/Fruit and vegetables juices\",\"all/Miscellaneous goods and services/Other services n.e.c./Other services n.e.c./Funeral services\",\"all/Furnishings, household equipment and routine household maintenance/Household textiles/Household textiles/Furnishings fabrics and curtains\",\"all/Recreation and culture/Other recreational items and equipment, gardens and pets/Games, toys and hobbies/Games and hobbies\",\"all/Recreation and culture/Other recreational items and equipment, gardens and pets/Gardens, plants and flowers/Garden products\",\"all/Clothing and footwear/Clothing/Garments/Garments for infants (0 to 2 years) and children (3 to 13 years)\",\"all/Clothing and footwear/Clothing/Garments/Garments for men\",\"all/Clothing and footwear/Clothing/Garments/Garments for women\",\"all/Furnishings, household equipment and routine household maintenance/Glassware, tableware and household utensils/Glassware, tableware and household utensils/Glassware, crystal-ware, ceramic ware and chinaware\",\"all/Miscellaneous goods and services/Personal care/Hairdressing salons and personal grooming establishments/Hairdressing for men and children\",\"all/Miscellaneous goods and services/Personal care/Hairdressing salons and personal grooming establishments/Hairdressing for women\",\"all/Furnishings, household equipment and routine household maintenance/Household appliances/Major household appliances whether electric or not/Heaters, air conditioners\",\"all/Transport/Operation of personal transport equipment/Other services in respect of personal transport equipment/Hire of garages, parking spaces and personal transport equipment\",\"all/Restaurants and hotels/Accommodation services/Accommodation services/Hotels, motels, inns and similar accommodation services\",\"all/Furnishings, household equipment and routine household maintenance/Furniture and furnishings, carpets and other floor coverings/Furniture and furnishings/Household furniture\",\"all/Transport/Transport services/Passenger transport by air/International flights\",\"all/Furnishings, household equipment and routine household maintenance/Household appliances/Small electric household appliances/Irons\",\"all/Food and non-alcoholic beverages/Food/Sugar, jam, honey, chocolate and confectionery/Jams, marmalades and honey\",\"all/Miscellaneous goods and services/Personal effects n.e.c./Jewellery, clocks and watches/Jewellery\",\"all/Alcoholic beverages, tobacco and narcotics/Alcoholic beverages/Beer/Lager beer\",\"all/Miscellaneous goods and services/Other services n.e.c./Other services n.e.c./Legal services and accountancy\",\"all/Communications/Postal services/Postal services/Letter handling services\",\"all/Furnishings, household equipment and routine household maintenance/Furniture and furnishings, carpets and other floor coverings/Furniture and furnishings/Lighting equipment\",\"all/Housing, water, electricity, gas and other fuels/Electricity, gas and other fuels/Gas/Liquefied hydrocarbons (butane, propane, etc.)\",\"all/Alcoholic beverages, tobacco and narcotics/Alcoholic beverages/Beer/Low and non-alcoholic beer\",\"all/Food and non-alcoholic beverages/Food/Milk, cheese and eggs/Low fat milk\",\"all/Transport/Operation of personal transport equipment/Fuels and lubricants for personal transport equipment/Lubricants\",\"all/Recreation and culture/Newspapers, books and stationery/Newspapers and periodicals/Magazines and periodicals\",\"all/Housing, water, electricity, gas and other fuels/Water supply and miscellaneous services relating to the dwelling/Other services relating to the dwelling n.e.c./Maintenance charges in multi-occupied buildings\",\"all/Food and non-alcoholic beverages/Food/Oils and fats/Margarine and other vegetable fats\",\"all/Food and non-alcoholic beverages/Non-alcoholic beverages/Mineral waters, soft drinks, fruit and vegetable juices/Mineral or spring waters\",\"all/Furnishings, household equipment and routine household maintenance/Tools and equipment for house and garden/Small tools and miscellaneous accessories/Miscellaneous small tool accessories\",\"all/Communications/Telephone and telefax equipment/Telephone and telefax equipment/Mobile telephone equipment\",\"all/Miscellaneous goods and services/Insurance/Insurance connected with transport/Motor vehicle insurance\",\"all/Furnishings, household equipment and routine household maintenance/Tools and equipment for house and garden/Major tools and equipment/Motorized major tools and equipment\",\"all/Recreation and culture/Recreational and cultural services/Cultural services/Museums, libraries, zoological gardens\",\"all/Housing, water, electricity, gas and other fuels/Electricity, gas and other fuels/Gas/Natural gas and town gas\",\"all/Transport/Purchase of vehicles/Motor cars/New motor cars\",\"all/Recreation and culture/Newspapers, books and stationery/Newspapers and periodicals/Newspapers\",\"all/Furnishings, household equipment and routine household maintenance/Glassware, tableware and household utensils/Glassware, tableware and household utensils/Non-electric kitchen utensils and articles\",\"all/Miscellaneous goods and services/Personal care/Other appliances, articles and products for personal care/Non-electrical appliances\",\"all/Furnishings, household equipment and routine household maintenance/Tools and equipment for house and garden/Small tools and miscellaneous accessories/Non-motorised small tools\",\"all/Food and non-alcoholic beverages/Food/Oils and fats/Olive oil\",\"all/Clothing and footwear/Clothing/Other articles of clothing and clothing accessories/Other articles of clothing\",\"all/Food and non-alcoholic beverages/Food/Bread and cereals/Other bakery products\",\"all/Food and non-alcoholic beverages/Food/Bread and cereals/Other cereal products\",\"all/Food and non-alcoholic beverages/Food/Oils and fats/Other edible oils\",\"all/Miscellaneous goods and services/Other services n.e.c./Other services n.e.c./Other fees and services\",\"all/Furnishings, household equipment and routine household maintenance/Furniture and furnishings, carpets and other floor coverings/Carpets and other floor coverings/Other floor coverings\",\"all/Food and non-alcoholic beverages/Food/Food products n.e.c./Other food products n.e.c.\",\"all/Food and non-alcoholic beverages/Food/Meat/Other meat preparations\",\"all/Health/Medical products, appliances and equipment/Other medical products/Other medical products n.e.c.\",\"all/Food and non-alcoholic beverages/Food/Milk, cheese and eggs/Other milk products\",\"all/Furnishings, household equipment and routine household maintenance/Goods and services for routine household maintenance/Non-durable household goods/Other non-durable small household articles\",\"all/Recreation and culture/Newspapers, books and stationery/Books/Other non-fiction books\",\"all/Health/Out-patient services/Paramedical services/Other paramedical services\",\"all/Miscellaneous goods and services/Personal effects n.e.c./Other personal effects/Other personal effects n.e.c.\",\"all/Communications/Postal services/Postal services/Other postal services\",\"all/Food and non-alcoholic beverages/Food/Fish and seafood/Other preserved or processed fish and seafood and fish and seafood preparations\",\"all/Housing, water, electricity, gas and other fuels/Maintenance and repair of the dwelling/Services for the maintenance and repair of the dwelling/Other services for maintenance and repair of the dwelling\",\"all/Housing, water, electricity, gas and other fuels/Water supply and miscellaneous services relating to the dwelling/Other services relating to the dwelling n.e.c./Other services related to dwelling\",\"all/Housing, water, electricity, gas and other fuels/Electricity, gas and other fuels/Solid fuels/Other solid fuels\",\"all/Recreation and culture/Newspapers, books and stationery/Stationery and drawing materials/Other stationery and drawing materials\",\"all/Health/Medical products, appliances and equipment/Therapeutic appliances and equipment/Other therapeutic appliances and equipment\",\"all/Food and non-alcoholic beverages/Food/Vegetables/Other tubers and products of tuber vegetables\",\"all/Recreation and culture/Package holidays/Package holidays/Package international holidays\",\"all/Recreation and culture/Newspapers, books and stationery/Stationery and drawing materials/Paper products\",\"all/Transport/Transport services/Passenger transport by road/Passenger transport by bus and coach\",\"all/Transport/Transport services/Passenger transport by sea and inland waterway/Passenger transport by sea\",\"all/Transport/Transport services/Passenger transport by road/Passenger transport by taxi and hired car with driver\",\"all/Transport/Transport services/Passenger transport by railway/Passenger transport by train\",\"all/Food and non-alcoholic beverages/Food/Bread and cereals/Pasta products and couscous\",\"all/Recreation and culture/Audio-visual, photographic and information processing equipment/Information processing equipment/Personal computers\",\"all/Miscellaneous goods and services/Personal care/Hairdressing salons and personal grooming establishments/Personal grooming treatments\",\"all/Transport/Operation of personal transport equipment/Fuels and lubricants for personal transport equipment/Petrol\",\"all/Recreation and culture/Recreational and cultural services/Cultural services/Photographic services\",\"all/Food and non-alcoholic beverages/Food/Bread and cereals/Pizza and quiche\",\"all/Recreation and culture/Other recreational items and equipment, gardens and pets/Gardens, plants and flowers/Plants and flowers\",\"all/Food and non-alcoholic beverages/Food/Meat/Pork\",\"all/Food and non-alcoholic beverages/Food/Vegetables/Potatoes\",\"all/Food and non-alcoholic beverages/Food/Meat/Poultry\",\"all/Education/Pre-primary and primary education/Pre-primary and primary education/Pre-primary education \",\"all/Recreation and culture/Audio-visual, photographic and information processing equipment/Recording media/Pre-recorded recording media\",\"all/Health/Medical products, appliances and equipment/Other medical products/Pregnancy tests and mechanical contraceptive devices\",\"all/Food and non-alcoholic beverages/Food/Fruit/Preserved fruit and fruit-based products\",\"all/Food and non-alcoholic beverages/Food/Milk, cheese and eggs/Preserved milk\",\"all/Recreation and culture/Other recreational items and equipment, gardens and pets/Pets and related products/Products for pets\",\"all/Food and non-alcoholic beverages/Food/Food products n.e.c./Ready-made meals\",\"all/Recreation and culture/Recreational and cultural services/Recreational and sporting services/Recreational and sporting services - Attendance\",\"all/Recreation and culture/Recreational and cultural services/Recreational and sporting services/Recreational and sporting services - Participation\",\"all/Furnishings, household equipment and routine household maintenance/Household appliances/Major household appliances whether electric or not/Refrigerators, freezers and fridge-freezers\",\"all/Clothing and footwear/Clothing/Cleaning, repair and hire of clothing/Repair and hire of clothing\",\"all/Miscellaneous goods and services/Personal effects n.e.c./Jewellery, clocks and watches/Repair of jewellery, clocks and watches\",\"all/Furnishings, household equipment and routine household maintenance/Tools and equipment for house and garden/Major tools and equipment/Repair, leasing and rental of major tools and equipment\",\"all/Restaurants and hotels/Catering services/Restaurants, caf\\u00e9s and the like/Restaurants, caf\\u00e9s and dancing establishments\",\"all/Miscellaneous goods and services/Social protection/Social protection/Retirement homes for elderly persons and residences for disabled persons\",\"all/Food and non-alcoholic beverages/Food/Bread and cereals/Rice\",\"all/Food and non-alcoholic beverages/Food/Food products n.e.c./Salt, spices and culinary herbs\",\"all/Food and non-alcoholic beverages/Food/Food products n.e.c./Sauces, condiments\",\"all/Transport/Purchase of vehicles/Motor cars/Second-hand motor cars\",\"all/Housing, water, electricity, gas and other fuels/Water supply and miscellaneous services relating to the dwelling/Other services relating to the dwelling n.e.c./Security services\",\"all/Food and non-alcoholic beverages/Non-alcoholic beverages/Mineral waters, soft drinks, fruit and vegetable juices/Soft drinks\",\"all/Recreation and culture/Audio-visual, photographic and information processing equipment/Information processing equipment/Software\",\"all/Transport/Operation of personal transport equipment/Spares parts and accessories for personal transport equipment/Spare parts for personal transport equipment\",\"all/Health/Out-patient services/Medical services/Specialist practice\",\"all/Alcoholic beverages, tobacco and narcotics/Alcoholic beverages/Spirits/Spirits and liqueurs\",\"all/Food and non-alcoholic beverages/Food/Sugar, jam, honey, chocolate and confectionery/Sugar\",\"all/Furnishings, household equipment and routine household maintenance/Household textiles/Household textiles/Table linen and bathroom linen\",\"all/Food and non-alcoholic beverages/Non-alcoholic beverages/Coffee, tea and cocoa/Tea\",\"all/Recreation and culture/Recreational and cultural services/Cultural services/Television and radio licence fees, subscriptions\",\"all/Recreation and culture/Other recreational items and equipment, gardens and pets/Games, toys and hobbies/Toys and celebration articles\",\"all/Miscellaneous goods and services/Personal effects n.e.c./Other personal effects/Travel goods\",\"all/Miscellaneous goods and services/Insurance/Insurance connected with transport/Travel insurance\",\"all/Transport/Operation of personal transport equipment/Spares parts and accessories for personal transport equipment/Tyres\",\"all/Recreation and culture/Audio-visual, photographic and information processing equipment/Recording media/Unrecorded recording media\",\"all/Food and non-alcoholic beverages/Food/Milk, cheese and eggs/Whole milk\",\"all/Alcoholic beverages, tobacco and narcotics/Alcoholic beverages/Wine/Wine from grapes\",\"all/Alcoholic beverages, tobacco and narcotics/Alcoholic beverages/Wine/Wine from other fruits\",\"all/Communications/Telephone and telefax services/Telephone and telefax services/Wired telephone services\",\"all/Communications/Telephone and telefax services/Telephone and telefax services/Wireless telephone services\",\"all/Food and non-alcoholic beverages/Food/Milk, cheese and eggs/Yoghurt\",\"all/Restaurants and hotels/Accommodation services/Accommodation services\",\"all/Alcoholic beverages, tobacco and narcotics/Alcoholic beverages/Beer\",\"all/Recreation and culture/Newspapers, books and stationery/Books\",\"all/Food and non-alcoholic beverages/Food/Bread and cereals\",\"all/Furnishings, household equipment and routine household maintenance/Furniture and furnishings, carpets and other floor coverings/Carpets and other floor coverings\",\"all/Clothing and footwear/Clothing/Cleaning, repair and hire of clothing\",\"all/Food and non-alcoholic beverages/Non-alcoholic beverages/Coffee, tea and cocoa\",\"all/Recreation and culture/Recreational and cultural services/Cultural services\",\"all/Furnishings, household equipment and routine household maintenance/Goods and services for routine household maintenance/Domestic services and household services\",\"all/Miscellaneous goods and services/Personal care/Electrical appliances for personal care\",\"all/Recreation and culture/Other recreational items and equipment, gardens and pets/Equipment for sport, camping and open-air recreation\",\"all/Recreation and culture/Audio-visual, photographic and information processing equipment/Equipment for the reception, recording and reproduction of sound and picture\",\"all/Food and non-alcoholic beverages/Food/Fish and seafood\",\"all/Food and non-alcoholic beverages/Food/Food products n.e.c.\",\"all/Food and non-alcoholic beverages/Food/Fruit\",\"all/Transport/Operation of personal transport equipment/Fuels and lubricants for personal transport equipment\",\"all/Furnishings, household equipment and routine household maintenance/Furniture and furnishings, carpets and other floor coverings/Furniture and furnishings\",\"all/Recreation and culture/Other recreational items and equipment, gardens and pets/Games, toys and hobbies\",\"all/Recreation and culture/Other recreational items and equipment, gardens and pets/Gardens, plants and flowers\",\"all/Clothing and footwear/Clothing/Garments\",\"all/Housing, water, electricity, gas and other fuels/Electricity, gas and other fuels/Gas\",\"all/Furnishings, household equipment and routine household maintenance/Glassware, tableware and household utensils/Glassware, tableware and household utensils\",\"all/Miscellaneous goods and services/Personal care/Hairdressing salons and personal grooming establishments\",\"all/Furnishings, household equipment and routine household maintenance/Household textiles/Household textiles\",\"all/Recreation and culture/Audio-visual, photographic and information processing equipment/Information processing equipment\",\"all/Miscellaneous goods and services/Insurance/Insurance connected with transport\",\"all/Miscellaneous goods and services/Personal effects n.e.c./Jewellery, clocks and watches\",\"all/Furnishings, household equipment and routine household maintenance/Household appliances/Major household appliances whether electric or not\",\"all/Furnishings, household equipment and routine household maintenance/Tools and equipment for house and garden/Major tools and equipment\",\"all/Food and non-alcoholic beverages/Food/Meat\",\"all/Health/Out-patient services/Medical services\",\"all/Food and non-alcoholic beverages/Food/Milk, cheese and eggs\",\"all/Food and non-alcoholic beverages/Non-alcoholic beverages/Mineral waters, soft drinks, fruit and vegetable juices\",\"all/Transport/Purchase of vehicles/Motor cars\",\"all/Recreation and culture/Newspapers, books and stationery/Newspapers and periodicals\",\"all/Furnishings, household equipment and routine household maintenance/Goods and services for routine household maintenance/Non-durable household goods\",\"all/Food and non-alcoholic beverages/Food/Oils and fats\",\"all/Miscellaneous goods and services/Personal care/Other appliances, articles and products for personal care\",\"all/Clothing and footwear/Clothing/Other articles of clothing and clothing accessories\",\"all/Miscellaneous goods and services/Financial services n.e.c./Other financial services n.e.c.\",\"all/Health/Medical products, appliances and equipment/Other medical products\",\"all/Miscellaneous goods and services/Personal effects n.e.c./Other personal effects\",\"all/Transport/Operation of personal transport equipment/Other services in respect of personal transport equipment\",\"all/Miscellaneous goods and services/Other services n.e.c./Other services n.e.c.\",\"all/Housing, water, electricity, gas and other fuels/Water supply and miscellaneous services relating to the dwelling/Other services relating to the dwelling n.e.c.\",\"all/Recreation and culture/Package holidays/Package holidays\",\"all/Health/Out-patient services/Paramedical services\",\"all/Transport/Transport services/Passenger transport by air\",\"all/Transport/Transport services/Passenger transport by railway\",\"all/Transport/Transport services/Passenger transport by road\",\"all/Transport/Transport services/Passenger transport by sea and inland waterway\",\"all/Recreation and culture/Other recreational items and equipment, gardens and pets/Pets and related products\",\"all/Recreation and culture/Audio-visual, photographic and information processing equipment/Photographic and cinematographic equipment and optical instruments\",\"all/Communications/Postal services/Postal services\",\"all/Education/Pre-primary and primary education/Pre-primary and primary education\",\"all/Recreation and culture/Audio-visual, photographic and information processing equipment/Recording media\",\"all/Recreation and culture/Recreational and cultural services/Recreational and sporting services\",\"all/Restaurants and hotels/Catering services/Restaurants, caf\\u00e9s and the like\",\"all/Housing, water, electricity, gas and other fuels/Maintenance and repair of the dwelling/Services for the maintenance and repair of the dwelling\",\"all/Clothing and footwear/Footwear/Shoes and other footwear\",\"all/Furnishings, household equipment and routine household maintenance/Household appliances/Small electric household appliances\",\"all/Furnishings, household equipment and routine household maintenance/Tools and equipment for house and garden/Small tools and miscellaneous accessories\",\"all/Miscellaneous goods and services/Social protection/Social protection\",\"all/Housing, water, electricity, gas and other fuels/Electricity, gas and other fuels/Solid fuels\",\"all/Transport/Operation of personal transport equipment/Spares parts and accessories for personal transport equipment\",\"all/Alcoholic beverages, tobacco and narcotics/Alcoholic beverages/Spirits\",\"all/Recreation and culture/Newspapers, books and stationery/Stationery and drawing materials\",\"all/Food and non-alcoholic beverages/Food/Sugar, jam, honey, chocolate and confectionery\",\"all/Communications/Telephone and telefax equipment/Telephone and telefax equipment\",\"all/Communications/Telephone and telefax services/Telephone and telefax services\",\"all/Health/Medical products, appliances and equipment/Therapeutic appliances and equipment\",\"all/Alcoholic beverages, tobacco and narcotics/Tobacco/Tobacco\",\"all/Food and non-alcoholic beverages/Food/Vegetables\",\"all/Alcoholic beverages, tobacco and narcotics/Alcoholic beverages/Wine\",\"all/Restaurants and hotels/Accommodation services\",\"all/Alcoholic beverages, tobacco and narcotics/Alcoholic beverages\",\"all/Recreation and culture/Audio-visual, photographic and information processing equipment\",\"all/Restaurants and hotels/Catering services\",\"all/Clothing and footwear/Clothing\",\"all/Housing, water, electricity, gas and other fuels/Electricity, gas and other fuels\",\"all/Miscellaneous goods and services/Financial services n.e.c.\",\"all/Food and non-alcoholic beverages/Food\",\"all/Clothing and footwear/Footwear\",\"all/Furnishings, household equipment and routine household maintenance/Furniture and furnishings, carpets and other floor coverings\",\"all/Furnishings, household equipment and routine household maintenance/Glassware, tableware and household utensils\",\"all/Furnishings, household equipment and routine household maintenance/Goods and services for routine household maintenance\",\"all/Furnishings, household equipment and routine household maintenance/Household appliances\",\"all/Furnishings, household equipment and routine household maintenance/Household textiles\",\"all/Miscellaneous goods and services/Insurance\",\"all/Housing, water, electricity, gas and other fuels/Maintenance and repair of the dwelling\",\"all/Health/Medical products, appliances and equipment\",\"all/Recreation and culture/Newspapers, books and stationery\",\"all/Food and non-alcoholic beverages/Non-alcoholic beverages\",\"all/Transport/Operation of personal transport equipment\",\"all/Recreation and culture/Other recreational items and equipment, gardens and pets\",\"all/Miscellaneous goods and services/Other services n.e.c.\",\"all/Health/Out-patient services\",\"all/Recreation and culture/Package holidays\",\"all/Miscellaneous goods and services/Personal care\",\"all/Miscellaneous goods and services/Personal effects n.e.c.\",\"all/Communications/Postal services\",\"all/Education/Pre-primary and primary education\",\"all/Transport/Purchase of vehicles\",\"all/Recreation and culture/Recreational and cultural services\",\"all/Miscellaneous goods and services/Social protection\",\"all/Communications/Telephone and telefax equipment\",\"all/Communications/Telephone and telefax services\",\"all/Alcoholic beverages, tobacco and narcotics/Tobacco\",\"all/Furnishings, household equipment and routine household maintenance/Tools and equipment for house and garden\",\"all/Transport/Transport services\",\"all/Housing, water, electricity, gas and other fuels/Water supply and miscellaneous services relating to the dwelling\",\"all/Alcoholic beverages, tobacco and narcotics\",\"all/Clothing and footwear\",\"all/Communications\",\"all/Education\",\"all/Food and non-alcoholic beverages\",\"all/Furnishings, household equipment and routine household maintenance\",\"all/Health\",\"all/Housing, water, electricity, gas and other fuels\",\"all/Miscellaneous goods and services\",\"all/Recreation and culture\",\"all/Restaurants and hotels\",\"all/Transport\",\"all\"],\"labels\":[\"Accessories for information processing equipment\",\"Accessories for personal transport equipment\",\"Accommodation services of other establishments\",\"Administrative fees\",\"Alcoholic soft drinks\",\"Articles for babies\",\"Articles for personal hygiene and wellness, esoteric products and beauty products\",\"Baby food\",\"Bed linen\",\"Beef and veal\",\"Bread\",\"Breakfast cereals\",\"Bundled telecommunication services\",\"Butter\",\"Cameras\",\"Carpet and rugs\",\"Charges by banks and post offices\",\"Cheese and curd\",\"Chocolate\",\"Cigarettes\",\"Cinemas, theatres, concerts\",\"Cleaning and maintenance products\",\"Cleaning equipment\",\"Cleaning of clothing\",\"Cleaning services\",\"Clocks and watches\",\"Clothes washing machines, clothes drying machines and dish washing machines\",\"Clothing accessories\",\"Coal\",\"Cocoa and powdered chocolate\",\"Coffee\",\"Coffee machines, tea-makers and similar appliances\",\"Confectionery products\",\"Cookers\",\"Corrective eye-glasses and contact lenses\",\"Crisps\",\"Cutlery, flatware and silverware\",\"Diesel\",\"Dried fruit and nuts\",\"Dried vegetables, other preserved or processed vegetables\",\"Dried, salted or smoked meat\",\"Dried, smoked or salted fish and seafood\",\"Driving lessons, tests, licences and road worthiness tests\",\"Edible ices and ice cream\",\"Edible offal\",\"Eggs\",\"Electric appliances for personal care\",\"Equipment for sport\",\"Equipment for the reception, recording and reproduction of sound\",\"Equipment for the reception, recording and reproduction of sound and vision\",\"Fast food and take away food services\",\"Fiction books\",\"Flours and other cereals\",\"Food processing appliances\",\"Footwear for infants and children\",\"Footwear for men\",\"Footwear for women\",\"Fortified wines\",\"Fresh or chilled fish\",\"Fresh or chilled fruit\",\"Fresh or chilled vegetables other than potatoes and other tubers\",\"Frozen fish\",\"Frozen fruit\",\"Frozen vegetables other than potatoes and other tubers\",\"Fruit and vegetables juices\",\"Funeral services\",\"Furnishings fabrics and curtains\",\"Games and hobbies\",\"Garden products\",\"Garments for infants (0 to 2 years) and children (3 to 13 years)\",\"Garments for men\",\"Garments for women\",\"Glassware, crystal-ware, ceramic ware and chinaware\",\"Hairdressing for men and children\",\"Hairdressing for women\",\"Heaters, air conditioners\",\"Hire of garages, parking spaces and personal transport equipment\",\"Hotels, motels, inns and similar accommodation services\",\"Household furniture\",\"International flights\",\"Irons\",\"Jams, marmalades and honey\",\"Jewellery\",\"Lager beer\",\"Legal services and accountancy\",\"Letter handling services\",\"Lighting equipment\",\"Liquefied hydrocarbons (butane, propane, etc.)\",\"Low and non-alcoholic beer\",\"Low fat milk\",\"Lubricants\",\"Magazines and periodicals\",\"Maintenance charges in multi-occupied buildings\",\"Margarine and other vegetable fats\",\"Mineral or spring waters\",\"Miscellaneous small tool accessories\",\"Mobile telephone equipment\",\"Motor vehicle insurance\",\"Motorized major tools and equipment\",\"Museums, libraries, zoological gardens\",\"Natural gas and town gas\",\"New motor cars\",\"Newspapers\",\"Non-electric kitchen utensils and articles\",\"Non-electrical appliances\",\"Non-motorised small tools\",\"Olive oil\",\"Other articles of clothing\",\"Other bakery products\",\"Other cereal products\",\"Other edible oils\",\"Other fees and services\",\"Other floor coverings\",\"Other food products n.e.c.\",\"Other meat preparations\",\"Other medical products n.e.c.\",\"Other milk products\",\"Other non-durable small household articles\",\"Other non-fiction books\",\"Other paramedical services\",\"Other personal effects n.e.c.\",\"Other postal services\",\"Other preserved or processed fish and seafood and fish and seafood preparations\",\"Other services for maintenance and repair of the dwelling\",\"Other services related to dwelling\",\"Other solid fuels\",\"Other stationery and drawing materials\",\"Other therapeutic appliances and equipment\",\"Other tubers and products of tuber vegetables\",\"Package international holidays\",\"Paper products\",\"Passenger transport by bus and coach\",\"Passenger transport by sea\",\"Passenger transport by taxi and hired car with driver\",\"Passenger transport by train\",\"Pasta products and couscous\",\"Personal computers\",\"Personal grooming treatments\",\"Petrol\",\"Photographic services\",\"Pizza and quiche\",\"Plants and flowers\",\"Pork\",\"Potatoes\",\"Poultry\",\"Pre-primary education \",\"Pre-recorded recording media\",\"Pregnancy tests and mechanical contraceptive devices\",\"Preserved fruit and fruit-based products\",\"Preserved milk\",\"Products for pets\",\"Ready-made meals\",\"Recreational and sporting services - Attendance\",\"Recreational and sporting services - Participation\",\"Refrigerators, freezers and fridge-freezers\",\"Repair and hire of clothing\",\"Repair of jewellery, clocks and watches\",\"Repair, leasing and rental of major tools and equipment\",\"Restaurants, caf\\u00e9s and dancing establishments\",\"Retirement homes for elderly persons and residences for disabled persons\",\"Rice\",\"Salt, spices and culinary herbs\",\"Sauces, condiments\",\"Second-hand motor cars\",\"Security services\",\"Soft drinks\",\"Software\",\"Spare parts for personal transport equipment\",\"Specialist practice\",\"Spirits and liqueurs\",\"Sugar\",\"Table linen and bathroom linen\",\"Tea\",\"Television and radio licence fees, subscriptions\",\"Toys and celebration articles\",\"Travel goods\",\"Travel insurance\",\"Tyres\",\"Unrecorded recording media\",\"Whole milk\",\"Wine from grapes\",\"Wine from other fruits\",\"Wired telephone services\",\"Wireless telephone services\",\"Yoghurt\",\"Accommodation services\",\"Beer\",\"Books\",\"Bread and cereals\",\"Carpets and other floor coverings\",\"Cleaning, repair and hire of clothing\",\"Coffee, tea and cocoa\",\"Cultural services\",\"Domestic services and household services\",\"Electrical appliances for personal care\",\"Equipment for sport, camping and open-air recreation\",\"Equipment for the reception, recording and reproduction of sound and picture\",\"Fish and seafood\",\"Food products n.e.c.\",\"Fruit\",\"Fuels and lubricants for personal transport equipment\",\"Furniture and furnishings\",\"Games, toys and hobbies\",\"Gardens, plants and flowers\",\"Garments\",\"Gas\",\"Glassware, tableware and household utensils\",\"Hairdressing salons and personal grooming establishments\",\"Household textiles\",\"Information processing equipment\",\"Insurance connected with transport\",\"Jewellery, clocks and watches\",\"Major household appliances whether electric or not\",\"Major tools and equipment\",\"Meat\",\"Medical services\",\"Milk, cheese and eggs\",\"Mineral waters, soft drinks, fruit and vegetable juices\",\"Motor cars\",\"Newspapers and periodicals\",\"Non-durable household goods\",\"Oils and fats\",\"Other appliances, articles and products for personal care\",\"Other articles of clothing and clothing accessories\",\"Other financial services n.e.c.\",\"Other medical products\",\"Other personal effects\",\"Other services in respect of personal transport equipment\",\"Other services n.e.c.\",\"Other services relating to the dwelling n.e.c.\",\"Package holidays\",\"Paramedical services\",\"Passenger transport by air\",\"Passenger transport by railway\",\"Passenger transport by road\",\"Passenger transport by sea and inland waterway\",\"Pets and related products\",\"Photographic and cinematographic equipment and optical instruments\",\"Postal services\",\"Pre-primary and primary education\",\"Recording media\",\"Recreational and sporting services\",\"Restaurants, caf\\u00e9s and the like\",\"Services for the maintenance and repair of the dwelling\",\"Shoes and other footwear\",\"Small electric household appliances\",\"Small tools and miscellaneous accessories\",\"Social protection\",\"Solid fuels\",\"Spares parts and accessories for personal transport equipment\",\"Spirits\",\"Stationery and drawing materials\",\"Sugar, jam, honey, chocolate and confectionery\",\"Telephone and telefax equipment\",\"Telephone and telefax services\",\"Therapeutic appliances and equipment\",\"Tobacco\",\"Vegetables\",\"Wine\",\"Accommodation services\",\"Alcoholic beverages\",\"Audio-visual, photographic and information processing equipment\",\"Catering services\",\"Clothing\",\"Electricity, gas and other fuels\",\"Financial services n.e.c.\",\"Food\",\"Footwear\",\"Furniture and furnishings, carpets and other floor coverings\",\"Glassware, tableware and household utensils\",\"Goods and services for routine household maintenance\",\"Household appliances\",\"Household textiles\",\"Insurance\",\"Maintenance and repair of the dwelling\",\"Medical products, appliances and equipment\",\"Newspapers, books and stationery\",\"Non-alcoholic beverages\",\"Operation of personal transport equipment\",\"Other recreational items and equipment, gardens and pets\",\"Other services n.e.c.\",\"Out-patient services\",\"Package holidays\",\"Personal care\",\"Personal effects n.e.c.\",\"Postal services\",\"Pre-primary and primary education\",\"Purchase of vehicles\",\"Recreational and cultural services\",\"Social protection\",\"Telephone and telefax equipment\",\"Telephone and telefax services\",\"Tobacco\",\"Tools and equipment for house and garden\",\"Transport services\",\"Water supply and miscellaneous services relating to the dwelling\",\"Alcoholic beverages, tobacco and narcotics\",\"Clothing and footwear\",\"Communications\",\"Education\",\"Food and non-alcoholic beverages\",\"Furnishings, household equipment and routine household maintenance\",\"Health\",\"Housing, water, electricity, gas and other fuels\",\"Miscellaneous goods and services\",\"Recreation and culture\",\"Restaurants and hotels\",\"Transport\",\"all\"],\"name\":\"\",\"parents\":[\"all/Recreation and culture/Audio-visual, photographic and information processing equipment/Information processing equipment\",\"all/Transport/Operation of personal transport equipment/Spares parts and accessories for personal transport equipment\",\"all/Restaurants and hotels/Accommodation services/Accommodation services\",\"all/Miscellaneous goods and services/Other services n.e.c./Other services n.e.c.\",\"all/Alcoholic beverages, tobacco and narcotics/Alcoholic beverages/Spirits\",\"all/Miscellaneous goods and services/Personal effects n.e.c./Other personal effects\",\"all/Miscellaneous goods and services/Personal care/Other appliances, articles and products for personal care\",\"all/Food and non-alcoholic beverages/Food/Food products n.e.c.\",\"all/Furnishings, household equipment and routine household maintenance/Household textiles/Household textiles\",\"all/Food and non-alcoholic beverages/Food/Meat\",\"all/Food and non-alcoholic beverages/Food/Bread and cereals\",\"all/Food and non-alcoholic beverages/Food/Bread and cereals\",\"all/Communications/Telephone and telefax services/Telephone and telefax services\",\"all/Food and non-alcoholic beverages/Food/Oils and fats\",\"all/Recreation and culture/Audio-visual, photographic and information processing equipment/Photographic and cinematographic equipment and optical instruments\",\"all/Furnishings, household equipment and routine household maintenance/Furniture and furnishings, carpets and other floor coverings/Carpets and other floor coverings\",\"all/Miscellaneous goods and services/Financial services n.e.c./Other financial services n.e.c.\",\"all/Food and non-alcoholic beverages/Food/Milk, cheese and eggs\",\"all/Food and non-alcoholic beverages/Food/Sugar, jam, honey, chocolate and confectionery\",\"all/Alcoholic beverages, tobacco and narcotics/Tobacco/Tobacco\",\"all/Recreation and culture/Recreational and cultural services/Cultural services\",\"all/Furnishings, household equipment and routine household maintenance/Goods and services for routine household maintenance/Non-durable household goods\",\"all/Furnishings, household equipment and routine household maintenance/Household appliances/Major household appliances whether electric or not\",\"all/Clothing and footwear/Clothing/Cleaning, repair and hire of clothing\",\"all/Furnishings, household equipment and routine household maintenance/Goods and services for routine household maintenance/Domestic services and household services\",\"all/Miscellaneous goods and services/Personal effects n.e.c./Jewellery, clocks and watches\",\"all/Furnishings, household equipment and routine household maintenance/Household appliances/Major household appliances whether electric or not\",\"all/Clothing and footwear/Clothing/Other articles of clothing and clothing accessories\",\"all/Housing, water, electricity, gas and other fuels/Electricity, gas and other fuels/Solid fuels\",\"all/Food and non-alcoholic beverages/Non-alcoholic beverages/Coffee, tea and cocoa\",\"all/Food and non-alcoholic beverages/Non-alcoholic beverages/Coffee, tea and cocoa\",\"all/Furnishings, household equipment and routine household maintenance/Household appliances/Small electric household appliances\",\"all/Food and non-alcoholic beverages/Food/Sugar, jam, honey, chocolate and confectionery\",\"all/Furnishings, household equipment and routine household maintenance/Household appliances/Major household appliances whether electric or not\",\"all/Health/Medical products, appliances and equipment/Therapeutic appliances and equipment\",\"all/Food and non-alcoholic beverages/Food/Vegetables\",\"all/Furnishings, household equipment and routine household maintenance/Glassware, tableware and household utensils/Glassware, tableware and household utensils\",\"all/Transport/Operation of personal transport equipment/Fuels and lubricants for personal transport equipment\",\"all/Food and non-alcoholic beverages/Food/Fruit\",\"all/Food and non-alcoholic beverages/Food/Vegetables\",\"all/Food and non-alcoholic beverages/Food/Meat\",\"all/Food and non-alcoholic beverages/Food/Fish and seafood\",\"all/Transport/Operation of personal transport equipment/Other services in respect of personal transport equipment\",\"all/Food and non-alcoholic beverages/Food/Sugar, jam, honey, chocolate and confectionery\",\"all/Food and non-alcoholic beverages/Food/Meat\",\"all/Food and non-alcoholic beverages/Food/Milk, cheese and eggs\",\"all/Miscellaneous goods and services/Personal care/Electrical appliances for personal care\",\"all/Recreation and culture/Other recreational items and equipment, gardens and pets/Equipment for sport, camping and open-air recreation\",\"all/Recreation and culture/Audio-visual, photographic and information processing equipment/Equipment for the reception, recording and reproduction of sound and picture\",\"all/Recreation and culture/Audio-visual, photographic and information processing equipment/Equipment for the reception, recording and reproduction of sound and picture\",\"all/Restaurants and hotels/Catering services/Restaurants, caf\\u00e9s and the like\",\"all/Recreation and culture/Newspapers, books and stationery/Books\",\"all/Food and non-alcoholic beverages/Food/Bread and cereals\",\"all/Furnishings, household equipment and routine household maintenance/Household appliances/Small electric household appliances\",\"all/Clothing and footwear/Footwear/Shoes and other footwear\",\"all/Clothing and footwear/Footwear/Shoes and other footwear\",\"all/Clothing and footwear/Footwear/Shoes and other footwear\",\"all/Alcoholic beverages, tobacco and narcotics/Alcoholic beverages/Wine\",\"all/Food and non-alcoholic beverages/Food/Fish and seafood\",\"all/Food and non-alcoholic beverages/Food/Fruit\",\"all/Food and non-alcoholic beverages/Food/Vegetables\",\"all/Food and non-alcoholic beverages/Food/Fish and seafood\",\"all/Food and non-alcoholic beverages/Food/Fruit\",\"all/Food and non-alcoholic beverages/Food/Vegetables\",\"all/Food and non-alcoholic beverages/Non-alcoholic beverages/Mineral waters, soft drinks, fruit and vegetable juices\",\"all/Miscellaneous goods and services/Other services n.e.c./Other services n.e.c.\",\"all/Furnishings, household equipment and routine household maintenance/Household textiles/Household textiles\",\"all/Recreation and culture/Other recreational items and equipment, gardens and pets/Games, toys and hobbies\",\"all/Recreation and culture/Other recreational items and equipment, gardens and pets/Gardens, plants and flowers\",\"all/Clothing and footwear/Clothing/Garments\",\"all/Clothing and footwear/Clothing/Garments\",\"all/Clothing and footwear/Clothing/Garments\",\"all/Furnishings, household equipment and routine household maintenance/Glassware, tableware and household utensils/Glassware, tableware and household utensils\",\"all/Miscellaneous goods and services/Personal care/Hairdressing salons and personal grooming establishments\",\"all/Miscellaneous goods and services/Personal care/Hairdressing salons and personal grooming establishments\",\"all/Furnishings, household equipment and routine household maintenance/Household appliances/Major household appliances whether electric or not\",\"all/Transport/Operation of personal transport equipment/Other services in respect of personal transport equipment\",\"all/Restaurants and hotels/Accommodation services/Accommodation services\",\"all/Furnishings, household equipment and routine household maintenance/Furniture and furnishings, carpets and other floor coverings/Furniture and furnishings\",\"all/Transport/Transport services/Passenger transport by air\",\"all/Furnishings, household equipment and routine household maintenance/Household appliances/Small electric household appliances\",\"all/Food and non-alcoholic beverages/Food/Sugar, jam, honey, chocolate and confectionery\",\"all/Miscellaneous goods and services/Personal effects n.e.c./Jewellery, clocks and watches\",\"all/Alcoholic beverages, tobacco and narcotics/Alcoholic beverages/Beer\",\"all/Miscellaneous goods and services/Other services n.e.c./Other services n.e.c.\",\"all/Communications/Postal services/Postal services\",\"all/Furnishings, household equipment and routine household maintenance/Furniture and furnishings, carpets and other floor coverings/Furniture and furnishings\",\"all/Housing, water, electricity, gas and other fuels/Electricity, gas and other fuels/Gas\",\"all/Alcoholic beverages, tobacco and narcotics/Alcoholic beverages/Beer\",\"all/Food and non-alcoholic beverages/Food/Milk, cheese and eggs\",\"all/Transport/Operation of personal transport equipment/Fuels and lubricants for personal transport equipment\",\"all/Recreation and culture/Newspapers, books and stationery/Newspapers and periodicals\",\"all/Housing, water, electricity, gas and other fuels/Water supply and miscellaneous services relating to the dwelling/Other services relating to the dwelling n.e.c.\",\"all/Food and non-alcoholic beverages/Food/Oils and fats\",\"all/Food and non-alcoholic beverages/Non-alcoholic beverages/Mineral waters, soft drinks, fruit and vegetable juices\",\"all/Furnishings, household equipment and routine household maintenance/Tools and equipment for house and garden/Small tools and miscellaneous accessories\",\"all/Communications/Telephone and telefax equipment/Telephone and telefax equipment\",\"all/Miscellaneous goods and services/Insurance/Insurance connected with transport\",\"all/Furnishings, household equipment and routine household maintenance/Tools and equipment for house and garden/Major tools and equipment\",\"all/Recreation and culture/Recreational and cultural services/Cultural services\",\"all/Housing, water, electricity, gas and other fuels/Electricity, gas and other fuels/Gas\",\"all/Transport/Purchase of vehicles/Motor cars\",\"all/Recreation and culture/Newspapers, books and stationery/Newspapers and periodicals\",\"all/Furnishings, household equipment and routine household maintenance/Glassware, tableware and household utensils/Glassware, tableware and household utensils\",\"all/Miscellaneous goods and services/Personal care/Other appliances, articles and products for personal care\",\"all/Furnishings, household equipment and routine household maintenance/Tools and equipment for house and garden/Small tools and miscellaneous accessories\",\"all/Food and non-alcoholic beverages/Food/Oils and fats\",\"all/Clothing and footwear/Clothing/Other articles of clothing and clothing accessories\",\"all/Food and non-alcoholic beverages/Food/Bread and cereals\",\"all/Food and non-alcoholic beverages/Food/Bread and cereals\",\"all/Food and non-alcoholic beverages/Food/Oils and fats\",\"all/Miscellaneous goods and services/Other services n.e.c./Other services n.e.c.\",\"all/Furnishings, household equipment and routine household maintenance/Furniture and furnishings, carpets and other floor coverings/Carpets and other floor coverings\",\"all/Food and non-alcoholic beverages/Food/Food products n.e.c.\",\"all/Food and non-alcoholic beverages/Food/Meat\",\"all/Health/Medical products, appliances and equipment/Other medical products\",\"all/Food and non-alcoholic beverages/Food/Milk, cheese and eggs\",\"all/Furnishings, household equipment and routine household maintenance/Goods and services for routine household maintenance/Non-durable household goods\",\"all/Recreation and culture/Newspapers, books and stationery/Books\",\"all/Health/Out-patient services/Paramedical services\",\"all/Miscellaneous goods and services/Personal effects n.e.c./Other personal effects\",\"all/Communications/Postal services/Postal services\",\"all/Food and non-alcoholic beverages/Food/Fish and seafood\",\"all/Housing, water, electricity, gas and other fuels/Maintenance and repair of the dwelling/Services for the maintenance and repair of the dwelling\",\"all/Housing, water, electricity, gas and other fuels/Water supply and miscellaneous services relating to the dwelling/Other services relating to the dwelling n.e.c.\",\"all/Housing, water, electricity, gas and other fuels/Electricity, gas and other fuels/Solid fuels\",\"all/Recreation and culture/Newspapers, books and stationery/Stationery and drawing materials\",\"all/Health/Medical products, appliances and equipment/Therapeutic appliances and equipment\",\"all/Food and non-alcoholic beverages/Food/Vegetables\",\"all/Recreation and culture/Package holidays/Package holidays\",\"all/Recreation and culture/Newspapers, books and stationery/Stationery and drawing materials\",\"all/Transport/Transport services/Passenger transport by road\",\"all/Transport/Transport services/Passenger transport by sea and inland waterway\",\"all/Transport/Transport services/Passenger transport by road\",\"all/Transport/Transport services/Passenger transport by railway\",\"all/Food and non-alcoholic beverages/Food/Bread and cereals\",\"all/Recreation and culture/Audio-visual, photographic and information processing equipment/Information processing equipment\",\"all/Miscellaneous goods and services/Personal care/Hairdressing salons and personal grooming establishments\",\"all/Transport/Operation of personal transport equipment/Fuels and lubricants for personal transport equipment\",\"all/Recreation and culture/Recreational and cultural services/Cultural services\",\"all/Food and non-alcoholic beverages/Food/Bread and cereals\",\"all/Recreation and culture/Other recreational items and equipment, gardens and pets/Gardens, plants and flowers\",\"all/Food and non-alcoholic beverages/Food/Meat\",\"all/Food and non-alcoholic beverages/Food/Vegetables\",\"all/Food and non-alcoholic beverages/Food/Meat\",\"all/Education/Pre-primary and primary education/Pre-primary and primary education\",\"all/Recreation and culture/Audio-visual, photographic and information processing equipment/Recording media\",\"all/Health/Medical products, appliances and equipment/Other medical products\",\"all/Food and non-alcoholic beverages/Food/Fruit\",\"all/Food and non-alcoholic beverages/Food/Milk, cheese and eggs\",\"all/Recreation and culture/Other recreational items and equipment, gardens and pets/Pets and related products\",\"all/Food and non-alcoholic beverages/Food/Food products n.e.c.\",\"all/Recreation and culture/Recreational and cultural services/Recreational and sporting services\",\"all/Recreation and culture/Recreational and cultural services/Recreational and sporting services\",\"all/Furnishings, household equipment and routine household maintenance/Household appliances/Major household appliances whether electric or not\",\"all/Clothing and footwear/Clothing/Cleaning, repair and hire of clothing\",\"all/Miscellaneous goods and services/Personal effects n.e.c./Jewellery, clocks and watches\",\"all/Furnishings, household equipment and routine household maintenance/Tools and equipment for house and garden/Major tools and equipment\",\"all/Restaurants and hotels/Catering services/Restaurants, caf\\u00e9s and the like\",\"all/Miscellaneous goods and services/Social protection/Social protection\",\"all/Food and non-alcoholic beverages/Food/Bread and cereals\",\"all/Food and non-alcoholic beverages/Food/Food products n.e.c.\",\"all/Food and non-alcoholic beverages/Food/Food products n.e.c.\",\"all/Transport/Purchase of vehicles/Motor cars\",\"all/Housing, water, electricity, gas and other fuels/Water supply and miscellaneous services relating to the dwelling/Other services relating to the dwelling n.e.c.\",\"all/Food and non-alcoholic beverages/Non-alcoholic beverages/Mineral waters, soft drinks, fruit and vegetable juices\",\"all/Recreation and culture/Audio-visual, photographic and information processing equipment/Information processing equipment\",\"all/Transport/Operation of personal transport equipment/Spares parts and accessories for personal transport equipment\",\"all/Health/Out-patient services/Medical services\",\"all/Alcoholic beverages, tobacco and narcotics/Alcoholic beverages/Spirits\",\"all/Food and non-alcoholic beverages/Food/Sugar, jam, honey, chocolate and confectionery\",\"all/Furnishings, household equipment and routine household maintenance/Household textiles/Household textiles\",\"all/Food and non-alcoholic beverages/Non-alcoholic beverages/Coffee, tea and cocoa\",\"all/Recreation and culture/Recreational and cultural services/Cultural services\",\"all/Recreation and culture/Other recreational items and equipment, gardens and pets/Games, toys and hobbies\",\"all/Miscellaneous goods and services/Personal effects n.e.c./Other personal effects\",\"all/Miscellaneous goods and services/Insurance/Insurance connected with transport\",\"all/Transport/Operation of personal transport equipment/Spares parts and accessories for personal transport equipment\",\"all/Recreation and culture/Audio-visual, photographic and information processing equipment/Recording media\",\"all/Food and non-alcoholic beverages/Food/Milk, cheese and eggs\",\"all/Alcoholic beverages, tobacco and narcotics/Alcoholic beverages/Wine\",\"all/Alcoholic beverages, tobacco and narcotics/Alcoholic beverages/Wine\",\"all/Communications/Telephone and telefax services/Telephone and telefax services\",\"all/Communications/Telephone and telefax services/Telephone and telefax services\",\"all/Food and non-alcoholic beverages/Food/Milk, cheese and eggs\",\"all/Restaurants and hotels/Accommodation services\",\"all/Alcoholic beverages, tobacco and narcotics/Alcoholic beverages\",\"all/Recreation and culture/Newspapers, books and stationery\",\"all/Food and non-alcoholic beverages/Food\",\"all/Furnishings, household equipment and routine household maintenance/Furniture and furnishings, carpets and other floor coverings\",\"all/Clothing and footwear/Clothing\",\"all/Food and non-alcoholic beverages/Non-alcoholic beverages\",\"all/Recreation and culture/Recreational and cultural services\",\"all/Furnishings, household equipment and routine household maintenance/Goods and services for routine household maintenance\",\"all/Miscellaneous goods and services/Personal care\",\"all/Recreation and culture/Other recreational items and equipment, gardens and pets\",\"all/Recreation and culture/Audio-visual, photographic and information processing equipment\",\"all/Food and non-alcoholic beverages/Food\",\"all/Food and non-alcoholic beverages/Food\",\"all/Food and non-alcoholic beverages/Food\",\"all/Transport/Operation of personal transport equipment\",\"all/Furnishings, household equipment and routine household maintenance/Furniture and furnishings, carpets and other floor coverings\",\"all/Recreation and culture/Other recreational items and equipment, gardens and pets\",\"all/Recreation and culture/Other recreational items and equipment, gardens and pets\",\"all/Clothing and footwear/Clothing\",\"all/Housing, water, electricity, gas and other fuels/Electricity, gas and other fuels\",\"all/Furnishings, household equipment and routine household maintenance/Glassware, tableware and household utensils\",\"all/Miscellaneous goods and services/Personal care\",\"all/Furnishings, household equipment and routine household maintenance/Household textiles\",\"all/Recreation and culture/Audio-visual, photographic and information processing equipment\",\"all/Miscellaneous goods and services/Insurance\",\"all/Miscellaneous goods and services/Personal effects n.e.c.\",\"all/Furnishings, household equipment and routine household maintenance/Household appliances\",\"all/Furnishings, household equipment and routine household maintenance/Tools and equipment for house and garden\",\"all/Food and non-alcoholic beverages/Food\",\"all/Health/Out-patient services\",\"all/Food and non-alcoholic beverages/Food\",\"all/Food and non-alcoholic beverages/Non-alcoholic beverages\",\"all/Transport/Purchase of vehicles\",\"all/Recreation and culture/Newspapers, books and stationery\",\"all/Furnishings, household equipment and routine household maintenance/Goods and services for routine household maintenance\",\"all/Food and non-alcoholic beverages/Food\",\"all/Miscellaneous goods and services/Personal care\",\"all/Clothing and footwear/Clothing\",\"all/Miscellaneous goods and services/Financial services n.e.c.\",\"all/Health/Medical products, appliances and equipment\",\"all/Miscellaneous goods and services/Personal effects n.e.c.\",\"all/Transport/Operation of personal transport equipment\",\"all/Miscellaneous goods and services/Other services n.e.c.\",\"all/Housing, water, electricity, gas and other fuels/Water supply and miscellaneous services relating to the dwelling\",\"all/Recreation and culture/Package holidays\",\"all/Health/Out-patient services\",\"all/Transport/Transport services\",\"all/Transport/Transport services\",\"all/Transport/Transport services\",\"all/Transport/Transport services\",\"all/Recreation and culture/Other recreational items and equipment, gardens and pets\",\"all/Recreation and culture/Audio-visual, photographic and information processing equipment\",\"all/Communications/Postal services\",\"all/Education/Pre-primary and primary education\",\"all/Recreation and culture/Audio-visual, photographic and information processing equipment\",\"all/Recreation and culture/Recreational and cultural services\",\"all/Restaurants and hotels/Catering services\",\"all/Housing, water, electricity, gas and other fuels/Maintenance and repair of the dwelling\",\"all/Clothing and footwear/Footwear\",\"all/Furnishings, household equipment and routine household maintenance/Household appliances\",\"all/Furnishings, household equipment and routine household maintenance/Tools and equipment for house and garden\",\"all/Miscellaneous goods and services/Social protection\",\"all/Housing, water, electricity, gas and other fuels/Electricity, gas and other fuels\",\"all/Transport/Operation of personal transport equipment\",\"all/Alcoholic beverages, tobacco and narcotics/Alcoholic beverages\",\"all/Recreation and culture/Newspapers, books and stationery\",\"all/Food and non-alcoholic beverages/Food\",\"all/Communications/Telephone and telefax equipment\",\"all/Communications/Telephone and telefax services\",\"all/Health/Medical products, appliances and equipment\",\"all/Alcoholic beverages, tobacco and narcotics/Tobacco\",\"all/Food and non-alcoholic beverages/Food\",\"all/Alcoholic beverages, tobacco and narcotics/Alcoholic beverages\",\"all/Restaurants and hotels\",\"all/Alcoholic beverages, tobacco and narcotics\",\"all/Recreation and culture\",\"all/Restaurants and hotels\",\"all/Clothing and footwear\",\"all/Housing, water, electricity, gas and other fuels\",\"all/Miscellaneous goods and services\",\"all/Food and non-alcoholic beverages\",\"all/Clothing and footwear\",\"all/Furnishings, household equipment and routine household maintenance\",\"all/Furnishings, household equipment and routine household maintenance\",\"all/Furnishings, household equipment and routine household maintenance\",\"all/Furnishings, household equipment and routine household maintenance\",\"all/Furnishings, household equipment and routine household maintenance\",\"all/Miscellaneous goods and services\",\"all/Housing, water, electricity, gas and other fuels\",\"all/Health\",\"all/Recreation and culture\",\"all/Food and non-alcoholic beverages\",\"all/Transport\",\"all/Recreation and culture\",\"all/Miscellaneous goods and services\",\"all/Health\",\"all/Recreation and culture\",\"all/Miscellaneous goods and services\",\"all/Miscellaneous goods and services\",\"all/Communications\",\"all/Education\",\"all/Transport\",\"all/Recreation and culture\",\"all/Miscellaneous goods and services\",\"all/Communications\",\"all/Communications\",\"all/Alcoholic beverages, tobacco and narcotics\",\"all/Furnishings, household equipment and routine household maintenance\",\"all/Transport\",\"all/Housing, water, electricity, gas and other fuels\",\"all\",\"all\",\"all\",\"all\",\"all\",\"all\",\"all\",\"all\",\"all\",\"all\",\"all\",\"all\",\"\"],\"values\":[0.009017291538103095,0.06982103950732339,0.0,0.0,0.09573945568807224,0.005289472689948742,0.3022303943175951,0.03687518103849981,0.09934133471027543,0.04419228492626223,0.34578038613150636,0.04931803584247447,0.0,0.07702479755172978,0.0,0.0,0.0,0.9935140989635153,0.05333551629031648,0.5474604234096949,0.0047479314383587524,0.07023664093296224,0.06823419770033878,0.039041346044859766,0.009168419329244486,0.014054884576149517,0.0884097578177147,0.0,0.0029092099794718086,0.00020150372152185687,0.19325466292205584,0.056672921678022244,0.1717315466670025,0.07129453547095199,0.08752817903605656,0.12029772174854854,0.013261463672657207,2.1540621890860545,0.046471795775978236,0.21077289271186228,0.3723788773723915,0.10956764857750965,0.004458269838671084,0.21996650000629697,0.008450562321322873,0.28744505875092885,0.0,0.0,0.005856201906728965,0.02045262773446847,0.1846025968792111,0.16321801443270406,0.2285178141883808,0.0,0.0,0.0,0.0,0.0,0.4273642053826681,0.7976524816442704,2.25608604208909,0.0019646612848381044,0.06508570205155977,0.02191352971550193,0.011674621865672582,0.024029318791481433,0.04528796141203733,0.03380224928529149,0.0,0.2620555898391748,0.36179993199249394,0.0,0.0,0.004949435159880609,0.0,0.0,0.0029469919272571564,0.46335780763950984,0.43449239953150387,1.0235003715224866,0.0,0.10931576892560735,0.043323300127199225,0.07676032391723235,0.0,0.0,0.050476682241225146,0.003526315126632495,0.003878946639295745,0.22895860357920986,0.00465977356019294,0.0,0.028311272873820893,0.015112779114139264,0.053599989924813914,0.12468042769164894,0.0,0.23203153533241816,0.15238718940090423,0.0,0.0,0.0,0.0,0.040300744304371375,0.0019772552674332208,0.1019608830900596,0.030401873984610157,0.0,0.5200307293175321,0.006082893593441053,0.05268062919537045,0.01889097389267408,0.0,0.023613717365842602,0.3113862196642444,0.014810523531856478,0.3993929700389154,0.31646159465007623,0.0,0.020339281891112428,0.1466443333375313,0.0,0.0,0.07369998614661914,0.06829716761331436,1.034721610014735,0.07616840673526189,0.0,0.002518796519023211,1.242446758938579,0.015881012052441343,0.0,0.04862536679974309,0.0,0.0,0.05950656776192335,0.0,0.0,2.414153117640392,0.0,0.012392478873594195,0.41717567346321927,0.021044544916438927,0.2686044607886352,0.0,0.030502625845371077,0.0,0.0,0.007354885835547775,0.0008563908164678917,0.0,0.1948540987116356,0.027177814440260444,0.31666309837159806,0.05939322191856731,0.004231578151958995,0.004281954082339458,0.0092565772074103,0.2987922370691284,0.010112968023878191,0.07509791821467703,0.0,0.3821014319358211,0.39058977620492935,0.004332330012719923,0.01722856819011876,0.0,0.11096558064556755,0.09793080865962243,0.0,0.005037593038046422,0.030124806367517604,0.03948213543568883,0.0,0.0,0.0,0.0,0.03823533115877234,0.0,0.0,0.2619548379784139,0.0,0.0,0.0,0.047831945896250776,0.46335780763950984,0.0806392705565281,0.16321801443270406,1.2967268239235294,0.0,0.04327292419681876,0.23293830207926652,0.0047479314383587524,0.009168419329244486,0.0,0.0,0.026308829641197434,0.5388965152450159,0.6374444290517991,0.9165648653073561,4.572875080286639,0.484969081772729,0.03380224928529149,0.41717567346321927,0.6238555218316688,0.003526315126632495,0.053562207977028584,0.004949435159880609,0.17475410248983037,0.009017291538103095,0.23203153533241816,0.0616601387856882,0.28733171290757276,0.16164376660831453,0.75745248920066,0.09793080865962243,1.9579990680452881,0.08250317998060526,0.39058977620492935,0.0,0.38669823558303845,0.17522007984584964,0.3042076495850283,0.0,0.0,0.014810523531856478,0.15193380602748005,0.007405261765928241,0.04292029268415551,0.10094077049985517,1.242446758938579,0.020339281891112428,1.0235003715224866,0.0,0.0,0.04862536679974309,0.0,0.0,0.0,0.030502625845371077,0.0,0.3438409128118585,0.4833948339483395,0.07369998614661914,0.0,0.056672921678022244,0.22664131078170854,0.010112968023878191,1.0376308199942068,0.2190219513116633,0.09573945568807224,0.09204941878770323,0.5593869249272697,0.0,0.0,0.08752817903605656,0.5474604234096949,2.880193443572661,0.2619548379784139,0.46335780763950984,0.4383335642230142,0.03532612117930053,0.4833948339483395,0.6671284460284875,1.0411571351208393,0.0,9.71988463911943,0.0,0.484969081772729,0.053562207977028584,0.39586665491228296,0.344004634585595,0.17475410248983037,0.23203153533241816,0.07369998614661914,0.10233870256791304,0.2552674332204073,0.31544148205987177,4.799302293364231,0.4509779227485108,0.04292029268415551,0.11827009055073487,1.242446758938579,0.3091570847449089,0.21359394481316823,0.0,0.030502625845371077,0.39058977620492935,0.3485888442502173,0.010112968023878191,0.0,0.0,0.5474604234096949,0.38828507739002305,1.0721257383222298,0.10094077049985517,0.9857939876327091,0.6671284460284875,0.0,0.030502625845371077,10.0353261211793,1.841441759127489,0.2206087931186479,1.2157978917673136,0.8078158255985289,2.3326070803370147,0.9467526415878493,6.26201780789139,25.3457929801141],\"type\":\"treemap\",\"root\":{\"color\":\"lightgrey\"}}],                        {\"template\":{\"data\":{\"histogram2dcontour\":[{\"type\":\"histogram2dcontour\",\"colorbar\":{\"outlinewidth\":0,\"ticks\":\"\"},\"colorscale\":[[0.0,\"#0d0887\"],[0.1111111111111111,\"#46039f\"],[0.2222222222222222,\"#7201a8\"],[0.3333333333333333,\"#9c179e\"],[0.4444444444444444,\"#bd3786\"],[0.5555555555555556,\"#d8576b\"],[0.6666666666666666,\"#ed7953\"],[0.7777777777777778,\"#fb9f3a\"],[0.8888888888888888,\"#fdca26\"],[1.0,\"#f0f921\"]]}],\"choropleth\":[{\"type\":\"choropleth\",\"colorbar\":{\"outlinewidth\":0,\"ticks\":\"\"}}],\"histogram2d\":[{\"type\":\"histogram2d\",\"colorbar\":{\"outlinewidth\":0,\"ticks\":\"\"},\"colorscale\":[[0.0,\"#0d0887\"],[0.1111111111111111,\"#46039f\"],[0.2222222222222222,\"#7201a8\"],[0.3333333333333333,\"#9c179e\"],[0.4444444444444444,\"#bd3786\"],[0.5555555555555556,\"#d8576b\"],[0.6666666666666666,\"#ed7953\"],[0.7777777777777778,\"#fb9f3a\"],[0.8888888888888888,\"#fdca26\"],[1.0,\"#f0f921\"]]}],\"heatmap\":[{\"type\":\"heatmap\",\"colorbar\":{\"outlinewidth\":0,\"ticks\":\"\"},\"colorscale\":[[0.0,\"#0d0887\"],[0.1111111111111111,\"#46039f\"],[0.2222222222222222,\"#7201a8\"],[0.3333333333333333,\"#9c179e\"],[0.4444444444444444,\"#bd3786\"],[0.5555555555555556,\"#d8576b\"],[0.6666666666666666,\"#ed7953\"],[0.7777777777777778,\"#fb9f3a\"],[0.8888888888888888,\"#fdca26\"],[1.0,\"#f0f921\"]]}],\"heatmapgl\":[{\"type\":\"heatmapgl\",\"colorbar\":{\"outlinewidth\":0,\"ticks\":\"\"},\"colorscale\":[[0.0,\"#0d0887\"],[0.1111111111111111,\"#46039f\"],[0.2222222222222222,\"#7201a8\"],[0.3333333333333333,\"#9c179e\"],[0.4444444444444444,\"#bd3786\"],[0.5555555555555556,\"#d8576b\"],[0.6666666666666666,\"#ed7953\"],[0.7777777777777778,\"#fb9f3a\"],[0.8888888888888888,\"#fdca26\"],[1.0,\"#f0f921\"]]}],\"contourcarpet\":[{\"type\":\"contourcarpet\",\"colorbar\":{\"outlinewidth\":0,\"ticks\":\"\"}}],\"contour\":[{\"type\":\"contour\",\"colorbar\":{\"outlinewidth\":0,\"ticks\":\"\"},\"colorscale\":[[0.0,\"#0d0887\"],[0.1111111111111111,\"#46039f\"],[0.2222222222222222,\"#7201a8\"],[0.3333333333333333,\"#9c179e\"],[0.4444444444444444,\"#bd3786\"],[0.5555555555555556,\"#d8576b\"],[0.6666666666666666,\"#ed7953\"],[0.7777777777777778,\"#fb9f3a\"],[0.8888888888888888,\"#fdca26\"],[1.0,\"#f0f921\"]]}],\"surface\":[{\"type\":\"surface\",\"colorbar\":{\"outlinewidth\":0,\"ticks\":\"\"},\"colorscale\":[[0.0,\"#0d0887\"],[0.1111111111111111,\"#46039f\"],[0.2222222222222222,\"#7201a8\"],[0.3333333333333333,\"#9c179e\"],[0.4444444444444444,\"#bd3786\"],[0.5555555555555556,\"#d8576b\"],[0.6666666666666666,\"#ed7953\"],[0.7777777777777778,\"#fb9f3a\"],[0.8888888888888888,\"#fdca26\"],[1.0,\"#f0f921\"]]}],\"mesh3d\":[{\"type\":\"mesh3d\",\"colorbar\":{\"outlinewidth\":0,\"ticks\":\"\"}}],\"scatter\":[{\"fillpattern\":{\"fillmode\":\"overlay\",\"size\":10,\"solidity\":0.2},\"type\":\"scatter\"}],\"parcoords\":[{\"type\":\"parcoords\",\"line\":{\"colorbar\":{\"outlinewidth\":0,\"ticks\":\"\"}}}],\"scatterpolargl\":[{\"type\":\"scatterpolargl\",\"marker\":{\"colorbar\":{\"outlinewidth\":0,\"ticks\":\"\"}}}],\"bar\":[{\"error_x\":{\"color\":\"#2a3f5f\"},\"error_y\":{\"color\":\"#2a3f5f\"},\"marker\":{\"line\":{\"color\":\"#E5ECF6\",\"width\":0.5},\"pattern\":{\"fillmode\":\"overlay\",\"size\":10,\"solidity\":0.2}},\"type\":\"bar\"}],\"scattergeo\":[{\"type\":\"scattergeo\",\"marker\":{\"colorbar\":{\"outlinewidth\":0,\"ticks\":\"\"}}}],\"scatterpolar\":[{\"type\":\"scatterpolar\",\"marker\":{\"colorbar\":{\"outlinewidth\":0,\"ticks\":\"\"}}}],\"histogram\":[{\"marker\":{\"pattern\":{\"fillmode\":\"overlay\",\"size\":10,\"solidity\":0.2}},\"type\":\"histogram\"}],\"scattergl\":[{\"type\":\"scattergl\",\"marker\":{\"colorbar\":{\"outlinewidth\":0,\"ticks\":\"\"}}}],\"scatter3d\":[{\"type\":\"scatter3d\",\"line\":{\"colorbar\":{\"outlinewidth\":0,\"ticks\":\"\"}},\"marker\":{\"colorbar\":{\"outlinewidth\":0,\"ticks\":\"\"}}}],\"scattermapbox\":[{\"type\":\"scattermapbox\",\"marker\":{\"colorbar\":{\"outlinewidth\":0,\"ticks\":\"\"}}}],\"scatterternary\":[{\"type\":\"scatterternary\",\"marker\":{\"colorbar\":{\"outlinewidth\":0,\"ticks\":\"\"}}}],\"scattercarpet\":[{\"type\":\"scattercarpet\",\"marker\":{\"colorbar\":{\"outlinewidth\":0,\"ticks\":\"\"}}}],\"carpet\":[{\"aaxis\":{\"endlinecolor\":\"#2a3f5f\",\"gridcolor\":\"white\",\"linecolor\":\"white\",\"minorgridcolor\":\"white\",\"startlinecolor\":\"#2a3f5f\"},\"baxis\":{\"endlinecolor\":\"#2a3f5f\",\"gridcolor\":\"white\",\"linecolor\":\"white\",\"minorgridcolor\":\"white\",\"startlinecolor\":\"#2a3f5f\"},\"type\":\"carpet\"}],\"table\":[{\"cells\":{\"fill\":{\"color\":\"#EBF0F8\"},\"line\":{\"color\":\"white\"}},\"header\":{\"fill\":{\"color\":\"#C8D4E3\"},\"line\":{\"color\":\"white\"}},\"type\":\"table\"}],\"barpolar\":[{\"marker\":{\"line\":{\"color\":\"#E5ECF6\",\"width\":0.5},\"pattern\":{\"fillmode\":\"overlay\",\"size\":10,\"solidity\":0.2}},\"type\":\"barpolar\"}],\"pie\":[{\"automargin\":true,\"type\":\"pie\"}]},\"layout\":{\"autotypenumbers\":\"strict\",\"colorway\":[\"#636efa\",\"#EF553B\",\"#00cc96\",\"#ab63fa\",\"#FFA15A\",\"#19d3f3\",\"#FF6692\",\"#B6E880\",\"#FF97FF\",\"#FECB52\"],\"font\":{\"color\":\"#2a3f5f\"},\"hovermode\":\"closest\",\"hoverlabel\":{\"align\":\"left\"},\"paper_bgcolor\":\"white\",\"plot_bgcolor\":\"#E5ECF6\",\"polar\":{\"bgcolor\":\"#E5ECF6\",\"angularaxis\":{\"gridcolor\":\"white\",\"linecolor\":\"white\",\"ticks\":\"\"},\"radialaxis\":{\"gridcolor\":\"white\",\"linecolor\":\"white\",\"ticks\":\"\"}},\"ternary\":{\"bgcolor\":\"#E5ECF6\",\"aaxis\":{\"gridcolor\":\"white\",\"linecolor\":\"white\",\"ticks\":\"\"},\"baxis\":{\"gridcolor\":\"white\",\"linecolor\":\"white\",\"ticks\":\"\"},\"caxis\":{\"gridcolor\":\"white\",\"linecolor\":\"white\",\"ticks\":\"\"}},\"coloraxis\":{\"colorbar\":{\"outlinewidth\":0,\"ticks\":\"\"}},\"colorscale\":{\"sequential\":[[0.0,\"#0d0887\"],[0.1111111111111111,\"#46039f\"],[0.2222222222222222,\"#7201a8\"],[0.3333333333333333,\"#9c179e\"],[0.4444444444444444,\"#bd3786\"],[0.5555555555555556,\"#d8576b\"],[0.6666666666666666,\"#ed7953\"],[0.7777777777777778,\"#fb9f3a\"],[0.8888888888888888,\"#fdca26\"],[1.0,\"#f0f921\"]],\"sequentialminus\":[[0.0,\"#0d0887\"],[0.1111111111111111,\"#46039f\"],[0.2222222222222222,\"#7201a8\"],[0.3333333333333333,\"#9c179e\"],[0.4444444444444444,\"#bd3786\"],[0.5555555555555556,\"#d8576b\"],[0.6666666666666666,\"#ed7953\"],[0.7777777777777778,\"#fb9f3a\"],[0.8888888888888888,\"#fdca26\"],[1.0,\"#f0f921\"]],\"diverging\":[[0,\"#8e0152\"],[0.1,\"#c51b7d\"],[0.2,\"#de77ae\"],[0.3,\"#f1b6da\"],[0.4,\"#fde0ef\"],[0.5,\"#f7f7f7\"],[0.6,\"#e6f5d0\"],[0.7,\"#b8e186\"],[0.8,\"#7fbc41\"],[0.9,\"#4d9221\"],[1,\"#276419\"]]},\"xaxis\":{\"gridcolor\":\"white\",\"linecolor\":\"white\",\"ticks\":\"\",\"title\":{\"standoff\":15},\"zerolinecolor\":\"white\",\"automargin\":true,\"zerolinewidth\":2},\"yaxis\":{\"gridcolor\":\"white\",\"linecolor\":\"white\",\"ticks\":\"\",\"title\":{\"standoff\":15},\"zerolinecolor\":\"white\",\"automargin\":true,\"zerolinewidth\":2},\"scene\":{\"xaxis\":{\"backgroundcolor\":\"#E5ECF6\",\"gridcolor\":\"white\",\"linecolor\":\"white\",\"showbackground\":true,\"ticks\":\"\",\"zerolinecolor\":\"white\",\"gridwidth\":2},\"yaxis\":{\"backgroundcolor\":\"#E5ECF6\",\"gridcolor\":\"white\",\"linecolor\":\"white\",\"showbackground\":true,\"ticks\":\"\",\"zerolinecolor\":\"white\",\"gridwidth\":2},\"zaxis\":{\"backgroundcolor\":\"#E5ECF6\",\"gridcolor\":\"white\",\"linecolor\":\"white\",\"showbackground\":true,\"ticks\":\"\",\"zerolinecolor\":\"white\",\"gridwidth\":2}},\"shapedefaults\":{\"line\":{\"color\":\"#2a3f5f\"}},\"annotationdefaults\":{\"arrowcolor\":\"#2a3f5f\",\"arrowhead\":0,\"arrowwidth\":1},\"geo\":{\"bgcolor\":\"white\",\"landcolor\":\"#E5ECF6\",\"subunitcolor\":\"white\",\"showland\":true,\"showlakes\":true,\"lakecolor\":\"white\"},\"title\":{\"x\":0.05},\"mapbox\":{\"style\":\"light\"}}},\"legend\":{\"tracegroupgap\":0},\"title\":{\"text\":\"\\n<b>Consumer price growth by spending category, 2022-02 (1.3% month total) </b><br>\\nPrev: <a href=\\\"https://taivoai-public.s3.eu-central-1.amazonaws.com/inflation_charts/2022-01.html\\\">2022-01</a>\\nNext: <a href=\\\"https://taivoai-public.s3.eu-central-1.amazonaws.com/inflation_charts/2022-03.html\\\">2022-03</a>\\n| Data: <a href=\\\"https://ec.europa.eu/eurostat/databrowser/view/PRC_HICP_MMOR__custom_2846191/default/table?lang=en\\\">Eurostat</a>\\n|\\u00a0Author: <a href=\\\"https://taivo.ai/estonia-inflation-2022\\\">Taivo Pungas</a>\\n    \"},\"margin\":{\"t\":100,\"l\":25,\"r\":25,\"b\":25},\"font\":{\"size\":13}},                        {\"responsive\": true}                    ).then(function(){\n",
       "                            \n",
       "var gd = document.getElementById('e18ed4a0-ab31-448c-8a80-d37344f92c64');\n",
       "var x = new MutationObserver(function (mutations, observer) {{\n",
       "        var display = window.getComputedStyle(gd).display;\n",
       "        if (!display || display === 'none') {{\n",
       "            console.log([gd, 'removed!']);\n",
       "            Plotly.purge(gd);\n",
       "            observer.disconnect();\n",
       "        }}\n",
       "}});\n",
       "\n",
       "// Listen for the removal of the full notebook cells\n",
       "var notebookContainer = gd.closest('#notebook-container');\n",
       "if (notebookContainer) {{\n",
       "    x.observe(notebookContainer, {childList: true});\n",
       "}}\n",
       "\n",
       "// Listen for the clearing of the current output cell\n",
       "var outputEl = gd.closest('.output');\n",
       "if (outputEl) {{\n",
       "    x.observe(outputEl, {childList: true});\n",
       "}}\n",
       "\n",
       "                        })                };                });            </script>        </div>"
      ]
     },
     "metadata": {},
     "output_type": "display_data"
    }
   ],
   "source": [
    "def get_adjacent_month(month, delta):\n",
    "    months = merged.columns[1:10].tolist()\n",
    "    current_idx = months.index(month)\n",
    "    if current_idx < 0 or current_idx + delta >= len(months):\n",
    "        return None\n",
    "    return months[current_idx + delta]\n",
    "\n",
    "def plot_month(month, show=True):\n",
    "    percs = merged[month]\n",
    "    percs_capped = np.maximum(np.zeros(percs.shape), percs.to_numpy())\n",
    "    weights = get_coicop_weight(merged[\"coicop\"], month=month)\n",
    "    scale = 0.01 * 1000 / weights.sum() # 0.01 is from percent to 0...1 conversion; 1000 is to scale to 1000EUR\n",
    "    vals = percs_capped * weights * scale\n",
    "    columns = {\n",
    "        \"val\": vals,\n",
    "        \"perc\": percs\n",
    "    }\n",
    "    \n",
    "    for level in range(1, MAX_LEVEL+1):\n",
    "        columns[f\"L{level}_DESC\"] = merged[f\"L{level}_DESC\"]\n",
    "    df = pd.DataFrame(columns)\n",
    "    \n",
    "    TREEMAP_LEVELS = [f\"L{level}_DESC\" for level in range(1, MAX_LEVEL+1)]\n",
    "    \n",
    "    # Title and links\n",
    "    perc_growth = monthly_inflation[monthly_inflation[\"coicop\"] == \"CP00\"][month].iloc[0]\n",
    "    prev_month = get_adjacent_month(month, -1)\n",
    "    prev_month_link = f'<a href=\"https://taivoai-public.s3.eu-central-1.amazonaws.com/inflation_charts/{prev_month}.html\">{prev_month}</a>'\n",
    "    next_month = get_adjacent_month(month, 1)\n",
    "    next_month_link = f'<a href=\"https://taivoai-public.s3.eu-central-1.amazonaws.com/inflation_charts/{next_month}.html\">{next_month}</a>'\n",
    "    \n",
    "    fig_title = f\"\"\"\n",
    "<b>Consumer price growth by spending category, {month} ({perc_growth}% month total) </b><br>\n",
    "{\"Prev: \" + prev_month_link if prev_month is not None else \"\"}\n",
    "{\"Next: \" + next_month_link if next_month is not None else \"\"}\n",
    "| Data: <a href=\"https://ec.europa.eu/eurostat/databrowser/view/PRC_HICP_MMOR__custom_2846191/default/table?lang=en\">Eurostat</a>\n",
    "| Author: <a href=\"https://taivo.ai/estonia-inflation-2022\">Taivo Pungas</a>\n",
    "    \"\"\"\n",
    "    \n",
    "    \n",
    "    fig = px.treemap(df, path=[px.Constant(\"all\"), *TREEMAP_LEVELS], values=\"val\",\n",
    "                    title=fig_title)\n",
    "    fig.update_traces(root_color=\"lightgrey\")\n",
    "    fig.update_layout(margin = dict(t=100, l=25, r=25, b=25), font=dict(size=13))\n",
    "    \n",
    "    plotly.io.write_html(fig, f\"figures/{month}.html\")\n",
    "    \n",
    "    if show:\n",
    "        fig.show()\n",
    "\n",
    "    \n",
    "plot_month(\"2022-02\")"
   ]
  },
  {
   "cell_type": "code",
   "execution_count": 91,
   "id": "c3a67d51",
   "metadata": {},
   "outputs": [
    {
     "name": "stdout",
     "output_type": "stream",
     "text": [
      "2021-08\n",
      "2021-09\n",
      "2021-10\n",
      "2021-11\n",
      "2021-12\n",
      "2022-01\n",
      "2022-02\n",
      "2022-03\n",
      "2022-04\n"
     ]
    }
   ],
   "source": [
    "for month in merged.columns[1:10]:\n",
    "    print(month)\n",
    "    plot_month(month, show=False)"
   ]
  },
  {
   "cell_type": "markdown",
   "id": "5190d75d",
   "metadata": {},
   "source": [
    "# Experimenting with other kinds of visualisation"
   ]
  },
  {
   "cell_type": "code",
   "execution_count": 92,
   "id": "5d479766",
   "metadata": {},
   "outputs": [
    {
     "data": {
      "text/html": [
       "<div>\n",
       "<style scoped>\n",
       "    .dataframe tbody tr th:only-of-type {\n",
       "        vertical-align: middle;\n",
       "    }\n",
       "\n",
       "    .dataframe tbody tr th {\n",
       "        vertical-align: top;\n",
       "    }\n",
       "\n",
       "    .dataframe thead th {\n",
       "        text-align: right;\n",
       "    }\n",
       "</style>\n",
       "<table border=\"1\" class=\"dataframe\">\n",
       "  <thead>\n",
       "    <tr style=\"text-align: right;\">\n",
       "      <th></th>\n",
       "      <th>EN_DESC</th>\n",
       "      <th>2021-08</th>\n",
       "      <th>2021-09</th>\n",
       "      <th>2021-10</th>\n",
       "      <th>2021-11</th>\n",
       "      <th>2021-12</th>\n",
       "      <th>2022-01</th>\n",
       "      <th>2022-02</th>\n",
       "      <th>2022-03</th>\n",
       "      <th>2022-04</th>\n",
       "    </tr>\n",
       "  </thead>\n",
       "  <tbody>\n",
       "    <tr>\n",
       "      <th>0</th>\n",
       "      <td>Food and non-alcoholic beverages</td>\n",
       "      <td>220.74</td>\n",
       "      <td>219.63630</td>\n",
       "      <td>217.220301</td>\n",
       "      <td>221.564707</td>\n",
       "      <td>221.121577</td>\n",
       "      <td>229.745319</td>\n",
       "      <td>238.245896</td>\n",
       "      <td>241.581338</td>\n",
       "      <td>247.137709</td>\n",
       "    </tr>\n",
       "    <tr>\n",
       "      <th>1</th>\n",
       "      <td>Alcoholic beverages, tobacco and narcotics</td>\n",
       "      <td>67.00</td>\n",
       "      <td>67.13400</td>\n",
       "      <td>67.939608</td>\n",
       "      <td>67.939608</td>\n",
       "      <td>67.464031</td>\n",
       "      <td>68.138671</td>\n",
       "      <td>68.888196</td>\n",
       "      <td>69.094861</td>\n",
       "      <td>69.233051</td>\n",
       "    </tr>\n",
       "    <tr>\n",
       "      <th>2</th>\n",
       "      <td>Clothing and footwear</td>\n",
       "      <td>56.00</td>\n",
       "      <td>58.91200</td>\n",
       "      <td>60.266976</td>\n",
       "      <td>61.351782</td>\n",
       "      <td>60.615560</td>\n",
       "      <td>56.918011</td>\n",
       "      <td>57.031847</td>\n",
       "      <td>58.856866</td>\n",
       "      <td>60.034003</td>\n",
       "    </tr>\n",
       "    <tr>\n",
       "      <th>3</th>\n",
       "      <td>Housing, water, electricity, gas and other fuels</td>\n",
       "      <td>142.45</td>\n",
       "      <td>153.13375</td>\n",
       "      <td>146.702132</td>\n",
       "      <td>154.183941</td>\n",
       "      <td>185.791649</td>\n",
       "      <td>172.972025</td>\n",
       "      <td>167.436921</td>\n",
       "      <td>173.297213</td>\n",
       "      <td>208.823141</td>\n",
       "    </tr>\n",
       "    <tr>\n",
       "      <th>4</th>\n",
       "      <td>Furnishings, household equipment and routine h...</td>\n",
       "      <td>68.34</td>\n",
       "      <td>68.95506</td>\n",
       "      <td>68.817150</td>\n",
       "      <td>69.367687</td>\n",
       "      <td>70.200099</td>\n",
       "      <td>69.919299</td>\n",
       "      <td>71.317685</td>\n",
       "      <td>72.244815</td>\n",
       "      <td>73.328487</td>\n",
       "    </tr>\n",
       "    <tr>\n",
       "      <th>5</th>\n",
       "      <td>Health</td>\n",
       "      <td>60.87</td>\n",
       "      <td>60.87000</td>\n",
       "      <td>61.235220</td>\n",
       "      <td>61.418926</td>\n",
       "      <td>61.971696</td>\n",
       "      <td>63.025215</td>\n",
       "      <td>63.214290</td>\n",
       "      <td>63.530362</td>\n",
       "      <td>63.657423</td>\n",
       "    </tr>\n",
       "    <tr>\n",
       "      <th>6</th>\n",
       "      <td>Transport</td>\n",
       "      <td>130.95</td>\n",
       "      <td>131.08095</td>\n",
       "      <td>135.799864</td>\n",
       "      <td>138.244262</td>\n",
       "      <td>138.244262</td>\n",
       "      <td>139.903193</td>\n",
       "      <td>144.799805</td>\n",
       "      <td>157.397388</td>\n",
       "      <td>156.138209</td>\n",
       "    </tr>\n",
       "    <tr>\n",
       "      <th>7</th>\n",
       "      <td>Communications</td>\n",
       "      <td>48.87</td>\n",
       "      <td>48.57678</td>\n",
       "      <td>48.673934</td>\n",
       "      <td>48.722607</td>\n",
       "      <td>47.650710</td>\n",
       "      <td>47.317155</td>\n",
       "      <td>47.222521</td>\n",
       "      <td>47.694746</td>\n",
       "      <td>47.599357</td>\n",
       "    </tr>\n",
       "    <tr>\n",
       "      <th>8</th>\n",
       "      <td>Recreation and culture</td>\n",
       "      <td>77.64</td>\n",
       "      <td>77.87292</td>\n",
       "      <td>78.028666</td>\n",
       "      <td>78.730924</td>\n",
       "      <td>78.809655</td>\n",
       "      <td>78.494416</td>\n",
       "      <td>79.828821</td>\n",
       "      <td>80.387623</td>\n",
       "      <td>82.075763</td>\n",
       "    </tr>\n",
       "    <tr>\n",
       "      <th>9</th>\n",
       "      <td>Education</td>\n",
       "      <td>10.44</td>\n",
       "      <td>10.56528</td>\n",
       "      <td>10.565280</td>\n",
       "      <td>10.607541</td>\n",
       "      <td>10.607541</td>\n",
       "      <td>10.649971</td>\n",
       "      <td>10.671271</td>\n",
       "      <td>10.671271</td>\n",
       "      <td>10.681942</td>\n",
       "    </tr>\n",
       "    <tr>\n",
       "      <th>10</th>\n",
       "      <td>Restaurants and hotels</td>\n",
       "      <td>57.18</td>\n",
       "      <td>55.12152</td>\n",
       "      <td>54.460062</td>\n",
       "      <td>54.677902</td>\n",
       "      <td>54.896614</td>\n",
       "      <td>55.390683</td>\n",
       "      <td>56.332325</td>\n",
       "      <td>56.839316</td>\n",
       "      <td>59.226567</td>\n",
       "    </tr>\n",
       "    <tr>\n",
       "      <th>11</th>\n",
       "      <td>Miscellaneous goods and services</td>\n",
       "      <td>59.53</td>\n",
       "      <td>59.88718</td>\n",
       "      <td>59.587744</td>\n",
       "      <td>59.826095</td>\n",
       "      <td>60.244878</td>\n",
       "      <td>60.907571</td>\n",
       "      <td>61.638462</td>\n",
       "      <td>62.316485</td>\n",
       "      <td>63.064283</td>\n",
       "    </tr>\n",
       "  </tbody>\n",
       "</table>\n",
       "</div>"
      ],
      "text/plain": [
       "                                              EN_DESC  2021-08    2021-09  \\\n",
       "0                    Food and non-alcoholic beverages   220.74  219.63630   \n",
       "1          Alcoholic beverages, tobacco and narcotics    67.00   67.13400   \n",
       "2                               Clothing and footwear    56.00   58.91200   \n",
       "3    Housing, water, electricity, gas and other fuels   142.45  153.13375   \n",
       "4   Furnishings, household equipment and routine h...    68.34   68.95506   \n",
       "5                                              Health    60.87   60.87000   \n",
       "6                                           Transport   130.95  131.08095   \n",
       "7                                      Communications    48.87   48.57678   \n",
       "8                              Recreation and culture    77.64   77.87292   \n",
       "9                                           Education    10.44   10.56528   \n",
       "10                             Restaurants and hotels    57.18   55.12152   \n",
       "11                   Miscellaneous goods and services    59.53   59.88718   \n",
       "\n",
       "       2021-10     2021-11     2021-12     2022-01     2022-02     2022-03  \\\n",
       "0   217.220301  221.564707  221.121577  229.745319  238.245896  241.581338   \n",
       "1    67.939608   67.939608   67.464031   68.138671   68.888196   69.094861   \n",
       "2    60.266976   61.351782   60.615560   56.918011   57.031847   58.856866   \n",
       "3   146.702132  154.183941  185.791649  172.972025  167.436921  173.297213   \n",
       "4    68.817150   69.367687   70.200099   69.919299   71.317685   72.244815   \n",
       "5    61.235220   61.418926   61.971696   63.025215   63.214290   63.530362   \n",
       "6   135.799864  138.244262  138.244262  139.903193  144.799805  157.397388   \n",
       "7    48.673934   48.722607   47.650710   47.317155   47.222521   47.694746   \n",
       "8    78.028666   78.730924   78.809655   78.494416   79.828821   80.387623   \n",
       "9    10.565280   10.607541   10.607541   10.649971   10.671271   10.671271   \n",
       "10   54.460062   54.677902   54.896614   55.390683   56.332325   56.839316   \n",
       "11   59.587744   59.826095   60.244878   60.907571   61.638462   62.316485   \n",
       "\n",
       "       2022-04  \n",
       "0   247.137709  \n",
       "1    69.233051  \n",
       "2    60.034003  \n",
       "3   208.823141  \n",
       "4    73.328487  \n",
       "5    63.657423  \n",
       "6   156.138209  \n",
       "7    47.599357  \n",
       "8    82.075763  \n",
       "9    10.681942  \n",
       "10   59.226567  \n",
       "11   63.064283  "
      ]
     },
     "execution_count": 92,
     "metadata": {},
     "output_type": "execute_result"
    }
   ],
   "source": [
    "monthly_bars = monthly_inflation.merge(coicop, left_on=\"coicop\", right_on=\"CODE_DIFF\")\n",
    "monthly_bars = monthly_bars[monthly_bars[\"coicop\"].str.slice(0, 2) == \"CP\"]\n",
    "monthly_bars = monthly_bars[monthly_bars[\"coicop\"].str.slice(0, 4) != \"CP00\"]\n",
    "monthly_bars = monthly_bars[monthly_bars[\"LEVEL\"] == 1]\n",
    "\n",
    "costs = dict()\n",
    "initial_costs = monthly_bars.merge(weights, left_on=\"coicop\", right_on=\"coicop\").sort_values(\"coicop\")[\"2021\"].to_numpy()\n",
    "costs[\"EN_DESC\"] = monthly_bars.merge(weights, left_on=\"coicop\", right_on=\"coicop\").sort_values(\"coicop\")[\"EN_DESC\"]\n",
    "prev_month = None\n",
    "for month in monthly_bars.columns[:9]:\n",
    "    if month == monthly_bars.columns[0]:\n",
    "        costs[month] = initial_costs\n",
    "    else:\n",
    "        costs[month] = costs[prev_month] * (1.0 + monthly_bars.sort_values(\"coicop\")[month].to_numpy() / 100)\n",
    "    prev_month = month\n",
    "    \n",
    "cost_evolution = pd.DataFrame(costs)\n",
    "cost_evolution"
   ]
  },
  {
   "cell_type": "code",
   "execution_count": 93,
   "id": "f2dc72c5",
   "metadata": {},
   "outputs": [
    {
     "data": {
      "text/html": [
       "<div>\n",
       "<style scoped>\n",
       "    .dataframe tbody tr th:only-of-type {\n",
       "        vertical-align: middle;\n",
       "    }\n",
       "\n",
       "    .dataframe tbody tr th {\n",
       "        vertical-align: top;\n",
       "    }\n",
       "\n",
       "    .dataframe thead th {\n",
       "        text-align: right;\n",
       "    }\n",
       "</style>\n",
       "<table border=\"1\" class=\"dataframe\">\n",
       "  <thead>\n",
       "    <tr style=\"text-align: right;\">\n",
       "      <th></th>\n",
       "      <th>EN_DESC</th>\n",
       "      <th>month</th>\n",
       "      <th>eur_budget</th>\n",
       "    </tr>\n",
       "  </thead>\n",
       "  <tbody>\n",
       "    <tr>\n",
       "      <th>0</th>\n",
       "      <td>Food and non-alcoholic beverages</td>\n",
       "      <td>2021-08</td>\n",
       "      <td>220.740000</td>\n",
       "    </tr>\n",
       "    <tr>\n",
       "      <th>1</th>\n",
       "      <td>Alcoholic beverages, tobacco and narcotics</td>\n",
       "      <td>2021-08</td>\n",
       "      <td>67.000000</td>\n",
       "    </tr>\n",
       "    <tr>\n",
       "      <th>2</th>\n",
       "      <td>Clothing and footwear</td>\n",
       "      <td>2021-08</td>\n",
       "      <td>56.000000</td>\n",
       "    </tr>\n",
       "    <tr>\n",
       "      <th>3</th>\n",
       "      <td>Housing, water, electricity, gas and other fuels</td>\n",
       "      <td>2021-08</td>\n",
       "      <td>142.450000</td>\n",
       "    </tr>\n",
       "    <tr>\n",
       "      <th>4</th>\n",
       "      <td>Furnishings, household equipment and routine h...</td>\n",
       "      <td>2021-08</td>\n",
       "      <td>68.340000</td>\n",
       "    </tr>\n",
       "    <tr>\n",
       "      <th>...</th>\n",
       "      <td>...</td>\n",
       "      <td>...</td>\n",
       "      <td>...</td>\n",
       "    </tr>\n",
       "    <tr>\n",
       "      <th>103</th>\n",
       "      <td>Communications</td>\n",
       "      <td>2022-04</td>\n",
       "      <td>47.599357</td>\n",
       "    </tr>\n",
       "    <tr>\n",
       "      <th>104</th>\n",
       "      <td>Recreation and culture</td>\n",
       "      <td>2022-04</td>\n",
       "      <td>82.075763</td>\n",
       "    </tr>\n",
       "    <tr>\n",
       "      <th>105</th>\n",
       "      <td>Education</td>\n",
       "      <td>2022-04</td>\n",
       "      <td>10.681942</td>\n",
       "    </tr>\n",
       "    <tr>\n",
       "      <th>106</th>\n",
       "      <td>Restaurants and hotels</td>\n",
       "      <td>2022-04</td>\n",
       "      <td>59.226567</td>\n",
       "    </tr>\n",
       "    <tr>\n",
       "      <th>107</th>\n",
       "      <td>Miscellaneous goods and services</td>\n",
       "      <td>2022-04</td>\n",
       "      <td>63.064283</td>\n",
       "    </tr>\n",
       "  </tbody>\n",
       "</table>\n",
       "<p>108 rows × 3 columns</p>\n",
       "</div>"
      ],
      "text/plain": [
       "                                               EN_DESC    month  eur_budget\n",
       "0                     Food and non-alcoholic beverages  2021-08  220.740000\n",
       "1           Alcoholic beverages, tobacco and narcotics  2021-08   67.000000\n",
       "2                                Clothing and footwear  2021-08   56.000000\n",
       "3     Housing, water, electricity, gas and other fuels  2021-08  142.450000\n",
       "4    Furnishings, household equipment and routine h...  2021-08   68.340000\n",
       "..                                                 ...      ...         ...\n",
       "103                                     Communications  2022-04   47.599357\n",
       "104                             Recreation and culture  2022-04   82.075763\n",
       "105                                          Education  2022-04   10.681942\n",
       "106                             Restaurants and hotels  2022-04   59.226567\n",
       "107                   Miscellaneous goods and services  2022-04   63.064283\n",
       "\n",
       "[108 rows x 3 columns]"
      ]
     },
     "execution_count": 93,
     "metadata": {},
     "output_type": "execute_result"
    }
   ],
   "source": [
    "cost_evolution_long = cost_evolution.melt(id_vars=[\"EN_DESC\"], \n",
    "        var_name=\"month\", \n",
    "        value_name=\"eur_budget\")\n",
    "cost_evolution_long"
   ]
  },
  {
   "cell_type": "code",
   "execution_count": 94,
   "id": "81a8bc81",
   "metadata": {},
   "outputs": [
    {
     "data": {
      "application/vnd.plotly.v1+json": {
       "config": {
        "plotlyServerURL": "https://plotly.com"
       },
       "data": [
        {
         "alignmentgroup": "True",
         "hovertemplate": "EN_DESC=%{x}<br>month=2021-08<br>eur_budget=%{y}<extra></extra>",
         "legendgroup": "Food and non-alcoholic beverages",
         "marker": {
          "color": "#636efa",
          "pattern": {
           "shape": ""
          }
         },
         "name": "Food and non-alcoholic beverages",
         "offsetgroup": "Food and non-alcoholic beverages",
         "orientation": "v",
         "showlegend": true,
         "textposition": "auto",
         "type": "bar",
         "x": [
          "Food and non-alcoholic beverages"
         ],
         "xaxis": "x",
         "y": [
          220.74
         ],
         "yaxis": "y"
        },
        {
         "alignmentgroup": "True",
         "hovertemplate": "EN_DESC=%{x}<br>month=2021-08<br>eur_budget=%{y}<extra></extra>",
         "legendgroup": "Alcoholic beverages, tobacco and narcotics",
         "marker": {
          "color": "#EF553B",
          "pattern": {
           "shape": ""
          }
         },
         "name": "Alcoholic beverages, tobacco and narcotics",
         "offsetgroup": "Alcoholic beverages, tobacco and narcotics",
         "orientation": "v",
         "showlegend": true,
         "textposition": "auto",
         "type": "bar",
         "x": [
          "Alcoholic beverages, tobacco and narcotics"
         ],
         "xaxis": "x",
         "y": [
          67
         ],
         "yaxis": "y"
        },
        {
         "alignmentgroup": "True",
         "hovertemplate": "EN_DESC=%{x}<br>month=2021-08<br>eur_budget=%{y}<extra></extra>",
         "legendgroup": "Clothing and footwear",
         "marker": {
          "color": "#00cc96",
          "pattern": {
           "shape": ""
          }
         },
         "name": "Clothing and footwear",
         "offsetgroup": "Clothing and footwear",
         "orientation": "v",
         "showlegend": true,
         "textposition": "auto",
         "type": "bar",
         "x": [
          "Clothing and footwear"
         ],
         "xaxis": "x",
         "y": [
          56
         ],
         "yaxis": "y"
        },
        {
         "alignmentgroup": "True",
         "hovertemplate": "EN_DESC=%{x}<br>month=2021-08<br>eur_budget=%{y}<extra></extra>",
         "legendgroup": "Housing, water, electricity, gas and other fuels",
         "marker": {
          "color": "#ab63fa",
          "pattern": {
           "shape": ""
          }
         },
         "name": "Housing, water, electricity, gas and other fuels",
         "offsetgroup": "Housing, water, electricity, gas and other fuels",
         "orientation": "v",
         "showlegend": true,
         "textposition": "auto",
         "type": "bar",
         "x": [
          "Housing, water, electricity, gas and other fuels"
         ],
         "xaxis": "x",
         "y": [
          142.45
         ],
         "yaxis": "y"
        },
        {
         "alignmentgroup": "True",
         "hovertemplate": "EN_DESC=%{x}<br>month=2021-08<br>eur_budget=%{y}<extra></extra>",
         "legendgroup": "Furnishings, household equipment and routine household maintenance",
         "marker": {
          "color": "#FFA15A",
          "pattern": {
           "shape": ""
          }
         },
         "name": "Furnishings, household equipment and routine household maintenance",
         "offsetgroup": "Furnishings, household equipment and routine household maintenance",
         "orientation": "v",
         "showlegend": true,
         "textposition": "auto",
         "type": "bar",
         "x": [
          "Furnishings, household equipment and routine household maintenance"
         ],
         "xaxis": "x",
         "y": [
          68.34
         ],
         "yaxis": "y"
        },
        {
         "alignmentgroup": "True",
         "hovertemplate": "EN_DESC=%{x}<br>month=2021-08<br>eur_budget=%{y}<extra></extra>",
         "legendgroup": "Health",
         "marker": {
          "color": "#19d3f3",
          "pattern": {
           "shape": ""
          }
         },
         "name": "Health",
         "offsetgroup": "Health",
         "orientation": "v",
         "showlegend": true,
         "textposition": "auto",
         "type": "bar",
         "x": [
          "Health"
         ],
         "xaxis": "x",
         "y": [
          60.87
         ],
         "yaxis": "y"
        },
        {
         "alignmentgroup": "True",
         "hovertemplate": "EN_DESC=%{x}<br>month=2021-08<br>eur_budget=%{y}<extra></extra>",
         "legendgroup": "Transport",
         "marker": {
          "color": "#FF6692",
          "pattern": {
           "shape": ""
          }
         },
         "name": "Transport",
         "offsetgroup": "Transport",
         "orientation": "v",
         "showlegend": true,
         "textposition": "auto",
         "type": "bar",
         "x": [
          "Transport"
         ],
         "xaxis": "x",
         "y": [
          130.95
         ],
         "yaxis": "y"
        },
        {
         "alignmentgroup": "True",
         "hovertemplate": "EN_DESC=%{x}<br>month=2021-08<br>eur_budget=%{y}<extra></extra>",
         "legendgroup": "Communications",
         "marker": {
          "color": "#B6E880",
          "pattern": {
           "shape": ""
          }
         },
         "name": "Communications",
         "offsetgroup": "Communications",
         "orientation": "v",
         "showlegend": true,
         "textposition": "auto",
         "type": "bar",
         "x": [
          "Communications"
         ],
         "xaxis": "x",
         "y": [
          48.87
         ],
         "yaxis": "y"
        },
        {
         "alignmentgroup": "True",
         "hovertemplate": "EN_DESC=%{x}<br>month=2021-08<br>eur_budget=%{y}<extra></extra>",
         "legendgroup": "Recreation and culture",
         "marker": {
          "color": "#FF97FF",
          "pattern": {
           "shape": ""
          }
         },
         "name": "Recreation and culture",
         "offsetgroup": "Recreation and culture",
         "orientation": "v",
         "showlegend": true,
         "textposition": "auto",
         "type": "bar",
         "x": [
          "Recreation and culture"
         ],
         "xaxis": "x",
         "y": [
          77.64
         ],
         "yaxis": "y"
        },
        {
         "alignmentgroup": "True",
         "hovertemplate": "EN_DESC=%{x}<br>month=2021-08<br>eur_budget=%{y}<extra></extra>",
         "legendgroup": "Education",
         "marker": {
          "color": "#FECB52",
          "pattern": {
           "shape": ""
          }
         },
         "name": "Education",
         "offsetgroup": "Education",
         "orientation": "v",
         "showlegend": true,
         "textposition": "auto",
         "type": "bar",
         "x": [
          "Education"
         ],
         "xaxis": "x",
         "y": [
          10.44
         ],
         "yaxis": "y"
        },
        {
         "alignmentgroup": "True",
         "hovertemplate": "EN_DESC=%{x}<br>month=2021-08<br>eur_budget=%{y}<extra></extra>",
         "legendgroup": "Restaurants and hotels",
         "marker": {
          "color": "#636efa",
          "pattern": {
           "shape": ""
          }
         },
         "name": "Restaurants and hotels",
         "offsetgroup": "Restaurants and hotels",
         "orientation": "v",
         "showlegend": true,
         "textposition": "auto",
         "type": "bar",
         "x": [
          "Restaurants and hotels"
         ],
         "xaxis": "x",
         "y": [
          57.18
         ],
         "yaxis": "y"
        },
        {
         "alignmentgroup": "True",
         "hovertemplate": "EN_DESC=%{x}<br>month=2021-08<br>eur_budget=%{y}<extra></extra>",
         "legendgroup": "Miscellaneous goods and services",
         "marker": {
          "color": "#EF553B",
          "pattern": {
           "shape": ""
          }
         },
         "name": "Miscellaneous goods and services",
         "offsetgroup": "Miscellaneous goods and services",
         "orientation": "v",
         "showlegend": true,
         "textposition": "auto",
         "type": "bar",
         "x": [
          "Miscellaneous goods and services"
         ],
         "xaxis": "x",
         "y": [
          59.53
         ],
         "yaxis": "y"
        }
       ],
       "frames": [
        {
         "data": [
          {
           "alignmentgroup": "True",
           "hovertemplate": "EN_DESC=%{x}<br>month=2021-08<br>eur_budget=%{y}<extra></extra>",
           "legendgroup": "Food and non-alcoholic beverages",
           "marker": {
            "color": "#636efa",
            "pattern": {
             "shape": ""
            }
           },
           "name": "Food and non-alcoholic beverages",
           "offsetgroup": "Food and non-alcoholic beverages",
           "orientation": "v",
           "showlegend": true,
           "textposition": "auto",
           "type": "bar",
           "x": [
            "Food and non-alcoholic beverages"
           ],
           "xaxis": "x",
           "y": [
            220.74
           ],
           "yaxis": "y"
          },
          {
           "alignmentgroup": "True",
           "hovertemplate": "EN_DESC=%{x}<br>month=2021-08<br>eur_budget=%{y}<extra></extra>",
           "legendgroup": "Alcoholic beverages, tobacco and narcotics",
           "marker": {
            "color": "#EF553B",
            "pattern": {
             "shape": ""
            }
           },
           "name": "Alcoholic beverages, tobacco and narcotics",
           "offsetgroup": "Alcoholic beverages, tobacco and narcotics",
           "orientation": "v",
           "showlegend": true,
           "textposition": "auto",
           "type": "bar",
           "x": [
            "Alcoholic beverages, tobacco and narcotics"
           ],
           "xaxis": "x",
           "y": [
            67
           ],
           "yaxis": "y"
          },
          {
           "alignmentgroup": "True",
           "hovertemplate": "EN_DESC=%{x}<br>month=2021-08<br>eur_budget=%{y}<extra></extra>",
           "legendgroup": "Clothing and footwear",
           "marker": {
            "color": "#00cc96",
            "pattern": {
             "shape": ""
            }
           },
           "name": "Clothing and footwear",
           "offsetgroup": "Clothing and footwear",
           "orientation": "v",
           "showlegend": true,
           "textposition": "auto",
           "type": "bar",
           "x": [
            "Clothing and footwear"
           ],
           "xaxis": "x",
           "y": [
            56
           ],
           "yaxis": "y"
          },
          {
           "alignmentgroup": "True",
           "hovertemplate": "EN_DESC=%{x}<br>month=2021-08<br>eur_budget=%{y}<extra></extra>",
           "legendgroup": "Housing, water, electricity, gas and other fuels",
           "marker": {
            "color": "#ab63fa",
            "pattern": {
             "shape": ""
            }
           },
           "name": "Housing, water, electricity, gas and other fuels",
           "offsetgroup": "Housing, water, electricity, gas and other fuels",
           "orientation": "v",
           "showlegend": true,
           "textposition": "auto",
           "type": "bar",
           "x": [
            "Housing, water, electricity, gas and other fuels"
           ],
           "xaxis": "x",
           "y": [
            142.45
           ],
           "yaxis": "y"
          },
          {
           "alignmentgroup": "True",
           "hovertemplate": "EN_DESC=%{x}<br>month=2021-08<br>eur_budget=%{y}<extra></extra>",
           "legendgroup": "Furnishings, household equipment and routine household maintenance",
           "marker": {
            "color": "#FFA15A",
            "pattern": {
             "shape": ""
            }
           },
           "name": "Furnishings, household equipment and routine household maintenance",
           "offsetgroup": "Furnishings, household equipment and routine household maintenance",
           "orientation": "v",
           "showlegend": true,
           "textposition": "auto",
           "type": "bar",
           "x": [
            "Furnishings, household equipment and routine household maintenance"
           ],
           "xaxis": "x",
           "y": [
            68.34
           ],
           "yaxis": "y"
          },
          {
           "alignmentgroup": "True",
           "hovertemplate": "EN_DESC=%{x}<br>month=2021-08<br>eur_budget=%{y}<extra></extra>",
           "legendgroup": "Health",
           "marker": {
            "color": "#19d3f3",
            "pattern": {
             "shape": ""
            }
           },
           "name": "Health",
           "offsetgroup": "Health",
           "orientation": "v",
           "showlegend": true,
           "textposition": "auto",
           "type": "bar",
           "x": [
            "Health"
           ],
           "xaxis": "x",
           "y": [
            60.87
           ],
           "yaxis": "y"
          },
          {
           "alignmentgroup": "True",
           "hovertemplate": "EN_DESC=%{x}<br>month=2021-08<br>eur_budget=%{y}<extra></extra>",
           "legendgroup": "Transport",
           "marker": {
            "color": "#FF6692",
            "pattern": {
             "shape": ""
            }
           },
           "name": "Transport",
           "offsetgroup": "Transport",
           "orientation": "v",
           "showlegend": true,
           "textposition": "auto",
           "type": "bar",
           "x": [
            "Transport"
           ],
           "xaxis": "x",
           "y": [
            130.95
           ],
           "yaxis": "y"
          },
          {
           "alignmentgroup": "True",
           "hovertemplate": "EN_DESC=%{x}<br>month=2021-08<br>eur_budget=%{y}<extra></extra>",
           "legendgroup": "Communications",
           "marker": {
            "color": "#B6E880",
            "pattern": {
             "shape": ""
            }
           },
           "name": "Communications",
           "offsetgroup": "Communications",
           "orientation": "v",
           "showlegend": true,
           "textposition": "auto",
           "type": "bar",
           "x": [
            "Communications"
           ],
           "xaxis": "x",
           "y": [
            48.87
           ],
           "yaxis": "y"
          },
          {
           "alignmentgroup": "True",
           "hovertemplate": "EN_DESC=%{x}<br>month=2021-08<br>eur_budget=%{y}<extra></extra>",
           "legendgroup": "Recreation and culture",
           "marker": {
            "color": "#FF97FF",
            "pattern": {
             "shape": ""
            }
           },
           "name": "Recreation and culture",
           "offsetgroup": "Recreation and culture",
           "orientation": "v",
           "showlegend": true,
           "textposition": "auto",
           "type": "bar",
           "x": [
            "Recreation and culture"
           ],
           "xaxis": "x",
           "y": [
            77.64
           ],
           "yaxis": "y"
          },
          {
           "alignmentgroup": "True",
           "hovertemplate": "EN_DESC=%{x}<br>month=2021-08<br>eur_budget=%{y}<extra></extra>",
           "legendgroup": "Education",
           "marker": {
            "color": "#FECB52",
            "pattern": {
             "shape": ""
            }
           },
           "name": "Education",
           "offsetgroup": "Education",
           "orientation": "v",
           "showlegend": true,
           "textposition": "auto",
           "type": "bar",
           "x": [
            "Education"
           ],
           "xaxis": "x",
           "y": [
            10.44
           ],
           "yaxis": "y"
          },
          {
           "alignmentgroup": "True",
           "hovertemplate": "EN_DESC=%{x}<br>month=2021-08<br>eur_budget=%{y}<extra></extra>",
           "legendgroup": "Restaurants and hotels",
           "marker": {
            "color": "#636efa",
            "pattern": {
             "shape": ""
            }
           },
           "name": "Restaurants and hotels",
           "offsetgroup": "Restaurants and hotels",
           "orientation": "v",
           "showlegend": true,
           "textposition": "auto",
           "type": "bar",
           "x": [
            "Restaurants and hotels"
           ],
           "xaxis": "x",
           "y": [
            57.18
           ],
           "yaxis": "y"
          },
          {
           "alignmentgroup": "True",
           "hovertemplate": "EN_DESC=%{x}<br>month=2021-08<br>eur_budget=%{y}<extra></extra>",
           "legendgroup": "Miscellaneous goods and services",
           "marker": {
            "color": "#EF553B",
            "pattern": {
             "shape": ""
            }
           },
           "name": "Miscellaneous goods and services",
           "offsetgroup": "Miscellaneous goods and services",
           "orientation": "v",
           "showlegend": true,
           "textposition": "auto",
           "type": "bar",
           "x": [
            "Miscellaneous goods and services"
           ],
           "xaxis": "x",
           "y": [
            59.53
           ],
           "yaxis": "y"
          }
         ],
         "name": "2021-08"
        },
        {
         "data": [
          {
           "alignmentgroup": "True",
           "hovertemplate": "EN_DESC=%{x}<br>month=2021-09<br>eur_budget=%{y}<extra></extra>",
           "legendgroup": "Food and non-alcoholic beverages",
           "marker": {
            "color": "#636efa",
            "pattern": {
             "shape": ""
            }
           },
           "name": "Food and non-alcoholic beverages",
           "offsetgroup": "Food and non-alcoholic beverages",
           "orientation": "v",
           "showlegend": true,
           "textposition": "auto",
           "type": "bar",
           "x": [
            "Food and non-alcoholic beverages"
           ],
           "xaxis": "x",
           "y": [
            219.6363
           ],
           "yaxis": "y"
          },
          {
           "alignmentgroup": "True",
           "hovertemplate": "EN_DESC=%{x}<br>month=2021-09<br>eur_budget=%{y}<extra></extra>",
           "legendgroup": "Alcoholic beverages, tobacco and narcotics",
           "marker": {
            "color": "#EF553B",
            "pattern": {
             "shape": ""
            }
           },
           "name": "Alcoholic beverages, tobacco and narcotics",
           "offsetgroup": "Alcoholic beverages, tobacco and narcotics",
           "orientation": "v",
           "showlegend": true,
           "textposition": "auto",
           "type": "bar",
           "x": [
            "Alcoholic beverages, tobacco and narcotics"
           ],
           "xaxis": "x",
           "y": [
            67.134
           ],
           "yaxis": "y"
          },
          {
           "alignmentgroup": "True",
           "hovertemplate": "EN_DESC=%{x}<br>month=2021-09<br>eur_budget=%{y}<extra></extra>",
           "legendgroup": "Clothing and footwear",
           "marker": {
            "color": "#00cc96",
            "pattern": {
             "shape": ""
            }
           },
           "name": "Clothing and footwear",
           "offsetgroup": "Clothing and footwear",
           "orientation": "v",
           "showlegend": true,
           "textposition": "auto",
           "type": "bar",
           "x": [
            "Clothing and footwear"
           ],
           "xaxis": "x",
           "y": [
            58.912000000000006
           ],
           "yaxis": "y"
          },
          {
           "alignmentgroup": "True",
           "hovertemplate": "EN_DESC=%{x}<br>month=2021-09<br>eur_budget=%{y}<extra></extra>",
           "legendgroup": "Housing, water, electricity, gas and other fuels",
           "marker": {
            "color": "#ab63fa",
            "pattern": {
             "shape": ""
            }
           },
           "name": "Housing, water, electricity, gas and other fuels",
           "offsetgroup": "Housing, water, electricity, gas and other fuels",
           "orientation": "v",
           "showlegend": true,
           "textposition": "auto",
           "type": "bar",
           "x": [
            "Housing, water, electricity, gas and other fuels"
           ],
           "xaxis": "x",
           "y": [
            153.13375
           ],
           "yaxis": "y"
          },
          {
           "alignmentgroup": "True",
           "hovertemplate": "EN_DESC=%{x}<br>month=2021-09<br>eur_budget=%{y}<extra></extra>",
           "legendgroup": "Furnishings, household equipment and routine household maintenance",
           "marker": {
            "color": "#FFA15A",
            "pattern": {
             "shape": ""
            }
           },
           "name": "Furnishings, household equipment and routine household maintenance",
           "offsetgroup": "Furnishings, household equipment and routine household maintenance",
           "orientation": "v",
           "showlegend": true,
           "textposition": "auto",
           "type": "bar",
           "x": [
            "Furnishings, household equipment and routine household maintenance"
           ],
           "xaxis": "x",
           "y": [
            68.95506
           ],
           "yaxis": "y"
          },
          {
           "alignmentgroup": "True",
           "hovertemplate": "EN_DESC=%{x}<br>month=2021-09<br>eur_budget=%{y}<extra></extra>",
           "legendgroup": "Health",
           "marker": {
            "color": "#19d3f3",
            "pattern": {
             "shape": ""
            }
           },
           "name": "Health",
           "offsetgroup": "Health",
           "orientation": "v",
           "showlegend": true,
           "textposition": "auto",
           "type": "bar",
           "x": [
            "Health"
           ],
           "xaxis": "x",
           "y": [
            60.87
           ],
           "yaxis": "y"
          },
          {
           "alignmentgroup": "True",
           "hovertemplate": "EN_DESC=%{x}<br>month=2021-09<br>eur_budget=%{y}<extra></extra>",
           "legendgroup": "Transport",
           "marker": {
            "color": "#FF6692",
            "pattern": {
             "shape": ""
            }
           },
           "name": "Transport",
           "offsetgroup": "Transport",
           "orientation": "v",
           "showlegend": true,
           "textposition": "auto",
           "type": "bar",
           "x": [
            "Transport"
           ],
           "xaxis": "x",
           "y": [
            131.08094999999997
           ],
           "yaxis": "y"
          },
          {
           "alignmentgroup": "True",
           "hovertemplate": "EN_DESC=%{x}<br>month=2021-09<br>eur_budget=%{y}<extra></extra>",
           "legendgroup": "Communications",
           "marker": {
            "color": "#B6E880",
            "pattern": {
             "shape": ""
            }
           },
           "name": "Communications",
           "offsetgroup": "Communications",
           "orientation": "v",
           "showlegend": true,
           "textposition": "auto",
           "type": "bar",
           "x": [
            "Communications"
           ],
           "xaxis": "x",
           "y": [
            48.57678
           ],
           "yaxis": "y"
          },
          {
           "alignmentgroup": "True",
           "hovertemplate": "EN_DESC=%{x}<br>month=2021-09<br>eur_budget=%{y}<extra></extra>",
           "legendgroup": "Recreation and culture",
           "marker": {
            "color": "#FF97FF",
            "pattern": {
             "shape": ""
            }
           },
           "name": "Recreation and culture",
           "offsetgroup": "Recreation and culture",
           "orientation": "v",
           "showlegend": true,
           "textposition": "auto",
           "type": "bar",
           "x": [
            "Recreation and culture"
           ],
           "xaxis": "x",
           "y": [
            77.87292
           ],
           "yaxis": "y"
          },
          {
           "alignmentgroup": "True",
           "hovertemplate": "EN_DESC=%{x}<br>month=2021-09<br>eur_budget=%{y}<extra></extra>",
           "legendgroup": "Education",
           "marker": {
            "color": "#FECB52",
            "pattern": {
             "shape": ""
            }
           },
           "name": "Education",
           "offsetgroup": "Education",
           "orientation": "v",
           "showlegend": true,
           "textposition": "auto",
           "type": "bar",
           "x": [
            "Education"
           ],
           "xaxis": "x",
           "y": [
            10.56528
           ],
           "yaxis": "y"
          },
          {
           "alignmentgroup": "True",
           "hovertemplate": "EN_DESC=%{x}<br>month=2021-09<br>eur_budget=%{y}<extra></extra>",
           "legendgroup": "Restaurants and hotels",
           "marker": {
            "color": "#636efa",
            "pattern": {
             "shape": ""
            }
           },
           "name": "Restaurants and hotels",
           "offsetgroup": "Restaurants and hotels",
           "orientation": "v",
           "showlegend": true,
           "textposition": "auto",
           "type": "bar",
           "x": [
            "Restaurants and hotels"
           ],
           "xaxis": "x",
           "y": [
            55.12152
           ],
           "yaxis": "y"
          },
          {
           "alignmentgroup": "True",
           "hovertemplate": "EN_DESC=%{x}<br>month=2021-09<br>eur_budget=%{y}<extra></extra>",
           "legendgroup": "Miscellaneous goods and services",
           "marker": {
            "color": "#EF553B",
            "pattern": {
             "shape": ""
            }
           },
           "name": "Miscellaneous goods and services",
           "offsetgroup": "Miscellaneous goods and services",
           "orientation": "v",
           "showlegend": true,
           "textposition": "auto",
           "type": "bar",
           "x": [
            "Miscellaneous goods and services"
           ],
           "xaxis": "x",
           "y": [
            59.88718
           ],
           "yaxis": "y"
          }
         ],
         "name": "2021-09"
        },
        {
         "data": [
          {
           "alignmentgroup": "True",
           "hovertemplate": "EN_DESC=%{x}<br>month=2021-10<br>eur_budget=%{y}<extra></extra>",
           "legendgroup": "Food and non-alcoholic beverages",
           "marker": {
            "color": "#636efa",
            "pattern": {
             "shape": ""
            }
           },
           "name": "Food and non-alcoholic beverages",
           "offsetgroup": "Food and non-alcoholic beverages",
           "orientation": "v",
           "showlegend": true,
           "textposition": "auto",
           "type": "bar",
           "x": [
            "Food and non-alcoholic beverages"
           ],
           "xaxis": "x",
           "y": [
            217.2203007
           ],
           "yaxis": "y"
          },
          {
           "alignmentgroup": "True",
           "hovertemplate": "EN_DESC=%{x}<br>month=2021-10<br>eur_budget=%{y}<extra></extra>",
           "legendgroup": "Alcoholic beverages, tobacco and narcotics",
           "marker": {
            "color": "#EF553B",
            "pattern": {
             "shape": ""
            }
           },
           "name": "Alcoholic beverages, tobacco and narcotics",
           "offsetgroup": "Alcoholic beverages, tobacco and narcotics",
           "orientation": "v",
           "showlegend": true,
           "textposition": "auto",
           "type": "bar",
           "x": [
            "Alcoholic beverages, tobacco and narcotics"
           ],
           "xaxis": "x",
           "y": [
            67.939608
           ],
           "yaxis": "y"
          },
          {
           "alignmentgroup": "True",
           "hovertemplate": "EN_DESC=%{x}<br>month=2021-10<br>eur_budget=%{y}<extra></extra>",
           "legendgroup": "Clothing and footwear",
           "marker": {
            "color": "#00cc96",
            "pattern": {
             "shape": ""
            }
           },
           "name": "Clothing and footwear",
           "offsetgroup": "Clothing and footwear",
           "orientation": "v",
           "showlegend": true,
           "textposition": "auto",
           "type": "bar",
           "x": [
            "Clothing and footwear"
           ],
           "xaxis": "x",
           "y": [
            60.266976
           ],
           "yaxis": "y"
          },
          {
           "alignmentgroup": "True",
           "hovertemplate": "EN_DESC=%{x}<br>month=2021-10<br>eur_budget=%{y}<extra></extra>",
           "legendgroup": "Housing, water, electricity, gas and other fuels",
           "marker": {
            "color": "#ab63fa",
            "pattern": {
             "shape": ""
            }
           },
           "name": "Housing, water, electricity, gas and other fuels",
           "offsetgroup": "Housing, water, electricity, gas and other fuels",
           "orientation": "v",
           "showlegend": true,
           "textposition": "auto",
           "type": "bar",
           "x": [
            "Housing, water, electricity, gas and other fuels"
           ],
           "xaxis": "x",
           "y": [
            146.70213249999998
           ],
           "yaxis": "y"
          },
          {
           "alignmentgroup": "True",
           "hovertemplate": "EN_DESC=%{x}<br>month=2021-10<br>eur_budget=%{y}<extra></extra>",
           "legendgroup": "Furnishings, household equipment and routine household maintenance",
           "marker": {
            "color": "#FFA15A",
            "pattern": {
             "shape": ""
            }
           },
           "name": "Furnishings, household equipment and routine household maintenance",
           "offsetgroup": "Furnishings, household equipment and routine household maintenance",
           "orientation": "v",
           "showlegend": true,
           "textposition": "auto",
           "type": "bar",
           "x": [
            "Furnishings, household equipment and routine household maintenance"
           ],
           "xaxis": "x",
           "y": [
            68.81714988
           ],
           "yaxis": "y"
          },
          {
           "alignmentgroup": "True",
           "hovertemplate": "EN_DESC=%{x}<br>month=2021-10<br>eur_budget=%{y}<extra></extra>",
           "legendgroup": "Health",
           "marker": {
            "color": "#19d3f3",
            "pattern": {
             "shape": ""
            }
           },
           "name": "Health",
           "offsetgroup": "Health",
           "orientation": "v",
           "showlegend": true,
           "textposition": "auto",
           "type": "bar",
           "x": [
            "Health"
           ],
           "xaxis": "x",
           "y": [
            61.23522
           ],
           "yaxis": "y"
          },
          {
           "alignmentgroup": "True",
           "hovertemplate": "EN_DESC=%{x}<br>month=2021-10<br>eur_budget=%{y}<extra></extra>",
           "legendgroup": "Transport",
           "marker": {
            "color": "#FF6692",
            "pattern": {
             "shape": ""
            }
           },
           "name": "Transport",
           "offsetgroup": "Transport",
           "orientation": "v",
           "showlegend": true,
           "textposition": "auto",
           "type": "bar",
           "x": [
            "Transport"
           ],
           "xaxis": "x",
           "y": [
            135.79986419999997
           ],
           "yaxis": "y"
          },
          {
           "alignmentgroup": "True",
           "hovertemplate": "EN_DESC=%{x}<br>month=2021-10<br>eur_budget=%{y}<extra></extra>",
           "legendgroup": "Communications",
           "marker": {
            "color": "#B6E880",
            "pattern": {
             "shape": ""
            }
           },
           "name": "Communications",
           "offsetgroup": "Communications",
           "orientation": "v",
           "showlegend": true,
           "textposition": "auto",
           "type": "bar",
           "x": [
            "Communications"
           ],
           "xaxis": "x",
           "y": [
            48.67393356
           ],
           "yaxis": "y"
          },
          {
           "alignmentgroup": "True",
           "hovertemplate": "EN_DESC=%{x}<br>month=2021-10<br>eur_budget=%{y}<extra></extra>",
           "legendgroup": "Recreation and culture",
           "marker": {
            "color": "#FF97FF",
            "pattern": {
             "shape": ""
            }
           },
           "name": "Recreation and culture",
           "offsetgroup": "Recreation and culture",
           "orientation": "v",
           "showlegend": true,
           "textposition": "auto",
           "type": "bar",
           "x": [
            "Recreation and culture"
           ],
           "xaxis": "x",
           "y": [
            78.02866583999999
           ],
           "yaxis": "y"
          },
          {
           "alignmentgroup": "True",
           "hovertemplate": "EN_DESC=%{x}<br>month=2021-10<br>eur_budget=%{y}<extra></extra>",
           "legendgroup": "Education",
           "marker": {
            "color": "#FECB52",
            "pattern": {
             "shape": ""
            }
           },
           "name": "Education",
           "offsetgroup": "Education",
           "orientation": "v",
           "showlegend": true,
           "textposition": "auto",
           "type": "bar",
           "x": [
            "Education"
           ],
           "xaxis": "x",
           "y": [
            10.56528
           ],
           "yaxis": "y"
          },
          {
           "alignmentgroup": "True",
           "hovertemplate": "EN_DESC=%{x}<br>month=2021-10<br>eur_budget=%{y}<extra></extra>",
           "legendgroup": "Restaurants and hotels",
           "marker": {
            "color": "#636efa",
            "pattern": {
             "shape": ""
            }
           },
           "name": "Restaurants and hotels",
           "offsetgroup": "Restaurants and hotels",
           "orientation": "v",
           "showlegend": true,
           "textposition": "auto",
           "type": "bar",
           "x": [
            "Restaurants and hotels"
           ],
           "xaxis": "x",
           "y": [
            54.460061759999995
           ],
           "yaxis": "y"
          },
          {
           "alignmentgroup": "True",
           "hovertemplate": "EN_DESC=%{x}<br>month=2021-10<br>eur_budget=%{y}<extra></extra>",
           "legendgroup": "Miscellaneous goods and services",
           "marker": {
            "color": "#EF553B",
            "pattern": {
             "shape": ""
            }
           },
           "name": "Miscellaneous goods and services",
           "offsetgroup": "Miscellaneous goods and services",
           "orientation": "v",
           "showlegend": true,
           "textposition": "auto",
           "type": "bar",
           "x": [
            "Miscellaneous goods and services"
           ],
           "xaxis": "x",
           "y": [
            59.5877441
           ],
           "yaxis": "y"
          }
         ],
         "name": "2021-10"
        },
        {
         "data": [
          {
           "alignmentgroup": "True",
           "hovertemplate": "EN_DESC=%{x}<br>month=2021-11<br>eur_budget=%{y}<extra></extra>",
           "legendgroup": "Food and non-alcoholic beverages",
           "marker": {
            "color": "#636efa",
            "pattern": {
             "shape": ""
            }
           },
           "name": "Food and non-alcoholic beverages",
           "offsetgroup": "Food and non-alcoholic beverages",
           "orientation": "v",
           "showlegend": true,
           "textposition": "auto",
           "type": "bar",
           "x": [
            "Food and non-alcoholic beverages"
           ],
           "xaxis": "x",
           "y": [
            221.564706714
           ],
           "yaxis": "y"
          },
          {
           "alignmentgroup": "True",
           "hovertemplate": "EN_DESC=%{x}<br>month=2021-11<br>eur_budget=%{y}<extra></extra>",
           "legendgroup": "Alcoholic beverages, tobacco and narcotics",
           "marker": {
            "color": "#EF553B",
            "pattern": {
             "shape": ""
            }
           },
           "name": "Alcoholic beverages, tobacco and narcotics",
           "offsetgroup": "Alcoholic beverages, tobacco and narcotics",
           "orientation": "v",
           "showlegend": true,
           "textposition": "auto",
           "type": "bar",
           "x": [
            "Alcoholic beverages, tobacco and narcotics"
           ],
           "xaxis": "x",
           "y": [
            67.939608
           ],
           "yaxis": "y"
          },
          {
           "alignmentgroup": "True",
           "hovertemplate": "EN_DESC=%{x}<br>month=2021-11<br>eur_budget=%{y}<extra></extra>",
           "legendgroup": "Clothing and footwear",
           "marker": {
            "color": "#00cc96",
            "pattern": {
             "shape": ""
            }
           },
           "name": "Clothing and footwear",
           "offsetgroup": "Clothing and footwear",
           "orientation": "v",
           "showlegend": true,
           "textposition": "auto",
           "type": "bar",
           "x": [
            "Clothing and footwear"
           ],
           "xaxis": "x",
           "y": [
            61.351781568
           ],
           "yaxis": "y"
          },
          {
           "alignmentgroup": "True",
           "hovertemplate": "EN_DESC=%{x}<br>month=2021-11<br>eur_budget=%{y}<extra></extra>",
           "legendgroup": "Housing, water, electricity, gas and other fuels",
           "marker": {
            "color": "#ab63fa",
            "pattern": {
             "shape": ""
            }
           },
           "name": "Housing, water, electricity, gas and other fuels",
           "offsetgroup": "Housing, water, electricity, gas and other fuels",
           "orientation": "v",
           "showlegend": true,
           "textposition": "auto",
           "type": "bar",
           "x": [
            "Housing, water, electricity, gas and other fuels"
           ],
           "xaxis": "x",
           "y": [
            154.18394125749995
           ],
           "yaxis": "y"
          },
          {
           "alignmentgroup": "True",
           "hovertemplate": "EN_DESC=%{x}<br>month=2021-11<br>eur_budget=%{y}<extra></extra>",
           "legendgroup": "Furnishings, household equipment and routine household maintenance",
           "marker": {
            "color": "#FFA15A",
            "pattern": {
             "shape": ""
            }
           },
           "name": "Furnishings, household equipment and routine household maintenance",
           "offsetgroup": "Furnishings, household equipment and routine household maintenance",
           "orientation": "v",
           "showlegend": true,
           "textposition": "auto",
           "type": "bar",
           "x": [
            "Furnishings, household equipment and routine household maintenance"
           ],
           "xaxis": "x",
           "y": [
            69.36768707904
           ],
           "yaxis": "y"
          },
          {
           "alignmentgroup": "True",
           "hovertemplate": "EN_DESC=%{x}<br>month=2021-11<br>eur_budget=%{y}<extra></extra>",
           "legendgroup": "Health",
           "marker": {
            "color": "#19d3f3",
            "pattern": {
             "shape": ""
            }
           },
           "name": "Health",
           "offsetgroup": "Health",
           "orientation": "v",
           "showlegend": true,
           "textposition": "auto",
           "type": "bar",
           "x": [
            "Health"
           ],
           "xaxis": "x",
           "y": [
            61.41892565999999
           ],
           "yaxis": "y"
          },
          {
           "alignmentgroup": "True",
           "hovertemplate": "EN_DESC=%{x}<br>month=2021-11<br>eur_budget=%{y}<extra></extra>",
           "legendgroup": "Transport",
           "marker": {
            "color": "#FF6692",
            "pattern": {
             "shape": ""
            }
           },
           "name": "Transport",
           "offsetgroup": "Transport",
           "orientation": "v",
           "showlegend": true,
           "textposition": "auto",
           "type": "bar",
           "x": [
            "Transport"
           ],
           "xaxis": "x",
           "y": [
            138.24426175559998
           ],
           "yaxis": "y"
          },
          {
           "alignmentgroup": "True",
           "hovertemplate": "EN_DESC=%{x}<br>month=2021-11<br>eur_budget=%{y}<extra></extra>",
           "legendgroup": "Communications",
           "marker": {
            "color": "#B6E880",
            "pattern": {
             "shape": ""
            }
           },
           "name": "Communications",
           "offsetgroup": "Communications",
           "orientation": "v",
           "showlegend": true,
           "textposition": "auto",
           "type": "bar",
           "x": [
            "Communications"
           ],
           "xaxis": "x",
           "y": [
            48.72260749356
           ],
           "yaxis": "y"
          },
          {
           "alignmentgroup": "True",
           "hovertemplate": "EN_DESC=%{x}<br>month=2021-11<br>eur_budget=%{y}<extra></extra>",
           "legendgroup": "Recreation and culture",
           "marker": {
            "color": "#FF97FF",
            "pattern": {
             "shape": ""
            }
           },
           "name": "Recreation and culture",
           "offsetgroup": "Recreation and culture",
           "orientation": "v",
           "showlegend": true,
           "textposition": "auto",
           "type": "bar",
           "x": [
            "Recreation and culture"
           ],
           "xaxis": "x",
           "y": [
            78.73092383255998
           ],
           "yaxis": "y"
          },
          {
           "alignmentgroup": "True",
           "hovertemplate": "EN_DESC=%{x}<br>month=2021-11<br>eur_budget=%{y}<extra></extra>",
           "legendgroup": "Education",
           "marker": {
            "color": "#FECB52",
            "pattern": {
             "shape": ""
            }
           },
           "name": "Education",
           "offsetgroup": "Education",
           "orientation": "v",
           "showlegend": true,
           "textposition": "auto",
           "type": "bar",
           "x": [
            "Education"
           ],
           "xaxis": "x",
           "y": [
            10.607541119999999
           ],
           "yaxis": "y"
          },
          {
           "alignmentgroup": "True",
           "hovertemplate": "EN_DESC=%{x}<br>month=2021-11<br>eur_budget=%{y}<extra></extra>",
           "legendgroup": "Restaurants and hotels",
           "marker": {
            "color": "#636efa",
            "pattern": {
             "shape": ""
            }
           },
           "name": "Restaurants and hotels",
           "offsetgroup": "Restaurants and hotels",
           "orientation": "v",
           "showlegend": true,
           "textposition": "auto",
           "type": "bar",
           "x": [
            "Restaurants and hotels"
           ],
           "xaxis": "x",
           "y": [
            54.67790200704
           ],
           "yaxis": "y"
          },
          {
           "alignmentgroup": "True",
           "hovertemplate": "EN_DESC=%{x}<br>month=2021-11<br>eur_budget=%{y}<extra></extra>",
           "legendgroup": "Miscellaneous goods and services",
           "marker": {
            "color": "#EF553B",
            "pattern": {
             "shape": ""
            }
           },
           "name": "Miscellaneous goods and services",
           "offsetgroup": "Miscellaneous goods and services",
           "orientation": "v",
           "showlegend": true,
           "textposition": "auto",
           "type": "bar",
           "x": [
            "Miscellaneous goods and services"
           ],
           "xaxis": "x",
           "y": [
            59.8260950764
           ],
           "yaxis": "y"
          }
         ],
         "name": "2021-11"
        },
        {
         "data": [
          {
           "alignmentgroup": "True",
           "hovertemplate": "EN_DESC=%{x}<br>month=2021-12<br>eur_budget=%{y}<extra></extra>",
           "legendgroup": "Food and non-alcoholic beverages",
           "marker": {
            "color": "#636efa",
            "pattern": {
             "shape": ""
            }
           },
           "name": "Food and non-alcoholic beverages",
           "offsetgroup": "Food and non-alcoholic beverages",
           "orientation": "v",
           "showlegend": true,
           "textposition": "auto",
           "type": "bar",
           "x": [
            "Food and non-alcoholic beverages"
           ],
           "xaxis": "x",
           "y": [
            221.121577300572
           ],
           "yaxis": "y"
          },
          {
           "alignmentgroup": "True",
           "hovertemplate": "EN_DESC=%{x}<br>month=2021-12<br>eur_budget=%{y}<extra></extra>",
           "legendgroup": "Alcoholic beverages, tobacco and narcotics",
           "marker": {
            "color": "#EF553B",
            "pattern": {
             "shape": ""
            }
           },
           "name": "Alcoholic beverages, tobacco and narcotics",
           "offsetgroup": "Alcoholic beverages, tobacco and narcotics",
           "orientation": "v",
           "showlegend": true,
           "textposition": "auto",
           "type": "bar",
           "x": [
            "Alcoholic beverages, tobacco and narcotics"
           ],
           "xaxis": "x",
           "y": [
            67.46403074400001
           ],
           "yaxis": "y"
          },
          {
           "alignmentgroup": "True",
           "hovertemplate": "EN_DESC=%{x}<br>month=2021-12<br>eur_budget=%{y}<extra></extra>",
           "legendgroup": "Clothing and footwear",
           "marker": {
            "color": "#00cc96",
            "pattern": {
             "shape": ""
            }
           },
           "name": "Clothing and footwear",
           "offsetgroup": "Clothing and footwear",
           "orientation": "v",
           "showlegend": true,
           "textposition": "auto",
           "type": "bar",
           "x": [
            "Clothing and footwear"
           ],
           "xaxis": "x",
           "y": [
            60.615560189184
           ],
           "yaxis": "y"
          },
          {
           "alignmentgroup": "True",
           "hovertemplate": "EN_DESC=%{x}<br>month=2021-12<br>eur_budget=%{y}<extra></extra>",
           "legendgroup": "Housing, water, electricity, gas and other fuels",
           "marker": {
            "color": "#ab63fa",
            "pattern": {
             "shape": ""
            }
           },
           "name": "Housing, water, electricity, gas and other fuels",
           "offsetgroup": "Housing, water, electricity, gas and other fuels",
           "orientation": "v",
           "showlegend": true,
           "textposition": "auto",
           "type": "bar",
           "x": [
            "Housing, water, electricity, gas and other fuels"
           ],
           "xaxis": "x",
           "y": [
            185.79164921528746
           ],
           "yaxis": "y"
          },
          {
           "alignmentgroup": "True",
           "hovertemplate": "EN_DESC=%{x}<br>month=2021-12<br>eur_budget=%{y}<extra></extra>",
           "legendgroup": "Furnishings, household equipment and routine household maintenance",
           "marker": {
            "color": "#FFA15A",
            "pattern": {
             "shape": ""
            }
           },
           "name": "Furnishings, household equipment and routine household maintenance",
           "offsetgroup": "Furnishings, household equipment and routine household maintenance",
           "orientation": "v",
           "showlegend": true,
           "textposition": "auto",
           "type": "bar",
           "x": [
            "Furnishings, household equipment and routine household maintenance"
           ],
           "xaxis": "x",
           "y": [
            70.20009932398848
           ],
           "yaxis": "y"
          },
          {
           "alignmentgroup": "True",
           "hovertemplate": "EN_DESC=%{x}<br>month=2021-12<br>eur_budget=%{y}<extra></extra>",
           "legendgroup": "Health",
           "marker": {
            "color": "#19d3f3",
            "pattern": {
             "shape": ""
            }
           },
           "name": "Health",
           "offsetgroup": "Health",
           "orientation": "v",
           "showlegend": true,
           "textposition": "auto",
           "type": "bar",
           "x": [
            "Health"
           ],
           "xaxis": "x",
           "y": [
            61.971695990939985
           ],
           "yaxis": "y"
          },
          {
           "alignmentgroup": "True",
           "hovertemplate": "EN_DESC=%{x}<br>month=2021-12<br>eur_budget=%{y}<extra></extra>",
           "legendgroup": "Transport",
           "marker": {
            "color": "#FF6692",
            "pattern": {
             "shape": ""
            }
           },
           "name": "Transport",
           "offsetgroup": "Transport",
           "orientation": "v",
           "showlegend": true,
           "textposition": "auto",
           "type": "bar",
           "x": [
            "Transport"
           ],
           "xaxis": "x",
           "y": [
            138.24426175559998
           ],
           "yaxis": "y"
          },
          {
           "alignmentgroup": "True",
           "hovertemplate": "EN_DESC=%{x}<br>month=2021-12<br>eur_budget=%{y}<extra></extra>",
           "legendgroup": "Communications",
           "marker": {
            "color": "#B6E880",
            "pattern": {
             "shape": ""
            }
           },
           "name": "Communications",
           "offsetgroup": "Communications",
           "orientation": "v",
           "showlegend": true,
           "textposition": "auto",
           "type": "bar",
           "x": [
            "Communications"
           ],
           "xaxis": "x",
           "y": [
            47.650710128701675
           ],
           "yaxis": "y"
          },
          {
           "alignmentgroup": "True",
           "hovertemplate": "EN_DESC=%{x}<br>month=2021-12<br>eur_budget=%{y}<extra></extra>",
           "legendgroup": "Recreation and culture",
           "marker": {
            "color": "#FF97FF",
            "pattern": {
             "shape": ""
            }
           },
           "name": "Recreation and culture",
           "offsetgroup": "Recreation and culture",
           "orientation": "v",
           "showlegend": true,
           "textposition": "auto",
           "type": "bar",
           "x": [
            "Recreation and culture"
           ],
           "xaxis": "x",
           "y": [
            78.80965475639253
           ],
           "yaxis": "y"
          },
          {
           "alignmentgroup": "True",
           "hovertemplate": "EN_DESC=%{x}<br>month=2021-12<br>eur_budget=%{y}<extra></extra>",
           "legendgroup": "Education",
           "marker": {
            "color": "#FECB52",
            "pattern": {
             "shape": ""
            }
           },
           "name": "Education",
           "offsetgroup": "Education",
           "orientation": "v",
           "showlegend": true,
           "textposition": "auto",
           "type": "bar",
           "x": [
            "Education"
           ],
           "xaxis": "x",
           "y": [
            10.607541119999999
           ],
           "yaxis": "y"
          },
          {
           "alignmentgroup": "True",
           "hovertemplate": "EN_DESC=%{x}<br>month=2021-12<br>eur_budget=%{y}<extra></extra>",
           "legendgroup": "Restaurants and hotels",
           "marker": {
            "color": "#636efa",
            "pattern": {
             "shape": ""
            }
           },
           "name": "Restaurants and hotels",
           "offsetgroup": "Restaurants and hotels",
           "orientation": "v",
           "showlegend": true,
           "textposition": "auto",
           "type": "bar",
           "x": [
            "Restaurants and hotels"
           ],
           "xaxis": "x",
           "y": [
            54.896613615068155
           ],
           "yaxis": "y"
          },
          {
           "alignmentgroup": "True",
           "hovertemplate": "EN_DESC=%{x}<br>month=2021-12<br>eur_budget=%{y}<extra></extra>",
           "legendgroup": "Miscellaneous goods and services",
           "marker": {
            "color": "#EF553B",
            "pattern": {
             "shape": ""
            }
           },
           "name": "Miscellaneous goods and services",
           "offsetgroup": "Miscellaneous goods and services",
           "orientation": "v",
           "showlegend": true,
           "textposition": "auto",
           "type": "bar",
           "x": [
            "Miscellaneous goods and services"
           ],
           "xaxis": "x",
           "y": [
            60.24487774193479
           ],
           "yaxis": "y"
          }
         ],
         "name": "2021-12"
        },
        {
         "data": [
          {
           "alignmentgroup": "True",
           "hovertemplate": "EN_DESC=%{x}<br>month=2022-01<br>eur_budget=%{y}<extra></extra>",
           "legendgroup": "Food and non-alcoholic beverages",
           "marker": {
            "color": "#636efa",
            "pattern": {
             "shape": ""
            }
           },
           "name": "Food and non-alcoholic beverages",
           "offsetgroup": "Food and non-alcoholic beverages",
           "orientation": "v",
           "showlegend": true,
           "textposition": "auto",
           "type": "bar",
           "x": [
            "Food and non-alcoholic beverages"
           ],
           "xaxis": "x",
           "y": [
            229.7453188152943
           ],
           "yaxis": "y"
          },
          {
           "alignmentgroup": "True",
           "hovertemplate": "EN_DESC=%{x}<br>month=2022-01<br>eur_budget=%{y}<extra></extra>",
           "legendgroup": "Alcoholic beverages, tobacco and narcotics",
           "marker": {
            "color": "#EF553B",
            "pattern": {
             "shape": ""
            }
           },
           "name": "Alcoholic beverages, tobacco and narcotics",
           "offsetgroup": "Alcoholic beverages, tobacco and narcotics",
           "orientation": "v",
           "showlegend": true,
           "textposition": "auto",
           "type": "bar",
           "x": [
            "Alcoholic beverages, tobacco and narcotics"
           ],
           "xaxis": "x",
           "y": [
            68.13867105144001
           ],
           "yaxis": "y"
          },
          {
           "alignmentgroup": "True",
           "hovertemplate": "EN_DESC=%{x}<br>month=2022-01<br>eur_budget=%{y}<extra></extra>",
           "legendgroup": "Clothing and footwear",
           "marker": {
            "color": "#00cc96",
            "pattern": {
             "shape": ""
            }
           },
           "name": "Clothing and footwear",
           "offsetgroup": "Clothing and footwear",
           "orientation": "v",
           "showlegend": true,
           "textposition": "auto",
           "type": "bar",
           "x": [
            "Clothing and footwear"
           ],
           "xaxis": "x",
           "y": [
            56.91801101764378
           ],
           "yaxis": "y"
          },
          {
           "alignmentgroup": "True",
           "hovertemplate": "EN_DESC=%{x}<br>month=2022-01<br>eur_budget=%{y}<extra></extra>",
           "legendgroup": "Housing, water, electricity, gas and other fuels",
           "marker": {
            "color": "#ab63fa",
            "pattern": {
             "shape": ""
            }
           },
           "name": "Housing, water, electricity, gas and other fuels",
           "offsetgroup": "Housing, water, electricity, gas and other fuels",
           "orientation": "v",
           "showlegend": true,
           "textposition": "auto",
           "type": "bar",
           "x": [
            "Housing, water, electricity, gas and other fuels"
           ],
           "xaxis": "x",
           "y": [
            172.97202541943264
           ],
           "yaxis": "y"
          },
          {
           "alignmentgroup": "True",
           "hovertemplate": "EN_DESC=%{x}<br>month=2022-01<br>eur_budget=%{y}<extra></extra>",
           "legendgroup": "Furnishings, household equipment and routine household maintenance",
           "marker": {
            "color": "#FFA15A",
            "pattern": {
             "shape": ""
            }
           },
           "name": "Furnishings, household equipment and routine household maintenance",
           "offsetgroup": "Furnishings, household equipment and routine household maintenance",
           "orientation": "v",
           "showlegend": true,
           "textposition": "auto",
           "type": "bar",
           "x": [
            "Furnishings, household equipment and routine household maintenance"
           ],
           "xaxis": "x",
           "y": [
            69.91929892669253
           ],
           "yaxis": "y"
          },
          {
           "alignmentgroup": "True",
           "hovertemplate": "EN_DESC=%{x}<br>month=2022-01<br>eur_budget=%{y}<extra></extra>",
           "legendgroup": "Health",
           "marker": {
            "color": "#19d3f3",
            "pattern": {
             "shape": ""
            }
           },
           "name": "Health",
           "offsetgroup": "Health",
           "orientation": "v",
           "showlegend": true,
           "textposition": "auto",
           "type": "bar",
           "x": [
            "Health"
           ],
           "xaxis": "x",
           "y": [
            63.025214822785955
           ],
           "yaxis": "y"
          },
          {
           "alignmentgroup": "True",
           "hovertemplate": "EN_DESC=%{x}<br>month=2022-01<br>eur_budget=%{y}<extra></extra>",
           "legendgroup": "Transport",
           "marker": {
            "color": "#FF6692",
            "pattern": {
             "shape": ""
            }
           },
           "name": "Transport",
           "offsetgroup": "Transport",
           "orientation": "v",
           "showlegend": true,
           "textposition": "auto",
           "type": "bar",
           "x": [
            "Transport"
           ],
           "xaxis": "x",
           "y": [
            139.90319289666718
           ],
           "yaxis": "y"
          },
          {
           "alignmentgroup": "True",
           "hovertemplate": "EN_DESC=%{x}<br>month=2022-01<br>eur_budget=%{y}<extra></extra>",
           "legendgroup": "Communications",
           "marker": {
            "color": "#B6E880",
            "pattern": {
             "shape": ""
            }
           },
           "name": "Communications",
           "offsetgroup": "Communications",
           "orientation": "v",
           "showlegend": true,
           "textposition": "auto",
           "type": "bar",
           "x": [
            "Communications"
           ],
           "xaxis": "x",
           "y": [
            47.31715515780076
           ],
           "yaxis": "y"
          },
          {
           "alignmentgroup": "True",
           "hovertemplate": "EN_DESC=%{x}<br>month=2022-01<br>eur_budget=%{y}<extra></extra>",
           "legendgroup": "Recreation and culture",
           "marker": {
            "color": "#FF97FF",
            "pattern": {
             "shape": ""
            }
           },
           "name": "Recreation and culture",
           "offsetgroup": "Recreation and culture",
           "orientation": "v",
           "showlegend": true,
           "textposition": "auto",
           "type": "bar",
           "x": [
            "Recreation and culture"
           ],
           "xaxis": "x",
           "y": [
            78.49441613736697
           ],
           "yaxis": "y"
          },
          {
           "alignmentgroup": "True",
           "hovertemplate": "EN_DESC=%{x}<br>month=2022-01<br>eur_budget=%{y}<extra></extra>",
           "legendgroup": "Education",
           "marker": {
            "color": "#FECB52",
            "pattern": {
             "shape": ""
            }
           },
           "name": "Education",
           "offsetgroup": "Education",
           "orientation": "v",
           "showlegend": true,
           "textposition": "auto",
           "type": "bar",
           "x": [
            "Education"
           ],
           "xaxis": "x",
           "y": [
            10.64997128448
           ],
           "yaxis": "y"
          },
          {
           "alignmentgroup": "True",
           "hovertemplate": "EN_DESC=%{x}<br>month=2022-01<br>eur_budget=%{y}<extra></extra>",
           "legendgroup": "Restaurants and hotels",
           "marker": {
            "color": "#636efa",
            "pattern": {
             "shape": ""
            }
           },
           "name": "Restaurants and hotels",
           "offsetgroup": "Restaurants and hotels",
           "orientation": "v",
           "showlegend": true,
           "textposition": "auto",
           "type": "bar",
           "x": [
            "Restaurants and hotels"
           ],
           "xaxis": "x",
           "y": [
            55.390683137603766
           ],
           "yaxis": "y"
          },
          {
           "alignmentgroup": "True",
           "hovertemplate": "EN_DESC=%{x}<br>month=2022-01<br>eur_budget=%{y}<extra></extra>",
           "legendgroup": "Miscellaneous goods and services",
           "marker": {
            "color": "#EF553B",
            "pattern": {
             "shape": ""
            }
           },
           "name": "Miscellaneous goods and services",
           "offsetgroup": "Miscellaneous goods and services",
           "orientation": "v",
           "showlegend": true,
           "textposition": "auto",
           "type": "bar",
           "x": [
            "Miscellaneous goods and services"
           ],
           "xaxis": "x",
           "y": [
            60.90757139709607
           ],
           "yaxis": "y"
          }
         ],
         "name": "2022-01"
        },
        {
         "data": [
          {
           "alignmentgroup": "True",
           "hovertemplate": "EN_DESC=%{x}<br>month=2022-02<br>eur_budget=%{y}<extra></extra>",
           "legendgroup": "Food and non-alcoholic beverages",
           "marker": {
            "color": "#636efa",
            "pattern": {
             "shape": ""
            }
           },
           "name": "Food and non-alcoholic beverages",
           "offsetgroup": "Food and non-alcoholic beverages",
           "orientation": "v",
           "showlegend": true,
           "textposition": "auto",
           "type": "bar",
           "x": [
            "Food and non-alcoholic beverages"
           ],
           "xaxis": "x",
           "y": [
            238.24589561146016
           ],
           "yaxis": "y"
          },
          {
           "alignmentgroup": "True",
           "hovertemplate": "EN_DESC=%{x}<br>month=2022-02<br>eur_budget=%{y}<extra></extra>",
           "legendgroup": "Alcoholic beverages, tobacco and narcotics",
           "marker": {
            "color": "#EF553B",
            "pattern": {
             "shape": ""
            }
           },
           "name": "Alcoholic beverages, tobacco and narcotics",
           "offsetgroup": "Alcoholic beverages, tobacco and narcotics",
           "orientation": "v",
           "showlegend": true,
           "textposition": "auto",
           "type": "bar",
           "x": [
            "Alcoholic beverages, tobacco and narcotics"
           ],
           "xaxis": "x",
           "y": [
            68.88819643300585
           ],
           "yaxis": "y"
          },
          {
           "alignmentgroup": "True",
           "hovertemplate": "EN_DESC=%{x}<br>month=2022-02<br>eur_budget=%{y}<extra></extra>",
           "legendgroup": "Clothing and footwear",
           "marker": {
            "color": "#00cc96",
            "pattern": {
             "shape": ""
            }
           },
           "name": "Clothing and footwear",
           "offsetgroup": "Clothing and footwear",
           "orientation": "v",
           "showlegend": true,
           "textposition": "auto",
           "type": "bar",
           "x": [
            "Clothing and footwear"
           ],
           "xaxis": "x",
           "y": [
            57.031847039679064
           ],
           "yaxis": "y"
          },
          {
           "alignmentgroup": "True",
           "hovertemplate": "EN_DESC=%{x}<br>month=2022-02<br>eur_budget=%{y}<extra></extra>",
           "legendgroup": "Housing, water, electricity, gas and other fuels",
           "marker": {
            "color": "#ab63fa",
            "pattern": {
             "shape": ""
            }
           },
           "name": "Housing, water, electricity, gas and other fuels",
           "offsetgroup": "Housing, water, electricity, gas and other fuels",
           "orientation": "v",
           "showlegend": true,
           "textposition": "auto",
           "type": "bar",
           "x": [
            "Housing, water, electricity, gas and other fuels"
           ],
           "xaxis": "x",
           "y": [
            167.4369206060108
           ],
           "yaxis": "y"
          },
          {
           "alignmentgroup": "True",
           "hovertemplate": "EN_DESC=%{x}<br>month=2022-02<br>eur_budget=%{y}<extra></extra>",
           "legendgroup": "Furnishings, household equipment and routine household maintenance",
           "marker": {
            "color": "#FFA15A",
            "pattern": {
             "shape": ""
            }
           },
           "name": "Furnishings, household equipment and routine household maintenance",
           "offsetgroup": "Furnishings, household equipment and routine household maintenance",
           "orientation": "v",
           "showlegend": true,
           "textposition": "auto",
           "type": "bar",
           "x": [
            "Furnishings, household equipment and routine household maintenance"
           ],
           "xaxis": "x",
           "y": [
            71.31768490522639
           ],
           "yaxis": "y"
          },
          {
           "alignmentgroup": "True",
           "hovertemplate": "EN_DESC=%{x}<br>month=2022-02<br>eur_budget=%{y}<extra></extra>",
           "legendgroup": "Health",
           "marker": {
            "color": "#19d3f3",
            "pattern": {
             "shape": ""
            }
           },
           "name": "Health",
           "offsetgroup": "Health",
           "orientation": "v",
           "showlegend": true,
           "textposition": "auto",
           "type": "bar",
           "x": [
            "Health"
           ],
           "xaxis": "x",
           "y": [
            63.21429046725431
           ],
           "yaxis": "y"
          },
          {
           "alignmentgroup": "True",
           "hovertemplate": "EN_DESC=%{x}<br>month=2022-02<br>eur_budget=%{y}<extra></extra>",
           "legendgroup": "Transport",
           "marker": {
            "color": "#FF6692",
            "pattern": {
             "shape": ""
            }
           },
           "name": "Transport",
           "offsetgroup": "Transport",
           "orientation": "v",
           "showlegend": true,
           "textposition": "auto",
           "type": "bar",
           "x": [
            "Transport"
           ],
           "xaxis": "x",
           "y": [
            144.79980464805053
           ],
           "yaxis": "y"
          },
          {
           "alignmentgroup": "True",
           "hovertemplate": "EN_DESC=%{x}<br>month=2022-02<br>eur_budget=%{y}<extra></extra>",
           "legendgroup": "Communications",
           "marker": {
            "color": "#B6E880",
            "pattern": {
             "shape": ""
            }
           },
           "name": "Communications",
           "offsetgroup": "Communications",
           "orientation": "v",
           "showlegend": true,
           "textposition": "auto",
           "type": "bar",
           "x": [
            "Communications"
           ],
           "xaxis": "x",
           "y": [
            47.222520847485164
           ],
           "yaxis": "y"
          },
          {
           "alignmentgroup": "True",
           "hovertemplate": "EN_DESC=%{x}<br>month=2022-02<br>eur_budget=%{y}<extra></extra>",
           "legendgroup": "Recreation and culture",
           "marker": {
            "color": "#FF97FF",
            "pattern": {
             "shape": ""
            }
           },
           "name": "Recreation and culture",
           "offsetgroup": "Recreation and culture",
           "orientation": "v",
           "showlegend": true,
           "textposition": "auto",
           "type": "bar",
           "x": [
            "Recreation and culture"
           ],
           "xaxis": "x",
           "y": [
            79.8288212117022
           ],
           "yaxis": "y"
          },
          {
           "alignmentgroup": "True",
           "hovertemplate": "EN_DESC=%{x}<br>month=2022-02<br>eur_budget=%{y}<extra></extra>",
           "legendgroup": "Education",
           "marker": {
            "color": "#FECB52",
            "pattern": {
             "shape": ""
            }
           },
           "name": "Education",
           "offsetgroup": "Education",
           "orientation": "v",
           "showlegend": true,
           "textposition": "auto",
           "type": "bar",
           "x": [
            "Education"
           ],
           "xaxis": "x",
           "y": [
            10.67127122704896
           ],
           "yaxis": "y"
          },
          {
           "alignmentgroup": "True",
           "hovertemplate": "EN_DESC=%{x}<br>month=2022-02<br>eur_budget=%{y}<extra></extra>",
           "legendgroup": "Restaurants and hotels",
           "marker": {
            "color": "#636efa",
            "pattern": {
             "shape": ""
            }
           },
           "name": "Restaurants and hotels",
           "offsetgroup": "Restaurants and hotels",
           "orientation": "v",
           "showlegend": true,
           "textposition": "auto",
           "type": "bar",
           "x": [
            "Restaurants and hotels"
           ],
           "xaxis": "x",
           "y": [
            56.33232475094302
           ],
           "yaxis": "y"
          },
          {
           "alignmentgroup": "True",
           "hovertemplate": "EN_DESC=%{x}<br>month=2022-02<br>eur_budget=%{y}<extra></extra>",
           "legendgroup": "Miscellaneous goods and services",
           "marker": {
            "color": "#EF553B",
            "pattern": {
             "shape": ""
            }
           },
           "name": "Miscellaneous goods and services",
           "offsetgroup": "Miscellaneous goods and services",
           "orientation": "v",
           "showlegend": true,
           "textposition": "auto",
           "type": "bar",
           "x": [
            "Miscellaneous goods and services"
           ],
           "xaxis": "x",
           "y": [
            61.63846225386122
           ],
           "yaxis": "y"
          }
         ],
         "name": "2022-02"
        },
        {
         "data": [
          {
           "alignmentgroup": "True",
           "hovertemplate": "EN_DESC=%{x}<br>month=2022-03<br>eur_budget=%{y}<extra></extra>",
           "legendgroup": "Food and non-alcoholic beverages",
           "marker": {
            "color": "#636efa",
            "pattern": {
             "shape": ""
            }
           },
           "name": "Food and non-alcoholic beverages",
           "offsetgroup": "Food and non-alcoholic beverages",
           "orientation": "v",
           "showlegend": true,
           "textposition": "auto",
           "type": "bar",
           "x": [
            "Food and non-alcoholic beverages"
           ],
           "xaxis": "x",
           "y": [
            241.5813381500206
           ],
           "yaxis": "y"
          },
          {
           "alignmentgroup": "True",
           "hovertemplate": "EN_DESC=%{x}<br>month=2022-03<br>eur_budget=%{y}<extra></extra>",
           "legendgroup": "Alcoholic beverages, tobacco and narcotics",
           "marker": {
            "color": "#EF553B",
            "pattern": {
             "shape": ""
            }
           },
           "name": "Alcoholic beverages, tobacco and narcotics",
           "offsetgroup": "Alcoholic beverages, tobacco and narcotics",
           "orientation": "v",
           "showlegend": true,
           "textposition": "auto",
           "type": "bar",
           "x": [
            "Alcoholic beverages, tobacco and narcotics"
           ],
           "xaxis": "x",
           "y": [
            69.09486102230485
           ],
           "yaxis": "y"
          },
          {
           "alignmentgroup": "True",
           "hovertemplate": "EN_DESC=%{x}<br>month=2022-03<br>eur_budget=%{y}<extra></extra>",
           "legendgroup": "Clothing and footwear",
           "marker": {
            "color": "#00cc96",
            "pattern": {
             "shape": ""
            }
           },
           "name": "Clothing and footwear",
           "offsetgroup": "Clothing and footwear",
           "orientation": "v",
           "showlegend": true,
           "textposition": "auto",
           "type": "bar",
           "x": [
            "Clothing and footwear"
           ],
           "xaxis": "x",
           "y": [
            58.856866144948796
           ],
           "yaxis": "y"
          },
          {
           "alignmentgroup": "True",
           "hovertemplate": "EN_DESC=%{x}<br>month=2022-03<br>eur_budget=%{y}<extra></extra>",
           "legendgroup": "Housing, water, electricity, gas and other fuels",
           "marker": {
            "color": "#ab63fa",
            "pattern": {
             "shape": ""
            }
           },
           "name": "Housing, water, electricity, gas and other fuels",
           "offsetgroup": "Housing, water, electricity, gas and other fuels",
           "orientation": "v",
           "showlegend": true,
           "textposition": "auto",
           "type": "bar",
           "x": [
            "Housing, water, electricity, gas and other fuels"
           ],
           "xaxis": "x",
           "y": [
            173.29721282722116
           ],
           "yaxis": "y"
          },
          {
           "alignmentgroup": "True",
           "hovertemplate": "EN_DESC=%{x}<br>month=2022-03<br>eur_budget=%{y}<extra></extra>",
           "legendgroup": "Furnishings, household equipment and routine household maintenance",
           "marker": {
            "color": "#FFA15A",
            "pattern": {
             "shape": ""
            }
           },
           "name": "Furnishings, household equipment and routine household maintenance",
           "offsetgroup": "Furnishings, household equipment and routine household maintenance",
           "orientation": "v",
           "showlegend": true,
           "textposition": "auto",
           "type": "bar",
           "x": [
            "Furnishings, household equipment and routine household maintenance"
           ],
           "xaxis": "x",
           "y": [
            72.24481480899432
           ],
           "yaxis": "y"
          },
          {
           "alignmentgroup": "True",
           "hovertemplate": "EN_DESC=%{x}<br>month=2022-03<br>eur_budget=%{y}<extra></extra>",
           "legendgroup": "Health",
           "marker": {
            "color": "#19d3f3",
            "pattern": {
             "shape": ""
            }
           },
           "name": "Health",
           "offsetgroup": "Health",
           "orientation": "v",
           "showlegend": true,
           "textposition": "auto",
           "type": "bar",
           "x": [
            "Health"
           ],
           "xaxis": "x",
           "y": [
            63.530361919590575
           ],
           "yaxis": "y"
          },
          {
           "alignmentgroup": "True",
           "hovertemplate": "EN_DESC=%{x}<br>month=2022-03<br>eur_budget=%{y}<extra></extra>",
           "legendgroup": "Transport",
           "marker": {
            "color": "#FF6692",
            "pattern": {
             "shape": ""
            }
           },
           "name": "Transport",
           "offsetgroup": "Transport",
           "orientation": "v",
           "showlegend": true,
           "textposition": "auto",
           "type": "bar",
           "x": [
            "Transport"
           ],
           "xaxis": "x",
           "y": [
            157.39738765243092
           ],
           "yaxis": "y"
          },
          {
           "alignmentgroup": "True",
           "hovertemplate": "EN_DESC=%{x}<br>month=2022-03<br>eur_budget=%{y}<extra></extra>",
           "legendgroup": "Communications",
           "marker": {
            "color": "#B6E880",
            "pattern": {
             "shape": ""
            }
           },
           "name": "Communications",
           "offsetgroup": "Communications",
           "orientation": "v",
           "showlegend": true,
           "textposition": "auto",
           "type": "bar",
           "x": [
            "Communications"
           ],
           "xaxis": "x",
           "y": [
            47.69474605596002
           ],
           "yaxis": "y"
          },
          {
           "alignmentgroup": "True",
           "hovertemplate": "EN_DESC=%{x}<br>month=2022-03<br>eur_budget=%{y}<extra></extra>",
           "legendgroup": "Recreation and culture",
           "marker": {
            "color": "#FF97FF",
            "pattern": {
             "shape": ""
            }
           },
           "name": "Recreation and culture",
           "offsetgroup": "Recreation and culture",
           "orientation": "v",
           "showlegend": true,
           "textposition": "auto",
           "type": "bar",
           "x": [
            "Recreation and culture"
           ],
           "xaxis": "x",
           "y": [
            80.38762296018412
           ],
           "yaxis": "y"
          },
          {
           "alignmentgroup": "True",
           "hovertemplate": "EN_DESC=%{x}<br>month=2022-03<br>eur_budget=%{y}<extra></extra>",
           "legendgroup": "Education",
           "marker": {
            "color": "#FECB52",
            "pattern": {
             "shape": ""
            }
           },
           "name": "Education",
           "offsetgroup": "Education",
           "orientation": "v",
           "showlegend": true,
           "textposition": "auto",
           "type": "bar",
           "x": [
            "Education"
           ],
           "xaxis": "x",
           "y": [
            10.67127122704896
           ],
           "yaxis": "y"
          },
          {
           "alignmentgroup": "True",
           "hovertemplate": "EN_DESC=%{x}<br>month=2022-03<br>eur_budget=%{y}<extra></extra>",
           "legendgroup": "Restaurants and hotels",
           "marker": {
            "color": "#636efa",
            "pattern": {
             "shape": ""
            }
           },
           "name": "Restaurants and hotels",
           "offsetgroup": "Restaurants and hotels",
           "orientation": "v",
           "showlegend": true,
           "textposition": "auto",
           "type": "bar",
           "x": [
            "Restaurants and hotels"
           ],
           "xaxis": "x",
           "y": [
            56.839315673701506
           ],
           "yaxis": "y"
          },
          {
           "alignmentgroup": "True",
           "hovertemplate": "EN_DESC=%{x}<br>month=2022-03<br>eur_budget=%{y}<extra></extra>",
           "legendgroup": "Miscellaneous goods and services",
           "marker": {
            "color": "#EF553B",
            "pattern": {
             "shape": ""
            }
           },
           "name": "Miscellaneous goods and services",
           "offsetgroup": "Miscellaneous goods and services",
           "orientation": "v",
           "showlegend": true,
           "textposition": "auto",
           "type": "bar",
           "x": [
            "Miscellaneous goods and services"
           ],
           "xaxis": "x",
           "y": [
            62.316485338653685
           ],
           "yaxis": "y"
          }
         ],
         "name": "2022-03"
        },
        {
         "data": [
          {
           "alignmentgroup": "True",
           "hovertemplate": "EN_DESC=%{x}<br>month=2022-04<br>eur_budget=%{y}<extra></extra>",
           "legendgroup": "Food and non-alcoholic beverages",
           "marker": {
            "color": "#636efa",
            "pattern": {
             "shape": ""
            }
           },
           "name": "Food and non-alcoholic beverages",
           "offsetgroup": "Food and non-alcoholic beverages",
           "orientation": "v",
           "showlegend": true,
           "textposition": "auto",
           "type": "bar",
           "x": [
            "Food and non-alcoholic beverages"
           ],
           "xaxis": "x",
           "y": [
            247.13770892747104
           ],
           "yaxis": "y"
          },
          {
           "alignmentgroup": "True",
           "hovertemplate": "EN_DESC=%{x}<br>month=2022-04<br>eur_budget=%{y}<extra></extra>",
           "legendgroup": "Alcoholic beverages, tobacco and narcotics",
           "marker": {
            "color": "#EF553B",
            "pattern": {
             "shape": ""
            }
           },
           "name": "Alcoholic beverages, tobacco and narcotics",
           "offsetgroup": "Alcoholic beverages, tobacco and narcotics",
           "orientation": "v",
           "showlegend": true,
           "textposition": "auto",
           "type": "bar",
           "x": [
            "Alcoholic beverages, tobacco and narcotics"
           ],
           "xaxis": "x",
           "y": [
            69.23305074434947
           ],
           "yaxis": "y"
          },
          {
           "alignmentgroup": "True",
           "hovertemplate": "EN_DESC=%{x}<br>month=2022-04<br>eur_budget=%{y}<extra></extra>",
           "legendgroup": "Clothing and footwear",
           "marker": {
            "color": "#00cc96",
            "pattern": {
             "shape": ""
            }
           },
           "name": "Clothing and footwear",
           "offsetgroup": "Clothing and footwear",
           "orientation": "v",
           "showlegend": true,
           "textposition": "auto",
           "type": "bar",
           "x": [
            "Clothing and footwear"
           ],
           "xaxis": "x",
           "y": [
            60.034003467847775
           ],
           "yaxis": "y"
          },
          {
           "alignmentgroup": "True",
           "hovertemplate": "EN_DESC=%{x}<br>month=2022-04<br>eur_budget=%{y}<extra></extra>",
           "legendgroup": "Housing, water, electricity, gas and other fuels",
           "marker": {
            "color": "#ab63fa",
            "pattern": {
             "shape": ""
            }
           },
           "name": "Housing, water, electricity, gas and other fuels",
           "offsetgroup": "Housing, water, electricity, gas and other fuels",
           "orientation": "v",
           "showlegend": true,
           "textposition": "auto",
           "type": "bar",
           "x": [
            "Housing, water, electricity, gas and other fuels"
           ],
           "xaxis": "x",
           "y": [
            208.82314145680152
           ],
           "yaxis": "y"
          },
          {
           "alignmentgroup": "True",
           "hovertemplate": "EN_DESC=%{x}<br>month=2022-04<br>eur_budget=%{y}<extra></extra>",
           "legendgroup": "Furnishings, household equipment and routine household maintenance",
           "marker": {
            "color": "#FFA15A",
            "pattern": {
             "shape": ""
            }
           },
           "name": "Furnishings, household equipment and routine household maintenance",
           "offsetgroup": "Furnishings, household equipment and routine household maintenance",
           "orientation": "v",
           "showlegend": true,
           "textposition": "auto",
           "type": "bar",
           "x": [
            "Furnishings, household equipment and routine household maintenance"
           ],
           "xaxis": "x",
           "y": [
            73.32848703112923
           ],
           "yaxis": "y"
          },
          {
           "alignmentgroup": "True",
           "hovertemplate": "EN_DESC=%{x}<br>month=2022-04<br>eur_budget=%{y}<extra></extra>",
           "legendgroup": "Health",
           "marker": {
            "color": "#19d3f3",
            "pattern": {
             "shape": ""
            }
           },
           "name": "Health",
           "offsetgroup": "Health",
           "orientation": "v",
           "showlegend": true,
           "textposition": "auto",
           "type": "bar",
           "x": [
            "Health"
           ],
           "xaxis": "x",
           "y": [
            63.657422643429754
           ],
           "yaxis": "y"
          },
          {
           "alignmentgroup": "True",
           "hovertemplate": "EN_DESC=%{x}<br>month=2022-04<br>eur_budget=%{y}<extra></extra>",
           "legendgroup": "Transport",
           "marker": {
            "color": "#FF6692",
            "pattern": {
             "shape": ""
            }
           },
           "name": "Transport",
           "offsetgroup": "Transport",
           "orientation": "v",
           "showlegend": true,
           "textposition": "auto",
           "type": "bar",
           "x": [
            "Transport"
           ],
           "xaxis": "x",
           "y": [
            156.13820855121148
           ],
           "yaxis": "y"
          },
          {
           "alignmentgroup": "True",
           "hovertemplate": "EN_DESC=%{x}<br>month=2022-04<br>eur_budget=%{y}<extra></extra>",
           "legendgroup": "Communications",
           "marker": {
            "color": "#B6E880",
            "pattern": {
             "shape": ""
            }
           },
           "name": "Communications",
           "offsetgroup": "Communications",
           "orientation": "v",
           "showlegend": true,
           "textposition": "auto",
           "type": "bar",
           "x": [
            "Communications"
           ],
           "xaxis": "x",
           "y": [
            47.5993565638481
           ],
           "yaxis": "y"
          },
          {
           "alignmentgroup": "True",
           "hovertemplate": "EN_DESC=%{x}<br>month=2022-04<br>eur_budget=%{y}<extra></extra>",
           "legendgroup": "Recreation and culture",
           "marker": {
            "color": "#FF97FF",
            "pattern": {
             "shape": ""
            }
           },
           "name": "Recreation and culture",
           "offsetgroup": "Recreation and culture",
           "orientation": "v",
           "showlegend": true,
           "textposition": "auto",
           "type": "bar",
           "x": [
            "Recreation and culture"
           ],
           "xaxis": "x",
           "y": [
            82.07576304234797
           ],
           "yaxis": "y"
          },
          {
           "alignmentgroup": "True",
           "hovertemplate": "EN_DESC=%{x}<br>month=2022-04<br>eur_budget=%{y}<extra></extra>",
           "legendgroup": "Education",
           "marker": {
            "color": "#FECB52",
            "pattern": {
             "shape": ""
            }
           },
           "name": "Education",
           "offsetgroup": "Education",
           "orientation": "v",
           "showlegend": true,
           "textposition": "auto",
           "type": "bar",
           "x": [
            "Education"
           ],
           "xaxis": "x",
           "y": [
            10.681942498276008
           ],
           "yaxis": "y"
          },
          {
           "alignmentgroup": "True",
           "hovertemplate": "EN_DESC=%{x}<br>month=2022-04<br>eur_budget=%{y}<extra></extra>",
           "legendgroup": "Restaurants and hotels",
           "marker": {
            "color": "#636efa",
            "pattern": {
             "shape": ""
            }
           },
           "name": "Restaurants and hotels",
           "offsetgroup": "Restaurants and hotels",
           "orientation": "v",
           "showlegend": true,
           "textposition": "auto",
           "type": "bar",
           "x": [
            "Restaurants and hotels"
           ],
           "xaxis": "x",
           "y": [
            59.22656693199697
           ],
           "yaxis": "y"
          },
          {
           "alignmentgroup": "True",
           "hovertemplate": "EN_DESC=%{x}<br>month=2022-04<br>eur_budget=%{y}<extra></extra>",
           "legendgroup": "Miscellaneous goods and services",
           "marker": {
            "color": "#EF553B",
            "pattern": {
             "shape": ""
            }
           },
           "name": "Miscellaneous goods and services",
           "offsetgroup": "Miscellaneous goods and services",
           "orientation": "v",
           "showlegend": true,
           "textposition": "auto",
           "type": "bar",
           "x": [
            "Miscellaneous goods and services"
           ],
           "xaxis": "x",
           "y": [
            63.06428316271753
           ],
           "yaxis": "y"
          }
         ],
         "name": "2022-04"
        }
       ],
       "layout": {
        "barmode": "relative",
        "legend": {
         "title": {
          "text": "Spending category"
         },
         "tracegroupgap": 0
        },
        "margin": {
         "t": 60
        },
        "sliders": [
         {
          "active": 0,
          "currentvalue": {
           "prefix": "month="
          },
          "len": 0.9,
          "pad": {
           "b": 10,
           "t": 60
          },
          "steps": [
           {
            "args": [
             [
              "2021-08"
             ],
             {
              "frame": {
               "duration": 0,
               "redraw": true
              },
              "fromcurrent": true,
              "mode": "immediate",
              "transition": {
               "duration": 0,
               "easing": "linear"
              }
             }
            ],
            "label": "2021-08",
            "method": "animate"
           },
           {
            "args": [
             [
              "2021-09"
             ],
             {
              "frame": {
               "duration": 0,
               "redraw": true
              },
              "fromcurrent": true,
              "mode": "immediate",
              "transition": {
               "duration": 0,
               "easing": "linear"
              }
             }
            ],
            "label": "2021-09",
            "method": "animate"
           },
           {
            "args": [
             [
              "2021-10"
             ],
             {
              "frame": {
               "duration": 0,
               "redraw": true
              },
              "fromcurrent": true,
              "mode": "immediate",
              "transition": {
               "duration": 0,
               "easing": "linear"
              }
             }
            ],
            "label": "2021-10",
            "method": "animate"
           },
           {
            "args": [
             [
              "2021-11"
             ],
             {
              "frame": {
               "duration": 0,
               "redraw": true
              },
              "fromcurrent": true,
              "mode": "immediate",
              "transition": {
               "duration": 0,
               "easing": "linear"
              }
             }
            ],
            "label": "2021-11",
            "method": "animate"
           },
           {
            "args": [
             [
              "2021-12"
             ],
             {
              "frame": {
               "duration": 0,
               "redraw": true
              },
              "fromcurrent": true,
              "mode": "immediate",
              "transition": {
               "duration": 0,
               "easing": "linear"
              }
             }
            ],
            "label": "2021-12",
            "method": "animate"
           },
           {
            "args": [
             [
              "2022-01"
             ],
             {
              "frame": {
               "duration": 0,
               "redraw": true
              },
              "fromcurrent": true,
              "mode": "immediate",
              "transition": {
               "duration": 0,
               "easing": "linear"
              }
             }
            ],
            "label": "2022-01",
            "method": "animate"
           },
           {
            "args": [
             [
              "2022-02"
             ],
             {
              "frame": {
               "duration": 0,
               "redraw": true
              },
              "fromcurrent": true,
              "mode": "immediate",
              "transition": {
               "duration": 0,
               "easing": "linear"
              }
             }
            ],
            "label": "2022-02",
            "method": "animate"
           },
           {
            "args": [
             [
              "2022-03"
             ],
             {
              "frame": {
               "duration": 0,
               "redraw": true
              },
              "fromcurrent": true,
              "mode": "immediate",
              "transition": {
               "duration": 0,
               "easing": "linear"
              }
             }
            ],
            "label": "2022-03",
            "method": "animate"
           },
           {
            "args": [
             [
              "2022-04"
             ],
             {
              "frame": {
               "duration": 0,
               "redraw": true
              },
              "fromcurrent": true,
              "mode": "immediate",
              "transition": {
               "duration": 0,
               "easing": "linear"
              }
             }
            ],
            "label": "2022-04",
            "method": "animate"
           }
          ],
          "x": 0.1,
          "xanchor": "left",
          "y": 0,
          "yanchor": "top"
         }
        ],
        "template": {
         "data": {
          "bar": [
           {
            "error_x": {
             "color": "#2a3f5f"
            },
            "error_y": {
             "color": "#2a3f5f"
            },
            "marker": {
             "line": {
              "color": "#E5ECF6",
              "width": 0.5
             },
             "pattern": {
              "fillmode": "overlay",
              "size": 10,
              "solidity": 0.2
             }
            },
            "type": "bar"
           }
          ],
          "barpolar": [
           {
            "marker": {
             "line": {
              "color": "#E5ECF6",
              "width": 0.5
             },
             "pattern": {
              "fillmode": "overlay",
              "size": 10,
              "solidity": 0.2
             }
            },
            "type": "barpolar"
           }
          ],
          "carpet": [
           {
            "aaxis": {
             "endlinecolor": "#2a3f5f",
             "gridcolor": "white",
             "linecolor": "white",
             "minorgridcolor": "white",
             "startlinecolor": "#2a3f5f"
            },
            "baxis": {
             "endlinecolor": "#2a3f5f",
             "gridcolor": "white",
             "linecolor": "white",
             "minorgridcolor": "white",
             "startlinecolor": "#2a3f5f"
            },
            "type": "carpet"
           }
          ],
          "choropleth": [
           {
            "colorbar": {
             "outlinewidth": 0,
             "ticks": ""
            },
            "type": "choropleth"
           }
          ],
          "contour": [
           {
            "colorbar": {
             "outlinewidth": 0,
             "ticks": ""
            },
            "colorscale": [
             [
              0,
              "#0d0887"
             ],
             [
              0.1111111111111111,
              "#46039f"
             ],
             [
              0.2222222222222222,
              "#7201a8"
             ],
             [
              0.3333333333333333,
              "#9c179e"
             ],
             [
              0.4444444444444444,
              "#bd3786"
             ],
             [
              0.5555555555555556,
              "#d8576b"
             ],
             [
              0.6666666666666666,
              "#ed7953"
             ],
             [
              0.7777777777777778,
              "#fb9f3a"
             ],
             [
              0.8888888888888888,
              "#fdca26"
             ],
             [
              1,
              "#f0f921"
             ]
            ],
            "type": "contour"
           }
          ],
          "contourcarpet": [
           {
            "colorbar": {
             "outlinewidth": 0,
             "ticks": ""
            },
            "type": "contourcarpet"
           }
          ],
          "heatmap": [
           {
            "colorbar": {
             "outlinewidth": 0,
             "ticks": ""
            },
            "colorscale": [
             [
              0,
              "#0d0887"
             ],
             [
              0.1111111111111111,
              "#46039f"
             ],
             [
              0.2222222222222222,
              "#7201a8"
             ],
             [
              0.3333333333333333,
              "#9c179e"
             ],
             [
              0.4444444444444444,
              "#bd3786"
             ],
             [
              0.5555555555555556,
              "#d8576b"
             ],
             [
              0.6666666666666666,
              "#ed7953"
             ],
             [
              0.7777777777777778,
              "#fb9f3a"
             ],
             [
              0.8888888888888888,
              "#fdca26"
             ],
             [
              1,
              "#f0f921"
             ]
            ],
            "type": "heatmap"
           }
          ],
          "heatmapgl": [
           {
            "colorbar": {
             "outlinewidth": 0,
             "ticks": ""
            },
            "colorscale": [
             [
              0,
              "#0d0887"
             ],
             [
              0.1111111111111111,
              "#46039f"
             ],
             [
              0.2222222222222222,
              "#7201a8"
             ],
             [
              0.3333333333333333,
              "#9c179e"
             ],
             [
              0.4444444444444444,
              "#bd3786"
             ],
             [
              0.5555555555555556,
              "#d8576b"
             ],
             [
              0.6666666666666666,
              "#ed7953"
             ],
             [
              0.7777777777777778,
              "#fb9f3a"
             ],
             [
              0.8888888888888888,
              "#fdca26"
             ],
             [
              1,
              "#f0f921"
             ]
            ],
            "type": "heatmapgl"
           }
          ],
          "histogram": [
           {
            "marker": {
             "pattern": {
              "fillmode": "overlay",
              "size": 10,
              "solidity": 0.2
             }
            },
            "type": "histogram"
           }
          ],
          "histogram2d": [
           {
            "colorbar": {
             "outlinewidth": 0,
             "ticks": ""
            },
            "colorscale": [
             [
              0,
              "#0d0887"
             ],
             [
              0.1111111111111111,
              "#46039f"
             ],
             [
              0.2222222222222222,
              "#7201a8"
             ],
             [
              0.3333333333333333,
              "#9c179e"
             ],
             [
              0.4444444444444444,
              "#bd3786"
             ],
             [
              0.5555555555555556,
              "#d8576b"
             ],
             [
              0.6666666666666666,
              "#ed7953"
             ],
             [
              0.7777777777777778,
              "#fb9f3a"
             ],
             [
              0.8888888888888888,
              "#fdca26"
             ],
             [
              1,
              "#f0f921"
             ]
            ],
            "type": "histogram2d"
           }
          ],
          "histogram2dcontour": [
           {
            "colorbar": {
             "outlinewidth": 0,
             "ticks": ""
            },
            "colorscale": [
             [
              0,
              "#0d0887"
             ],
             [
              0.1111111111111111,
              "#46039f"
             ],
             [
              0.2222222222222222,
              "#7201a8"
             ],
             [
              0.3333333333333333,
              "#9c179e"
             ],
             [
              0.4444444444444444,
              "#bd3786"
             ],
             [
              0.5555555555555556,
              "#d8576b"
             ],
             [
              0.6666666666666666,
              "#ed7953"
             ],
             [
              0.7777777777777778,
              "#fb9f3a"
             ],
             [
              0.8888888888888888,
              "#fdca26"
             ],
             [
              1,
              "#f0f921"
             ]
            ],
            "type": "histogram2dcontour"
           }
          ],
          "mesh3d": [
           {
            "colorbar": {
             "outlinewidth": 0,
             "ticks": ""
            },
            "type": "mesh3d"
           }
          ],
          "parcoords": [
           {
            "line": {
             "colorbar": {
              "outlinewidth": 0,
              "ticks": ""
             }
            },
            "type": "parcoords"
           }
          ],
          "pie": [
           {
            "automargin": true,
            "type": "pie"
           }
          ],
          "scatter": [
           {
            "fillpattern": {
             "fillmode": "overlay",
             "size": 10,
             "solidity": 0.2
            },
            "type": "scatter"
           }
          ],
          "scatter3d": [
           {
            "line": {
             "colorbar": {
              "outlinewidth": 0,
              "ticks": ""
             }
            },
            "marker": {
             "colorbar": {
              "outlinewidth": 0,
              "ticks": ""
             }
            },
            "type": "scatter3d"
           }
          ],
          "scattercarpet": [
           {
            "marker": {
             "colorbar": {
              "outlinewidth": 0,
              "ticks": ""
             }
            },
            "type": "scattercarpet"
           }
          ],
          "scattergeo": [
           {
            "marker": {
             "colorbar": {
              "outlinewidth": 0,
              "ticks": ""
             }
            },
            "type": "scattergeo"
           }
          ],
          "scattergl": [
           {
            "marker": {
             "colorbar": {
              "outlinewidth": 0,
              "ticks": ""
             }
            },
            "type": "scattergl"
           }
          ],
          "scattermapbox": [
           {
            "marker": {
             "colorbar": {
              "outlinewidth": 0,
              "ticks": ""
             }
            },
            "type": "scattermapbox"
           }
          ],
          "scatterpolar": [
           {
            "marker": {
             "colorbar": {
              "outlinewidth": 0,
              "ticks": ""
             }
            },
            "type": "scatterpolar"
           }
          ],
          "scatterpolargl": [
           {
            "marker": {
             "colorbar": {
              "outlinewidth": 0,
              "ticks": ""
             }
            },
            "type": "scatterpolargl"
           }
          ],
          "scatterternary": [
           {
            "marker": {
             "colorbar": {
              "outlinewidth": 0,
              "ticks": ""
             }
            },
            "type": "scatterternary"
           }
          ],
          "surface": [
           {
            "colorbar": {
             "outlinewidth": 0,
             "ticks": ""
            },
            "colorscale": [
             [
              0,
              "#0d0887"
             ],
             [
              0.1111111111111111,
              "#46039f"
             ],
             [
              0.2222222222222222,
              "#7201a8"
             ],
             [
              0.3333333333333333,
              "#9c179e"
             ],
             [
              0.4444444444444444,
              "#bd3786"
             ],
             [
              0.5555555555555556,
              "#d8576b"
             ],
             [
              0.6666666666666666,
              "#ed7953"
             ],
             [
              0.7777777777777778,
              "#fb9f3a"
             ],
             [
              0.8888888888888888,
              "#fdca26"
             ],
             [
              1,
              "#f0f921"
             ]
            ],
            "type": "surface"
           }
          ],
          "table": [
           {
            "cells": {
             "fill": {
              "color": "#EBF0F8"
             },
             "line": {
              "color": "white"
             }
            },
            "header": {
             "fill": {
              "color": "#C8D4E3"
             },
             "line": {
              "color": "white"
             }
            },
            "type": "table"
           }
          ]
         },
         "layout": {
          "annotationdefaults": {
           "arrowcolor": "#2a3f5f",
           "arrowhead": 0,
           "arrowwidth": 1
          },
          "autotypenumbers": "strict",
          "coloraxis": {
           "colorbar": {
            "outlinewidth": 0,
            "ticks": ""
           }
          },
          "colorscale": {
           "diverging": [
            [
             0,
             "#8e0152"
            ],
            [
             0.1,
             "#c51b7d"
            ],
            [
             0.2,
             "#de77ae"
            ],
            [
             0.3,
             "#f1b6da"
            ],
            [
             0.4,
             "#fde0ef"
            ],
            [
             0.5,
             "#f7f7f7"
            ],
            [
             0.6,
             "#e6f5d0"
            ],
            [
             0.7,
             "#b8e186"
            ],
            [
             0.8,
             "#7fbc41"
            ],
            [
             0.9,
             "#4d9221"
            ],
            [
             1,
             "#276419"
            ]
           ],
           "sequential": [
            [
             0,
             "#0d0887"
            ],
            [
             0.1111111111111111,
             "#46039f"
            ],
            [
             0.2222222222222222,
             "#7201a8"
            ],
            [
             0.3333333333333333,
             "#9c179e"
            ],
            [
             0.4444444444444444,
             "#bd3786"
            ],
            [
             0.5555555555555556,
             "#d8576b"
            ],
            [
             0.6666666666666666,
             "#ed7953"
            ],
            [
             0.7777777777777778,
             "#fb9f3a"
            ],
            [
             0.8888888888888888,
             "#fdca26"
            ],
            [
             1,
             "#f0f921"
            ]
           ],
           "sequentialminus": [
            [
             0,
             "#0d0887"
            ],
            [
             0.1111111111111111,
             "#46039f"
            ],
            [
             0.2222222222222222,
             "#7201a8"
            ],
            [
             0.3333333333333333,
             "#9c179e"
            ],
            [
             0.4444444444444444,
             "#bd3786"
            ],
            [
             0.5555555555555556,
             "#d8576b"
            ],
            [
             0.6666666666666666,
             "#ed7953"
            ],
            [
             0.7777777777777778,
             "#fb9f3a"
            ],
            [
             0.8888888888888888,
             "#fdca26"
            ],
            [
             1,
             "#f0f921"
            ]
           ]
          },
          "colorway": [
           "#636efa",
           "#EF553B",
           "#00cc96",
           "#ab63fa",
           "#FFA15A",
           "#19d3f3",
           "#FF6692",
           "#B6E880",
           "#FF97FF",
           "#FECB52"
          ],
          "font": {
           "color": "#2a3f5f"
          },
          "geo": {
           "bgcolor": "white",
           "lakecolor": "white",
           "landcolor": "#E5ECF6",
           "showlakes": true,
           "showland": true,
           "subunitcolor": "white"
          },
          "hoverlabel": {
           "align": "left"
          },
          "hovermode": "closest",
          "mapbox": {
           "style": "light"
          },
          "paper_bgcolor": "white",
          "plot_bgcolor": "#E5ECF6",
          "polar": {
           "angularaxis": {
            "gridcolor": "white",
            "linecolor": "white",
            "ticks": ""
           },
           "bgcolor": "#E5ECF6",
           "radialaxis": {
            "gridcolor": "white",
            "linecolor": "white",
            "ticks": ""
           }
          },
          "scene": {
           "xaxis": {
            "backgroundcolor": "#E5ECF6",
            "gridcolor": "white",
            "gridwidth": 2,
            "linecolor": "white",
            "showbackground": true,
            "ticks": "",
            "zerolinecolor": "white"
           },
           "yaxis": {
            "backgroundcolor": "#E5ECF6",
            "gridcolor": "white",
            "gridwidth": 2,
            "linecolor": "white",
            "showbackground": true,
            "ticks": "",
            "zerolinecolor": "white"
           },
           "zaxis": {
            "backgroundcolor": "#E5ECF6",
            "gridcolor": "white",
            "gridwidth": 2,
            "linecolor": "white",
            "showbackground": true,
            "ticks": "",
            "zerolinecolor": "white"
           }
          },
          "shapedefaults": {
           "line": {
            "color": "#2a3f5f"
           }
          },
          "ternary": {
           "aaxis": {
            "gridcolor": "white",
            "linecolor": "white",
            "ticks": ""
           },
           "baxis": {
            "gridcolor": "white",
            "linecolor": "white",
            "ticks": ""
           },
           "bgcolor": "#E5ECF6",
           "caxis": {
            "gridcolor": "white",
            "linecolor": "white",
            "ticks": ""
           }
          },
          "title": {
           "x": 0.05
          },
          "xaxis": {
           "automargin": true,
           "gridcolor": "white",
           "linecolor": "white",
           "ticks": "",
           "title": {
            "standoff": 15
           },
           "zerolinecolor": "white",
           "zerolinewidth": 2
          },
          "yaxis": {
           "automargin": true,
           "gridcolor": "white",
           "linecolor": "white",
           "ticks": "",
           "title": {
            "standoff": 15
           },
           "zerolinecolor": "white",
           "zerolinewidth": 2
          }
         }
        },
        "updatemenus": [
         {
          "buttons": [
           {
            "args": [
             null,
             {
              "frame": {
               "duration": 500,
               "redraw": true
              },
              "fromcurrent": true,
              "mode": "immediate",
              "transition": {
               "duration": 500,
               "easing": "linear"
              }
             }
            ],
            "label": "&#9654;",
            "method": "animate"
           },
           {
            "args": [
             [
              null
             ],
             {
              "frame": {
               "duration": 0,
               "redraw": true
              },
              "fromcurrent": true,
              "mode": "immediate",
              "transition": {
               "duration": 0,
               "easing": "linear"
              }
             }
            ],
            "label": "&#9724;",
            "method": "animate"
           }
          ],
          "direction": "left",
          "pad": {
           "r": 10,
           "t": 70
          },
          "showactive": false,
          "type": "buttons",
          "x": 0.1,
          "xanchor": "right",
          "y": 0,
          "yanchor": "top"
         }
        ],
        "xaxis": {
         "anchor": "y",
         "categoryarray": [
          "Food and non-alcoholic beverages",
          "Alcoholic beverages, tobacco and narcotics",
          "Clothing and footwear",
          "Housing, water, electricity, gas and other fuels",
          "Furnishings, household equipment and routine household maintenance",
          "Health",
          "Transport",
          "Communications",
          "Recreation and culture",
          "Education",
          "Restaurants and hotels",
          "Miscellaneous goods and services"
         ],
         "categoryorder": "array",
         "domain": [
          0,
          1
         ],
         "showticklabels": false,
         "title": {
          "text": "Spending category"
         },
         "visible": false
        },
        "yaxis": {
         "anchor": "x",
         "domain": [
          0,
          1
         ],
         "range": [
          0,
          250
         ],
         "title": {
          "text": "Budget"
         }
        }
       }
      },
      "text/html": [
       "<div>                            <div id=\"c7a965e7-653a-4bb6-ac39-c52681a62f30\" class=\"plotly-graph-div\" style=\"height:525px; width:100%;\"></div>            <script type=\"text/javascript\">                require([\"plotly\"], function(Plotly) {                    window.PLOTLYENV=window.PLOTLYENV || {};                                    if (document.getElementById(\"c7a965e7-653a-4bb6-ac39-c52681a62f30\")) {                    Plotly.newPlot(                        \"c7a965e7-653a-4bb6-ac39-c52681a62f30\",                        [{\"alignmentgroup\":\"True\",\"hovertemplate\":\"EN_DESC=%{x}<br>month=2021-08<br>eur_budget=%{y}<extra></extra>\",\"legendgroup\":\"Food and non-alcoholic beverages\",\"marker\":{\"color\":\"#636efa\",\"pattern\":{\"shape\":\"\"}},\"name\":\"Food and non-alcoholic beverages\",\"offsetgroup\":\"Food and non-alcoholic beverages\",\"orientation\":\"v\",\"showlegend\":true,\"textposition\":\"auto\",\"x\":[\"Food and non-alcoholic beverages\"],\"xaxis\":\"x\",\"y\":[220.74],\"yaxis\":\"y\",\"type\":\"bar\"},{\"alignmentgroup\":\"True\",\"hovertemplate\":\"EN_DESC=%{x}<br>month=2021-08<br>eur_budget=%{y}<extra></extra>\",\"legendgroup\":\"Alcoholic beverages, tobacco and narcotics\",\"marker\":{\"color\":\"#EF553B\",\"pattern\":{\"shape\":\"\"}},\"name\":\"Alcoholic beverages, tobacco and narcotics\",\"offsetgroup\":\"Alcoholic beverages, tobacco and narcotics\",\"orientation\":\"v\",\"showlegend\":true,\"textposition\":\"auto\",\"x\":[\"Alcoholic beverages, tobacco and narcotics\"],\"xaxis\":\"x\",\"y\":[67.0],\"yaxis\":\"y\",\"type\":\"bar\"},{\"alignmentgroup\":\"True\",\"hovertemplate\":\"EN_DESC=%{x}<br>month=2021-08<br>eur_budget=%{y}<extra></extra>\",\"legendgroup\":\"Clothing and footwear\",\"marker\":{\"color\":\"#00cc96\",\"pattern\":{\"shape\":\"\"}},\"name\":\"Clothing and footwear\",\"offsetgroup\":\"Clothing and footwear\",\"orientation\":\"v\",\"showlegend\":true,\"textposition\":\"auto\",\"x\":[\"Clothing and footwear\"],\"xaxis\":\"x\",\"y\":[56.0],\"yaxis\":\"y\",\"type\":\"bar\"},{\"alignmentgroup\":\"True\",\"hovertemplate\":\"EN_DESC=%{x}<br>month=2021-08<br>eur_budget=%{y}<extra></extra>\",\"legendgroup\":\"Housing, water, electricity, gas and other fuels\",\"marker\":{\"color\":\"#ab63fa\",\"pattern\":{\"shape\":\"\"}},\"name\":\"Housing, water, electricity, gas and other fuels\",\"offsetgroup\":\"Housing, water, electricity, gas and other fuels\",\"orientation\":\"v\",\"showlegend\":true,\"textposition\":\"auto\",\"x\":[\"Housing, water, electricity, gas and other fuels\"],\"xaxis\":\"x\",\"y\":[142.45],\"yaxis\":\"y\",\"type\":\"bar\"},{\"alignmentgroup\":\"True\",\"hovertemplate\":\"EN_DESC=%{x}<br>month=2021-08<br>eur_budget=%{y}<extra></extra>\",\"legendgroup\":\"Furnishings, household equipment and routine household maintenance\",\"marker\":{\"color\":\"#FFA15A\",\"pattern\":{\"shape\":\"\"}},\"name\":\"Furnishings, household equipment and routine household maintenance\",\"offsetgroup\":\"Furnishings, household equipment and routine household maintenance\",\"orientation\":\"v\",\"showlegend\":true,\"textposition\":\"auto\",\"x\":[\"Furnishings, household equipment and routine household maintenance\"],\"xaxis\":\"x\",\"y\":[68.34],\"yaxis\":\"y\",\"type\":\"bar\"},{\"alignmentgroup\":\"True\",\"hovertemplate\":\"EN_DESC=%{x}<br>month=2021-08<br>eur_budget=%{y}<extra></extra>\",\"legendgroup\":\"Health\",\"marker\":{\"color\":\"#19d3f3\",\"pattern\":{\"shape\":\"\"}},\"name\":\"Health\",\"offsetgroup\":\"Health\",\"orientation\":\"v\",\"showlegend\":true,\"textposition\":\"auto\",\"x\":[\"Health\"],\"xaxis\":\"x\",\"y\":[60.87],\"yaxis\":\"y\",\"type\":\"bar\"},{\"alignmentgroup\":\"True\",\"hovertemplate\":\"EN_DESC=%{x}<br>month=2021-08<br>eur_budget=%{y}<extra></extra>\",\"legendgroup\":\"Transport\",\"marker\":{\"color\":\"#FF6692\",\"pattern\":{\"shape\":\"\"}},\"name\":\"Transport\",\"offsetgroup\":\"Transport\",\"orientation\":\"v\",\"showlegend\":true,\"textposition\":\"auto\",\"x\":[\"Transport\"],\"xaxis\":\"x\",\"y\":[130.95],\"yaxis\":\"y\",\"type\":\"bar\"},{\"alignmentgroup\":\"True\",\"hovertemplate\":\"EN_DESC=%{x}<br>month=2021-08<br>eur_budget=%{y}<extra></extra>\",\"legendgroup\":\"Communications\",\"marker\":{\"color\":\"#B6E880\",\"pattern\":{\"shape\":\"\"}},\"name\":\"Communications\",\"offsetgroup\":\"Communications\",\"orientation\":\"v\",\"showlegend\":true,\"textposition\":\"auto\",\"x\":[\"Communications\"],\"xaxis\":\"x\",\"y\":[48.87],\"yaxis\":\"y\",\"type\":\"bar\"},{\"alignmentgroup\":\"True\",\"hovertemplate\":\"EN_DESC=%{x}<br>month=2021-08<br>eur_budget=%{y}<extra></extra>\",\"legendgroup\":\"Recreation and culture\",\"marker\":{\"color\":\"#FF97FF\",\"pattern\":{\"shape\":\"\"}},\"name\":\"Recreation and culture\",\"offsetgroup\":\"Recreation and culture\",\"orientation\":\"v\",\"showlegend\":true,\"textposition\":\"auto\",\"x\":[\"Recreation and culture\"],\"xaxis\":\"x\",\"y\":[77.64],\"yaxis\":\"y\",\"type\":\"bar\"},{\"alignmentgroup\":\"True\",\"hovertemplate\":\"EN_DESC=%{x}<br>month=2021-08<br>eur_budget=%{y}<extra></extra>\",\"legendgroup\":\"Education\",\"marker\":{\"color\":\"#FECB52\",\"pattern\":{\"shape\":\"\"}},\"name\":\"Education\",\"offsetgroup\":\"Education\",\"orientation\":\"v\",\"showlegend\":true,\"textposition\":\"auto\",\"x\":[\"Education\"],\"xaxis\":\"x\",\"y\":[10.44],\"yaxis\":\"y\",\"type\":\"bar\"},{\"alignmentgroup\":\"True\",\"hovertemplate\":\"EN_DESC=%{x}<br>month=2021-08<br>eur_budget=%{y}<extra></extra>\",\"legendgroup\":\"Restaurants and hotels\",\"marker\":{\"color\":\"#636efa\",\"pattern\":{\"shape\":\"\"}},\"name\":\"Restaurants and hotels\",\"offsetgroup\":\"Restaurants and hotels\",\"orientation\":\"v\",\"showlegend\":true,\"textposition\":\"auto\",\"x\":[\"Restaurants and hotels\"],\"xaxis\":\"x\",\"y\":[57.18],\"yaxis\":\"y\",\"type\":\"bar\"},{\"alignmentgroup\":\"True\",\"hovertemplate\":\"EN_DESC=%{x}<br>month=2021-08<br>eur_budget=%{y}<extra></extra>\",\"legendgroup\":\"Miscellaneous goods and services\",\"marker\":{\"color\":\"#EF553B\",\"pattern\":{\"shape\":\"\"}},\"name\":\"Miscellaneous goods and services\",\"offsetgroup\":\"Miscellaneous goods and services\",\"orientation\":\"v\",\"showlegend\":true,\"textposition\":\"auto\",\"x\":[\"Miscellaneous goods and services\"],\"xaxis\":\"x\",\"y\":[59.53],\"yaxis\":\"y\",\"type\":\"bar\"}],                        {\"template\":{\"data\":{\"histogram2dcontour\":[{\"type\":\"histogram2dcontour\",\"colorbar\":{\"outlinewidth\":0,\"ticks\":\"\"},\"colorscale\":[[0.0,\"#0d0887\"],[0.1111111111111111,\"#46039f\"],[0.2222222222222222,\"#7201a8\"],[0.3333333333333333,\"#9c179e\"],[0.4444444444444444,\"#bd3786\"],[0.5555555555555556,\"#d8576b\"],[0.6666666666666666,\"#ed7953\"],[0.7777777777777778,\"#fb9f3a\"],[0.8888888888888888,\"#fdca26\"],[1.0,\"#f0f921\"]]}],\"choropleth\":[{\"type\":\"choropleth\",\"colorbar\":{\"outlinewidth\":0,\"ticks\":\"\"}}],\"histogram2d\":[{\"type\":\"histogram2d\",\"colorbar\":{\"outlinewidth\":0,\"ticks\":\"\"},\"colorscale\":[[0.0,\"#0d0887\"],[0.1111111111111111,\"#46039f\"],[0.2222222222222222,\"#7201a8\"],[0.3333333333333333,\"#9c179e\"],[0.4444444444444444,\"#bd3786\"],[0.5555555555555556,\"#d8576b\"],[0.6666666666666666,\"#ed7953\"],[0.7777777777777778,\"#fb9f3a\"],[0.8888888888888888,\"#fdca26\"],[1.0,\"#f0f921\"]]}],\"heatmap\":[{\"type\":\"heatmap\",\"colorbar\":{\"outlinewidth\":0,\"ticks\":\"\"},\"colorscale\":[[0.0,\"#0d0887\"],[0.1111111111111111,\"#46039f\"],[0.2222222222222222,\"#7201a8\"],[0.3333333333333333,\"#9c179e\"],[0.4444444444444444,\"#bd3786\"],[0.5555555555555556,\"#d8576b\"],[0.6666666666666666,\"#ed7953\"],[0.7777777777777778,\"#fb9f3a\"],[0.8888888888888888,\"#fdca26\"],[1.0,\"#f0f921\"]]}],\"heatmapgl\":[{\"type\":\"heatmapgl\",\"colorbar\":{\"outlinewidth\":0,\"ticks\":\"\"},\"colorscale\":[[0.0,\"#0d0887\"],[0.1111111111111111,\"#46039f\"],[0.2222222222222222,\"#7201a8\"],[0.3333333333333333,\"#9c179e\"],[0.4444444444444444,\"#bd3786\"],[0.5555555555555556,\"#d8576b\"],[0.6666666666666666,\"#ed7953\"],[0.7777777777777778,\"#fb9f3a\"],[0.8888888888888888,\"#fdca26\"],[1.0,\"#f0f921\"]]}],\"contourcarpet\":[{\"type\":\"contourcarpet\",\"colorbar\":{\"outlinewidth\":0,\"ticks\":\"\"}}],\"contour\":[{\"type\":\"contour\",\"colorbar\":{\"outlinewidth\":0,\"ticks\":\"\"},\"colorscale\":[[0.0,\"#0d0887\"],[0.1111111111111111,\"#46039f\"],[0.2222222222222222,\"#7201a8\"],[0.3333333333333333,\"#9c179e\"],[0.4444444444444444,\"#bd3786\"],[0.5555555555555556,\"#d8576b\"],[0.6666666666666666,\"#ed7953\"],[0.7777777777777778,\"#fb9f3a\"],[0.8888888888888888,\"#fdca26\"],[1.0,\"#f0f921\"]]}],\"surface\":[{\"type\":\"surface\",\"colorbar\":{\"outlinewidth\":0,\"ticks\":\"\"},\"colorscale\":[[0.0,\"#0d0887\"],[0.1111111111111111,\"#46039f\"],[0.2222222222222222,\"#7201a8\"],[0.3333333333333333,\"#9c179e\"],[0.4444444444444444,\"#bd3786\"],[0.5555555555555556,\"#d8576b\"],[0.6666666666666666,\"#ed7953\"],[0.7777777777777778,\"#fb9f3a\"],[0.8888888888888888,\"#fdca26\"],[1.0,\"#f0f921\"]]}],\"mesh3d\":[{\"type\":\"mesh3d\",\"colorbar\":{\"outlinewidth\":0,\"ticks\":\"\"}}],\"scatter\":[{\"fillpattern\":{\"fillmode\":\"overlay\",\"size\":10,\"solidity\":0.2},\"type\":\"scatter\"}],\"parcoords\":[{\"type\":\"parcoords\",\"line\":{\"colorbar\":{\"outlinewidth\":0,\"ticks\":\"\"}}}],\"scatterpolargl\":[{\"type\":\"scatterpolargl\",\"marker\":{\"colorbar\":{\"outlinewidth\":0,\"ticks\":\"\"}}}],\"bar\":[{\"error_x\":{\"color\":\"#2a3f5f\"},\"error_y\":{\"color\":\"#2a3f5f\"},\"marker\":{\"line\":{\"color\":\"#E5ECF6\",\"width\":0.5},\"pattern\":{\"fillmode\":\"overlay\",\"size\":10,\"solidity\":0.2}},\"type\":\"bar\"}],\"scattergeo\":[{\"type\":\"scattergeo\",\"marker\":{\"colorbar\":{\"outlinewidth\":0,\"ticks\":\"\"}}}],\"scatterpolar\":[{\"type\":\"scatterpolar\",\"marker\":{\"colorbar\":{\"outlinewidth\":0,\"ticks\":\"\"}}}],\"histogram\":[{\"marker\":{\"pattern\":{\"fillmode\":\"overlay\",\"size\":10,\"solidity\":0.2}},\"type\":\"histogram\"}],\"scattergl\":[{\"type\":\"scattergl\",\"marker\":{\"colorbar\":{\"outlinewidth\":0,\"ticks\":\"\"}}}],\"scatter3d\":[{\"type\":\"scatter3d\",\"line\":{\"colorbar\":{\"outlinewidth\":0,\"ticks\":\"\"}},\"marker\":{\"colorbar\":{\"outlinewidth\":0,\"ticks\":\"\"}}}],\"scattermapbox\":[{\"type\":\"scattermapbox\",\"marker\":{\"colorbar\":{\"outlinewidth\":0,\"ticks\":\"\"}}}],\"scatterternary\":[{\"type\":\"scatterternary\",\"marker\":{\"colorbar\":{\"outlinewidth\":0,\"ticks\":\"\"}}}],\"scattercarpet\":[{\"type\":\"scattercarpet\",\"marker\":{\"colorbar\":{\"outlinewidth\":0,\"ticks\":\"\"}}}],\"carpet\":[{\"aaxis\":{\"endlinecolor\":\"#2a3f5f\",\"gridcolor\":\"white\",\"linecolor\":\"white\",\"minorgridcolor\":\"white\",\"startlinecolor\":\"#2a3f5f\"},\"baxis\":{\"endlinecolor\":\"#2a3f5f\",\"gridcolor\":\"white\",\"linecolor\":\"white\",\"minorgridcolor\":\"white\",\"startlinecolor\":\"#2a3f5f\"},\"type\":\"carpet\"}],\"table\":[{\"cells\":{\"fill\":{\"color\":\"#EBF0F8\"},\"line\":{\"color\":\"white\"}},\"header\":{\"fill\":{\"color\":\"#C8D4E3\"},\"line\":{\"color\":\"white\"}},\"type\":\"table\"}],\"barpolar\":[{\"marker\":{\"line\":{\"color\":\"#E5ECF6\",\"width\":0.5},\"pattern\":{\"fillmode\":\"overlay\",\"size\":10,\"solidity\":0.2}},\"type\":\"barpolar\"}],\"pie\":[{\"automargin\":true,\"type\":\"pie\"}]},\"layout\":{\"autotypenumbers\":\"strict\",\"colorway\":[\"#636efa\",\"#EF553B\",\"#00cc96\",\"#ab63fa\",\"#FFA15A\",\"#19d3f3\",\"#FF6692\",\"#B6E880\",\"#FF97FF\",\"#FECB52\"],\"font\":{\"color\":\"#2a3f5f\"},\"hovermode\":\"closest\",\"hoverlabel\":{\"align\":\"left\"},\"paper_bgcolor\":\"white\",\"plot_bgcolor\":\"#E5ECF6\",\"polar\":{\"bgcolor\":\"#E5ECF6\",\"angularaxis\":{\"gridcolor\":\"white\",\"linecolor\":\"white\",\"ticks\":\"\"},\"radialaxis\":{\"gridcolor\":\"white\",\"linecolor\":\"white\",\"ticks\":\"\"}},\"ternary\":{\"bgcolor\":\"#E5ECF6\",\"aaxis\":{\"gridcolor\":\"white\",\"linecolor\":\"white\",\"ticks\":\"\"},\"baxis\":{\"gridcolor\":\"white\",\"linecolor\":\"white\",\"ticks\":\"\"},\"caxis\":{\"gridcolor\":\"white\",\"linecolor\":\"white\",\"ticks\":\"\"}},\"coloraxis\":{\"colorbar\":{\"outlinewidth\":0,\"ticks\":\"\"}},\"colorscale\":{\"sequential\":[[0.0,\"#0d0887\"],[0.1111111111111111,\"#46039f\"],[0.2222222222222222,\"#7201a8\"],[0.3333333333333333,\"#9c179e\"],[0.4444444444444444,\"#bd3786\"],[0.5555555555555556,\"#d8576b\"],[0.6666666666666666,\"#ed7953\"],[0.7777777777777778,\"#fb9f3a\"],[0.8888888888888888,\"#fdca26\"],[1.0,\"#f0f921\"]],\"sequentialminus\":[[0.0,\"#0d0887\"],[0.1111111111111111,\"#46039f\"],[0.2222222222222222,\"#7201a8\"],[0.3333333333333333,\"#9c179e\"],[0.4444444444444444,\"#bd3786\"],[0.5555555555555556,\"#d8576b\"],[0.6666666666666666,\"#ed7953\"],[0.7777777777777778,\"#fb9f3a\"],[0.8888888888888888,\"#fdca26\"],[1.0,\"#f0f921\"]],\"diverging\":[[0,\"#8e0152\"],[0.1,\"#c51b7d\"],[0.2,\"#de77ae\"],[0.3,\"#f1b6da\"],[0.4,\"#fde0ef\"],[0.5,\"#f7f7f7\"],[0.6,\"#e6f5d0\"],[0.7,\"#b8e186\"],[0.8,\"#7fbc41\"],[0.9,\"#4d9221\"],[1,\"#276419\"]]},\"xaxis\":{\"gridcolor\":\"white\",\"linecolor\":\"white\",\"ticks\":\"\",\"title\":{\"standoff\":15},\"zerolinecolor\":\"white\",\"automargin\":true,\"zerolinewidth\":2},\"yaxis\":{\"gridcolor\":\"white\",\"linecolor\":\"white\",\"ticks\":\"\",\"title\":{\"standoff\":15},\"zerolinecolor\":\"white\",\"automargin\":true,\"zerolinewidth\":2},\"scene\":{\"xaxis\":{\"backgroundcolor\":\"#E5ECF6\",\"gridcolor\":\"white\",\"linecolor\":\"white\",\"showbackground\":true,\"ticks\":\"\",\"zerolinecolor\":\"white\",\"gridwidth\":2},\"yaxis\":{\"backgroundcolor\":\"#E5ECF6\",\"gridcolor\":\"white\",\"linecolor\":\"white\",\"showbackground\":true,\"ticks\":\"\",\"zerolinecolor\":\"white\",\"gridwidth\":2},\"zaxis\":{\"backgroundcolor\":\"#E5ECF6\",\"gridcolor\":\"white\",\"linecolor\":\"white\",\"showbackground\":true,\"ticks\":\"\",\"zerolinecolor\":\"white\",\"gridwidth\":2}},\"shapedefaults\":{\"line\":{\"color\":\"#2a3f5f\"}},\"annotationdefaults\":{\"arrowcolor\":\"#2a3f5f\",\"arrowhead\":0,\"arrowwidth\":1},\"geo\":{\"bgcolor\":\"white\",\"landcolor\":\"#E5ECF6\",\"subunitcolor\":\"white\",\"showland\":true,\"showlakes\":true,\"lakecolor\":\"white\"},\"title\":{\"x\":0.05},\"mapbox\":{\"style\":\"light\"}}},\"xaxis\":{\"anchor\":\"y\",\"domain\":[0.0,1.0],\"title\":{\"text\":\"Spending category\"},\"categoryorder\":\"array\",\"categoryarray\":[\"Food and non-alcoholic beverages\",\"Alcoholic beverages, tobacco and narcotics\",\"Clothing and footwear\",\"Housing, water, electricity, gas and other fuels\",\"Furnishings, household equipment and routine household maintenance\",\"Health\",\"Transport\",\"Communications\",\"Recreation and culture\",\"Education\",\"Restaurants and hotels\",\"Miscellaneous goods and services\"],\"visible\":false,\"showticklabels\":false},\"yaxis\":{\"anchor\":\"x\",\"domain\":[0.0,1.0],\"title\":{\"text\":\"Budget\"},\"range\":[0,250]},\"legend\":{\"title\":{\"text\":\"Spending category\"},\"tracegroupgap\":0},\"margin\":{\"t\":60},\"barmode\":\"relative\",\"updatemenus\":[{\"buttons\":[{\"args\":[null,{\"frame\":{\"duration\":500,\"redraw\":true},\"mode\":\"immediate\",\"fromcurrent\":true,\"transition\":{\"duration\":500,\"easing\":\"linear\"}}],\"label\":\"&#9654;\",\"method\":\"animate\"},{\"args\":[[null],{\"frame\":{\"duration\":0,\"redraw\":true},\"mode\":\"immediate\",\"fromcurrent\":true,\"transition\":{\"duration\":0,\"easing\":\"linear\"}}],\"label\":\"&#9724;\",\"method\":\"animate\"}],\"direction\":\"left\",\"pad\":{\"r\":10,\"t\":70},\"showactive\":false,\"type\":\"buttons\",\"x\":0.1,\"xanchor\":\"right\",\"y\":0,\"yanchor\":\"top\"}],\"sliders\":[{\"active\":0,\"currentvalue\":{\"prefix\":\"month=\"},\"len\":0.9,\"pad\":{\"b\":10,\"t\":60},\"steps\":[{\"args\":[[\"2021-08\"],{\"frame\":{\"duration\":0,\"redraw\":true},\"mode\":\"immediate\",\"fromcurrent\":true,\"transition\":{\"duration\":0,\"easing\":\"linear\"}}],\"label\":\"2021-08\",\"method\":\"animate\"},{\"args\":[[\"2021-09\"],{\"frame\":{\"duration\":0,\"redraw\":true},\"mode\":\"immediate\",\"fromcurrent\":true,\"transition\":{\"duration\":0,\"easing\":\"linear\"}}],\"label\":\"2021-09\",\"method\":\"animate\"},{\"args\":[[\"2021-10\"],{\"frame\":{\"duration\":0,\"redraw\":true},\"mode\":\"immediate\",\"fromcurrent\":true,\"transition\":{\"duration\":0,\"easing\":\"linear\"}}],\"label\":\"2021-10\",\"method\":\"animate\"},{\"args\":[[\"2021-11\"],{\"frame\":{\"duration\":0,\"redraw\":true},\"mode\":\"immediate\",\"fromcurrent\":true,\"transition\":{\"duration\":0,\"easing\":\"linear\"}}],\"label\":\"2021-11\",\"method\":\"animate\"},{\"args\":[[\"2021-12\"],{\"frame\":{\"duration\":0,\"redraw\":true},\"mode\":\"immediate\",\"fromcurrent\":true,\"transition\":{\"duration\":0,\"easing\":\"linear\"}}],\"label\":\"2021-12\",\"method\":\"animate\"},{\"args\":[[\"2022-01\"],{\"frame\":{\"duration\":0,\"redraw\":true},\"mode\":\"immediate\",\"fromcurrent\":true,\"transition\":{\"duration\":0,\"easing\":\"linear\"}}],\"label\":\"2022-01\",\"method\":\"animate\"},{\"args\":[[\"2022-02\"],{\"frame\":{\"duration\":0,\"redraw\":true},\"mode\":\"immediate\",\"fromcurrent\":true,\"transition\":{\"duration\":0,\"easing\":\"linear\"}}],\"label\":\"2022-02\",\"method\":\"animate\"},{\"args\":[[\"2022-03\"],{\"frame\":{\"duration\":0,\"redraw\":true},\"mode\":\"immediate\",\"fromcurrent\":true,\"transition\":{\"duration\":0,\"easing\":\"linear\"}}],\"label\":\"2022-03\",\"method\":\"animate\"},{\"args\":[[\"2022-04\"],{\"frame\":{\"duration\":0,\"redraw\":true},\"mode\":\"immediate\",\"fromcurrent\":true,\"transition\":{\"duration\":0,\"easing\":\"linear\"}}],\"label\":\"2022-04\",\"method\":\"animate\"}],\"x\":0.1,\"xanchor\":\"left\",\"y\":0,\"yanchor\":\"top\"}]},                        {\"responsive\": true}                    ).then(function(){\n",
       "                            Plotly.addFrames('c7a965e7-653a-4bb6-ac39-c52681a62f30', [{\"data\":[{\"alignmentgroup\":\"True\",\"hovertemplate\":\"EN_DESC=%{x}<br>month=2021-08<br>eur_budget=%{y}<extra></extra>\",\"legendgroup\":\"Food and non-alcoholic beverages\",\"marker\":{\"color\":\"#636efa\",\"pattern\":{\"shape\":\"\"}},\"name\":\"Food and non-alcoholic beverages\",\"offsetgroup\":\"Food and non-alcoholic beverages\",\"orientation\":\"v\",\"showlegend\":true,\"textposition\":\"auto\",\"x\":[\"Food and non-alcoholic beverages\"],\"xaxis\":\"x\",\"y\":[220.74],\"yaxis\":\"y\",\"type\":\"bar\"},{\"alignmentgroup\":\"True\",\"hovertemplate\":\"EN_DESC=%{x}<br>month=2021-08<br>eur_budget=%{y}<extra></extra>\",\"legendgroup\":\"Alcoholic beverages, tobacco and narcotics\",\"marker\":{\"color\":\"#EF553B\",\"pattern\":{\"shape\":\"\"}},\"name\":\"Alcoholic beverages, tobacco and narcotics\",\"offsetgroup\":\"Alcoholic beverages, tobacco and narcotics\",\"orientation\":\"v\",\"showlegend\":true,\"textposition\":\"auto\",\"x\":[\"Alcoholic beverages, tobacco and narcotics\"],\"xaxis\":\"x\",\"y\":[67.0],\"yaxis\":\"y\",\"type\":\"bar\"},{\"alignmentgroup\":\"True\",\"hovertemplate\":\"EN_DESC=%{x}<br>month=2021-08<br>eur_budget=%{y}<extra></extra>\",\"legendgroup\":\"Clothing and footwear\",\"marker\":{\"color\":\"#00cc96\",\"pattern\":{\"shape\":\"\"}},\"name\":\"Clothing and footwear\",\"offsetgroup\":\"Clothing and footwear\",\"orientation\":\"v\",\"showlegend\":true,\"textposition\":\"auto\",\"x\":[\"Clothing and footwear\"],\"xaxis\":\"x\",\"y\":[56.0],\"yaxis\":\"y\",\"type\":\"bar\"},{\"alignmentgroup\":\"True\",\"hovertemplate\":\"EN_DESC=%{x}<br>month=2021-08<br>eur_budget=%{y}<extra></extra>\",\"legendgroup\":\"Housing, water, electricity, gas and other fuels\",\"marker\":{\"color\":\"#ab63fa\",\"pattern\":{\"shape\":\"\"}},\"name\":\"Housing, water, electricity, gas and other fuels\",\"offsetgroup\":\"Housing, water, electricity, gas and other fuels\",\"orientation\":\"v\",\"showlegend\":true,\"textposition\":\"auto\",\"x\":[\"Housing, water, electricity, gas and other fuels\"],\"xaxis\":\"x\",\"y\":[142.45],\"yaxis\":\"y\",\"type\":\"bar\"},{\"alignmentgroup\":\"True\",\"hovertemplate\":\"EN_DESC=%{x}<br>month=2021-08<br>eur_budget=%{y}<extra></extra>\",\"legendgroup\":\"Furnishings, household equipment and routine household maintenance\",\"marker\":{\"color\":\"#FFA15A\",\"pattern\":{\"shape\":\"\"}},\"name\":\"Furnishings, household equipment and routine household maintenance\",\"offsetgroup\":\"Furnishings, household equipment and routine household maintenance\",\"orientation\":\"v\",\"showlegend\":true,\"textposition\":\"auto\",\"x\":[\"Furnishings, household equipment and routine household maintenance\"],\"xaxis\":\"x\",\"y\":[68.34],\"yaxis\":\"y\",\"type\":\"bar\"},{\"alignmentgroup\":\"True\",\"hovertemplate\":\"EN_DESC=%{x}<br>month=2021-08<br>eur_budget=%{y}<extra></extra>\",\"legendgroup\":\"Health\",\"marker\":{\"color\":\"#19d3f3\",\"pattern\":{\"shape\":\"\"}},\"name\":\"Health\",\"offsetgroup\":\"Health\",\"orientation\":\"v\",\"showlegend\":true,\"textposition\":\"auto\",\"x\":[\"Health\"],\"xaxis\":\"x\",\"y\":[60.87],\"yaxis\":\"y\",\"type\":\"bar\"},{\"alignmentgroup\":\"True\",\"hovertemplate\":\"EN_DESC=%{x}<br>month=2021-08<br>eur_budget=%{y}<extra></extra>\",\"legendgroup\":\"Transport\",\"marker\":{\"color\":\"#FF6692\",\"pattern\":{\"shape\":\"\"}},\"name\":\"Transport\",\"offsetgroup\":\"Transport\",\"orientation\":\"v\",\"showlegend\":true,\"textposition\":\"auto\",\"x\":[\"Transport\"],\"xaxis\":\"x\",\"y\":[130.95],\"yaxis\":\"y\",\"type\":\"bar\"},{\"alignmentgroup\":\"True\",\"hovertemplate\":\"EN_DESC=%{x}<br>month=2021-08<br>eur_budget=%{y}<extra></extra>\",\"legendgroup\":\"Communications\",\"marker\":{\"color\":\"#B6E880\",\"pattern\":{\"shape\":\"\"}},\"name\":\"Communications\",\"offsetgroup\":\"Communications\",\"orientation\":\"v\",\"showlegend\":true,\"textposition\":\"auto\",\"x\":[\"Communications\"],\"xaxis\":\"x\",\"y\":[48.87],\"yaxis\":\"y\",\"type\":\"bar\"},{\"alignmentgroup\":\"True\",\"hovertemplate\":\"EN_DESC=%{x}<br>month=2021-08<br>eur_budget=%{y}<extra></extra>\",\"legendgroup\":\"Recreation and culture\",\"marker\":{\"color\":\"#FF97FF\",\"pattern\":{\"shape\":\"\"}},\"name\":\"Recreation and culture\",\"offsetgroup\":\"Recreation and culture\",\"orientation\":\"v\",\"showlegend\":true,\"textposition\":\"auto\",\"x\":[\"Recreation and culture\"],\"xaxis\":\"x\",\"y\":[77.64],\"yaxis\":\"y\",\"type\":\"bar\"},{\"alignmentgroup\":\"True\",\"hovertemplate\":\"EN_DESC=%{x}<br>month=2021-08<br>eur_budget=%{y}<extra></extra>\",\"legendgroup\":\"Education\",\"marker\":{\"color\":\"#FECB52\",\"pattern\":{\"shape\":\"\"}},\"name\":\"Education\",\"offsetgroup\":\"Education\",\"orientation\":\"v\",\"showlegend\":true,\"textposition\":\"auto\",\"x\":[\"Education\"],\"xaxis\":\"x\",\"y\":[10.44],\"yaxis\":\"y\",\"type\":\"bar\"},{\"alignmentgroup\":\"True\",\"hovertemplate\":\"EN_DESC=%{x}<br>month=2021-08<br>eur_budget=%{y}<extra></extra>\",\"legendgroup\":\"Restaurants and hotels\",\"marker\":{\"color\":\"#636efa\",\"pattern\":{\"shape\":\"\"}},\"name\":\"Restaurants and hotels\",\"offsetgroup\":\"Restaurants and hotels\",\"orientation\":\"v\",\"showlegend\":true,\"textposition\":\"auto\",\"x\":[\"Restaurants and hotels\"],\"xaxis\":\"x\",\"y\":[57.18],\"yaxis\":\"y\",\"type\":\"bar\"},{\"alignmentgroup\":\"True\",\"hovertemplate\":\"EN_DESC=%{x}<br>month=2021-08<br>eur_budget=%{y}<extra></extra>\",\"legendgroup\":\"Miscellaneous goods and services\",\"marker\":{\"color\":\"#EF553B\",\"pattern\":{\"shape\":\"\"}},\"name\":\"Miscellaneous goods and services\",\"offsetgroup\":\"Miscellaneous goods and services\",\"orientation\":\"v\",\"showlegend\":true,\"textposition\":\"auto\",\"x\":[\"Miscellaneous goods and services\"],\"xaxis\":\"x\",\"y\":[59.53],\"yaxis\":\"y\",\"type\":\"bar\"}],\"name\":\"2021-08\"},{\"data\":[{\"alignmentgroup\":\"True\",\"hovertemplate\":\"EN_DESC=%{x}<br>month=2021-09<br>eur_budget=%{y}<extra></extra>\",\"legendgroup\":\"Food and non-alcoholic beverages\",\"marker\":{\"color\":\"#636efa\",\"pattern\":{\"shape\":\"\"}},\"name\":\"Food and non-alcoholic beverages\",\"offsetgroup\":\"Food and non-alcoholic beverages\",\"orientation\":\"v\",\"showlegend\":true,\"textposition\":\"auto\",\"x\":[\"Food and non-alcoholic beverages\"],\"xaxis\":\"x\",\"y\":[219.6363],\"yaxis\":\"y\",\"type\":\"bar\"},{\"alignmentgroup\":\"True\",\"hovertemplate\":\"EN_DESC=%{x}<br>month=2021-09<br>eur_budget=%{y}<extra></extra>\",\"legendgroup\":\"Alcoholic beverages, tobacco and narcotics\",\"marker\":{\"color\":\"#EF553B\",\"pattern\":{\"shape\":\"\"}},\"name\":\"Alcoholic beverages, tobacco and narcotics\",\"offsetgroup\":\"Alcoholic beverages, tobacco and narcotics\",\"orientation\":\"v\",\"showlegend\":true,\"textposition\":\"auto\",\"x\":[\"Alcoholic beverages, tobacco and narcotics\"],\"xaxis\":\"x\",\"y\":[67.134],\"yaxis\":\"y\",\"type\":\"bar\"},{\"alignmentgroup\":\"True\",\"hovertemplate\":\"EN_DESC=%{x}<br>month=2021-09<br>eur_budget=%{y}<extra></extra>\",\"legendgroup\":\"Clothing and footwear\",\"marker\":{\"color\":\"#00cc96\",\"pattern\":{\"shape\":\"\"}},\"name\":\"Clothing and footwear\",\"offsetgroup\":\"Clothing and footwear\",\"orientation\":\"v\",\"showlegend\":true,\"textposition\":\"auto\",\"x\":[\"Clothing and footwear\"],\"xaxis\":\"x\",\"y\":[58.912000000000006],\"yaxis\":\"y\",\"type\":\"bar\"},{\"alignmentgroup\":\"True\",\"hovertemplate\":\"EN_DESC=%{x}<br>month=2021-09<br>eur_budget=%{y}<extra></extra>\",\"legendgroup\":\"Housing, water, electricity, gas and other fuels\",\"marker\":{\"color\":\"#ab63fa\",\"pattern\":{\"shape\":\"\"}},\"name\":\"Housing, water, electricity, gas and other fuels\",\"offsetgroup\":\"Housing, water, electricity, gas and other fuels\",\"orientation\":\"v\",\"showlegend\":true,\"textposition\":\"auto\",\"x\":[\"Housing, water, electricity, gas and other fuels\"],\"xaxis\":\"x\",\"y\":[153.13375],\"yaxis\":\"y\",\"type\":\"bar\"},{\"alignmentgroup\":\"True\",\"hovertemplate\":\"EN_DESC=%{x}<br>month=2021-09<br>eur_budget=%{y}<extra></extra>\",\"legendgroup\":\"Furnishings, household equipment and routine household maintenance\",\"marker\":{\"color\":\"#FFA15A\",\"pattern\":{\"shape\":\"\"}},\"name\":\"Furnishings, household equipment and routine household maintenance\",\"offsetgroup\":\"Furnishings, household equipment and routine household maintenance\",\"orientation\":\"v\",\"showlegend\":true,\"textposition\":\"auto\",\"x\":[\"Furnishings, household equipment and routine household maintenance\"],\"xaxis\":\"x\",\"y\":[68.95506],\"yaxis\":\"y\",\"type\":\"bar\"},{\"alignmentgroup\":\"True\",\"hovertemplate\":\"EN_DESC=%{x}<br>month=2021-09<br>eur_budget=%{y}<extra></extra>\",\"legendgroup\":\"Health\",\"marker\":{\"color\":\"#19d3f3\",\"pattern\":{\"shape\":\"\"}},\"name\":\"Health\",\"offsetgroup\":\"Health\",\"orientation\":\"v\",\"showlegend\":true,\"textposition\":\"auto\",\"x\":[\"Health\"],\"xaxis\":\"x\",\"y\":[60.87],\"yaxis\":\"y\",\"type\":\"bar\"},{\"alignmentgroup\":\"True\",\"hovertemplate\":\"EN_DESC=%{x}<br>month=2021-09<br>eur_budget=%{y}<extra></extra>\",\"legendgroup\":\"Transport\",\"marker\":{\"color\":\"#FF6692\",\"pattern\":{\"shape\":\"\"}},\"name\":\"Transport\",\"offsetgroup\":\"Transport\",\"orientation\":\"v\",\"showlegend\":true,\"textposition\":\"auto\",\"x\":[\"Transport\"],\"xaxis\":\"x\",\"y\":[131.08094999999997],\"yaxis\":\"y\",\"type\":\"bar\"},{\"alignmentgroup\":\"True\",\"hovertemplate\":\"EN_DESC=%{x}<br>month=2021-09<br>eur_budget=%{y}<extra></extra>\",\"legendgroup\":\"Communications\",\"marker\":{\"color\":\"#B6E880\",\"pattern\":{\"shape\":\"\"}},\"name\":\"Communications\",\"offsetgroup\":\"Communications\",\"orientation\":\"v\",\"showlegend\":true,\"textposition\":\"auto\",\"x\":[\"Communications\"],\"xaxis\":\"x\",\"y\":[48.57678],\"yaxis\":\"y\",\"type\":\"bar\"},{\"alignmentgroup\":\"True\",\"hovertemplate\":\"EN_DESC=%{x}<br>month=2021-09<br>eur_budget=%{y}<extra></extra>\",\"legendgroup\":\"Recreation and culture\",\"marker\":{\"color\":\"#FF97FF\",\"pattern\":{\"shape\":\"\"}},\"name\":\"Recreation and culture\",\"offsetgroup\":\"Recreation and culture\",\"orientation\":\"v\",\"showlegend\":true,\"textposition\":\"auto\",\"x\":[\"Recreation and culture\"],\"xaxis\":\"x\",\"y\":[77.87292],\"yaxis\":\"y\",\"type\":\"bar\"},{\"alignmentgroup\":\"True\",\"hovertemplate\":\"EN_DESC=%{x}<br>month=2021-09<br>eur_budget=%{y}<extra></extra>\",\"legendgroup\":\"Education\",\"marker\":{\"color\":\"#FECB52\",\"pattern\":{\"shape\":\"\"}},\"name\":\"Education\",\"offsetgroup\":\"Education\",\"orientation\":\"v\",\"showlegend\":true,\"textposition\":\"auto\",\"x\":[\"Education\"],\"xaxis\":\"x\",\"y\":[10.56528],\"yaxis\":\"y\",\"type\":\"bar\"},{\"alignmentgroup\":\"True\",\"hovertemplate\":\"EN_DESC=%{x}<br>month=2021-09<br>eur_budget=%{y}<extra></extra>\",\"legendgroup\":\"Restaurants and hotels\",\"marker\":{\"color\":\"#636efa\",\"pattern\":{\"shape\":\"\"}},\"name\":\"Restaurants and hotels\",\"offsetgroup\":\"Restaurants and hotels\",\"orientation\":\"v\",\"showlegend\":true,\"textposition\":\"auto\",\"x\":[\"Restaurants and hotels\"],\"xaxis\":\"x\",\"y\":[55.12152],\"yaxis\":\"y\",\"type\":\"bar\"},{\"alignmentgroup\":\"True\",\"hovertemplate\":\"EN_DESC=%{x}<br>month=2021-09<br>eur_budget=%{y}<extra></extra>\",\"legendgroup\":\"Miscellaneous goods and services\",\"marker\":{\"color\":\"#EF553B\",\"pattern\":{\"shape\":\"\"}},\"name\":\"Miscellaneous goods and services\",\"offsetgroup\":\"Miscellaneous goods and services\",\"orientation\":\"v\",\"showlegend\":true,\"textposition\":\"auto\",\"x\":[\"Miscellaneous goods and services\"],\"xaxis\":\"x\",\"y\":[59.88718],\"yaxis\":\"y\",\"type\":\"bar\"}],\"name\":\"2021-09\"},{\"data\":[{\"alignmentgroup\":\"True\",\"hovertemplate\":\"EN_DESC=%{x}<br>month=2021-10<br>eur_budget=%{y}<extra></extra>\",\"legendgroup\":\"Food and non-alcoholic beverages\",\"marker\":{\"color\":\"#636efa\",\"pattern\":{\"shape\":\"\"}},\"name\":\"Food and non-alcoholic beverages\",\"offsetgroup\":\"Food and non-alcoholic beverages\",\"orientation\":\"v\",\"showlegend\":true,\"textposition\":\"auto\",\"x\":[\"Food and non-alcoholic beverages\"],\"xaxis\":\"x\",\"y\":[217.2203007],\"yaxis\":\"y\",\"type\":\"bar\"},{\"alignmentgroup\":\"True\",\"hovertemplate\":\"EN_DESC=%{x}<br>month=2021-10<br>eur_budget=%{y}<extra></extra>\",\"legendgroup\":\"Alcoholic beverages, tobacco and narcotics\",\"marker\":{\"color\":\"#EF553B\",\"pattern\":{\"shape\":\"\"}},\"name\":\"Alcoholic beverages, tobacco and narcotics\",\"offsetgroup\":\"Alcoholic beverages, tobacco and narcotics\",\"orientation\":\"v\",\"showlegend\":true,\"textposition\":\"auto\",\"x\":[\"Alcoholic beverages, tobacco and narcotics\"],\"xaxis\":\"x\",\"y\":[67.939608],\"yaxis\":\"y\",\"type\":\"bar\"},{\"alignmentgroup\":\"True\",\"hovertemplate\":\"EN_DESC=%{x}<br>month=2021-10<br>eur_budget=%{y}<extra></extra>\",\"legendgroup\":\"Clothing and footwear\",\"marker\":{\"color\":\"#00cc96\",\"pattern\":{\"shape\":\"\"}},\"name\":\"Clothing and footwear\",\"offsetgroup\":\"Clothing and footwear\",\"orientation\":\"v\",\"showlegend\":true,\"textposition\":\"auto\",\"x\":[\"Clothing and footwear\"],\"xaxis\":\"x\",\"y\":[60.266976],\"yaxis\":\"y\",\"type\":\"bar\"},{\"alignmentgroup\":\"True\",\"hovertemplate\":\"EN_DESC=%{x}<br>month=2021-10<br>eur_budget=%{y}<extra></extra>\",\"legendgroup\":\"Housing, water, electricity, gas and other fuels\",\"marker\":{\"color\":\"#ab63fa\",\"pattern\":{\"shape\":\"\"}},\"name\":\"Housing, water, electricity, gas and other fuels\",\"offsetgroup\":\"Housing, water, electricity, gas and other fuels\",\"orientation\":\"v\",\"showlegend\":true,\"textposition\":\"auto\",\"x\":[\"Housing, water, electricity, gas and other fuels\"],\"xaxis\":\"x\",\"y\":[146.70213249999998],\"yaxis\":\"y\",\"type\":\"bar\"},{\"alignmentgroup\":\"True\",\"hovertemplate\":\"EN_DESC=%{x}<br>month=2021-10<br>eur_budget=%{y}<extra></extra>\",\"legendgroup\":\"Furnishings, household equipment and routine household maintenance\",\"marker\":{\"color\":\"#FFA15A\",\"pattern\":{\"shape\":\"\"}},\"name\":\"Furnishings, household equipment and routine household maintenance\",\"offsetgroup\":\"Furnishings, household equipment and routine household maintenance\",\"orientation\":\"v\",\"showlegend\":true,\"textposition\":\"auto\",\"x\":[\"Furnishings, household equipment and routine household maintenance\"],\"xaxis\":\"x\",\"y\":[68.81714988],\"yaxis\":\"y\",\"type\":\"bar\"},{\"alignmentgroup\":\"True\",\"hovertemplate\":\"EN_DESC=%{x}<br>month=2021-10<br>eur_budget=%{y}<extra></extra>\",\"legendgroup\":\"Health\",\"marker\":{\"color\":\"#19d3f3\",\"pattern\":{\"shape\":\"\"}},\"name\":\"Health\",\"offsetgroup\":\"Health\",\"orientation\":\"v\",\"showlegend\":true,\"textposition\":\"auto\",\"x\":[\"Health\"],\"xaxis\":\"x\",\"y\":[61.23522],\"yaxis\":\"y\",\"type\":\"bar\"},{\"alignmentgroup\":\"True\",\"hovertemplate\":\"EN_DESC=%{x}<br>month=2021-10<br>eur_budget=%{y}<extra></extra>\",\"legendgroup\":\"Transport\",\"marker\":{\"color\":\"#FF6692\",\"pattern\":{\"shape\":\"\"}},\"name\":\"Transport\",\"offsetgroup\":\"Transport\",\"orientation\":\"v\",\"showlegend\":true,\"textposition\":\"auto\",\"x\":[\"Transport\"],\"xaxis\":\"x\",\"y\":[135.79986419999997],\"yaxis\":\"y\",\"type\":\"bar\"},{\"alignmentgroup\":\"True\",\"hovertemplate\":\"EN_DESC=%{x}<br>month=2021-10<br>eur_budget=%{y}<extra></extra>\",\"legendgroup\":\"Communications\",\"marker\":{\"color\":\"#B6E880\",\"pattern\":{\"shape\":\"\"}},\"name\":\"Communications\",\"offsetgroup\":\"Communications\",\"orientation\":\"v\",\"showlegend\":true,\"textposition\":\"auto\",\"x\":[\"Communications\"],\"xaxis\":\"x\",\"y\":[48.67393356],\"yaxis\":\"y\",\"type\":\"bar\"},{\"alignmentgroup\":\"True\",\"hovertemplate\":\"EN_DESC=%{x}<br>month=2021-10<br>eur_budget=%{y}<extra></extra>\",\"legendgroup\":\"Recreation and culture\",\"marker\":{\"color\":\"#FF97FF\",\"pattern\":{\"shape\":\"\"}},\"name\":\"Recreation and culture\",\"offsetgroup\":\"Recreation and culture\",\"orientation\":\"v\",\"showlegend\":true,\"textposition\":\"auto\",\"x\":[\"Recreation and culture\"],\"xaxis\":\"x\",\"y\":[78.02866583999999],\"yaxis\":\"y\",\"type\":\"bar\"},{\"alignmentgroup\":\"True\",\"hovertemplate\":\"EN_DESC=%{x}<br>month=2021-10<br>eur_budget=%{y}<extra></extra>\",\"legendgroup\":\"Education\",\"marker\":{\"color\":\"#FECB52\",\"pattern\":{\"shape\":\"\"}},\"name\":\"Education\",\"offsetgroup\":\"Education\",\"orientation\":\"v\",\"showlegend\":true,\"textposition\":\"auto\",\"x\":[\"Education\"],\"xaxis\":\"x\",\"y\":[10.56528],\"yaxis\":\"y\",\"type\":\"bar\"},{\"alignmentgroup\":\"True\",\"hovertemplate\":\"EN_DESC=%{x}<br>month=2021-10<br>eur_budget=%{y}<extra></extra>\",\"legendgroup\":\"Restaurants and hotels\",\"marker\":{\"color\":\"#636efa\",\"pattern\":{\"shape\":\"\"}},\"name\":\"Restaurants and hotels\",\"offsetgroup\":\"Restaurants and hotels\",\"orientation\":\"v\",\"showlegend\":true,\"textposition\":\"auto\",\"x\":[\"Restaurants and hotels\"],\"xaxis\":\"x\",\"y\":[54.460061759999995],\"yaxis\":\"y\",\"type\":\"bar\"},{\"alignmentgroup\":\"True\",\"hovertemplate\":\"EN_DESC=%{x}<br>month=2021-10<br>eur_budget=%{y}<extra></extra>\",\"legendgroup\":\"Miscellaneous goods and services\",\"marker\":{\"color\":\"#EF553B\",\"pattern\":{\"shape\":\"\"}},\"name\":\"Miscellaneous goods and services\",\"offsetgroup\":\"Miscellaneous goods and services\",\"orientation\":\"v\",\"showlegend\":true,\"textposition\":\"auto\",\"x\":[\"Miscellaneous goods and services\"],\"xaxis\":\"x\",\"y\":[59.5877441],\"yaxis\":\"y\",\"type\":\"bar\"}],\"name\":\"2021-10\"},{\"data\":[{\"alignmentgroup\":\"True\",\"hovertemplate\":\"EN_DESC=%{x}<br>month=2021-11<br>eur_budget=%{y}<extra></extra>\",\"legendgroup\":\"Food and non-alcoholic beverages\",\"marker\":{\"color\":\"#636efa\",\"pattern\":{\"shape\":\"\"}},\"name\":\"Food and non-alcoholic beverages\",\"offsetgroup\":\"Food and non-alcoholic beverages\",\"orientation\":\"v\",\"showlegend\":true,\"textposition\":\"auto\",\"x\":[\"Food and non-alcoholic beverages\"],\"xaxis\":\"x\",\"y\":[221.564706714],\"yaxis\":\"y\",\"type\":\"bar\"},{\"alignmentgroup\":\"True\",\"hovertemplate\":\"EN_DESC=%{x}<br>month=2021-11<br>eur_budget=%{y}<extra></extra>\",\"legendgroup\":\"Alcoholic beverages, tobacco and narcotics\",\"marker\":{\"color\":\"#EF553B\",\"pattern\":{\"shape\":\"\"}},\"name\":\"Alcoholic beverages, tobacco and narcotics\",\"offsetgroup\":\"Alcoholic beverages, tobacco and narcotics\",\"orientation\":\"v\",\"showlegend\":true,\"textposition\":\"auto\",\"x\":[\"Alcoholic beverages, tobacco and narcotics\"],\"xaxis\":\"x\",\"y\":[67.939608],\"yaxis\":\"y\",\"type\":\"bar\"},{\"alignmentgroup\":\"True\",\"hovertemplate\":\"EN_DESC=%{x}<br>month=2021-11<br>eur_budget=%{y}<extra></extra>\",\"legendgroup\":\"Clothing and footwear\",\"marker\":{\"color\":\"#00cc96\",\"pattern\":{\"shape\":\"\"}},\"name\":\"Clothing and footwear\",\"offsetgroup\":\"Clothing and footwear\",\"orientation\":\"v\",\"showlegend\":true,\"textposition\":\"auto\",\"x\":[\"Clothing and footwear\"],\"xaxis\":\"x\",\"y\":[61.351781568],\"yaxis\":\"y\",\"type\":\"bar\"},{\"alignmentgroup\":\"True\",\"hovertemplate\":\"EN_DESC=%{x}<br>month=2021-11<br>eur_budget=%{y}<extra></extra>\",\"legendgroup\":\"Housing, water, electricity, gas and other fuels\",\"marker\":{\"color\":\"#ab63fa\",\"pattern\":{\"shape\":\"\"}},\"name\":\"Housing, water, electricity, gas and other fuels\",\"offsetgroup\":\"Housing, water, electricity, gas and other fuels\",\"orientation\":\"v\",\"showlegend\":true,\"textposition\":\"auto\",\"x\":[\"Housing, water, electricity, gas and other fuels\"],\"xaxis\":\"x\",\"y\":[154.18394125749995],\"yaxis\":\"y\",\"type\":\"bar\"},{\"alignmentgroup\":\"True\",\"hovertemplate\":\"EN_DESC=%{x}<br>month=2021-11<br>eur_budget=%{y}<extra></extra>\",\"legendgroup\":\"Furnishings, household equipment and routine household maintenance\",\"marker\":{\"color\":\"#FFA15A\",\"pattern\":{\"shape\":\"\"}},\"name\":\"Furnishings, household equipment and routine household maintenance\",\"offsetgroup\":\"Furnishings, household equipment and routine household maintenance\",\"orientation\":\"v\",\"showlegend\":true,\"textposition\":\"auto\",\"x\":[\"Furnishings, household equipment and routine household maintenance\"],\"xaxis\":\"x\",\"y\":[69.36768707904],\"yaxis\":\"y\",\"type\":\"bar\"},{\"alignmentgroup\":\"True\",\"hovertemplate\":\"EN_DESC=%{x}<br>month=2021-11<br>eur_budget=%{y}<extra></extra>\",\"legendgroup\":\"Health\",\"marker\":{\"color\":\"#19d3f3\",\"pattern\":{\"shape\":\"\"}},\"name\":\"Health\",\"offsetgroup\":\"Health\",\"orientation\":\"v\",\"showlegend\":true,\"textposition\":\"auto\",\"x\":[\"Health\"],\"xaxis\":\"x\",\"y\":[61.41892565999999],\"yaxis\":\"y\",\"type\":\"bar\"},{\"alignmentgroup\":\"True\",\"hovertemplate\":\"EN_DESC=%{x}<br>month=2021-11<br>eur_budget=%{y}<extra></extra>\",\"legendgroup\":\"Transport\",\"marker\":{\"color\":\"#FF6692\",\"pattern\":{\"shape\":\"\"}},\"name\":\"Transport\",\"offsetgroup\":\"Transport\",\"orientation\":\"v\",\"showlegend\":true,\"textposition\":\"auto\",\"x\":[\"Transport\"],\"xaxis\":\"x\",\"y\":[138.24426175559998],\"yaxis\":\"y\",\"type\":\"bar\"},{\"alignmentgroup\":\"True\",\"hovertemplate\":\"EN_DESC=%{x}<br>month=2021-11<br>eur_budget=%{y}<extra></extra>\",\"legendgroup\":\"Communications\",\"marker\":{\"color\":\"#B6E880\",\"pattern\":{\"shape\":\"\"}},\"name\":\"Communications\",\"offsetgroup\":\"Communications\",\"orientation\":\"v\",\"showlegend\":true,\"textposition\":\"auto\",\"x\":[\"Communications\"],\"xaxis\":\"x\",\"y\":[48.72260749356],\"yaxis\":\"y\",\"type\":\"bar\"},{\"alignmentgroup\":\"True\",\"hovertemplate\":\"EN_DESC=%{x}<br>month=2021-11<br>eur_budget=%{y}<extra></extra>\",\"legendgroup\":\"Recreation and culture\",\"marker\":{\"color\":\"#FF97FF\",\"pattern\":{\"shape\":\"\"}},\"name\":\"Recreation and culture\",\"offsetgroup\":\"Recreation and culture\",\"orientation\":\"v\",\"showlegend\":true,\"textposition\":\"auto\",\"x\":[\"Recreation and culture\"],\"xaxis\":\"x\",\"y\":[78.73092383255998],\"yaxis\":\"y\",\"type\":\"bar\"},{\"alignmentgroup\":\"True\",\"hovertemplate\":\"EN_DESC=%{x}<br>month=2021-11<br>eur_budget=%{y}<extra></extra>\",\"legendgroup\":\"Education\",\"marker\":{\"color\":\"#FECB52\",\"pattern\":{\"shape\":\"\"}},\"name\":\"Education\",\"offsetgroup\":\"Education\",\"orientation\":\"v\",\"showlegend\":true,\"textposition\":\"auto\",\"x\":[\"Education\"],\"xaxis\":\"x\",\"y\":[10.607541119999999],\"yaxis\":\"y\",\"type\":\"bar\"},{\"alignmentgroup\":\"True\",\"hovertemplate\":\"EN_DESC=%{x}<br>month=2021-11<br>eur_budget=%{y}<extra></extra>\",\"legendgroup\":\"Restaurants and hotels\",\"marker\":{\"color\":\"#636efa\",\"pattern\":{\"shape\":\"\"}},\"name\":\"Restaurants and hotels\",\"offsetgroup\":\"Restaurants and hotels\",\"orientation\":\"v\",\"showlegend\":true,\"textposition\":\"auto\",\"x\":[\"Restaurants and hotels\"],\"xaxis\":\"x\",\"y\":[54.67790200704],\"yaxis\":\"y\",\"type\":\"bar\"},{\"alignmentgroup\":\"True\",\"hovertemplate\":\"EN_DESC=%{x}<br>month=2021-11<br>eur_budget=%{y}<extra></extra>\",\"legendgroup\":\"Miscellaneous goods and services\",\"marker\":{\"color\":\"#EF553B\",\"pattern\":{\"shape\":\"\"}},\"name\":\"Miscellaneous goods and services\",\"offsetgroup\":\"Miscellaneous goods and services\",\"orientation\":\"v\",\"showlegend\":true,\"textposition\":\"auto\",\"x\":[\"Miscellaneous goods and services\"],\"xaxis\":\"x\",\"y\":[59.8260950764],\"yaxis\":\"y\",\"type\":\"bar\"}],\"name\":\"2021-11\"},{\"data\":[{\"alignmentgroup\":\"True\",\"hovertemplate\":\"EN_DESC=%{x}<br>month=2021-12<br>eur_budget=%{y}<extra></extra>\",\"legendgroup\":\"Food and non-alcoholic beverages\",\"marker\":{\"color\":\"#636efa\",\"pattern\":{\"shape\":\"\"}},\"name\":\"Food and non-alcoholic beverages\",\"offsetgroup\":\"Food and non-alcoholic beverages\",\"orientation\":\"v\",\"showlegend\":true,\"textposition\":\"auto\",\"x\":[\"Food and non-alcoholic beverages\"],\"xaxis\":\"x\",\"y\":[221.121577300572],\"yaxis\":\"y\",\"type\":\"bar\"},{\"alignmentgroup\":\"True\",\"hovertemplate\":\"EN_DESC=%{x}<br>month=2021-12<br>eur_budget=%{y}<extra></extra>\",\"legendgroup\":\"Alcoholic beverages, tobacco and narcotics\",\"marker\":{\"color\":\"#EF553B\",\"pattern\":{\"shape\":\"\"}},\"name\":\"Alcoholic beverages, tobacco and narcotics\",\"offsetgroup\":\"Alcoholic beverages, tobacco and narcotics\",\"orientation\":\"v\",\"showlegend\":true,\"textposition\":\"auto\",\"x\":[\"Alcoholic beverages, tobacco and narcotics\"],\"xaxis\":\"x\",\"y\":[67.46403074400001],\"yaxis\":\"y\",\"type\":\"bar\"},{\"alignmentgroup\":\"True\",\"hovertemplate\":\"EN_DESC=%{x}<br>month=2021-12<br>eur_budget=%{y}<extra></extra>\",\"legendgroup\":\"Clothing and footwear\",\"marker\":{\"color\":\"#00cc96\",\"pattern\":{\"shape\":\"\"}},\"name\":\"Clothing and footwear\",\"offsetgroup\":\"Clothing and footwear\",\"orientation\":\"v\",\"showlegend\":true,\"textposition\":\"auto\",\"x\":[\"Clothing and footwear\"],\"xaxis\":\"x\",\"y\":[60.615560189184],\"yaxis\":\"y\",\"type\":\"bar\"},{\"alignmentgroup\":\"True\",\"hovertemplate\":\"EN_DESC=%{x}<br>month=2021-12<br>eur_budget=%{y}<extra></extra>\",\"legendgroup\":\"Housing, water, electricity, gas and other fuels\",\"marker\":{\"color\":\"#ab63fa\",\"pattern\":{\"shape\":\"\"}},\"name\":\"Housing, water, electricity, gas and other fuels\",\"offsetgroup\":\"Housing, water, electricity, gas and other fuels\",\"orientation\":\"v\",\"showlegend\":true,\"textposition\":\"auto\",\"x\":[\"Housing, water, electricity, gas and other fuels\"],\"xaxis\":\"x\",\"y\":[185.79164921528746],\"yaxis\":\"y\",\"type\":\"bar\"},{\"alignmentgroup\":\"True\",\"hovertemplate\":\"EN_DESC=%{x}<br>month=2021-12<br>eur_budget=%{y}<extra></extra>\",\"legendgroup\":\"Furnishings, household equipment and routine household maintenance\",\"marker\":{\"color\":\"#FFA15A\",\"pattern\":{\"shape\":\"\"}},\"name\":\"Furnishings, household equipment and routine household maintenance\",\"offsetgroup\":\"Furnishings, household equipment and routine household maintenance\",\"orientation\":\"v\",\"showlegend\":true,\"textposition\":\"auto\",\"x\":[\"Furnishings, household equipment and routine household maintenance\"],\"xaxis\":\"x\",\"y\":[70.20009932398848],\"yaxis\":\"y\",\"type\":\"bar\"},{\"alignmentgroup\":\"True\",\"hovertemplate\":\"EN_DESC=%{x}<br>month=2021-12<br>eur_budget=%{y}<extra></extra>\",\"legendgroup\":\"Health\",\"marker\":{\"color\":\"#19d3f3\",\"pattern\":{\"shape\":\"\"}},\"name\":\"Health\",\"offsetgroup\":\"Health\",\"orientation\":\"v\",\"showlegend\":true,\"textposition\":\"auto\",\"x\":[\"Health\"],\"xaxis\":\"x\",\"y\":[61.971695990939985],\"yaxis\":\"y\",\"type\":\"bar\"},{\"alignmentgroup\":\"True\",\"hovertemplate\":\"EN_DESC=%{x}<br>month=2021-12<br>eur_budget=%{y}<extra></extra>\",\"legendgroup\":\"Transport\",\"marker\":{\"color\":\"#FF6692\",\"pattern\":{\"shape\":\"\"}},\"name\":\"Transport\",\"offsetgroup\":\"Transport\",\"orientation\":\"v\",\"showlegend\":true,\"textposition\":\"auto\",\"x\":[\"Transport\"],\"xaxis\":\"x\",\"y\":[138.24426175559998],\"yaxis\":\"y\",\"type\":\"bar\"},{\"alignmentgroup\":\"True\",\"hovertemplate\":\"EN_DESC=%{x}<br>month=2021-12<br>eur_budget=%{y}<extra></extra>\",\"legendgroup\":\"Communications\",\"marker\":{\"color\":\"#B6E880\",\"pattern\":{\"shape\":\"\"}},\"name\":\"Communications\",\"offsetgroup\":\"Communications\",\"orientation\":\"v\",\"showlegend\":true,\"textposition\":\"auto\",\"x\":[\"Communications\"],\"xaxis\":\"x\",\"y\":[47.650710128701675],\"yaxis\":\"y\",\"type\":\"bar\"},{\"alignmentgroup\":\"True\",\"hovertemplate\":\"EN_DESC=%{x}<br>month=2021-12<br>eur_budget=%{y}<extra></extra>\",\"legendgroup\":\"Recreation and culture\",\"marker\":{\"color\":\"#FF97FF\",\"pattern\":{\"shape\":\"\"}},\"name\":\"Recreation and culture\",\"offsetgroup\":\"Recreation and culture\",\"orientation\":\"v\",\"showlegend\":true,\"textposition\":\"auto\",\"x\":[\"Recreation and culture\"],\"xaxis\":\"x\",\"y\":[78.80965475639253],\"yaxis\":\"y\",\"type\":\"bar\"},{\"alignmentgroup\":\"True\",\"hovertemplate\":\"EN_DESC=%{x}<br>month=2021-12<br>eur_budget=%{y}<extra></extra>\",\"legendgroup\":\"Education\",\"marker\":{\"color\":\"#FECB52\",\"pattern\":{\"shape\":\"\"}},\"name\":\"Education\",\"offsetgroup\":\"Education\",\"orientation\":\"v\",\"showlegend\":true,\"textposition\":\"auto\",\"x\":[\"Education\"],\"xaxis\":\"x\",\"y\":[10.607541119999999],\"yaxis\":\"y\",\"type\":\"bar\"},{\"alignmentgroup\":\"True\",\"hovertemplate\":\"EN_DESC=%{x}<br>month=2021-12<br>eur_budget=%{y}<extra></extra>\",\"legendgroup\":\"Restaurants and hotels\",\"marker\":{\"color\":\"#636efa\",\"pattern\":{\"shape\":\"\"}},\"name\":\"Restaurants and hotels\",\"offsetgroup\":\"Restaurants and hotels\",\"orientation\":\"v\",\"showlegend\":true,\"textposition\":\"auto\",\"x\":[\"Restaurants and hotels\"],\"xaxis\":\"x\",\"y\":[54.896613615068155],\"yaxis\":\"y\",\"type\":\"bar\"},{\"alignmentgroup\":\"True\",\"hovertemplate\":\"EN_DESC=%{x}<br>month=2021-12<br>eur_budget=%{y}<extra></extra>\",\"legendgroup\":\"Miscellaneous goods and services\",\"marker\":{\"color\":\"#EF553B\",\"pattern\":{\"shape\":\"\"}},\"name\":\"Miscellaneous goods and services\",\"offsetgroup\":\"Miscellaneous goods and services\",\"orientation\":\"v\",\"showlegend\":true,\"textposition\":\"auto\",\"x\":[\"Miscellaneous goods and services\"],\"xaxis\":\"x\",\"y\":[60.24487774193479],\"yaxis\":\"y\",\"type\":\"bar\"}],\"name\":\"2021-12\"},{\"data\":[{\"alignmentgroup\":\"True\",\"hovertemplate\":\"EN_DESC=%{x}<br>month=2022-01<br>eur_budget=%{y}<extra></extra>\",\"legendgroup\":\"Food and non-alcoholic beverages\",\"marker\":{\"color\":\"#636efa\",\"pattern\":{\"shape\":\"\"}},\"name\":\"Food and non-alcoholic beverages\",\"offsetgroup\":\"Food and non-alcoholic beverages\",\"orientation\":\"v\",\"showlegend\":true,\"textposition\":\"auto\",\"x\":[\"Food and non-alcoholic beverages\"],\"xaxis\":\"x\",\"y\":[229.7453188152943],\"yaxis\":\"y\",\"type\":\"bar\"},{\"alignmentgroup\":\"True\",\"hovertemplate\":\"EN_DESC=%{x}<br>month=2022-01<br>eur_budget=%{y}<extra></extra>\",\"legendgroup\":\"Alcoholic beverages, tobacco and narcotics\",\"marker\":{\"color\":\"#EF553B\",\"pattern\":{\"shape\":\"\"}},\"name\":\"Alcoholic beverages, tobacco and narcotics\",\"offsetgroup\":\"Alcoholic beverages, tobacco and narcotics\",\"orientation\":\"v\",\"showlegend\":true,\"textposition\":\"auto\",\"x\":[\"Alcoholic beverages, tobacco and narcotics\"],\"xaxis\":\"x\",\"y\":[68.13867105144001],\"yaxis\":\"y\",\"type\":\"bar\"},{\"alignmentgroup\":\"True\",\"hovertemplate\":\"EN_DESC=%{x}<br>month=2022-01<br>eur_budget=%{y}<extra></extra>\",\"legendgroup\":\"Clothing and footwear\",\"marker\":{\"color\":\"#00cc96\",\"pattern\":{\"shape\":\"\"}},\"name\":\"Clothing and footwear\",\"offsetgroup\":\"Clothing and footwear\",\"orientation\":\"v\",\"showlegend\":true,\"textposition\":\"auto\",\"x\":[\"Clothing and footwear\"],\"xaxis\":\"x\",\"y\":[56.91801101764378],\"yaxis\":\"y\",\"type\":\"bar\"},{\"alignmentgroup\":\"True\",\"hovertemplate\":\"EN_DESC=%{x}<br>month=2022-01<br>eur_budget=%{y}<extra></extra>\",\"legendgroup\":\"Housing, water, electricity, gas and other fuels\",\"marker\":{\"color\":\"#ab63fa\",\"pattern\":{\"shape\":\"\"}},\"name\":\"Housing, water, electricity, gas and other fuels\",\"offsetgroup\":\"Housing, water, electricity, gas and other fuels\",\"orientation\":\"v\",\"showlegend\":true,\"textposition\":\"auto\",\"x\":[\"Housing, water, electricity, gas and other fuels\"],\"xaxis\":\"x\",\"y\":[172.97202541943264],\"yaxis\":\"y\",\"type\":\"bar\"},{\"alignmentgroup\":\"True\",\"hovertemplate\":\"EN_DESC=%{x}<br>month=2022-01<br>eur_budget=%{y}<extra></extra>\",\"legendgroup\":\"Furnishings, household equipment and routine household maintenance\",\"marker\":{\"color\":\"#FFA15A\",\"pattern\":{\"shape\":\"\"}},\"name\":\"Furnishings, household equipment and routine household maintenance\",\"offsetgroup\":\"Furnishings, household equipment and routine household maintenance\",\"orientation\":\"v\",\"showlegend\":true,\"textposition\":\"auto\",\"x\":[\"Furnishings, household equipment and routine household maintenance\"],\"xaxis\":\"x\",\"y\":[69.91929892669253],\"yaxis\":\"y\",\"type\":\"bar\"},{\"alignmentgroup\":\"True\",\"hovertemplate\":\"EN_DESC=%{x}<br>month=2022-01<br>eur_budget=%{y}<extra></extra>\",\"legendgroup\":\"Health\",\"marker\":{\"color\":\"#19d3f3\",\"pattern\":{\"shape\":\"\"}},\"name\":\"Health\",\"offsetgroup\":\"Health\",\"orientation\":\"v\",\"showlegend\":true,\"textposition\":\"auto\",\"x\":[\"Health\"],\"xaxis\":\"x\",\"y\":[63.025214822785955],\"yaxis\":\"y\",\"type\":\"bar\"},{\"alignmentgroup\":\"True\",\"hovertemplate\":\"EN_DESC=%{x}<br>month=2022-01<br>eur_budget=%{y}<extra></extra>\",\"legendgroup\":\"Transport\",\"marker\":{\"color\":\"#FF6692\",\"pattern\":{\"shape\":\"\"}},\"name\":\"Transport\",\"offsetgroup\":\"Transport\",\"orientation\":\"v\",\"showlegend\":true,\"textposition\":\"auto\",\"x\":[\"Transport\"],\"xaxis\":\"x\",\"y\":[139.90319289666718],\"yaxis\":\"y\",\"type\":\"bar\"},{\"alignmentgroup\":\"True\",\"hovertemplate\":\"EN_DESC=%{x}<br>month=2022-01<br>eur_budget=%{y}<extra></extra>\",\"legendgroup\":\"Communications\",\"marker\":{\"color\":\"#B6E880\",\"pattern\":{\"shape\":\"\"}},\"name\":\"Communications\",\"offsetgroup\":\"Communications\",\"orientation\":\"v\",\"showlegend\":true,\"textposition\":\"auto\",\"x\":[\"Communications\"],\"xaxis\":\"x\",\"y\":[47.31715515780076],\"yaxis\":\"y\",\"type\":\"bar\"},{\"alignmentgroup\":\"True\",\"hovertemplate\":\"EN_DESC=%{x}<br>month=2022-01<br>eur_budget=%{y}<extra></extra>\",\"legendgroup\":\"Recreation and culture\",\"marker\":{\"color\":\"#FF97FF\",\"pattern\":{\"shape\":\"\"}},\"name\":\"Recreation and culture\",\"offsetgroup\":\"Recreation and culture\",\"orientation\":\"v\",\"showlegend\":true,\"textposition\":\"auto\",\"x\":[\"Recreation and culture\"],\"xaxis\":\"x\",\"y\":[78.49441613736697],\"yaxis\":\"y\",\"type\":\"bar\"},{\"alignmentgroup\":\"True\",\"hovertemplate\":\"EN_DESC=%{x}<br>month=2022-01<br>eur_budget=%{y}<extra></extra>\",\"legendgroup\":\"Education\",\"marker\":{\"color\":\"#FECB52\",\"pattern\":{\"shape\":\"\"}},\"name\":\"Education\",\"offsetgroup\":\"Education\",\"orientation\":\"v\",\"showlegend\":true,\"textposition\":\"auto\",\"x\":[\"Education\"],\"xaxis\":\"x\",\"y\":[10.64997128448],\"yaxis\":\"y\",\"type\":\"bar\"},{\"alignmentgroup\":\"True\",\"hovertemplate\":\"EN_DESC=%{x}<br>month=2022-01<br>eur_budget=%{y}<extra></extra>\",\"legendgroup\":\"Restaurants and hotels\",\"marker\":{\"color\":\"#636efa\",\"pattern\":{\"shape\":\"\"}},\"name\":\"Restaurants and hotels\",\"offsetgroup\":\"Restaurants and hotels\",\"orientation\":\"v\",\"showlegend\":true,\"textposition\":\"auto\",\"x\":[\"Restaurants and hotels\"],\"xaxis\":\"x\",\"y\":[55.390683137603766],\"yaxis\":\"y\",\"type\":\"bar\"},{\"alignmentgroup\":\"True\",\"hovertemplate\":\"EN_DESC=%{x}<br>month=2022-01<br>eur_budget=%{y}<extra></extra>\",\"legendgroup\":\"Miscellaneous goods and services\",\"marker\":{\"color\":\"#EF553B\",\"pattern\":{\"shape\":\"\"}},\"name\":\"Miscellaneous goods and services\",\"offsetgroup\":\"Miscellaneous goods and services\",\"orientation\":\"v\",\"showlegend\":true,\"textposition\":\"auto\",\"x\":[\"Miscellaneous goods and services\"],\"xaxis\":\"x\",\"y\":[60.90757139709607],\"yaxis\":\"y\",\"type\":\"bar\"}],\"name\":\"2022-01\"},{\"data\":[{\"alignmentgroup\":\"True\",\"hovertemplate\":\"EN_DESC=%{x}<br>month=2022-02<br>eur_budget=%{y}<extra></extra>\",\"legendgroup\":\"Food and non-alcoholic beverages\",\"marker\":{\"color\":\"#636efa\",\"pattern\":{\"shape\":\"\"}},\"name\":\"Food and non-alcoholic beverages\",\"offsetgroup\":\"Food and non-alcoholic beverages\",\"orientation\":\"v\",\"showlegend\":true,\"textposition\":\"auto\",\"x\":[\"Food and non-alcoholic beverages\"],\"xaxis\":\"x\",\"y\":[238.24589561146016],\"yaxis\":\"y\",\"type\":\"bar\"},{\"alignmentgroup\":\"True\",\"hovertemplate\":\"EN_DESC=%{x}<br>month=2022-02<br>eur_budget=%{y}<extra></extra>\",\"legendgroup\":\"Alcoholic beverages, tobacco and narcotics\",\"marker\":{\"color\":\"#EF553B\",\"pattern\":{\"shape\":\"\"}},\"name\":\"Alcoholic beverages, tobacco and narcotics\",\"offsetgroup\":\"Alcoholic beverages, tobacco and narcotics\",\"orientation\":\"v\",\"showlegend\":true,\"textposition\":\"auto\",\"x\":[\"Alcoholic beverages, tobacco and narcotics\"],\"xaxis\":\"x\",\"y\":[68.88819643300585],\"yaxis\":\"y\",\"type\":\"bar\"},{\"alignmentgroup\":\"True\",\"hovertemplate\":\"EN_DESC=%{x}<br>month=2022-02<br>eur_budget=%{y}<extra></extra>\",\"legendgroup\":\"Clothing and footwear\",\"marker\":{\"color\":\"#00cc96\",\"pattern\":{\"shape\":\"\"}},\"name\":\"Clothing and footwear\",\"offsetgroup\":\"Clothing and footwear\",\"orientation\":\"v\",\"showlegend\":true,\"textposition\":\"auto\",\"x\":[\"Clothing and footwear\"],\"xaxis\":\"x\",\"y\":[57.031847039679064],\"yaxis\":\"y\",\"type\":\"bar\"},{\"alignmentgroup\":\"True\",\"hovertemplate\":\"EN_DESC=%{x}<br>month=2022-02<br>eur_budget=%{y}<extra></extra>\",\"legendgroup\":\"Housing, water, electricity, gas and other fuels\",\"marker\":{\"color\":\"#ab63fa\",\"pattern\":{\"shape\":\"\"}},\"name\":\"Housing, water, electricity, gas and other fuels\",\"offsetgroup\":\"Housing, water, electricity, gas and other fuels\",\"orientation\":\"v\",\"showlegend\":true,\"textposition\":\"auto\",\"x\":[\"Housing, water, electricity, gas and other fuels\"],\"xaxis\":\"x\",\"y\":[167.4369206060108],\"yaxis\":\"y\",\"type\":\"bar\"},{\"alignmentgroup\":\"True\",\"hovertemplate\":\"EN_DESC=%{x}<br>month=2022-02<br>eur_budget=%{y}<extra></extra>\",\"legendgroup\":\"Furnishings, household equipment and routine household maintenance\",\"marker\":{\"color\":\"#FFA15A\",\"pattern\":{\"shape\":\"\"}},\"name\":\"Furnishings, household equipment and routine household maintenance\",\"offsetgroup\":\"Furnishings, household equipment and routine household maintenance\",\"orientation\":\"v\",\"showlegend\":true,\"textposition\":\"auto\",\"x\":[\"Furnishings, household equipment and routine household maintenance\"],\"xaxis\":\"x\",\"y\":[71.31768490522639],\"yaxis\":\"y\",\"type\":\"bar\"},{\"alignmentgroup\":\"True\",\"hovertemplate\":\"EN_DESC=%{x}<br>month=2022-02<br>eur_budget=%{y}<extra></extra>\",\"legendgroup\":\"Health\",\"marker\":{\"color\":\"#19d3f3\",\"pattern\":{\"shape\":\"\"}},\"name\":\"Health\",\"offsetgroup\":\"Health\",\"orientation\":\"v\",\"showlegend\":true,\"textposition\":\"auto\",\"x\":[\"Health\"],\"xaxis\":\"x\",\"y\":[63.21429046725431],\"yaxis\":\"y\",\"type\":\"bar\"},{\"alignmentgroup\":\"True\",\"hovertemplate\":\"EN_DESC=%{x}<br>month=2022-02<br>eur_budget=%{y}<extra></extra>\",\"legendgroup\":\"Transport\",\"marker\":{\"color\":\"#FF6692\",\"pattern\":{\"shape\":\"\"}},\"name\":\"Transport\",\"offsetgroup\":\"Transport\",\"orientation\":\"v\",\"showlegend\":true,\"textposition\":\"auto\",\"x\":[\"Transport\"],\"xaxis\":\"x\",\"y\":[144.79980464805053],\"yaxis\":\"y\",\"type\":\"bar\"},{\"alignmentgroup\":\"True\",\"hovertemplate\":\"EN_DESC=%{x}<br>month=2022-02<br>eur_budget=%{y}<extra></extra>\",\"legendgroup\":\"Communications\",\"marker\":{\"color\":\"#B6E880\",\"pattern\":{\"shape\":\"\"}},\"name\":\"Communications\",\"offsetgroup\":\"Communications\",\"orientation\":\"v\",\"showlegend\":true,\"textposition\":\"auto\",\"x\":[\"Communications\"],\"xaxis\":\"x\",\"y\":[47.222520847485164],\"yaxis\":\"y\",\"type\":\"bar\"},{\"alignmentgroup\":\"True\",\"hovertemplate\":\"EN_DESC=%{x}<br>month=2022-02<br>eur_budget=%{y}<extra></extra>\",\"legendgroup\":\"Recreation and culture\",\"marker\":{\"color\":\"#FF97FF\",\"pattern\":{\"shape\":\"\"}},\"name\":\"Recreation and culture\",\"offsetgroup\":\"Recreation and culture\",\"orientation\":\"v\",\"showlegend\":true,\"textposition\":\"auto\",\"x\":[\"Recreation and culture\"],\"xaxis\":\"x\",\"y\":[79.8288212117022],\"yaxis\":\"y\",\"type\":\"bar\"},{\"alignmentgroup\":\"True\",\"hovertemplate\":\"EN_DESC=%{x}<br>month=2022-02<br>eur_budget=%{y}<extra></extra>\",\"legendgroup\":\"Education\",\"marker\":{\"color\":\"#FECB52\",\"pattern\":{\"shape\":\"\"}},\"name\":\"Education\",\"offsetgroup\":\"Education\",\"orientation\":\"v\",\"showlegend\":true,\"textposition\":\"auto\",\"x\":[\"Education\"],\"xaxis\":\"x\",\"y\":[10.67127122704896],\"yaxis\":\"y\",\"type\":\"bar\"},{\"alignmentgroup\":\"True\",\"hovertemplate\":\"EN_DESC=%{x}<br>month=2022-02<br>eur_budget=%{y}<extra></extra>\",\"legendgroup\":\"Restaurants and hotels\",\"marker\":{\"color\":\"#636efa\",\"pattern\":{\"shape\":\"\"}},\"name\":\"Restaurants and hotels\",\"offsetgroup\":\"Restaurants and hotels\",\"orientation\":\"v\",\"showlegend\":true,\"textposition\":\"auto\",\"x\":[\"Restaurants and hotels\"],\"xaxis\":\"x\",\"y\":[56.33232475094302],\"yaxis\":\"y\",\"type\":\"bar\"},{\"alignmentgroup\":\"True\",\"hovertemplate\":\"EN_DESC=%{x}<br>month=2022-02<br>eur_budget=%{y}<extra></extra>\",\"legendgroup\":\"Miscellaneous goods and services\",\"marker\":{\"color\":\"#EF553B\",\"pattern\":{\"shape\":\"\"}},\"name\":\"Miscellaneous goods and services\",\"offsetgroup\":\"Miscellaneous goods and services\",\"orientation\":\"v\",\"showlegend\":true,\"textposition\":\"auto\",\"x\":[\"Miscellaneous goods and services\"],\"xaxis\":\"x\",\"y\":[61.63846225386122],\"yaxis\":\"y\",\"type\":\"bar\"}],\"name\":\"2022-02\"},{\"data\":[{\"alignmentgroup\":\"True\",\"hovertemplate\":\"EN_DESC=%{x}<br>month=2022-03<br>eur_budget=%{y}<extra></extra>\",\"legendgroup\":\"Food and non-alcoholic beverages\",\"marker\":{\"color\":\"#636efa\",\"pattern\":{\"shape\":\"\"}},\"name\":\"Food and non-alcoholic beverages\",\"offsetgroup\":\"Food and non-alcoholic beverages\",\"orientation\":\"v\",\"showlegend\":true,\"textposition\":\"auto\",\"x\":[\"Food and non-alcoholic beverages\"],\"xaxis\":\"x\",\"y\":[241.5813381500206],\"yaxis\":\"y\",\"type\":\"bar\"},{\"alignmentgroup\":\"True\",\"hovertemplate\":\"EN_DESC=%{x}<br>month=2022-03<br>eur_budget=%{y}<extra></extra>\",\"legendgroup\":\"Alcoholic beverages, tobacco and narcotics\",\"marker\":{\"color\":\"#EF553B\",\"pattern\":{\"shape\":\"\"}},\"name\":\"Alcoholic beverages, tobacco and narcotics\",\"offsetgroup\":\"Alcoholic beverages, tobacco and narcotics\",\"orientation\":\"v\",\"showlegend\":true,\"textposition\":\"auto\",\"x\":[\"Alcoholic beverages, tobacco and narcotics\"],\"xaxis\":\"x\",\"y\":[69.09486102230485],\"yaxis\":\"y\",\"type\":\"bar\"},{\"alignmentgroup\":\"True\",\"hovertemplate\":\"EN_DESC=%{x}<br>month=2022-03<br>eur_budget=%{y}<extra></extra>\",\"legendgroup\":\"Clothing and footwear\",\"marker\":{\"color\":\"#00cc96\",\"pattern\":{\"shape\":\"\"}},\"name\":\"Clothing and footwear\",\"offsetgroup\":\"Clothing and footwear\",\"orientation\":\"v\",\"showlegend\":true,\"textposition\":\"auto\",\"x\":[\"Clothing and footwear\"],\"xaxis\":\"x\",\"y\":[58.856866144948796],\"yaxis\":\"y\",\"type\":\"bar\"},{\"alignmentgroup\":\"True\",\"hovertemplate\":\"EN_DESC=%{x}<br>month=2022-03<br>eur_budget=%{y}<extra></extra>\",\"legendgroup\":\"Housing, water, electricity, gas and other fuels\",\"marker\":{\"color\":\"#ab63fa\",\"pattern\":{\"shape\":\"\"}},\"name\":\"Housing, water, electricity, gas and other fuels\",\"offsetgroup\":\"Housing, water, electricity, gas and other fuels\",\"orientation\":\"v\",\"showlegend\":true,\"textposition\":\"auto\",\"x\":[\"Housing, water, electricity, gas and other fuels\"],\"xaxis\":\"x\",\"y\":[173.29721282722116],\"yaxis\":\"y\",\"type\":\"bar\"},{\"alignmentgroup\":\"True\",\"hovertemplate\":\"EN_DESC=%{x}<br>month=2022-03<br>eur_budget=%{y}<extra></extra>\",\"legendgroup\":\"Furnishings, household equipment and routine household maintenance\",\"marker\":{\"color\":\"#FFA15A\",\"pattern\":{\"shape\":\"\"}},\"name\":\"Furnishings, household equipment and routine household maintenance\",\"offsetgroup\":\"Furnishings, household equipment and routine household maintenance\",\"orientation\":\"v\",\"showlegend\":true,\"textposition\":\"auto\",\"x\":[\"Furnishings, household equipment and routine household maintenance\"],\"xaxis\":\"x\",\"y\":[72.24481480899432],\"yaxis\":\"y\",\"type\":\"bar\"},{\"alignmentgroup\":\"True\",\"hovertemplate\":\"EN_DESC=%{x}<br>month=2022-03<br>eur_budget=%{y}<extra></extra>\",\"legendgroup\":\"Health\",\"marker\":{\"color\":\"#19d3f3\",\"pattern\":{\"shape\":\"\"}},\"name\":\"Health\",\"offsetgroup\":\"Health\",\"orientation\":\"v\",\"showlegend\":true,\"textposition\":\"auto\",\"x\":[\"Health\"],\"xaxis\":\"x\",\"y\":[63.530361919590575],\"yaxis\":\"y\",\"type\":\"bar\"},{\"alignmentgroup\":\"True\",\"hovertemplate\":\"EN_DESC=%{x}<br>month=2022-03<br>eur_budget=%{y}<extra></extra>\",\"legendgroup\":\"Transport\",\"marker\":{\"color\":\"#FF6692\",\"pattern\":{\"shape\":\"\"}},\"name\":\"Transport\",\"offsetgroup\":\"Transport\",\"orientation\":\"v\",\"showlegend\":true,\"textposition\":\"auto\",\"x\":[\"Transport\"],\"xaxis\":\"x\",\"y\":[157.39738765243092],\"yaxis\":\"y\",\"type\":\"bar\"},{\"alignmentgroup\":\"True\",\"hovertemplate\":\"EN_DESC=%{x}<br>month=2022-03<br>eur_budget=%{y}<extra></extra>\",\"legendgroup\":\"Communications\",\"marker\":{\"color\":\"#B6E880\",\"pattern\":{\"shape\":\"\"}},\"name\":\"Communications\",\"offsetgroup\":\"Communications\",\"orientation\":\"v\",\"showlegend\":true,\"textposition\":\"auto\",\"x\":[\"Communications\"],\"xaxis\":\"x\",\"y\":[47.69474605596002],\"yaxis\":\"y\",\"type\":\"bar\"},{\"alignmentgroup\":\"True\",\"hovertemplate\":\"EN_DESC=%{x}<br>month=2022-03<br>eur_budget=%{y}<extra></extra>\",\"legendgroup\":\"Recreation and culture\",\"marker\":{\"color\":\"#FF97FF\",\"pattern\":{\"shape\":\"\"}},\"name\":\"Recreation and culture\",\"offsetgroup\":\"Recreation and culture\",\"orientation\":\"v\",\"showlegend\":true,\"textposition\":\"auto\",\"x\":[\"Recreation and culture\"],\"xaxis\":\"x\",\"y\":[80.38762296018412],\"yaxis\":\"y\",\"type\":\"bar\"},{\"alignmentgroup\":\"True\",\"hovertemplate\":\"EN_DESC=%{x}<br>month=2022-03<br>eur_budget=%{y}<extra></extra>\",\"legendgroup\":\"Education\",\"marker\":{\"color\":\"#FECB52\",\"pattern\":{\"shape\":\"\"}},\"name\":\"Education\",\"offsetgroup\":\"Education\",\"orientation\":\"v\",\"showlegend\":true,\"textposition\":\"auto\",\"x\":[\"Education\"],\"xaxis\":\"x\",\"y\":[10.67127122704896],\"yaxis\":\"y\",\"type\":\"bar\"},{\"alignmentgroup\":\"True\",\"hovertemplate\":\"EN_DESC=%{x}<br>month=2022-03<br>eur_budget=%{y}<extra></extra>\",\"legendgroup\":\"Restaurants and hotels\",\"marker\":{\"color\":\"#636efa\",\"pattern\":{\"shape\":\"\"}},\"name\":\"Restaurants and hotels\",\"offsetgroup\":\"Restaurants and hotels\",\"orientation\":\"v\",\"showlegend\":true,\"textposition\":\"auto\",\"x\":[\"Restaurants and hotels\"],\"xaxis\":\"x\",\"y\":[56.839315673701506],\"yaxis\":\"y\",\"type\":\"bar\"},{\"alignmentgroup\":\"True\",\"hovertemplate\":\"EN_DESC=%{x}<br>month=2022-03<br>eur_budget=%{y}<extra></extra>\",\"legendgroup\":\"Miscellaneous goods and services\",\"marker\":{\"color\":\"#EF553B\",\"pattern\":{\"shape\":\"\"}},\"name\":\"Miscellaneous goods and services\",\"offsetgroup\":\"Miscellaneous goods and services\",\"orientation\":\"v\",\"showlegend\":true,\"textposition\":\"auto\",\"x\":[\"Miscellaneous goods and services\"],\"xaxis\":\"x\",\"y\":[62.316485338653685],\"yaxis\":\"y\",\"type\":\"bar\"}],\"name\":\"2022-03\"},{\"data\":[{\"alignmentgroup\":\"True\",\"hovertemplate\":\"EN_DESC=%{x}<br>month=2022-04<br>eur_budget=%{y}<extra></extra>\",\"legendgroup\":\"Food and non-alcoholic beverages\",\"marker\":{\"color\":\"#636efa\",\"pattern\":{\"shape\":\"\"}},\"name\":\"Food and non-alcoholic beverages\",\"offsetgroup\":\"Food and non-alcoholic beverages\",\"orientation\":\"v\",\"showlegend\":true,\"textposition\":\"auto\",\"x\":[\"Food and non-alcoholic beverages\"],\"xaxis\":\"x\",\"y\":[247.13770892747104],\"yaxis\":\"y\",\"type\":\"bar\"},{\"alignmentgroup\":\"True\",\"hovertemplate\":\"EN_DESC=%{x}<br>month=2022-04<br>eur_budget=%{y}<extra></extra>\",\"legendgroup\":\"Alcoholic beverages, tobacco and narcotics\",\"marker\":{\"color\":\"#EF553B\",\"pattern\":{\"shape\":\"\"}},\"name\":\"Alcoholic beverages, tobacco and narcotics\",\"offsetgroup\":\"Alcoholic beverages, tobacco and narcotics\",\"orientation\":\"v\",\"showlegend\":true,\"textposition\":\"auto\",\"x\":[\"Alcoholic beverages, tobacco and narcotics\"],\"xaxis\":\"x\",\"y\":[69.23305074434947],\"yaxis\":\"y\",\"type\":\"bar\"},{\"alignmentgroup\":\"True\",\"hovertemplate\":\"EN_DESC=%{x}<br>month=2022-04<br>eur_budget=%{y}<extra></extra>\",\"legendgroup\":\"Clothing and footwear\",\"marker\":{\"color\":\"#00cc96\",\"pattern\":{\"shape\":\"\"}},\"name\":\"Clothing and footwear\",\"offsetgroup\":\"Clothing and footwear\",\"orientation\":\"v\",\"showlegend\":true,\"textposition\":\"auto\",\"x\":[\"Clothing and footwear\"],\"xaxis\":\"x\",\"y\":[60.034003467847775],\"yaxis\":\"y\",\"type\":\"bar\"},{\"alignmentgroup\":\"True\",\"hovertemplate\":\"EN_DESC=%{x}<br>month=2022-04<br>eur_budget=%{y}<extra></extra>\",\"legendgroup\":\"Housing, water, electricity, gas and other fuels\",\"marker\":{\"color\":\"#ab63fa\",\"pattern\":{\"shape\":\"\"}},\"name\":\"Housing, water, electricity, gas and other fuels\",\"offsetgroup\":\"Housing, water, electricity, gas and other fuels\",\"orientation\":\"v\",\"showlegend\":true,\"textposition\":\"auto\",\"x\":[\"Housing, water, electricity, gas and other fuels\"],\"xaxis\":\"x\",\"y\":[208.82314145680152],\"yaxis\":\"y\",\"type\":\"bar\"},{\"alignmentgroup\":\"True\",\"hovertemplate\":\"EN_DESC=%{x}<br>month=2022-04<br>eur_budget=%{y}<extra></extra>\",\"legendgroup\":\"Furnishings, household equipment and routine household maintenance\",\"marker\":{\"color\":\"#FFA15A\",\"pattern\":{\"shape\":\"\"}},\"name\":\"Furnishings, household equipment and routine household maintenance\",\"offsetgroup\":\"Furnishings, household equipment and routine household maintenance\",\"orientation\":\"v\",\"showlegend\":true,\"textposition\":\"auto\",\"x\":[\"Furnishings, household equipment and routine household maintenance\"],\"xaxis\":\"x\",\"y\":[73.32848703112923],\"yaxis\":\"y\",\"type\":\"bar\"},{\"alignmentgroup\":\"True\",\"hovertemplate\":\"EN_DESC=%{x}<br>month=2022-04<br>eur_budget=%{y}<extra></extra>\",\"legendgroup\":\"Health\",\"marker\":{\"color\":\"#19d3f3\",\"pattern\":{\"shape\":\"\"}},\"name\":\"Health\",\"offsetgroup\":\"Health\",\"orientation\":\"v\",\"showlegend\":true,\"textposition\":\"auto\",\"x\":[\"Health\"],\"xaxis\":\"x\",\"y\":[63.657422643429754],\"yaxis\":\"y\",\"type\":\"bar\"},{\"alignmentgroup\":\"True\",\"hovertemplate\":\"EN_DESC=%{x}<br>month=2022-04<br>eur_budget=%{y}<extra></extra>\",\"legendgroup\":\"Transport\",\"marker\":{\"color\":\"#FF6692\",\"pattern\":{\"shape\":\"\"}},\"name\":\"Transport\",\"offsetgroup\":\"Transport\",\"orientation\":\"v\",\"showlegend\":true,\"textposition\":\"auto\",\"x\":[\"Transport\"],\"xaxis\":\"x\",\"y\":[156.13820855121148],\"yaxis\":\"y\",\"type\":\"bar\"},{\"alignmentgroup\":\"True\",\"hovertemplate\":\"EN_DESC=%{x}<br>month=2022-04<br>eur_budget=%{y}<extra></extra>\",\"legendgroup\":\"Communications\",\"marker\":{\"color\":\"#B6E880\",\"pattern\":{\"shape\":\"\"}},\"name\":\"Communications\",\"offsetgroup\":\"Communications\",\"orientation\":\"v\",\"showlegend\":true,\"textposition\":\"auto\",\"x\":[\"Communications\"],\"xaxis\":\"x\",\"y\":[47.5993565638481],\"yaxis\":\"y\",\"type\":\"bar\"},{\"alignmentgroup\":\"True\",\"hovertemplate\":\"EN_DESC=%{x}<br>month=2022-04<br>eur_budget=%{y}<extra></extra>\",\"legendgroup\":\"Recreation and culture\",\"marker\":{\"color\":\"#FF97FF\",\"pattern\":{\"shape\":\"\"}},\"name\":\"Recreation and culture\",\"offsetgroup\":\"Recreation and culture\",\"orientation\":\"v\",\"showlegend\":true,\"textposition\":\"auto\",\"x\":[\"Recreation and culture\"],\"xaxis\":\"x\",\"y\":[82.07576304234797],\"yaxis\":\"y\",\"type\":\"bar\"},{\"alignmentgroup\":\"True\",\"hovertemplate\":\"EN_DESC=%{x}<br>month=2022-04<br>eur_budget=%{y}<extra></extra>\",\"legendgroup\":\"Education\",\"marker\":{\"color\":\"#FECB52\",\"pattern\":{\"shape\":\"\"}},\"name\":\"Education\",\"offsetgroup\":\"Education\",\"orientation\":\"v\",\"showlegend\":true,\"textposition\":\"auto\",\"x\":[\"Education\"],\"xaxis\":\"x\",\"y\":[10.681942498276008],\"yaxis\":\"y\",\"type\":\"bar\"},{\"alignmentgroup\":\"True\",\"hovertemplate\":\"EN_DESC=%{x}<br>month=2022-04<br>eur_budget=%{y}<extra></extra>\",\"legendgroup\":\"Restaurants and hotels\",\"marker\":{\"color\":\"#636efa\",\"pattern\":{\"shape\":\"\"}},\"name\":\"Restaurants and hotels\",\"offsetgroup\":\"Restaurants and hotels\",\"orientation\":\"v\",\"showlegend\":true,\"textposition\":\"auto\",\"x\":[\"Restaurants and hotels\"],\"xaxis\":\"x\",\"y\":[59.22656693199697],\"yaxis\":\"y\",\"type\":\"bar\"},{\"alignmentgroup\":\"True\",\"hovertemplate\":\"EN_DESC=%{x}<br>month=2022-04<br>eur_budget=%{y}<extra></extra>\",\"legendgroup\":\"Miscellaneous goods and services\",\"marker\":{\"color\":\"#EF553B\",\"pattern\":{\"shape\":\"\"}},\"name\":\"Miscellaneous goods and services\",\"offsetgroup\":\"Miscellaneous goods and services\",\"orientation\":\"v\",\"showlegend\":true,\"textposition\":\"auto\",\"x\":[\"Miscellaneous goods and services\"],\"xaxis\":\"x\",\"y\":[63.06428316271753],\"yaxis\":\"y\",\"type\":\"bar\"}],\"name\":\"2022-04\"}]);\n",
       "                        }).then(function(){\n",
       "                            \n",
       "var gd = document.getElementById('c7a965e7-653a-4bb6-ac39-c52681a62f30');\n",
       "var x = new MutationObserver(function (mutations, observer) {{\n",
       "        var display = window.getComputedStyle(gd).display;\n",
       "        if (!display || display === 'none') {{\n",
       "            console.log([gd, 'removed!']);\n",
       "            Plotly.purge(gd);\n",
       "            observer.disconnect();\n",
       "        }}\n",
       "}});\n",
       "\n",
       "// Listen for the removal of the full notebook cells\n",
       "var notebookContainer = gd.closest('#notebook-container');\n",
       "if (notebookContainer) {{\n",
       "    x.observe(notebookContainer, {childList: true});\n",
       "}}\n",
       "\n",
       "// Listen for the clearing of the current output cell\n",
       "var outputEl = gd.closest('.output');\n",
       "if (outputEl) {{\n",
       "    x.observe(outputEl, {childList: true});\n",
       "}}\n",
       "\n",
       "                        })                };                });            </script>        </div>"
      ]
     },
     "metadata": {},
     "output_type": "display_data"
    }
   ],
   "source": [
    "fig = px.bar(cost_evolution_long, x=\"EN_DESC\", y=\"eur_budget\", color=\"EN_DESC\",\n",
    "  animation_frame=\"month\", range_y=[0,250])\n",
    "fig.update_xaxes(visible=False, showticklabels=False)\n",
    "fig.update_layout(\n",
    "    xaxis_title=\"Spending category\",\n",
    "    yaxis_title=\"Budget\",\n",
    "    legend_title=\"Spending category\",\n",
    ")\n",
    "fig.show()"
   ]
  },
  {
   "cell_type": "code",
   "execution_count": 95,
   "id": "3cabc054",
   "metadata": {},
   "outputs": [
    {
     "data": {
      "text/html": [
       "<div>\n",
       "<style scoped>\n",
       "    .dataframe tbody tr th:only-of-type {\n",
       "        vertical-align: middle;\n",
       "    }\n",
       "\n",
       "    .dataframe tbody tr th {\n",
       "        vertical-align: top;\n",
       "    }\n",
       "\n",
       "    .dataframe thead th {\n",
       "        text-align: right;\n",
       "    }\n",
       "</style>\n",
       "<table border=\"1\" class=\"dataframe\">\n",
       "  <thead>\n",
       "    <tr style=\"text-align: right;\">\n",
       "      <th></th>\n",
       "      <th>EN_DESC</th>\n",
       "      <th>month</th>\n",
       "      <th>perc_increase</th>\n",
       "    </tr>\n",
       "  </thead>\n",
       "  <tbody>\n",
       "    <tr>\n",
       "      <th>0</th>\n",
       "      <td>Food and non-alcoholic beverages</td>\n",
       "      <td>2021-08</td>\n",
       "      <td>0.7</td>\n",
       "    </tr>\n",
       "    <tr>\n",
       "      <th>1</th>\n",
       "      <td>Alcoholic beverages, tobacco and narcotics</td>\n",
       "      <td>2021-08</td>\n",
       "      <td>0.6</td>\n",
       "    </tr>\n",
       "    <tr>\n",
       "      <th>2</th>\n",
       "      <td>Clothing and footwear</td>\n",
       "      <td>2021-08</td>\n",
       "      <td>0.9</td>\n",
       "    </tr>\n",
       "    <tr>\n",
       "      <th>3</th>\n",
       "      <td>Housing, water, electricity, gas and other fuels</td>\n",
       "      <td>2021-08</td>\n",
       "      <td>0.9</td>\n",
       "    </tr>\n",
       "    <tr>\n",
       "      <th>4</th>\n",
       "      <td>Furnishings, household equipment and routine h...</td>\n",
       "      <td>2021-08</td>\n",
       "      <td>1.3</td>\n",
       "    </tr>\n",
       "    <tr>\n",
       "      <th>...</th>\n",
       "      <td>...</td>\n",
       "      <td>...</td>\n",
       "      <td>...</td>\n",
       "    </tr>\n",
       "    <tr>\n",
       "      <th>103</th>\n",
       "      <td>Communications</td>\n",
       "      <td>2022-04</td>\n",
       "      <td>-0.2</td>\n",
       "    </tr>\n",
       "    <tr>\n",
       "      <th>104</th>\n",
       "      <td>Recreation and culture</td>\n",
       "      <td>2022-04</td>\n",
       "      <td>2.1</td>\n",
       "    </tr>\n",
       "    <tr>\n",
       "      <th>105</th>\n",
       "      <td>Education</td>\n",
       "      <td>2022-04</td>\n",
       "      <td>0.1</td>\n",
       "    </tr>\n",
       "    <tr>\n",
       "      <th>106</th>\n",
       "      <td>Restaurants and hotels</td>\n",
       "      <td>2022-04</td>\n",
       "      <td>4.2</td>\n",
       "    </tr>\n",
       "    <tr>\n",
       "      <th>107</th>\n",
       "      <td>Miscellaneous goods and services</td>\n",
       "      <td>2022-04</td>\n",
       "      <td>1.2</td>\n",
       "    </tr>\n",
       "  </tbody>\n",
       "</table>\n",
       "<p>108 rows × 3 columns</p>\n",
       "</div>"
      ],
      "text/plain": [
       "                                               EN_DESC    month  perc_increase\n",
       "0                     Food and non-alcoholic beverages  2021-08            0.7\n",
       "1           Alcoholic beverages, tobacco and narcotics  2021-08            0.6\n",
       "2                                Clothing and footwear  2021-08            0.9\n",
       "3     Housing, water, electricity, gas and other fuels  2021-08            0.9\n",
       "4    Furnishings, household equipment and routine h...  2021-08            1.3\n",
       "..                                                 ...      ...            ...\n",
       "103                                     Communications  2022-04           -0.2\n",
       "104                             Recreation and culture  2022-04            2.1\n",
       "105                                          Education  2022-04            0.1\n",
       "106                             Restaurants and hotels  2022-04            4.2\n",
       "107                   Miscellaneous goods and services  2022-04            1.2\n",
       "\n",
       "[108 rows x 3 columns]"
      ]
     },
     "execution_count": 95,
     "metadata": {},
     "output_type": "execute_result"
    }
   ],
   "source": [
    "monthly_long = monthly_bars.drop([\"coicop\", \"CODE_DIFF\", \"LEVEL\", \"2022-05\"], axis=1)\n",
    "monthly_long = monthly_long.melt(id_vars=[\"EN_DESC\"], \n",
    "        var_name=\"month\", \n",
    "        value_name=\"perc_increase\")\n",
    "monthly_long"
   ]
  },
  {
   "cell_type": "code",
   "execution_count": 96,
   "id": "7713f856",
   "metadata": {},
   "outputs": [
    {
     "data": {
      "application/vnd.plotly.v1+json": {
       "config": {
        "plotlyServerURL": "https://plotly.com"
       },
       "data": [
        {
         "alignmentgroup": "True",
         "hovertemplate": "EN_DESC=%{x}<br>month=2021-08<br>perc_increase=%{y}<extra></extra>",
         "legendgroup": "Food and non-alcoholic beverages",
         "marker": {
          "color": "#636efa",
          "pattern": {
           "shape": ""
          }
         },
         "name": "Food and non-alcoholic beverages",
         "offsetgroup": "Food and non-alcoholic beverages",
         "orientation": "v",
         "showlegend": true,
         "textposition": "auto",
         "type": "bar",
         "x": [
          "Food and non-alcoholic beverages"
         ],
         "xaxis": "x",
         "y": [
          0.7
         ],
         "yaxis": "y"
        },
        {
         "alignmentgroup": "True",
         "hovertemplate": "EN_DESC=%{x}<br>month=2021-08<br>perc_increase=%{y}<extra></extra>",
         "legendgroup": "Alcoholic beverages, tobacco and narcotics",
         "marker": {
          "color": "#EF553B",
          "pattern": {
           "shape": ""
          }
         },
         "name": "Alcoholic beverages, tobacco and narcotics",
         "offsetgroup": "Alcoholic beverages, tobacco and narcotics",
         "orientation": "v",
         "showlegend": true,
         "textposition": "auto",
         "type": "bar",
         "x": [
          "Alcoholic beverages, tobacco and narcotics"
         ],
         "xaxis": "x",
         "y": [
          0.6
         ],
         "yaxis": "y"
        },
        {
         "alignmentgroup": "True",
         "hovertemplate": "EN_DESC=%{x}<br>month=2021-08<br>perc_increase=%{y}<extra></extra>",
         "legendgroup": "Clothing and footwear",
         "marker": {
          "color": "#00cc96",
          "pattern": {
           "shape": ""
          }
         },
         "name": "Clothing and footwear",
         "offsetgroup": "Clothing and footwear",
         "orientation": "v",
         "showlegend": true,
         "textposition": "auto",
         "type": "bar",
         "x": [
          "Clothing and footwear"
         ],
         "xaxis": "x",
         "y": [
          0.9
         ],
         "yaxis": "y"
        },
        {
         "alignmentgroup": "True",
         "hovertemplate": "EN_DESC=%{x}<br>month=2021-08<br>perc_increase=%{y}<extra></extra>",
         "legendgroup": "Housing, water, electricity, gas and other fuels",
         "marker": {
          "color": "#ab63fa",
          "pattern": {
           "shape": ""
          }
         },
         "name": "Housing, water, electricity, gas and other fuels",
         "offsetgroup": "Housing, water, electricity, gas and other fuels",
         "orientation": "v",
         "showlegend": true,
         "textposition": "auto",
         "type": "bar",
         "x": [
          "Housing, water, electricity, gas and other fuels"
         ],
         "xaxis": "x",
         "y": [
          0.9
         ],
         "yaxis": "y"
        },
        {
         "alignmentgroup": "True",
         "hovertemplate": "EN_DESC=%{x}<br>month=2021-08<br>perc_increase=%{y}<extra></extra>",
         "legendgroup": "Furnishings, household equipment and routine household maintenance",
         "marker": {
          "color": "#FFA15A",
          "pattern": {
           "shape": ""
          }
         },
         "name": "Furnishings, household equipment and routine household maintenance",
         "offsetgroup": "Furnishings, household equipment and routine household maintenance",
         "orientation": "v",
         "showlegend": true,
         "textposition": "auto",
         "type": "bar",
         "x": [
          "Furnishings, household equipment and routine household maintenance"
         ],
         "xaxis": "x",
         "y": [
          1.3
         ],
         "yaxis": "y"
        },
        {
         "alignmentgroup": "True",
         "hovertemplate": "EN_DESC=%{x}<br>month=2021-08<br>perc_increase=%{y}<extra></extra>",
         "legendgroup": "Health",
         "marker": {
          "color": "#19d3f3",
          "pattern": {
           "shape": ""
          }
         },
         "name": "Health",
         "offsetgroup": "Health",
         "orientation": "v",
         "showlegend": true,
         "textposition": "auto",
         "type": "bar",
         "x": [
          "Health"
         ],
         "xaxis": "x",
         "y": [
          0.3
         ],
         "yaxis": "y"
        },
        {
         "alignmentgroup": "True",
         "hovertemplate": "EN_DESC=%{x}<br>month=2021-08<br>perc_increase=%{y}<extra></extra>",
         "legendgroup": "Transport",
         "marker": {
          "color": "#FF6692",
          "pattern": {
           "shape": ""
          }
         },
         "name": "Transport",
         "offsetgroup": "Transport",
         "orientation": "v",
         "showlegend": true,
         "textposition": "auto",
         "type": "bar",
         "x": [
          "Transport"
         ],
         "xaxis": "x",
         "y": [
          0.6
         ],
         "yaxis": "y"
        },
        {
         "alignmentgroup": "True",
         "hovertemplate": "EN_DESC=%{x}<br>month=2021-08<br>perc_increase=%{y}<extra></extra>",
         "legendgroup": "Communications",
         "marker": {
          "color": "#B6E880",
          "pattern": {
           "shape": ""
          }
         },
         "name": "Communications",
         "offsetgroup": "Communications",
         "orientation": "v",
         "showlegend": true,
         "textposition": "auto",
         "type": "bar",
         "x": [
          "Communications"
         ],
         "xaxis": "x",
         "y": [
          -0.1
         ],
         "yaxis": "y"
        },
        {
         "alignmentgroup": "True",
         "hovertemplate": "EN_DESC=%{x}<br>month=2021-08<br>perc_increase=%{y}<extra></extra>",
         "legendgroup": "Recreation and culture",
         "marker": {
          "color": "#FF97FF",
          "pattern": {
           "shape": ""
          }
         },
         "name": "Recreation and culture",
         "offsetgroup": "Recreation and culture",
         "orientation": "v",
         "showlegend": true,
         "textposition": "auto",
         "type": "bar",
         "x": [
          "Recreation and culture"
         ],
         "xaxis": "x",
         "y": [
          1
         ],
         "yaxis": "y"
        },
        {
         "alignmentgroup": "True",
         "hovertemplate": "EN_DESC=%{x}<br>month=2021-08<br>perc_increase=%{y}<extra></extra>",
         "legendgroup": "Education",
         "marker": {
          "color": "#FECB52",
          "pattern": {
           "shape": ""
          }
         },
         "name": "Education",
         "offsetgroup": "Education",
         "orientation": "v",
         "showlegend": true,
         "textposition": "auto",
         "type": "bar",
         "x": [
          "Education"
         ],
         "xaxis": "x",
         "y": [
          0.1
         ],
         "yaxis": "y"
        },
        {
         "alignmentgroup": "True",
         "hovertemplate": "EN_DESC=%{x}<br>month=2021-08<br>perc_increase=%{y}<extra></extra>",
         "legendgroup": "Restaurants and hotels",
         "marker": {
          "color": "#636efa",
          "pattern": {
           "shape": ""
          }
         },
         "name": "Restaurants and hotels",
         "offsetgroup": "Restaurants and hotels",
         "orientation": "v",
         "showlegend": true,
         "textposition": "auto",
         "type": "bar",
         "x": [
          "Restaurants and hotels"
         ],
         "xaxis": "x",
         "y": [
          -0.2
         ],
         "yaxis": "y"
        },
        {
         "alignmentgroup": "True",
         "hovertemplate": "EN_DESC=%{x}<br>month=2021-08<br>perc_increase=%{y}<extra></extra>",
         "legendgroup": "Miscellaneous goods and services",
         "marker": {
          "color": "#EF553B",
          "pattern": {
           "shape": ""
          }
         },
         "name": "Miscellaneous goods and services",
         "offsetgroup": "Miscellaneous goods and services",
         "orientation": "v",
         "showlegend": true,
         "textposition": "auto",
         "type": "bar",
         "x": [
          "Miscellaneous goods and services"
         ],
         "xaxis": "x",
         "y": [
          1.3
         ],
         "yaxis": "y"
        }
       ],
       "frames": [
        {
         "data": [
          {
           "alignmentgroup": "True",
           "hovertemplate": "EN_DESC=%{x}<br>month=2021-08<br>perc_increase=%{y}<extra></extra>",
           "legendgroup": "Food and non-alcoholic beverages",
           "marker": {
            "color": "#636efa",
            "pattern": {
             "shape": ""
            }
           },
           "name": "Food and non-alcoholic beverages",
           "offsetgroup": "Food and non-alcoholic beverages",
           "orientation": "v",
           "showlegend": true,
           "textposition": "auto",
           "type": "bar",
           "x": [
            "Food and non-alcoholic beverages"
           ],
           "xaxis": "x",
           "y": [
            0.7
           ],
           "yaxis": "y"
          },
          {
           "alignmentgroup": "True",
           "hovertemplate": "EN_DESC=%{x}<br>month=2021-08<br>perc_increase=%{y}<extra></extra>",
           "legendgroup": "Alcoholic beverages, tobacco and narcotics",
           "marker": {
            "color": "#EF553B",
            "pattern": {
             "shape": ""
            }
           },
           "name": "Alcoholic beverages, tobacco and narcotics",
           "offsetgroup": "Alcoholic beverages, tobacco and narcotics",
           "orientation": "v",
           "showlegend": true,
           "textposition": "auto",
           "type": "bar",
           "x": [
            "Alcoholic beverages, tobacco and narcotics"
           ],
           "xaxis": "x",
           "y": [
            0.6
           ],
           "yaxis": "y"
          },
          {
           "alignmentgroup": "True",
           "hovertemplate": "EN_DESC=%{x}<br>month=2021-08<br>perc_increase=%{y}<extra></extra>",
           "legendgroup": "Clothing and footwear",
           "marker": {
            "color": "#00cc96",
            "pattern": {
             "shape": ""
            }
           },
           "name": "Clothing and footwear",
           "offsetgroup": "Clothing and footwear",
           "orientation": "v",
           "showlegend": true,
           "textposition": "auto",
           "type": "bar",
           "x": [
            "Clothing and footwear"
           ],
           "xaxis": "x",
           "y": [
            0.9
           ],
           "yaxis": "y"
          },
          {
           "alignmentgroup": "True",
           "hovertemplate": "EN_DESC=%{x}<br>month=2021-08<br>perc_increase=%{y}<extra></extra>",
           "legendgroup": "Housing, water, electricity, gas and other fuels",
           "marker": {
            "color": "#ab63fa",
            "pattern": {
             "shape": ""
            }
           },
           "name": "Housing, water, electricity, gas and other fuels",
           "offsetgroup": "Housing, water, electricity, gas and other fuels",
           "orientation": "v",
           "showlegend": true,
           "textposition": "auto",
           "type": "bar",
           "x": [
            "Housing, water, electricity, gas and other fuels"
           ],
           "xaxis": "x",
           "y": [
            0.9
           ],
           "yaxis": "y"
          },
          {
           "alignmentgroup": "True",
           "hovertemplate": "EN_DESC=%{x}<br>month=2021-08<br>perc_increase=%{y}<extra></extra>",
           "legendgroup": "Furnishings, household equipment and routine household maintenance",
           "marker": {
            "color": "#FFA15A",
            "pattern": {
             "shape": ""
            }
           },
           "name": "Furnishings, household equipment and routine household maintenance",
           "offsetgroup": "Furnishings, household equipment and routine household maintenance",
           "orientation": "v",
           "showlegend": true,
           "textposition": "auto",
           "type": "bar",
           "x": [
            "Furnishings, household equipment and routine household maintenance"
           ],
           "xaxis": "x",
           "y": [
            1.3
           ],
           "yaxis": "y"
          },
          {
           "alignmentgroup": "True",
           "hovertemplate": "EN_DESC=%{x}<br>month=2021-08<br>perc_increase=%{y}<extra></extra>",
           "legendgroup": "Health",
           "marker": {
            "color": "#19d3f3",
            "pattern": {
             "shape": ""
            }
           },
           "name": "Health",
           "offsetgroup": "Health",
           "orientation": "v",
           "showlegend": true,
           "textposition": "auto",
           "type": "bar",
           "x": [
            "Health"
           ],
           "xaxis": "x",
           "y": [
            0.3
           ],
           "yaxis": "y"
          },
          {
           "alignmentgroup": "True",
           "hovertemplate": "EN_DESC=%{x}<br>month=2021-08<br>perc_increase=%{y}<extra></extra>",
           "legendgroup": "Transport",
           "marker": {
            "color": "#FF6692",
            "pattern": {
             "shape": ""
            }
           },
           "name": "Transport",
           "offsetgroup": "Transport",
           "orientation": "v",
           "showlegend": true,
           "textposition": "auto",
           "type": "bar",
           "x": [
            "Transport"
           ],
           "xaxis": "x",
           "y": [
            0.6
           ],
           "yaxis": "y"
          },
          {
           "alignmentgroup": "True",
           "hovertemplate": "EN_DESC=%{x}<br>month=2021-08<br>perc_increase=%{y}<extra></extra>",
           "legendgroup": "Communications",
           "marker": {
            "color": "#B6E880",
            "pattern": {
             "shape": ""
            }
           },
           "name": "Communications",
           "offsetgroup": "Communications",
           "orientation": "v",
           "showlegend": true,
           "textposition": "auto",
           "type": "bar",
           "x": [
            "Communications"
           ],
           "xaxis": "x",
           "y": [
            -0.1
           ],
           "yaxis": "y"
          },
          {
           "alignmentgroup": "True",
           "hovertemplate": "EN_DESC=%{x}<br>month=2021-08<br>perc_increase=%{y}<extra></extra>",
           "legendgroup": "Recreation and culture",
           "marker": {
            "color": "#FF97FF",
            "pattern": {
             "shape": ""
            }
           },
           "name": "Recreation and culture",
           "offsetgroup": "Recreation and culture",
           "orientation": "v",
           "showlegend": true,
           "textposition": "auto",
           "type": "bar",
           "x": [
            "Recreation and culture"
           ],
           "xaxis": "x",
           "y": [
            1
           ],
           "yaxis": "y"
          },
          {
           "alignmentgroup": "True",
           "hovertemplate": "EN_DESC=%{x}<br>month=2021-08<br>perc_increase=%{y}<extra></extra>",
           "legendgroup": "Education",
           "marker": {
            "color": "#FECB52",
            "pattern": {
             "shape": ""
            }
           },
           "name": "Education",
           "offsetgroup": "Education",
           "orientation": "v",
           "showlegend": true,
           "textposition": "auto",
           "type": "bar",
           "x": [
            "Education"
           ],
           "xaxis": "x",
           "y": [
            0.1
           ],
           "yaxis": "y"
          },
          {
           "alignmentgroup": "True",
           "hovertemplate": "EN_DESC=%{x}<br>month=2021-08<br>perc_increase=%{y}<extra></extra>",
           "legendgroup": "Restaurants and hotels",
           "marker": {
            "color": "#636efa",
            "pattern": {
             "shape": ""
            }
           },
           "name": "Restaurants and hotels",
           "offsetgroup": "Restaurants and hotels",
           "orientation": "v",
           "showlegend": true,
           "textposition": "auto",
           "type": "bar",
           "x": [
            "Restaurants and hotels"
           ],
           "xaxis": "x",
           "y": [
            -0.2
           ],
           "yaxis": "y"
          },
          {
           "alignmentgroup": "True",
           "hovertemplate": "EN_DESC=%{x}<br>month=2021-08<br>perc_increase=%{y}<extra></extra>",
           "legendgroup": "Miscellaneous goods and services",
           "marker": {
            "color": "#EF553B",
            "pattern": {
             "shape": ""
            }
           },
           "name": "Miscellaneous goods and services",
           "offsetgroup": "Miscellaneous goods and services",
           "orientation": "v",
           "showlegend": true,
           "textposition": "auto",
           "type": "bar",
           "x": [
            "Miscellaneous goods and services"
           ],
           "xaxis": "x",
           "y": [
            1.3
           ],
           "yaxis": "y"
          }
         ],
         "name": "2021-08"
        },
        {
         "data": [
          {
           "alignmentgroup": "True",
           "hovertemplate": "EN_DESC=%{x}<br>month=2021-09<br>perc_increase=%{y}<extra></extra>",
           "legendgroup": "Food and non-alcoholic beverages",
           "marker": {
            "color": "#636efa",
            "pattern": {
             "shape": ""
            }
           },
           "name": "Food and non-alcoholic beverages",
           "offsetgroup": "Food and non-alcoholic beverages",
           "orientation": "v",
           "showlegend": true,
           "textposition": "auto",
           "type": "bar",
           "x": [
            "Food and non-alcoholic beverages"
           ],
           "xaxis": "x",
           "y": [
            -0.5
           ],
           "yaxis": "y"
          },
          {
           "alignmentgroup": "True",
           "hovertemplate": "EN_DESC=%{x}<br>month=2021-09<br>perc_increase=%{y}<extra></extra>",
           "legendgroup": "Alcoholic beverages, tobacco and narcotics",
           "marker": {
            "color": "#EF553B",
            "pattern": {
             "shape": ""
            }
           },
           "name": "Alcoholic beverages, tobacco and narcotics",
           "offsetgroup": "Alcoholic beverages, tobacco and narcotics",
           "orientation": "v",
           "showlegend": true,
           "textposition": "auto",
           "type": "bar",
           "x": [
            "Alcoholic beverages, tobacco and narcotics"
           ],
           "xaxis": "x",
           "y": [
            0.2
           ],
           "yaxis": "y"
          },
          {
           "alignmentgroup": "True",
           "hovertemplate": "EN_DESC=%{x}<br>month=2021-09<br>perc_increase=%{y}<extra></extra>",
           "legendgroup": "Clothing and footwear",
           "marker": {
            "color": "#00cc96",
            "pattern": {
             "shape": ""
            }
           },
           "name": "Clothing and footwear",
           "offsetgroup": "Clothing and footwear",
           "orientation": "v",
           "showlegend": true,
           "textposition": "auto",
           "type": "bar",
           "x": [
            "Clothing and footwear"
           ],
           "xaxis": "x",
           "y": [
            5.2
           ],
           "yaxis": "y"
          },
          {
           "alignmentgroup": "True",
           "hovertemplate": "EN_DESC=%{x}<br>month=2021-09<br>perc_increase=%{y}<extra></extra>",
           "legendgroup": "Housing, water, electricity, gas and other fuels",
           "marker": {
            "color": "#ab63fa",
            "pattern": {
             "shape": ""
            }
           },
           "name": "Housing, water, electricity, gas and other fuels",
           "offsetgroup": "Housing, water, electricity, gas and other fuels",
           "orientation": "v",
           "showlegend": true,
           "textposition": "auto",
           "type": "bar",
           "x": [
            "Housing, water, electricity, gas and other fuels"
           ],
           "xaxis": "x",
           "y": [
            7.5
           ],
           "yaxis": "y"
          },
          {
           "alignmentgroup": "True",
           "hovertemplate": "EN_DESC=%{x}<br>month=2021-09<br>perc_increase=%{y}<extra></extra>",
           "legendgroup": "Furnishings, household equipment and routine household maintenance",
           "marker": {
            "color": "#FFA15A",
            "pattern": {
             "shape": ""
            }
           },
           "name": "Furnishings, household equipment and routine household maintenance",
           "offsetgroup": "Furnishings, household equipment and routine household maintenance",
           "orientation": "v",
           "showlegend": true,
           "textposition": "auto",
           "type": "bar",
           "x": [
            "Furnishings, household equipment and routine household maintenance"
           ],
           "xaxis": "x",
           "y": [
            0.9
           ],
           "yaxis": "y"
          },
          {
           "alignmentgroup": "True",
           "hovertemplate": "EN_DESC=%{x}<br>month=2021-09<br>perc_increase=%{y}<extra></extra>",
           "legendgroup": "Health",
           "marker": {
            "color": "#19d3f3",
            "pattern": {
             "shape": ""
            }
           },
           "name": "Health",
           "offsetgroup": "Health",
           "orientation": "v",
           "showlegend": true,
           "textposition": "auto",
           "type": "bar",
           "x": [
            "Health"
           ],
           "xaxis": "x",
           "y": [
            0
           ],
           "yaxis": "y"
          },
          {
           "alignmentgroup": "True",
           "hovertemplate": "EN_DESC=%{x}<br>month=2021-09<br>perc_increase=%{y}<extra></extra>",
           "legendgroup": "Transport",
           "marker": {
            "color": "#FF6692",
            "pattern": {
             "shape": ""
            }
           },
           "name": "Transport",
           "offsetgroup": "Transport",
           "orientation": "v",
           "showlegend": true,
           "textposition": "auto",
           "type": "bar",
           "x": [
            "Transport"
           ],
           "xaxis": "x",
           "y": [
            0.1
           ],
           "yaxis": "y"
          },
          {
           "alignmentgroup": "True",
           "hovertemplate": "EN_DESC=%{x}<br>month=2021-09<br>perc_increase=%{y}<extra></extra>",
           "legendgroup": "Communications",
           "marker": {
            "color": "#B6E880",
            "pattern": {
             "shape": ""
            }
           },
           "name": "Communications",
           "offsetgroup": "Communications",
           "orientation": "v",
           "showlegend": true,
           "textposition": "auto",
           "type": "bar",
           "x": [
            "Communications"
           ],
           "xaxis": "x",
           "y": [
            -0.6
           ],
           "yaxis": "y"
          },
          {
           "alignmentgroup": "True",
           "hovertemplate": "EN_DESC=%{x}<br>month=2021-09<br>perc_increase=%{y}<extra></extra>",
           "legendgroup": "Recreation and culture",
           "marker": {
            "color": "#FF97FF",
            "pattern": {
             "shape": ""
            }
           },
           "name": "Recreation and culture",
           "offsetgroup": "Recreation and culture",
           "orientation": "v",
           "showlegend": true,
           "textposition": "auto",
           "type": "bar",
           "x": [
            "Recreation and culture"
           ],
           "xaxis": "x",
           "y": [
            0.3
           ],
           "yaxis": "y"
          },
          {
           "alignmentgroup": "True",
           "hovertemplate": "EN_DESC=%{x}<br>month=2021-09<br>perc_increase=%{y}<extra></extra>",
           "legendgroup": "Education",
           "marker": {
            "color": "#FECB52",
            "pattern": {
             "shape": ""
            }
           },
           "name": "Education",
           "offsetgroup": "Education",
           "orientation": "v",
           "showlegend": true,
           "textposition": "auto",
           "type": "bar",
           "x": [
            "Education"
           ],
           "xaxis": "x",
           "y": [
            1.2
           ],
           "yaxis": "y"
          },
          {
           "alignmentgroup": "True",
           "hovertemplate": "EN_DESC=%{x}<br>month=2021-09<br>perc_increase=%{y}<extra></extra>",
           "legendgroup": "Restaurants and hotels",
           "marker": {
            "color": "#636efa",
            "pattern": {
             "shape": ""
            }
           },
           "name": "Restaurants and hotels",
           "offsetgroup": "Restaurants and hotels",
           "orientation": "v",
           "showlegend": true,
           "textposition": "auto",
           "type": "bar",
           "x": [
            "Restaurants and hotels"
           ],
           "xaxis": "x",
           "y": [
            -3.6
           ],
           "yaxis": "y"
          },
          {
           "alignmentgroup": "True",
           "hovertemplate": "EN_DESC=%{x}<br>month=2021-09<br>perc_increase=%{y}<extra></extra>",
           "legendgroup": "Miscellaneous goods and services",
           "marker": {
            "color": "#EF553B",
            "pattern": {
             "shape": ""
            }
           },
           "name": "Miscellaneous goods and services",
           "offsetgroup": "Miscellaneous goods and services",
           "orientation": "v",
           "showlegend": true,
           "textposition": "auto",
           "type": "bar",
           "x": [
            "Miscellaneous goods and services"
           ],
           "xaxis": "x",
           "y": [
            0.6
           ],
           "yaxis": "y"
          }
         ],
         "name": "2021-09"
        },
        {
         "data": [
          {
           "alignmentgroup": "True",
           "hovertemplate": "EN_DESC=%{x}<br>month=2021-10<br>perc_increase=%{y}<extra></extra>",
           "legendgroup": "Food and non-alcoholic beverages",
           "marker": {
            "color": "#636efa",
            "pattern": {
             "shape": ""
            }
           },
           "name": "Food and non-alcoholic beverages",
           "offsetgroup": "Food and non-alcoholic beverages",
           "orientation": "v",
           "showlegend": true,
           "textposition": "auto",
           "type": "bar",
           "x": [
            "Food and non-alcoholic beverages"
           ],
           "xaxis": "x",
           "y": [
            -1.1
           ],
           "yaxis": "y"
          },
          {
           "alignmentgroup": "True",
           "hovertemplate": "EN_DESC=%{x}<br>month=2021-10<br>perc_increase=%{y}<extra></extra>",
           "legendgroup": "Alcoholic beverages, tobacco and narcotics",
           "marker": {
            "color": "#EF553B",
            "pattern": {
             "shape": ""
            }
           },
           "name": "Alcoholic beverages, tobacco and narcotics",
           "offsetgroup": "Alcoholic beverages, tobacco and narcotics",
           "orientation": "v",
           "showlegend": true,
           "textposition": "auto",
           "type": "bar",
           "x": [
            "Alcoholic beverages, tobacco and narcotics"
           ],
           "xaxis": "x",
           "y": [
            1.2
           ],
           "yaxis": "y"
          },
          {
           "alignmentgroup": "True",
           "hovertemplate": "EN_DESC=%{x}<br>month=2021-10<br>perc_increase=%{y}<extra></extra>",
           "legendgroup": "Clothing and footwear",
           "marker": {
            "color": "#00cc96",
            "pattern": {
             "shape": ""
            }
           },
           "name": "Clothing and footwear",
           "offsetgroup": "Clothing and footwear",
           "orientation": "v",
           "showlegend": true,
           "textposition": "auto",
           "type": "bar",
           "x": [
            "Clothing and footwear"
           ],
           "xaxis": "x",
           "y": [
            2.3
           ],
           "yaxis": "y"
          },
          {
           "alignmentgroup": "True",
           "hovertemplate": "EN_DESC=%{x}<br>month=2021-10<br>perc_increase=%{y}<extra></extra>",
           "legendgroup": "Housing, water, electricity, gas and other fuels",
           "marker": {
            "color": "#ab63fa",
            "pattern": {
             "shape": ""
            }
           },
           "name": "Housing, water, electricity, gas and other fuels",
           "offsetgroup": "Housing, water, electricity, gas and other fuels",
           "orientation": "v",
           "showlegend": true,
           "textposition": "auto",
           "type": "bar",
           "x": [
            "Housing, water, electricity, gas and other fuels"
           ],
           "xaxis": "x",
           "y": [
            -4.2
           ],
           "yaxis": "y"
          },
          {
           "alignmentgroup": "True",
           "hovertemplate": "EN_DESC=%{x}<br>month=2021-10<br>perc_increase=%{y}<extra></extra>",
           "legendgroup": "Furnishings, household equipment and routine household maintenance",
           "marker": {
            "color": "#FFA15A",
            "pattern": {
             "shape": ""
            }
           },
           "name": "Furnishings, household equipment and routine household maintenance",
           "offsetgroup": "Furnishings, household equipment and routine household maintenance",
           "orientation": "v",
           "showlegend": true,
           "textposition": "auto",
           "type": "bar",
           "x": [
            "Furnishings, household equipment and routine household maintenance"
           ],
           "xaxis": "x",
           "y": [
            -0.2
           ],
           "yaxis": "y"
          },
          {
           "alignmentgroup": "True",
           "hovertemplate": "EN_DESC=%{x}<br>month=2021-10<br>perc_increase=%{y}<extra></extra>",
           "legendgroup": "Health",
           "marker": {
            "color": "#19d3f3",
            "pattern": {
             "shape": ""
            }
           },
           "name": "Health",
           "offsetgroup": "Health",
           "orientation": "v",
           "showlegend": true,
           "textposition": "auto",
           "type": "bar",
           "x": [
            "Health"
           ],
           "xaxis": "x",
           "y": [
            0.6
           ],
           "yaxis": "y"
          },
          {
           "alignmentgroup": "True",
           "hovertemplate": "EN_DESC=%{x}<br>month=2021-10<br>perc_increase=%{y}<extra></extra>",
           "legendgroup": "Transport",
           "marker": {
            "color": "#FF6692",
            "pattern": {
             "shape": ""
            }
           },
           "name": "Transport",
           "offsetgroup": "Transport",
           "orientation": "v",
           "showlegend": true,
           "textposition": "auto",
           "type": "bar",
           "x": [
            "Transport"
           ],
           "xaxis": "x",
           "y": [
            3.6
           ],
           "yaxis": "y"
          },
          {
           "alignmentgroup": "True",
           "hovertemplate": "EN_DESC=%{x}<br>month=2021-10<br>perc_increase=%{y}<extra></extra>",
           "legendgroup": "Communications",
           "marker": {
            "color": "#B6E880",
            "pattern": {
             "shape": ""
            }
           },
           "name": "Communications",
           "offsetgroup": "Communications",
           "orientation": "v",
           "showlegend": true,
           "textposition": "auto",
           "type": "bar",
           "x": [
            "Communications"
           ],
           "xaxis": "x",
           "y": [
            0.2
           ],
           "yaxis": "y"
          },
          {
           "alignmentgroup": "True",
           "hovertemplate": "EN_DESC=%{x}<br>month=2021-10<br>perc_increase=%{y}<extra></extra>",
           "legendgroup": "Recreation and culture",
           "marker": {
            "color": "#FF97FF",
            "pattern": {
             "shape": ""
            }
           },
           "name": "Recreation and culture",
           "offsetgroup": "Recreation and culture",
           "orientation": "v",
           "showlegend": true,
           "textposition": "auto",
           "type": "bar",
           "x": [
            "Recreation and culture"
           ],
           "xaxis": "x",
           "y": [
            0.2
           ],
           "yaxis": "y"
          },
          {
           "alignmentgroup": "True",
           "hovertemplate": "EN_DESC=%{x}<br>month=2021-10<br>perc_increase=%{y}<extra></extra>",
           "legendgroup": "Education",
           "marker": {
            "color": "#FECB52",
            "pattern": {
             "shape": ""
            }
           },
           "name": "Education",
           "offsetgroup": "Education",
           "orientation": "v",
           "showlegend": true,
           "textposition": "auto",
           "type": "bar",
           "x": [
            "Education"
           ],
           "xaxis": "x",
           "y": [
            0
           ],
           "yaxis": "y"
          },
          {
           "alignmentgroup": "True",
           "hovertemplate": "EN_DESC=%{x}<br>month=2021-10<br>perc_increase=%{y}<extra></extra>",
           "legendgroup": "Restaurants and hotels",
           "marker": {
            "color": "#636efa",
            "pattern": {
             "shape": ""
            }
           },
           "name": "Restaurants and hotels",
           "offsetgroup": "Restaurants and hotels",
           "orientation": "v",
           "showlegend": true,
           "textposition": "auto",
           "type": "bar",
           "x": [
            "Restaurants and hotels"
           ],
           "xaxis": "x",
           "y": [
            -1.2
           ],
           "yaxis": "y"
          },
          {
           "alignmentgroup": "True",
           "hovertemplate": "EN_DESC=%{x}<br>month=2021-10<br>perc_increase=%{y}<extra></extra>",
           "legendgroup": "Miscellaneous goods and services",
           "marker": {
            "color": "#EF553B",
            "pattern": {
             "shape": ""
            }
           },
           "name": "Miscellaneous goods and services",
           "offsetgroup": "Miscellaneous goods and services",
           "orientation": "v",
           "showlegend": true,
           "textposition": "auto",
           "type": "bar",
           "x": [
            "Miscellaneous goods and services"
           ],
           "xaxis": "x",
           "y": [
            -0.5
           ],
           "yaxis": "y"
          }
         ],
         "name": "2021-10"
        },
        {
         "data": [
          {
           "alignmentgroup": "True",
           "hovertemplate": "EN_DESC=%{x}<br>month=2021-11<br>perc_increase=%{y}<extra></extra>",
           "legendgroup": "Food and non-alcoholic beverages",
           "marker": {
            "color": "#636efa",
            "pattern": {
             "shape": ""
            }
           },
           "name": "Food and non-alcoholic beverages",
           "offsetgroup": "Food and non-alcoholic beverages",
           "orientation": "v",
           "showlegend": true,
           "textposition": "auto",
           "type": "bar",
           "x": [
            "Food and non-alcoholic beverages"
           ],
           "xaxis": "x",
           "y": [
            2
           ],
           "yaxis": "y"
          },
          {
           "alignmentgroup": "True",
           "hovertemplate": "EN_DESC=%{x}<br>month=2021-11<br>perc_increase=%{y}<extra></extra>",
           "legendgroup": "Alcoholic beverages, tobacco and narcotics",
           "marker": {
            "color": "#EF553B",
            "pattern": {
             "shape": ""
            }
           },
           "name": "Alcoholic beverages, tobacco and narcotics",
           "offsetgroup": "Alcoholic beverages, tobacco and narcotics",
           "orientation": "v",
           "showlegend": true,
           "textposition": "auto",
           "type": "bar",
           "x": [
            "Alcoholic beverages, tobacco and narcotics"
           ],
           "xaxis": "x",
           "y": [
            0
           ],
           "yaxis": "y"
          },
          {
           "alignmentgroup": "True",
           "hovertemplate": "EN_DESC=%{x}<br>month=2021-11<br>perc_increase=%{y}<extra></extra>",
           "legendgroup": "Clothing and footwear",
           "marker": {
            "color": "#00cc96",
            "pattern": {
             "shape": ""
            }
           },
           "name": "Clothing and footwear",
           "offsetgroup": "Clothing and footwear",
           "orientation": "v",
           "showlegend": true,
           "textposition": "auto",
           "type": "bar",
           "x": [
            "Clothing and footwear"
           ],
           "xaxis": "x",
           "y": [
            1.8
           ],
           "yaxis": "y"
          },
          {
           "alignmentgroup": "True",
           "hovertemplate": "EN_DESC=%{x}<br>month=2021-11<br>perc_increase=%{y}<extra></extra>",
           "legendgroup": "Housing, water, electricity, gas and other fuels",
           "marker": {
            "color": "#ab63fa",
            "pattern": {
             "shape": ""
            }
           },
           "name": "Housing, water, electricity, gas and other fuels",
           "offsetgroup": "Housing, water, electricity, gas and other fuels",
           "orientation": "v",
           "showlegend": true,
           "textposition": "auto",
           "type": "bar",
           "x": [
            "Housing, water, electricity, gas and other fuels"
           ],
           "xaxis": "x",
           "y": [
            5.1
           ],
           "yaxis": "y"
          },
          {
           "alignmentgroup": "True",
           "hovertemplate": "EN_DESC=%{x}<br>month=2021-11<br>perc_increase=%{y}<extra></extra>",
           "legendgroup": "Furnishings, household equipment and routine household maintenance",
           "marker": {
            "color": "#FFA15A",
            "pattern": {
             "shape": ""
            }
           },
           "name": "Furnishings, household equipment and routine household maintenance",
           "offsetgroup": "Furnishings, household equipment and routine household maintenance",
           "orientation": "v",
           "showlegend": true,
           "textposition": "auto",
           "type": "bar",
           "x": [
            "Furnishings, household equipment and routine household maintenance"
           ],
           "xaxis": "x",
           "y": [
            0.8
           ],
           "yaxis": "y"
          },
          {
           "alignmentgroup": "True",
           "hovertemplate": "EN_DESC=%{x}<br>month=2021-11<br>perc_increase=%{y}<extra></extra>",
           "legendgroup": "Health",
           "marker": {
            "color": "#19d3f3",
            "pattern": {
             "shape": ""
            }
           },
           "name": "Health",
           "offsetgroup": "Health",
           "orientation": "v",
           "showlegend": true,
           "textposition": "auto",
           "type": "bar",
           "x": [
            "Health"
           ],
           "xaxis": "x",
           "y": [
            0.3
           ],
           "yaxis": "y"
          },
          {
           "alignmentgroup": "True",
           "hovertemplate": "EN_DESC=%{x}<br>month=2021-11<br>perc_increase=%{y}<extra></extra>",
           "legendgroup": "Transport",
           "marker": {
            "color": "#FF6692",
            "pattern": {
             "shape": ""
            }
           },
           "name": "Transport",
           "offsetgroup": "Transport",
           "orientation": "v",
           "showlegend": true,
           "textposition": "auto",
           "type": "bar",
           "x": [
            "Transport"
           ],
           "xaxis": "x",
           "y": [
            1.8
           ],
           "yaxis": "y"
          },
          {
           "alignmentgroup": "True",
           "hovertemplate": "EN_DESC=%{x}<br>month=2021-11<br>perc_increase=%{y}<extra></extra>",
           "legendgroup": "Communications",
           "marker": {
            "color": "#B6E880",
            "pattern": {
             "shape": ""
            }
           },
           "name": "Communications",
           "offsetgroup": "Communications",
           "orientation": "v",
           "showlegend": true,
           "textposition": "auto",
           "type": "bar",
           "x": [
            "Communications"
           ],
           "xaxis": "x",
           "y": [
            0.1
           ],
           "yaxis": "y"
          },
          {
           "alignmentgroup": "True",
           "hovertemplate": "EN_DESC=%{x}<br>month=2021-11<br>perc_increase=%{y}<extra></extra>",
           "legendgroup": "Recreation and culture",
           "marker": {
            "color": "#FF97FF",
            "pattern": {
             "shape": ""
            }
           },
           "name": "Recreation and culture",
           "offsetgroup": "Recreation and culture",
           "orientation": "v",
           "showlegend": true,
           "textposition": "auto",
           "type": "bar",
           "x": [
            "Recreation and culture"
           ],
           "xaxis": "x",
           "y": [
            0.9
           ],
           "yaxis": "y"
          },
          {
           "alignmentgroup": "True",
           "hovertemplate": "EN_DESC=%{x}<br>month=2021-11<br>perc_increase=%{y}<extra></extra>",
           "legendgroup": "Education",
           "marker": {
            "color": "#FECB52",
            "pattern": {
             "shape": ""
            }
           },
           "name": "Education",
           "offsetgroup": "Education",
           "orientation": "v",
           "showlegend": true,
           "textposition": "auto",
           "type": "bar",
           "x": [
            "Education"
           ],
           "xaxis": "x",
           "y": [
            0.4
           ],
           "yaxis": "y"
          },
          {
           "alignmentgroup": "True",
           "hovertemplate": "EN_DESC=%{x}<br>month=2021-11<br>perc_increase=%{y}<extra></extra>",
           "legendgroup": "Restaurants and hotels",
           "marker": {
            "color": "#636efa",
            "pattern": {
             "shape": ""
            }
           },
           "name": "Restaurants and hotels",
           "offsetgroup": "Restaurants and hotels",
           "orientation": "v",
           "showlegend": true,
           "textposition": "auto",
           "type": "bar",
           "x": [
            "Restaurants and hotels"
           ],
           "xaxis": "x",
           "y": [
            0.4
           ],
           "yaxis": "y"
          },
          {
           "alignmentgroup": "True",
           "hovertemplate": "EN_DESC=%{x}<br>month=2021-11<br>perc_increase=%{y}<extra></extra>",
           "legendgroup": "Miscellaneous goods and services",
           "marker": {
            "color": "#EF553B",
            "pattern": {
             "shape": ""
            }
           },
           "name": "Miscellaneous goods and services",
           "offsetgroup": "Miscellaneous goods and services",
           "orientation": "v",
           "showlegend": true,
           "textposition": "auto",
           "type": "bar",
           "x": [
            "Miscellaneous goods and services"
           ],
           "xaxis": "x",
           "y": [
            0.4
           ],
           "yaxis": "y"
          }
         ],
         "name": "2021-11"
        },
        {
         "data": [
          {
           "alignmentgroup": "True",
           "hovertemplate": "EN_DESC=%{x}<br>month=2021-12<br>perc_increase=%{y}<extra></extra>",
           "legendgroup": "Food and non-alcoholic beverages",
           "marker": {
            "color": "#636efa",
            "pattern": {
             "shape": ""
            }
           },
           "name": "Food and non-alcoholic beverages",
           "offsetgroup": "Food and non-alcoholic beverages",
           "orientation": "v",
           "showlegend": true,
           "textposition": "auto",
           "type": "bar",
           "x": [
            "Food and non-alcoholic beverages"
           ],
           "xaxis": "x",
           "y": [
            -0.2
           ],
           "yaxis": "y"
          },
          {
           "alignmentgroup": "True",
           "hovertemplate": "EN_DESC=%{x}<br>month=2021-12<br>perc_increase=%{y}<extra></extra>",
           "legendgroup": "Alcoholic beverages, tobacco and narcotics",
           "marker": {
            "color": "#EF553B",
            "pattern": {
             "shape": ""
            }
           },
           "name": "Alcoholic beverages, tobacco and narcotics",
           "offsetgroup": "Alcoholic beverages, tobacco and narcotics",
           "orientation": "v",
           "showlegend": true,
           "textposition": "auto",
           "type": "bar",
           "x": [
            "Alcoholic beverages, tobacco and narcotics"
           ],
           "xaxis": "x",
           "y": [
            -0.7
           ],
           "yaxis": "y"
          },
          {
           "alignmentgroup": "True",
           "hovertemplate": "EN_DESC=%{x}<br>month=2021-12<br>perc_increase=%{y}<extra></extra>",
           "legendgroup": "Clothing and footwear",
           "marker": {
            "color": "#00cc96",
            "pattern": {
             "shape": ""
            }
           },
           "name": "Clothing and footwear",
           "offsetgroup": "Clothing and footwear",
           "orientation": "v",
           "showlegend": true,
           "textposition": "auto",
           "type": "bar",
           "x": [
            "Clothing and footwear"
           ],
           "xaxis": "x",
           "y": [
            -1.2
           ],
           "yaxis": "y"
          },
          {
           "alignmentgroup": "True",
           "hovertemplate": "EN_DESC=%{x}<br>month=2021-12<br>perc_increase=%{y}<extra></extra>",
           "legendgroup": "Housing, water, electricity, gas and other fuels",
           "marker": {
            "color": "#ab63fa",
            "pattern": {
             "shape": ""
            }
           },
           "name": "Housing, water, electricity, gas and other fuels",
           "offsetgroup": "Housing, water, electricity, gas and other fuels",
           "orientation": "v",
           "showlegend": true,
           "textposition": "auto",
           "type": "bar",
           "x": [
            "Housing, water, electricity, gas and other fuels"
           ],
           "xaxis": "x",
           "y": [
            20.5
           ],
           "yaxis": "y"
          },
          {
           "alignmentgroup": "True",
           "hovertemplate": "EN_DESC=%{x}<br>month=2021-12<br>perc_increase=%{y}<extra></extra>",
           "legendgroup": "Furnishings, household equipment and routine household maintenance",
           "marker": {
            "color": "#FFA15A",
            "pattern": {
             "shape": ""
            }
           },
           "name": "Furnishings, household equipment and routine household maintenance",
           "offsetgroup": "Furnishings, household equipment and routine household maintenance",
           "orientation": "v",
           "showlegend": true,
           "textposition": "auto",
           "type": "bar",
           "x": [
            "Furnishings, household equipment and routine household maintenance"
           ],
           "xaxis": "x",
           "y": [
            1.2
           ],
           "yaxis": "y"
          },
          {
           "alignmentgroup": "True",
           "hovertemplate": "EN_DESC=%{x}<br>month=2021-12<br>perc_increase=%{y}<extra></extra>",
           "legendgroup": "Health",
           "marker": {
            "color": "#19d3f3",
            "pattern": {
             "shape": ""
            }
           },
           "name": "Health",
           "offsetgroup": "Health",
           "orientation": "v",
           "showlegend": true,
           "textposition": "auto",
           "type": "bar",
           "x": [
            "Health"
           ],
           "xaxis": "x",
           "y": [
            0.9
           ],
           "yaxis": "y"
          },
          {
           "alignmentgroup": "True",
           "hovertemplate": "EN_DESC=%{x}<br>month=2021-12<br>perc_increase=%{y}<extra></extra>",
           "legendgroup": "Transport",
           "marker": {
            "color": "#FF6692",
            "pattern": {
             "shape": ""
            }
           },
           "name": "Transport",
           "offsetgroup": "Transport",
           "orientation": "v",
           "showlegend": true,
           "textposition": "auto",
           "type": "bar",
           "x": [
            "Transport"
           ],
           "xaxis": "x",
           "y": [
            0
           ],
           "yaxis": "y"
          },
          {
           "alignmentgroup": "True",
           "hovertemplate": "EN_DESC=%{x}<br>month=2021-12<br>perc_increase=%{y}<extra></extra>",
           "legendgroup": "Communications",
           "marker": {
            "color": "#B6E880",
            "pattern": {
             "shape": ""
            }
           },
           "name": "Communications",
           "offsetgroup": "Communications",
           "orientation": "v",
           "showlegend": true,
           "textposition": "auto",
           "type": "bar",
           "x": [
            "Communications"
           ],
           "xaxis": "x",
           "y": [
            -2.2
           ],
           "yaxis": "y"
          },
          {
           "alignmentgroup": "True",
           "hovertemplate": "EN_DESC=%{x}<br>month=2021-12<br>perc_increase=%{y}<extra></extra>",
           "legendgroup": "Recreation and culture",
           "marker": {
            "color": "#FF97FF",
            "pattern": {
             "shape": ""
            }
           },
           "name": "Recreation and culture",
           "offsetgroup": "Recreation and culture",
           "orientation": "v",
           "showlegend": true,
           "textposition": "auto",
           "type": "bar",
           "x": [
            "Recreation and culture"
           ],
           "xaxis": "x",
           "y": [
            0.1
           ],
           "yaxis": "y"
          },
          {
           "alignmentgroup": "True",
           "hovertemplate": "EN_DESC=%{x}<br>month=2021-12<br>perc_increase=%{y}<extra></extra>",
           "legendgroup": "Education",
           "marker": {
            "color": "#FECB52",
            "pattern": {
             "shape": ""
            }
           },
           "name": "Education",
           "offsetgroup": "Education",
           "orientation": "v",
           "showlegend": true,
           "textposition": "auto",
           "type": "bar",
           "x": [
            "Education"
           ],
           "xaxis": "x",
           "y": [
            0
           ],
           "yaxis": "y"
          },
          {
           "alignmentgroup": "True",
           "hovertemplate": "EN_DESC=%{x}<br>month=2021-12<br>perc_increase=%{y}<extra></extra>",
           "legendgroup": "Restaurants and hotels",
           "marker": {
            "color": "#636efa",
            "pattern": {
             "shape": ""
            }
           },
           "name": "Restaurants and hotels",
           "offsetgroup": "Restaurants and hotels",
           "orientation": "v",
           "showlegend": true,
           "textposition": "auto",
           "type": "bar",
           "x": [
            "Restaurants and hotels"
           ],
           "xaxis": "x",
           "y": [
            0.4
           ],
           "yaxis": "y"
          },
          {
           "alignmentgroup": "True",
           "hovertemplate": "EN_DESC=%{x}<br>month=2021-12<br>perc_increase=%{y}<extra></extra>",
           "legendgroup": "Miscellaneous goods and services",
           "marker": {
            "color": "#EF553B",
            "pattern": {
             "shape": ""
            }
           },
           "name": "Miscellaneous goods and services",
           "offsetgroup": "Miscellaneous goods and services",
           "orientation": "v",
           "showlegend": true,
           "textposition": "auto",
           "type": "bar",
           "x": [
            "Miscellaneous goods and services"
           ],
           "xaxis": "x",
           "y": [
            0.7
           ],
           "yaxis": "y"
          }
         ],
         "name": "2021-12"
        },
        {
         "data": [
          {
           "alignmentgroup": "True",
           "hovertemplate": "EN_DESC=%{x}<br>month=2022-01<br>perc_increase=%{y}<extra></extra>",
           "legendgroup": "Food and non-alcoholic beverages",
           "marker": {
            "color": "#636efa",
            "pattern": {
             "shape": ""
            }
           },
           "name": "Food and non-alcoholic beverages",
           "offsetgroup": "Food and non-alcoholic beverages",
           "orientation": "v",
           "showlegend": true,
           "textposition": "auto",
           "type": "bar",
           "x": [
            "Food and non-alcoholic beverages"
           ],
           "xaxis": "x",
           "y": [
            3.9
           ],
           "yaxis": "y"
          },
          {
           "alignmentgroup": "True",
           "hovertemplate": "EN_DESC=%{x}<br>month=2022-01<br>perc_increase=%{y}<extra></extra>",
           "legendgroup": "Alcoholic beverages, tobacco and narcotics",
           "marker": {
            "color": "#EF553B",
            "pattern": {
             "shape": ""
            }
           },
           "name": "Alcoholic beverages, tobacco and narcotics",
           "offsetgroup": "Alcoholic beverages, tobacco and narcotics",
           "orientation": "v",
           "showlegend": true,
           "textposition": "auto",
           "type": "bar",
           "x": [
            "Alcoholic beverages, tobacco and narcotics"
           ],
           "xaxis": "x",
           "y": [
            1
           ],
           "yaxis": "y"
          },
          {
           "alignmentgroup": "True",
           "hovertemplate": "EN_DESC=%{x}<br>month=2022-01<br>perc_increase=%{y}<extra></extra>",
           "legendgroup": "Clothing and footwear",
           "marker": {
            "color": "#00cc96",
            "pattern": {
             "shape": ""
            }
           },
           "name": "Clothing and footwear",
           "offsetgroup": "Clothing and footwear",
           "orientation": "v",
           "showlegend": true,
           "textposition": "auto",
           "type": "bar",
           "x": [
            "Clothing and footwear"
           ],
           "xaxis": "x",
           "y": [
            -6.1
           ],
           "yaxis": "y"
          },
          {
           "alignmentgroup": "True",
           "hovertemplate": "EN_DESC=%{x}<br>month=2022-01<br>perc_increase=%{y}<extra></extra>",
           "legendgroup": "Housing, water, electricity, gas and other fuels",
           "marker": {
            "color": "#ab63fa",
            "pattern": {
             "shape": ""
            }
           },
           "name": "Housing, water, electricity, gas and other fuels",
           "offsetgroup": "Housing, water, electricity, gas and other fuels",
           "orientation": "v",
           "showlegend": true,
           "textposition": "auto",
           "type": "bar",
           "x": [
            "Housing, water, electricity, gas and other fuels"
           ],
           "xaxis": "x",
           "y": [
            -6.9
           ],
           "yaxis": "y"
          },
          {
           "alignmentgroup": "True",
           "hovertemplate": "EN_DESC=%{x}<br>month=2022-01<br>perc_increase=%{y}<extra></extra>",
           "legendgroup": "Furnishings, household equipment and routine household maintenance",
           "marker": {
            "color": "#FFA15A",
            "pattern": {
             "shape": ""
            }
           },
           "name": "Furnishings, household equipment and routine household maintenance",
           "offsetgroup": "Furnishings, household equipment and routine household maintenance",
           "orientation": "v",
           "showlegend": true,
           "textposition": "auto",
           "type": "bar",
           "x": [
            "Furnishings, household equipment and routine household maintenance"
           ],
           "xaxis": "x",
           "y": [
            -0.4
           ],
           "yaxis": "y"
          },
          {
           "alignmentgroup": "True",
           "hovertemplate": "EN_DESC=%{x}<br>month=2022-01<br>perc_increase=%{y}<extra></extra>",
           "legendgroup": "Health",
           "marker": {
            "color": "#19d3f3",
            "pattern": {
             "shape": ""
            }
           },
           "name": "Health",
           "offsetgroup": "Health",
           "orientation": "v",
           "showlegend": true,
           "textposition": "auto",
           "type": "bar",
           "x": [
            "Health"
           ],
           "xaxis": "x",
           "y": [
            1.7
           ],
           "yaxis": "y"
          },
          {
           "alignmentgroup": "True",
           "hovertemplate": "EN_DESC=%{x}<br>month=2022-01<br>perc_increase=%{y}<extra></extra>",
           "legendgroup": "Transport",
           "marker": {
            "color": "#FF6692",
            "pattern": {
             "shape": ""
            }
           },
           "name": "Transport",
           "offsetgroup": "Transport",
           "orientation": "v",
           "showlegend": true,
           "textposition": "auto",
           "type": "bar",
           "x": [
            "Transport"
           ],
           "xaxis": "x",
           "y": [
            1.2
           ],
           "yaxis": "y"
          },
          {
           "alignmentgroup": "True",
           "hovertemplate": "EN_DESC=%{x}<br>month=2022-01<br>perc_increase=%{y}<extra></extra>",
           "legendgroup": "Communications",
           "marker": {
            "color": "#B6E880",
            "pattern": {
             "shape": ""
            }
           },
           "name": "Communications",
           "offsetgroup": "Communications",
           "orientation": "v",
           "showlegend": true,
           "textposition": "auto",
           "type": "bar",
           "x": [
            "Communications"
           ],
           "xaxis": "x",
           "y": [
            -0.7
           ],
           "yaxis": "y"
          },
          {
           "alignmentgroup": "True",
           "hovertemplate": "EN_DESC=%{x}<br>month=2022-01<br>perc_increase=%{y}<extra></extra>",
           "legendgroup": "Recreation and culture",
           "marker": {
            "color": "#FF97FF",
            "pattern": {
             "shape": ""
            }
           },
           "name": "Recreation and culture",
           "offsetgroup": "Recreation and culture",
           "orientation": "v",
           "showlegend": true,
           "textposition": "auto",
           "type": "bar",
           "x": [
            "Recreation and culture"
           ],
           "xaxis": "x",
           "y": [
            -0.4
           ],
           "yaxis": "y"
          },
          {
           "alignmentgroup": "True",
           "hovertemplate": "EN_DESC=%{x}<br>month=2022-01<br>perc_increase=%{y}<extra></extra>",
           "legendgroup": "Education",
           "marker": {
            "color": "#FECB52",
            "pattern": {
             "shape": ""
            }
           },
           "name": "Education",
           "offsetgroup": "Education",
           "orientation": "v",
           "showlegend": true,
           "textposition": "auto",
           "type": "bar",
           "x": [
            "Education"
           ],
           "xaxis": "x",
           "y": [
            0.4
           ],
           "yaxis": "y"
          },
          {
           "alignmentgroup": "True",
           "hovertemplate": "EN_DESC=%{x}<br>month=2022-01<br>perc_increase=%{y}<extra></extra>",
           "legendgroup": "Restaurants and hotels",
           "marker": {
            "color": "#636efa",
            "pattern": {
             "shape": ""
            }
           },
           "name": "Restaurants and hotels",
           "offsetgroup": "Restaurants and hotels",
           "orientation": "v",
           "showlegend": true,
           "textposition": "auto",
           "type": "bar",
           "x": [
            "Restaurants and hotels"
           ],
           "xaxis": "x",
           "y": [
            0.9
           ],
           "yaxis": "y"
          },
          {
           "alignmentgroup": "True",
           "hovertemplate": "EN_DESC=%{x}<br>month=2022-01<br>perc_increase=%{y}<extra></extra>",
           "legendgroup": "Miscellaneous goods and services",
           "marker": {
            "color": "#EF553B",
            "pattern": {
             "shape": ""
            }
           },
           "name": "Miscellaneous goods and services",
           "offsetgroup": "Miscellaneous goods and services",
           "orientation": "v",
           "showlegend": true,
           "textposition": "auto",
           "type": "bar",
           "x": [
            "Miscellaneous goods and services"
           ],
           "xaxis": "x",
           "y": [
            1.1
           ],
           "yaxis": "y"
          }
         ],
         "name": "2022-01"
        },
        {
         "data": [
          {
           "alignmentgroup": "True",
           "hovertemplate": "EN_DESC=%{x}<br>month=2022-02<br>perc_increase=%{y}<extra></extra>",
           "legendgroup": "Food and non-alcoholic beverages",
           "marker": {
            "color": "#636efa",
            "pattern": {
             "shape": ""
            }
           },
           "name": "Food and non-alcoholic beverages",
           "offsetgroup": "Food and non-alcoholic beverages",
           "orientation": "v",
           "showlegend": true,
           "textposition": "auto",
           "type": "bar",
           "x": [
            "Food and non-alcoholic beverages"
           ],
           "xaxis": "x",
           "y": [
            3.7
           ],
           "yaxis": "y"
          },
          {
           "alignmentgroup": "True",
           "hovertemplate": "EN_DESC=%{x}<br>month=2022-02<br>perc_increase=%{y}<extra></extra>",
           "legendgroup": "Alcoholic beverages, tobacco and narcotics",
           "marker": {
            "color": "#EF553B",
            "pattern": {
             "shape": ""
            }
           },
           "name": "Alcoholic beverages, tobacco and narcotics",
           "offsetgroup": "Alcoholic beverages, tobacco and narcotics",
           "orientation": "v",
           "showlegend": true,
           "textposition": "auto",
           "type": "bar",
           "x": [
            "Alcoholic beverages, tobacco and narcotics"
           ],
           "xaxis": "x",
           "y": [
            1.1
           ],
           "yaxis": "y"
          },
          {
           "alignmentgroup": "True",
           "hovertemplate": "EN_DESC=%{x}<br>month=2022-02<br>perc_increase=%{y}<extra></extra>",
           "legendgroup": "Clothing and footwear",
           "marker": {
            "color": "#00cc96",
            "pattern": {
             "shape": ""
            }
           },
           "name": "Clothing and footwear",
           "offsetgroup": "Clothing and footwear",
           "orientation": "v",
           "showlegend": true,
           "textposition": "auto",
           "type": "bar",
           "x": [
            "Clothing and footwear"
           ],
           "xaxis": "x",
           "y": [
            0.2
           ],
           "yaxis": "y"
          },
          {
           "alignmentgroup": "True",
           "hovertemplate": "EN_DESC=%{x}<br>month=2022-02<br>perc_increase=%{y}<extra></extra>",
           "legendgroup": "Housing, water, electricity, gas and other fuels",
           "marker": {
            "color": "#ab63fa",
            "pattern": {
             "shape": ""
            }
           },
           "name": "Housing, water, electricity, gas and other fuels",
           "offsetgroup": "Housing, water, electricity, gas and other fuels",
           "orientation": "v",
           "showlegend": true,
           "textposition": "auto",
           "type": "bar",
           "x": [
            "Housing, water, electricity, gas and other fuels"
           ],
           "xaxis": "x",
           "y": [
            -3.2
           ],
           "yaxis": "y"
          },
          {
           "alignmentgroup": "True",
           "hovertemplate": "EN_DESC=%{x}<br>month=2022-02<br>perc_increase=%{y}<extra></extra>",
           "legendgroup": "Furnishings, household equipment and routine household maintenance",
           "marker": {
            "color": "#FFA15A",
            "pattern": {
             "shape": ""
            }
           },
           "name": "Furnishings, household equipment and routine household maintenance",
           "offsetgroup": "Furnishings, household equipment and routine household maintenance",
           "orientation": "v",
           "showlegend": true,
           "textposition": "auto",
           "type": "bar",
           "x": [
            "Furnishings, household equipment and routine household maintenance"
           ],
           "xaxis": "x",
           "y": [
            2
           ],
           "yaxis": "y"
          },
          {
           "alignmentgroup": "True",
           "hovertemplate": "EN_DESC=%{x}<br>month=2022-02<br>perc_increase=%{y}<extra></extra>",
           "legendgroup": "Health",
           "marker": {
            "color": "#19d3f3",
            "pattern": {
             "shape": ""
            }
           },
           "name": "Health",
           "offsetgroup": "Health",
           "orientation": "v",
           "showlegend": true,
           "textposition": "auto",
           "type": "bar",
           "x": [
            "Health"
           ],
           "xaxis": "x",
           "y": [
            0.3
           ],
           "yaxis": "y"
          },
          {
           "alignmentgroup": "True",
           "hovertemplate": "EN_DESC=%{x}<br>month=2022-02<br>perc_increase=%{y}<extra></extra>",
           "legendgroup": "Transport",
           "marker": {
            "color": "#FF6692",
            "pattern": {
             "shape": ""
            }
           },
           "name": "Transport",
           "offsetgroup": "Transport",
           "orientation": "v",
           "showlegend": true,
           "textposition": "auto",
           "type": "bar",
           "x": [
            "Transport"
           ],
           "xaxis": "x",
           "y": [
            3.5
           ],
           "yaxis": "y"
          },
          {
           "alignmentgroup": "True",
           "hovertemplate": "EN_DESC=%{x}<br>month=2022-02<br>perc_increase=%{y}<extra></extra>",
           "legendgroup": "Communications",
           "marker": {
            "color": "#B6E880",
            "pattern": {
             "shape": ""
            }
           },
           "name": "Communications",
           "offsetgroup": "Communications",
           "orientation": "v",
           "showlegend": true,
           "textposition": "auto",
           "type": "bar",
           "x": [
            "Communications"
           ],
           "xaxis": "x",
           "y": [
            -0.2
           ],
           "yaxis": "y"
          },
          {
           "alignmentgroup": "True",
           "hovertemplate": "EN_DESC=%{x}<br>month=2022-02<br>perc_increase=%{y}<extra></extra>",
           "legendgroup": "Recreation and culture",
           "marker": {
            "color": "#FF97FF",
            "pattern": {
             "shape": ""
            }
           },
           "name": "Recreation and culture",
           "offsetgroup": "Recreation and culture",
           "orientation": "v",
           "showlegend": true,
           "textposition": "auto",
           "type": "bar",
           "x": [
            "Recreation and culture"
           ],
           "xaxis": "x",
           "y": [
            1.7
           ],
           "yaxis": "y"
          },
          {
           "alignmentgroup": "True",
           "hovertemplate": "EN_DESC=%{x}<br>month=2022-02<br>perc_increase=%{y}<extra></extra>",
           "legendgroup": "Education",
           "marker": {
            "color": "#FECB52",
            "pattern": {
             "shape": ""
            }
           },
           "name": "Education",
           "offsetgroup": "Education",
           "orientation": "v",
           "showlegend": true,
           "textposition": "auto",
           "type": "bar",
           "x": [
            "Education"
           ],
           "xaxis": "x",
           "y": [
            0.2
           ],
           "yaxis": "y"
          },
          {
           "alignmentgroup": "True",
           "hovertemplate": "EN_DESC=%{x}<br>month=2022-02<br>perc_increase=%{y}<extra></extra>",
           "legendgroup": "Restaurants and hotels",
           "marker": {
            "color": "#636efa",
            "pattern": {
             "shape": ""
            }
           },
           "name": "Restaurants and hotels",
           "offsetgroup": "Restaurants and hotels",
           "orientation": "v",
           "showlegend": true,
           "textposition": "auto",
           "type": "bar",
           "x": [
            "Restaurants and hotels"
           ],
           "xaxis": "x",
           "y": [
            1.7
           ],
           "yaxis": "y"
          },
          {
           "alignmentgroup": "True",
           "hovertemplate": "EN_DESC=%{x}<br>month=2022-02<br>perc_increase=%{y}<extra></extra>",
           "legendgroup": "Miscellaneous goods and services",
           "marker": {
            "color": "#EF553B",
            "pattern": {
             "shape": ""
            }
           },
           "name": "Miscellaneous goods and services",
           "offsetgroup": "Miscellaneous goods and services",
           "orientation": "v",
           "showlegend": true,
           "textposition": "auto",
           "type": "bar",
           "x": [
            "Miscellaneous goods and services"
           ],
           "xaxis": "x",
           "y": [
            1.2
           ],
           "yaxis": "y"
          }
         ],
         "name": "2022-02"
        },
        {
         "data": [
          {
           "alignmentgroup": "True",
           "hovertemplate": "EN_DESC=%{x}<br>month=2022-03<br>perc_increase=%{y}<extra></extra>",
           "legendgroup": "Food and non-alcoholic beverages",
           "marker": {
            "color": "#636efa",
            "pattern": {
             "shape": ""
            }
           },
           "name": "Food and non-alcoholic beverages",
           "offsetgroup": "Food and non-alcoholic beverages",
           "orientation": "v",
           "showlegend": true,
           "textposition": "auto",
           "type": "bar",
           "x": [
            "Food and non-alcoholic beverages"
           ],
           "xaxis": "x",
           "y": [
            1.4
           ],
           "yaxis": "y"
          },
          {
           "alignmentgroup": "True",
           "hovertemplate": "EN_DESC=%{x}<br>month=2022-03<br>perc_increase=%{y}<extra></extra>",
           "legendgroup": "Alcoholic beverages, tobacco and narcotics",
           "marker": {
            "color": "#EF553B",
            "pattern": {
             "shape": ""
            }
           },
           "name": "Alcoholic beverages, tobacco and narcotics",
           "offsetgroup": "Alcoholic beverages, tobacco and narcotics",
           "orientation": "v",
           "showlegend": true,
           "textposition": "auto",
           "type": "bar",
           "x": [
            "Alcoholic beverages, tobacco and narcotics"
           ],
           "xaxis": "x",
           "y": [
            0.3
           ],
           "yaxis": "y"
          },
          {
           "alignmentgroup": "True",
           "hovertemplate": "EN_DESC=%{x}<br>month=2022-03<br>perc_increase=%{y}<extra></extra>",
           "legendgroup": "Clothing and footwear",
           "marker": {
            "color": "#00cc96",
            "pattern": {
             "shape": ""
            }
           },
           "name": "Clothing and footwear",
           "offsetgroup": "Clothing and footwear",
           "orientation": "v",
           "showlegend": true,
           "textposition": "auto",
           "type": "bar",
           "x": [
            "Clothing and footwear"
           ],
           "xaxis": "x",
           "y": [
            3.2
           ],
           "yaxis": "y"
          },
          {
           "alignmentgroup": "True",
           "hovertemplate": "EN_DESC=%{x}<br>month=2022-03<br>perc_increase=%{y}<extra></extra>",
           "legendgroup": "Housing, water, electricity, gas and other fuels",
           "marker": {
            "color": "#ab63fa",
            "pattern": {
             "shape": ""
            }
           },
           "name": "Housing, water, electricity, gas and other fuels",
           "offsetgroup": "Housing, water, electricity, gas and other fuels",
           "orientation": "v",
           "showlegend": true,
           "textposition": "auto",
           "type": "bar",
           "x": [
            "Housing, water, electricity, gas and other fuels"
           ],
           "xaxis": "x",
           "y": [
            3.5
           ],
           "yaxis": "y"
          },
          {
           "alignmentgroup": "True",
           "hovertemplate": "EN_DESC=%{x}<br>month=2022-03<br>perc_increase=%{y}<extra></extra>",
           "legendgroup": "Furnishings, household equipment and routine household maintenance",
           "marker": {
            "color": "#FFA15A",
            "pattern": {
             "shape": ""
            }
           },
           "name": "Furnishings, household equipment and routine household maintenance",
           "offsetgroup": "Furnishings, household equipment and routine household maintenance",
           "orientation": "v",
           "showlegend": true,
           "textposition": "auto",
           "type": "bar",
           "x": [
            "Furnishings, household equipment and routine household maintenance"
           ],
           "xaxis": "x",
           "y": [
            1.3
           ],
           "yaxis": "y"
          },
          {
           "alignmentgroup": "True",
           "hovertemplate": "EN_DESC=%{x}<br>month=2022-03<br>perc_increase=%{y}<extra></extra>",
           "legendgroup": "Health",
           "marker": {
            "color": "#19d3f3",
            "pattern": {
             "shape": ""
            }
           },
           "name": "Health",
           "offsetgroup": "Health",
           "orientation": "v",
           "showlegend": true,
           "textposition": "auto",
           "type": "bar",
           "x": [
            "Health"
           ],
           "xaxis": "x",
           "y": [
            0.5
           ],
           "yaxis": "y"
          },
          {
           "alignmentgroup": "True",
           "hovertemplate": "EN_DESC=%{x}<br>month=2022-03<br>perc_increase=%{y}<extra></extra>",
           "legendgroup": "Transport",
           "marker": {
            "color": "#FF6692",
            "pattern": {
             "shape": ""
            }
           },
           "name": "Transport",
           "offsetgroup": "Transport",
           "orientation": "v",
           "showlegend": true,
           "textposition": "auto",
           "type": "bar",
           "x": [
            "Transport"
           ],
           "xaxis": "x",
           "y": [
            8.7
           ],
           "yaxis": "y"
          },
          {
           "alignmentgroup": "True",
           "hovertemplate": "EN_DESC=%{x}<br>month=2022-03<br>perc_increase=%{y}<extra></extra>",
           "legendgroup": "Communications",
           "marker": {
            "color": "#B6E880",
            "pattern": {
             "shape": ""
            }
           },
           "name": "Communications",
           "offsetgroup": "Communications",
           "orientation": "v",
           "showlegend": true,
           "textposition": "auto",
           "type": "bar",
           "x": [
            "Communications"
           ],
           "xaxis": "x",
           "y": [
            1
           ],
           "yaxis": "y"
          },
          {
           "alignmentgroup": "True",
           "hovertemplate": "EN_DESC=%{x}<br>month=2022-03<br>perc_increase=%{y}<extra></extra>",
           "legendgroup": "Recreation and culture",
           "marker": {
            "color": "#FF97FF",
            "pattern": {
             "shape": ""
            }
           },
           "name": "Recreation and culture",
           "offsetgroup": "Recreation and culture",
           "orientation": "v",
           "showlegend": true,
           "textposition": "auto",
           "type": "bar",
           "x": [
            "Recreation and culture"
           ],
           "xaxis": "x",
           "y": [
            0.7
           ],
           "yaxis": "y"
          },
          {
           "alignmentgroup": "True",
           "hovertemplate": "EN_DESC=%{x}<br>month=2022-03<br>perc_increase=%{y}<extra></extra>",
           "legendgroup": "Education",
           "marker": {
            "color": "#FECB52",
            "pattern": {
             "shape": ""
            }
           },
           "name": "Education",
           "offsetgroup": "Education",
           "orientation": "v",
           "showlegend": true,
           "textposition": "auto",
           "type": "bar",
           "x": [
            "Education"
           ],
           "xaxis": "x",
           "y": [
            0
           ],
           "yaxis": "y"
          },
          {
           "alignmentgroup": "True",
           "hovertemplate": "EN_DESC=%{x}<br>month=2022-03<br>perc_increase=%{y}<extra></extra>",
           "legendgroup": "Restaurants and hotels",
           "marker": {
            "color": "#636efa",
            "pattern": {
             "shape": ""
            }
           },
           "name": "Restaurants and hotels",
           "offsetgroup": "Restaurants and hotels",
           "orientation": "v",
           "showlegend": true,
           "textposition": "auto",
           "type": "bar",
           "x": [
            "Restaurants and hotels"
           ],
           "xaxis": "x",
           "y": [
            0.9
           ],
           "yaxis": "y"
          },
          {
           "alignmentgroup": "True",
           "hovertemplate": "EN_DESC=%{x}<br>month=2022-03<br>perc_increase=%{y}<extra></extra>",
           "legendgroup": "Miscellaneous goods and services",
           "marker": {
            "color": "#EF553B",
            "pattern": {
             "shape": ""
            }
           },
           "name": "Miscellaneous goods and services",
           "offsetgroup": "Miscellaneous goods and services",
           "orientation": "v",
           "showlegend": true,
           "textposition": "auto",
           "type": "bar",
           "x": [
            "Miscellaneous goods and services"
           ],
           "xaxis": "x",
           "y": [
            1.1
           ],
           "yaxis": "y"
          }
         ],
         "name": "2022-03"
        },
        {
         "data": [
          {
           "alignmentgroup": "True",
           "hovertemplate": "EN_DESC=%{x}<br>month=2022-04<br>perc_increase=%{y}<extra></extra>",
           "legendgroup": "Food and non-alcoholic beverages",
           "marker": {
            "color": "#636efa",
            "pattern": {
             "shape": ""
            }
           },
           "name": "Food and non-alcoholic beverages",
           "offsetgroup": "Food and non-alcoholic beverages",
           "orientation": "v",
           "showlegend": true,
           "textposition": "auto",
           "type": "bar",
           "x": [
            "Food and non-alcoholic beverages"
           ],
           "xaxis": "x",
           "y": [
            2.3
           ],
           "yaxis": "y"
          },
          {
           "alignmentgroup": "True",
           "hovertemplate": "EN_DESC=%{x}<br>month=2022-04<br>perc_increase=%{y}<extra></extra>",
           "legendgroup": "Alcoholic beverages, tobacco and narcotics",
           "marker": {
            "color": "#EF553B",
            "pattern": {
             "shape": ""
            }
           },
           "name": "Alcoholic beverages, tobacco and narcotics",
           "offsetgroup": "Alcoholic beverages, tobacco and narcotics",
           "orientation": "v",
           "showlegend": true,
           "textposition": "auto",
           "type": "bar",
           "x": [
            "Alcoholic beverages, tobacco and narcotics"
           ],
           "xaxis": "x",
           "y": [
            0.2
           ],
           "yaxis": "y"
          },
          {
           "alignmentgroup": "True",
           "hovertemplate": "EN_DESC=%{x}<br>month=2022-04<br>perc_increase=%{y}<extra></extra>",
           "legendgroup": "Clothing and footwear",
           "marker": {
            "color": "#00cc96",
            "pattern": {
             "shape": ""
            }
           },
           "name": "Clothing and footwear",
           "offsetgroup": "Clothing and footwear",
           "orientation": "v",
           "showlegend": true,
           "textposition": "auto",
           "type": "bar",
           "x": [
            "Clothing and footwear"
           ],
           "xaxis": "x",
           "y": [
            2
           ],
           "yaxis": "y"
          },
          {
           "alignmentgroup": "True",
           "hovertemplate": "EN_DESC=%{x}<br>month=2022-04<br>perc_increase=%{y}<extra></extra>",
           "legendgroup": "Housing, water, electricity, gas and other fuels",
           "marker": {
            "color": "#ab63fa",
            "pattern": {
             "shape": ""
            }
           },
           "name": "Housing, water, electricity, gas and other fuels",
           "offsetgroup": "Housing, water, electricity, gas and other fuels",
           "orientation": "v",
           "showlegend": true,
           "textposition": "auto",
           "type": "bar",
           "x": [
            "Housing, water, electricity, gas and other fuels"
           ],
           "xaxis": "x",
           "y": [
            20.5
           ],
           "yaxis": "y"
          },
          {
           "alignmentgroup": "True",
           "hovertemplate": "EN_DESC=%{x}<br>month=2022-04<br>perc_increase=%{y}<extra></extra>",
           "legendgroup": "Furnishings, household equipment and routine household maintenance",
           "marker": {
            "color": "#FFA15A",
            "pattern": {
             "shape": ""
            }
           },
           "name": "Furnishings, household equipment and routine household maintenance",
           "offsetgroup": "Furnishings, household equipment and routine household maintenance",
           "orientation": "v",
           "showlegend": true,
           "textposition": "auto",
           "type": "bar",
           "x": [
            "Furnishings, household equipment and routine household maintenance"
           ],
           "xaxis": "x",
           "y": [
            1.5
           ],
           "yaxis": "y"
          },
          {
           "alignmentgroup": "True",
           "hovertemplate": "EN_DESC=%{x}<br>month=2022-04<br>perc_increase=%{y}<extra></extra>",
           "legendgroup": "Health",
           "marker": {
            "color": "#19d3f3",
            "pattern": {
             "shape": ""
            }
           },
           "name": "Health",
           "offsetgroup": "Health",
           "orientation": "v",
           "showlegend": true,
           "textposition": "auto",
           "type": "bar",
           "x": [
            "Health"
           ],
           "xaxis": "x",
           "y": [
            0.2
           ],
           "yaxis": "y"
          },
          {
           "alignmentgroup": "True",
           "hovertemplate": "EN_DESC=%{x}<br>month=2022-04<br>perc_increase=%{y}<extra></extra>",
           "legendgroup": "Transport",
           "marker": {
            "color": "#FF6692",
            "pattern": {
             "shape": ""
            }
           },
           "name": "Transport",
           "offsetgroup": "Transport",
           "orientation": "v",
           "showlegend": true,
           "textposition": "auto",
           "type": "bar",
           "x": [
            "Transport"
           ],
           "xaxis": "x",
           "y": [
            -0.8
           ],
           "yaxis": "y"
          },
          {
           "alignmentgroup": "True",
           "hovertemplate": "EN_DESC=%{x}<br>month=2022-04<br>perc_increase=%{y}<extra></extra>",
           "legendgroup": "Communications",
           "marker": {
            "color": "#B6E880",
            "pattern": {
             "shape": ""
            }
           },
           "name": "Communications",
           "offsetgroup": "Communications",
           "orientation": "v",
           "showlegend": true,
           "textposition": "auto",
           "type": "bar",
           "x": [
            "Communications"
           ],
           "xaxis": "x",
           "y": [
            -0.2
           ],
           "yaxis": "y"
          },
          {
           "alignmentgroup": "True",
           "hovertemplate": "EN_DESC=%{x}<br>month=2022-04<br>perc_increase=%{y}<extra></extra>",
           "legendgroup": "Recreation and culture",
           "marker": {
            "color": "#FF97FF",
            "pattern": {
             "shape": ""
            }
           },
           "name": "Recreation and culture",
           "offsetgroup": "Recreation and culture",
           "orientation": "v",
           "showlegend": true,
           "textposition": "auto",
           "type": "bar",
           "x": [
            "Recreation and culture"
           ],
           "xaxis": "x",
           "y": [
            2.1
           ],
           "yaxis": "y"
          },
          {
           "alignmentgroup": "True",
           "hovertemplate": "EN_DESC=%{x}<br>month=2022-04<br>perc_increase=%{y}<extra></extra>",
           "legendgroup": "Education",
           "marker": {
            "color": "#FECB52",
            "pattern": {
             "shape": ""
            }
           },
           "name": "Education",
           "offsetgroup": "Education",
           "orientation": "v",
           "showlegend": true,
           "textposition": "auto",
           "type": "bar",
           "x": [
            "Education"
           ],
           "xaxis": "x",
           "y": [
            0.1
           ],
           "yaxis": "y"
          },
          {
           "alignmentgroup": "True",
           "hovertemplate": "EN_DESC=%{x}<br>month=2022-04<br>perc_increase=%{y}<extra></extra>",
           "legendgroup": "Restaurants and hotels",
           "marker": {
            "color": "#636efa",
            "pattern": {
             "shape": ""
            }
           },
           "name": "Restaurants and hotels",
           "offsetgroup": "Restaurants and hotels",
           "orientation": "v",
           "showlegend": true,
           "textposition": "auto",
           "type": "bar",
           "x": [
            "Restaurants and hotels"
           ],
           "xaxis": "x",
           "y": [
            4.2
           ],
           "yaxis": "y"
          },
          {
           "alignmentgroup": "True",
           "hovertemplate": "EN_DESC=%{x}<br>month=2022-04<br>perc_increase=%{y}<extra></extra>",
           "legendgroup": "Miscellaneous goods and services",
           "marker": {
            "color": "#EF553B",
            "pattern": {
             "shape": ""
            }
           },
           "name": "Miscellaneous goods and services",
           "offsetgroup": "Miscellaneous goods and services",
           "orientation": "v",
           "showlegend": true,
           "textposition": "auto",
           "type": "bar",
           "x": [
            "Miscellaneous goods and services"
           ],
           "xaxis": "x",
           "y": [
            1.2
           ],
           "yaxis": "y"
          }
         ],
         "name": "2022-04"
        }
       ],
       "layout": {
        "barmode": "relative",
        "legend": {
         "title": {
          "text": "EN_DESC"
         },
         "tracegroupgap": 0
        },
        "margin": {
         "t": 60
        },
        "sliders": [
         {
          "active": 0,
          "currentvalue": {
           "prefix": "month="
          },
          "len": 0.9,
          "pad": {
           "b": 10,
           "t": 60
          },
          "steps": [
           {
            "args": [
             [
              "2021-08"
             ],
             {
              "frame": {
               "duration": 0,
               "redraw": true
              },
              "fromcurrent": true,
              "mode": "immediate",
              "transition": {
               "duration": 0,
               "easing": "linear"
              }
             }
            ],
            "label": "2021-08",
            "method": "animate"
           },
           {
            "args": [
             [
              "2021-09"
             ],
             {
              "frame": {
               "duration": 0,
               "redraw": true
              },
              "fromcurrent": true,
              "mode": "immediate",
              "transition": {
               "duration": 0,
               "easing": "linear"
              }
             }
            ],
            "label": "2021-09",
            "method": "animate"
           },
           {
            "args": [
             [
              "2021-10"
             ],
             {
              "frame": {
               "duration": 0,
               "redraw": true
              },
              "fromcurrent": true,
              "mode": "immediate",
              "transition": {
               "duration": 0,
               "easing": "linear"
              }
             }
            ],
            "label": "2021-10",
            "method": "animate"
           },
           {
            "args": [
             [
              "2021-11"
             ],
             {
              "frame": {
               "duration": 0,
               "redraw": true
              },
              "fromcurrent": true,
              "mode": "immediate",
              "transition": {
               "duration": 0,
               "easing": "linear"
              }
             }
            ],
            "label": "2021-11",
            "method": "animate"
           },
           {
            "args": [
             [
              "2021-12"
             ],
             {
              "frame": {
               "duration": 0,
               "redraw": true
              },
              "fromcurrent": true,
              "mode": "immediate",
              "transition": {
               "duration": 0,
               "easing": "linear"
              }
             }
            ],
            "label": "2021-12",
            "method": "animate"
           },
           {
            "args": [
             [
              "2022-01"
             ],
             {
              "frame": {
               "duration": 0,
               "redraw": true
              },
              "fromcurrent": true,
              "mode": "immediate",
              "transition": {
               "duration": 0,
               "easing": "linear"
              }
             }
            ],
            "label": "2022-01",
            "method": "animate"
           },
           {
            "args": [
             [
              "2022-02"
             ],
             {
              "frame": {
               "duration": 0,
               "redraw": true
              },
              "fromcurrent": true,
              "mode": "immediate",
              "transition": {
               "duration": 0,
               "easing": "linear"
              }
             }
            ],
            "label": "2022-02",
            "method": "animate"
           },
           {
            "args": [
             [
              "2022-03"
             ],
             {
              "frame": {
               "duration": 0,
               "redraw": true
              },
              "fromcurrent": true,
              "mode": "immediate",
              "transition": {
               "duration": 0,
               "easing": "linear"
              }
             }
            ],
            "label": "2022-03",
            "method": "animate"
           },
           {
            "args": [
             [
              "2022-04"
             ],
             {
              "frame": {
               "duration": 0,
               "redraw": true
              },
              "fromcurrent": true,
              "mode": "immediate",
              "transition": {
               "duration": 0,
               "easing": "linear"
              }
             }
            ],
            "label": "2022-04",
            "method": "animate"
           }
          ],
          "x": 0.1,
          "xanchor": "left",
          "y": 0,
          "yanchor": "top"
         }
        ],
        "template": {
         "data": {
          "bar": [
           {
            "error_x": {
             "color": "#2a3f5f"
            },
            "error_y": {
             "color": "#2a3f5f"
            },
            "marker": {
             "line": {
              "color": "#E5ECF6",
              "width": 0.5
             },
             "pattern": {
              "fillmode": "overlay",
              "size": 10,
              "solidity": 0.2
             }
            },
            "type": "bar"
           }
          ],
          "barpolar": [
           {
            "marker": {
             "line": {
              "color": "#E5ECF6",
              "width": 0.5
             },
             "pattern": {
              "fillmode": "overlay",
              "size": 10,
              "solidity": 0.2
             }
            },
            "type": "barpolar"
           }
          ],
          "carpet": [
           {
            "aaxis": {
             "endlinecolor": "#2a3f5f",
             "gridcolor": "white",
             "linecolor": "white",
             "minorgridcolor": "white",
             "startlinecolor": "#2a3f5f"
            },
            "baxis": {
             "endlinecolor": "#2a3f5f",
             "gridcolor": "white",
             "linecolor": "white",
             "minorgridcolor": "white",
             "startlinecolor": "#2a3f5f"
            },
            "type": "carpet"
           }
          ],
          "choropleth": [
           {
            "colorbar": {
             "outlinewidth": 0,
             "ticks": ""
            },
            "type": "choropleth"
           }
          ],
          "contour": [
           {
            "colorbar": {
             "outlinewidth": 0,
             "ticks": ""
            },
            "colorscale": [
             [
              0,
              "#0d0887"
             ],
             [
              0.1111111111111111,
              "#46039f"
             ],
             [
              0.2222222222222222,
              "#7201a8"
             ],
             [
              0.3333333333333333,
              "#9c179e"
             ],
             [
              0.4444444444444444,
              "#bd3786"
             ],
             [
              0.5555555555555556,
              "#d8576b"
             ],
             [
              0.6666666666666666,
              "#ed7953"
             ],
             [
              0.7777777777777778,
              "#fb9f3a"
             ],
             [
              0.8888888888888888,
              "#fdca26"
             ],
             [
              1,
              "#f0f921"
             ]
            ],
            "type": "contour"
           }
          ],
          "contourcarpet": [
           {
            "colorbar": {
             "outlinewidth": 0,
             "ticks": ""
            },
            "type": "contourcarpet"
           }
          ],
          "heatmap": [
           {
            "colorbar": {
             "outlinewidth": 0,
             "ticks": ""
            },
            "colorscale": [
             [
              0,
              "#0d0887"
             ],
             [
              0.1111111111111111,
              "#46039f"
             ],
             [
              0.2222222222222222,
              "#7201a8"
             ],
             [
              0.3333333333333333,
              "#9c179e"
             ],
             [
              0.4444444444444444,
              "#bd3786"
             ],
             [
              0.5555555555555556,
              "#d8576b"
             ],
             [
              0.6666666666666666,
              "#ed7953"
             ],
             [
              0.7777777777777778,
              "#fb9f3a"
             ],
             [
              0.8888888888888888,
              "#fdca26"
             ],
             [
              1,
              "#f0f921"
             ]
            ],
            "type": "heatmap"
           }
          ],
          "heatmapgl": [
           {
            "colorbar": {
             "outlinewidth": 0,
             "ticks": ""
            },
            "colorscale": [
             [
              0,
              "#0d0887"
             ],
             [
              0.1111111111111111,
              "#46039f"
             ],
             [
              0.2222222222222222,
              "#7201a8"
             ],
             [
              0.3333333333333333,
              "#9c179e"
             ],
             [
              0.4444444444444444,
              "#bd3786"
             ],
             [
              0.5555555555555556,
              "#d8576b"
             ],
             [
              0.6666666666666666,
              "#ed7953"
             ],
             [
              0.7777777777777778,
              "#fb9f3a"
             ],
             [
              0.8888888888888888,
              "#fdca26"
             ],
             [
              1,
              "#f0f921"
             ]
            ],
            "type": "heatmapgl"
           }
          ],
          "histogram": [
           {
            "marker": {
             "pattern": {
              "fillmode": "overlay",
              "size": 10,
              "solidity": 0.2
             }
            },
            "type": "histogram"
           }
          ],
          "histogram2d": [
           {
            "colorbar": {
             "outlinewidth": 0,
             "ticks": ""
            },
            "colorscale": [
             [
              0,
              "#0d0887"
             ],
             [
              0.1111111111111111,
              "#46039f"
             ],
             [
              0.2222222222222222,
              "#7201a8"
             ],
             [
              0.3333333333333333,
              "#9c179e"
             ],
             [
              0.4444444444444444,
              "#bd3786"
             ],
             [
              0.5555555555555556,
              "#d8576b"
             ],
             [
              0.6666666666666666,
              "#ed7953"
             ],
             [
              0.7777777777777778,
              "#fb9f3a"
             ],
             [
              0.8888888888888888,
              "#fdca26"
             ],
             [
              1,
              "#f0f921"
             ]
            ],
            "type": "histogram2d"
           }
          ],
          "histogram2dcontour": [
           {
            "colorbar": {
             "outlinewidth": 0,
             "ticks": ""
            },
            "colorscale": [
             [
              0,
              "#0d0887"
             ],
             [
              0.1111111111111111,
              "#46039f"
             ],
             [
              0.2222222222222222,
              "#7201a8"
             ],
             [
              0.3333333333333333,
              "#9c179e"
             ],
             [
              0.4444444444444444,
              "#bd3786"
             ],
             [
              0.5555555555555556,
              "#d8576b"
             ],
             [
              0.6666666666666666,
              "#ed7953"
             ],
             [
              0.7777777777777778,
              "#fb9f3a"
             ],
             [
              0.8888888888888888,
              "#fdca26"
             ],
             [
              1,
              "#f0f921"
             ]
            ],
            "type": "histogram2dcontour"
           }
          ],
          "mesh3d": [
           {
            "colorbar": {
             "outlinewidth": 0,
             "ticks": ""
            },
            "type": "mesh3d"
           }
          ],
          "parcoords": [
           {
            "line": {
             "colorbar": {
              "outlinewidth": 0,
              "ticks": ""
             }
            },
            "type": "parcoords"
           }
          ],
          "pie": [
           {
            "automargin": true,
            "type": "pie"
           }
          ],
          "scatter": [
           {
            "fillpattern": {
             "fillmode": "overlay",
             "size": 10,
             "solidity": 0.2
            },
            "type": "scatter"
           }
          ],
          "scatter3d": [
           {
            "line": {
             "colorbar": {
              "outlinewidth": 0,
              "ticks": ""
             }
            },
            "marker": {
             "colorbar": {
              "outlinewidth": 0,
              "ticks": ""
             }
            },
            "type": "scatter3d"
           }
          ],
          "scattercarpet": [
           {
            "marker": {
             "colorbar": {
              "outlinewidth": 0,
              "ticks": ""
             }
            },
            "type": "scattercarpet"
           }
          ],
          "scattergeo": [
           {
            "marker": {
             "colorbar": {
              "outlinewidth": 0,
              "ticks": ""
             }
            },
            "type": "scattergeo"
           }
          ],
          "scattergl": [
           {
            "marker": {
             "colorbar": {
              "outlinewidth": 0,
              "ticks": ""
             }
            },
            "type": "scattergl"
           }
          ],
          "scattermapbox": [
           {
            "marker": {
             "colorbar": {
              "outlinewidth": 0,
              "ticks": ""
             }
            },
            "type": "scattermapbox"
           }
          ],
          "scatterpolar": [
           {
            "marker": {
             "colorbar": {
              "outlinewidth": 0,
              "ticks": ""
             }
            },
            "type": "scatterpolar"
           }
          ],
          "scatterpolargl": [
           {
            "marker": {
             "colorbar": {
              "outlinewidth": 0,
              "ticks": ""
             }
            },
            "type": "scatterpolargl"
           }
          ],
          "scatterternary": [
           {
            "marker": {
             "colorbar": {
              "outlinewidth": 0,
              "ticks": ""
             }
            },
            "type": "scatterternary"
           }
          ],
          "surface": [
           {
            "colorbar": {
             "outlinewidth": 0,
             "ticks": ""
            },
            "colorscale": [
             [
              0,
              "#0d0887"
             ],
             [
              0.1111111111111111,
              "#46039f"
             ],
             [
              0.2222222222222222,
              "#7201a8"
             ],
             [
              0.3333333333333333,
              "#9c179e"
             ],
             [
              0.4444444444444444,
              "#bd3786"
             ],
             [
              0.5555555555555556,
              "#d8576b"
             ],
             [
              0.6666666666666666,
              "#ed7953"
             ],
             [
              0.7777777777777778,
              "#fb9f3a"
             ],
             [
              0.8888888888888888,
              "#fdca26"
             ],
             [
              1,
              "#f0f921"
             ]
            ],
            "type": "surface"
           }
          ],
          "table": [
           {
            "cells": {
             "fill": {
              "color": "#EBF0F8"
             },
             "line": {
              "color": "white"
             }
            },
            "header": {
             "fill": {
              "color": "#C8D4E3"
             },
             "line": {
              "color": "white"
             }
            },
            "type": "table"
           }
          ]
         },
         "layout": {
          "annotationdefaults": {
           "arrowcolor": "#2a3f5f",
           "arrowhead": 0,
           "arrowwidth": 1
          },
          "autotypenumbers": "strict",
          "coloraxis": {
           "colorbar": {
            "outlinewidth": 0,
            "ticks": ""
           }
          },
          "colorscale": {
           "diverging": [
            [
             0,
             "#8e0152"
            ],
            [
             0.1,
             "#c51b7d"
            ],
            [
             0.2,
             "#de77ae"
            ],
            [
             0.3,
             "#f1b6da"
            ],
            [
             0.4,
             "#fde0ef"
            ],
            [
             0.5,
             "#f7f7f7"
            ],
            [
             0.6,
             "#e6f5d0"
            ],
            [
             0.7,
             "#b8e186"
            ],
            [
             0.8,
             "#7fbc41"
            ],
            [
             0.9,
             "#4d9221"
            ],
            [
             1,
             "#276419"
            ]
           ],
           "sequential": [
            [
             0,
             "#0d0887"
            ],
            [
             0.1111111111111111,
             "#46039f"
            ],
            [
             0.2222222222222222,
             "#7201a8"
            ],
            [
             0.3333333333333333,
             "#9c179e"
            ],
            [
             0.4444444444444444,
             "#bd3786"
            ],
            [
             0.5555555555555556,
             "#d8576b"
            ],
            [
             0.6666666666666666,
             "#ed7953"
            ],
            [
             0.7777777777777778,
             "#fb9f3a"
            ],
            [
             0.8888888888888888,
             "#fdca26"
            ],
            [
             1,
             "#f0f921"
            ]
           ],
           "sequentialminus": [
            [
             0,
             "#0d0887"
            ],
            [
             0.1111111111111111,
             "#46039f"
            ],
            [
             0.2222222222222222,
             "#7201a8"
            ],
            [
             0.3333333333333333,
             "#9c179e"
            ],
            [
             0.4444444444444444,
             "#bd3786"
            ],
            [
             0.5555555555555556,
             "#d8576b"
            ],
            [
             0.6666666666666666,
             "#ed7953"
            ],
            [
             0.7777777777777778,
             "#fb9f3a"
            ],
            [
             0.8888888888888888,
             "#fdca26"
            ],
            [
             1,
             "#f0f921"
            ]
           ]
          },
          "colorway": [
           "#636efa",
           "#EF553B",
           "#00cc96",
           "#ab63fa",
           "#FFA15A",
           "#19d3f3",
           "#FF6692",
           "#B6E880",
           "#FF97FF",
           "#FECB52"
          ],
          "font": {
           "color": "#2a3f5f"
          },
          "geo": {
           "bgcolor": "white",
           "lakecolor": "white",
           "landcolor": "#E5ECF6",
           "showlakes": true,
           "showland": true,
           "subunitcolor": "white"
          },
          "hoverlabel": {
           "align": "left"
          },
          "hovermode": "closest",
          "mapbox": {
           "style": "light"
          },
          "paper_bgcolor": "white",
          "plot_bgcolor": "#E5ECF6",
          "polar": {
           "angularaxis": {
            "gridcolor": "white",
            "linecolor": "white",
            "ticks": ""
           },
           "bgcolor": "#E5ECF6",
           "radialaxis": {
            "gridcolor": "white",
            "linecolor": "white",
            "ticks": ""
           }
          },
          "scene": {
           "xaxis": {
            "backgroundcolor": "#E5ECF6",
            "gridcolor": "white",
            "gridwidth": 2,
            "linecolor": "white",
            "showbackground": true,
            "ticks": "",
            "zerolinecolor": "white"
           },
           "yaxis": {
            "backgroundcolor": "#E5ECF6",
            "gridcolor": "white",
            "gridwidth": 2,
            "linecolor": "white",
            "showbackground": true,
            "ticks": "",
            "zerolinecolor": "white"
           },
           "zaxis": {
            "backgroundcolor": "#E5ECF6",
            "gridcolor": "white",
            "gridwidth": 2,
            "linecolor": "white",
            "showbackground": true,
            "ticks": "",
            "zerolinecolor": "white"
           }
          },
          "shapedefaults": {
           "line": {
            "color": "#2a3f5f"
           }
          },
          "ternary": {
           "aaxis": {
            "gridcolor": "white",
            "linecolor": "white",
            "ticks": ""
           },
           "baxis": {
            "gridcolor": "white",
            "linecolor": "white",
            "ticks": ""
           },
           "bgcolor": "#E5ECF6",
           "caxis": {
            "gridcolor": "white",
            "linecolor": "white",
            "ticks": ""
           }
          },
          "title": {
           "x": 0.05
          },
          "xaxis": {
           "automargin": true,
           "gridcolor": "white",
           "linecolor": "white",
           "ticks": "",
           "title": {
            "standoff": 15
           },
           "zerolinecolor": "white",
           "zerolinewidth": 2
          },
          "yaxis": {
           "automargin": true,
           "gridcolor": "white",
           "linecolor": "white",
           "ticks": "",
           "title": {
            "standoff": 15
           },
           "zerolinecolor": "white",
           "zerolinewidth": 2
          }
         }
        },
        "updatemenus": [
         {
          "buttons": [
           {
            "args": [
             null,
             {
              "frame": {
               "duration": 500,
               "redraw": true
              },
              "fromcurrent": true,
              "mode": "immediate",
              "transition": {
               "duration": 500,
               "easing": "linear"
              }
             }
            ],
            "label": "&#9654;",
            "method": "animate"
           },
           {
            "args": [
             [
              null
             ],
             {
              "frame": {
               "duration": 0,
               "redraw": true
              },
              "fromcurrent": true,
              "mode": "immediate",
              "transition": {
               "duration": 0,
               "easing": "linear"
              }
             }
            ],
            "label": "&#9724;",
            "method": "animate"
           }
          ],
          "direction": "left",
          "pad": {
           "r": 10,
           "t": 70
          },
          "showactive": false,
          "type": "buttons",
          "x": 0.1,
          "xanchor": "right",
          "y": 0,
          "yanchor": "top"
         }
        ],
        "xaxis": {
         "anchor": "y",
         "categoryarray": [
          "Food and non-alcoholic beverages",
          "Alcoholic beverages, tobacco and narcotics",
          "Clothing and footwear",
          "Housing, water, electricity, gas and other fuels",
          "Furnishings, household equipment and routine household maintenance",
          "Health",
          "Transport",
          "Communications",
          "Recreation and culture",
          "Education",
          "Restaurants and hotels",
          "Miscellaneous goods and services"
         ],
         "categoryorder": "array",
         "domain": [
          0,
          1
         ],
         "title": {
          "text": "EN_DESC"
         }
        },
        "yaxis": {
         "anchor": "x",
         "domain": [
          0,
          1
         ],
         "range": [
          -20,
          20
         ],
         "title": {
          "text": "perc_increase"
         }
        }
       }
      },
      "text/html": [
       "<div>                            <div id=\"d3e074f6-bee7-4585-9b73-8bd8184dd2f4\" class=\"plotly-graph-div\" style=\"height:525px; width:100%;\"></div>            <script type=\"text/javascript\">                require([\"plotly\"], function(Plotly) {                    window.PLOTLYENV=window.PLOTLYENV || {};                                    if (document.getElementById(\"d3e074f6-bee7-4585-9b73-8bd8184dd2f4\")) {                    Plotly.newPlot(                        \"d3e074f6-bee7-4585-9b73-8bd8184dd2f4\",                        [{\"alignmentgroup\":\"True\",\"hovertemplate\":\"EN_DESC=%{x}<br>month=2021-08<br>perc_increase=%{y}<extra></extra>\",\"legendgroup\":\"Food and non-alcoholic beverages\",\"marker\":{\"color\":\"#636efa\",\"pattern\":{\"shape\":\"\"}},\"name\":\"Food and non-alcoholic beverages\",\"offsetgroup\":\"Food and non-alcoholic beverages\",\"orientation\":\"v\",\"showlegend\":true,\"textposition\":\"auto\",\"x\":[\"Food and non-alcoholic beverages\"],\"xaxis\":\"x\",\"y\":[0.7],\"yaxis\":\"y\",\"type\":\"bar\"},{\"alignmentgroup\":\"True\",\"hovertemplate\":\"EN_DESC=%{x}<br>month=2021-08<br>perc_increase=%{y}<extra></extra>\",\"legendgroup\":\"Alcoholic beverages, tobacco and narcotics\",\"marker\":{\"color\":\"#EF553B\",\"pattern\":{\"shape\":\"\"}},\"name\":\"Alcoholic beverages, tobacco and narcotics\",\"offsetgroup\":\"Alcoholic beverages, tobacco and narcotics\",\"orientation\":\"v\",\"showlegend\":true,\"textposition\":\"auto\",\"x\":[\"Alcoholic beverages, tobacco and narcotics\"],\"xaxis\":\"x\",\"y\":[0.6],\"yaxis\":\"y\",\"type\":\"bar\"},{\"alignmentgroup\":\"True\",\"hovertemplate\":\"EN_DESC=%{x}<br>month=2021-08<br>perc_increase=%{y}<extra></extra>\",\"legendgroup\":\"Clothing and footwear\",\"marker\":{\"color\":\"#00cc96\",\"pattern\":{\"shape\":\"\"}},\"name\":\"Clothing and footwear\",\"offsetgroup\":\"Clothing and footwear\",\"orientation\":\"v\",\"showlegend\":true,\"textposition\":\"auto\",\"x\":[\"Clothing and footwear\"],\"xaxis\":\"x\",\"y\":[0.9],\"yaxis\":\"y\",\"type\":\"bar\"},{\"alignmentgroup\":\"True\",\"hovertemplate\":\"EN_DESC=%{x}<br>month=2021-08<br>perc_increase=%{y}<extra></extra>\",\"legendgroup\":\"Housing, water, electricity, gas and other fuels\",\"marker\":{\"color\":\"#ab63fa\",\"pattern\":{\"shape\":\"\"}},\"name\":\"Housing, water, electricity, gas and other fuels\",\"offsetgroup\":\"Housing, water, electricity, gas and other fuels\",\"orientation\":\"v\",\"showlegend\":true,\"textposition\":\"auto\",\"x\":[\"Housing, water, electricity, gas and other fuels\"],\"xaxis\":\"x\",\"y\":[0.9],\"yaxis\":\"y\",\"type\":\"bar\"},{\"alignmentgroup\":\"True\",\"hovertemplate\":\"EN_DESC=%{x}<br>month=2021-08<br>perc_increase=%{y}<extra></extra>\",\"legendgroup\":\"Furnishings, household equipment and routine household maintenance\",\"marker\":{\"color\":\"#FFA15A\",\"pattern\":{\"shape\":\"\"}},\"name\":\"Furnishings, household equipment and routine household maintenance\",\"offsetgroup\":\"Furnishings, household equipment and routine household maintenance\",\"orientation\":\"v\",\"showlegend\":true,\"textposition\":\"auto\",\"x\":[\"Furnishings, household equipment and routine household maintenance\"],\"xaxis\":\"x\",\"y\":[1.3],\"yaxis\":\"y\",\"type\":\"bar\"},{\"alignmentgroup\":\"True\",\"hovertemplate\":\"EN_DESC=%{x}<br>month=2021-08<br>perc_increase=%{y}<extra></extra>\",\"legendgroup\":\"Health\",\"marker\":{\"color\":\"#19d3f3\",\"pattern\":{\"shape\":\"\"}},\"name\":\"Health\",\"offsetgroup\":\"Health\",\"orientation\":\"v\",\"showlegend\":true,\"textposition\":\"auto\",\"x\":[\"Health\"],\"xaxis\":\"x\",\"y\":[0.3],\"yaxis\":\"y\",\"type\":\"bar\"},{\"alignmentgroup\":\"True\",\"hovertemplate\":\"EN_DESC=%{x}<br>month=2021-08<br>perc_increase=%{y}<extra></extra>\",\"legendgroup\":\"Transport\",\"marker\":{\"color\":\"#FF6692\",\"pattern\":{\"shape\":\"\"}},\"name\":\"Transport\",\"offsetgroup\":\"Transport\",\"orientation\":\"v\",\"showlegend\":true,\"textposition\":\"auto\",\"x\":[\"Transport\"],\"xaxis\":\"x\",\"y\":[0.6],\"yaxis\":\"y\",\"type\":\"bar\"},{\"alignmentgroup\":\"True\",\"hovertemplate\":\"EN_DESC=%{x}<br>month=2021-08<br>perc_increase=%{y}<extra></extra>\",\"legendgroup\":\"Communications\",\"marker\":{\"color\":\"#B6E880\",\"pattern\":{\"shape\":\"\"}},\"name\":\"Communications\",\"offsetgroup\":\"Communications\",\"orientation\":\"v\",\"showlegend\":true,\"textposition\":\"auto\",\"x\":[\"Communications\"],\"xaxis\":\"x\",\"y\":[-0.1],\"yaxis\":\"y\",\"type\":\"bar\"},{\"alignmentgroup\":\"True\",\"hovertemplate\":\"EN_DESC=%{x}<br>month=2021-08<br>perc_increase=%{y}<extra></extra>\",\"legendgroup\":\"Recreation and culture\",\"marker\":{\"color\":\"#FF97FF\",\"pattern\":{\"shape\":\"\"}},\"name\":\"Recreation and culture\",\"offsetgroup\":\"Recreation and culture\",\"orientation\":\"v\",\"showlegend\":true,\"textposition\":\"auto\",\"x\":[\"Recreation and culture\"],\"xaxis\":\"x\",\"y\":[1.0],\"yaxis\":\"y\",\"type\":\"bar\"},{\"alignmentgroup\":\"True\",\"hovertemplate\":\"EN_DESC=%{x}<br>month=2021-08<br>perc_increase=%{y}<extra></extra>\",\"legendgroup\":\"Education\",\"marker\":{\"color\":\"#FECB52\",\"pattern\":{\"shape\":\"\"}},\"name\":\"Education\",\"offsetgroup\":\"Education\",\"orientation\":\"v\",\"showlegend\":true,\"textposition\":\"auto\",\"x\":[\"Education\"],\"xaxis\":\"x\",\"y\":[0.1],\"yaxis\":\"y\",\"type\":\"bar\"},{\"alignmentgroup\":\"True\",\"hovertemplate\":\"EN_DESC=%{x}<br>month=2021-08<br>perc_increase=%{y}<extra></extra>\",\"legendgroup\":\"Restaurants and hotels\",\"marker\":{\"color\":\"#636efa\",\"pattern\":{\"shape\":\"\"}},\"name\":\"Restaurants and hotels\",\"offsetgroup\":\"Restaurants and hotels\",\"orientation\":\"v\",\"showlegend\":true,\"textposition\":\"auto\",\"x\":[\"Restaurants and hotels\"],\"xaxis\":\"x\",\"y\":[-0.2],\"yaxis\":\"y\",\"type\":\"bar\"},{\"alignmentgroup\":\"True\",\"hovertemplate\":\"EN_DESC=%{x}<br>month=2021-08<br>perc_increase=%{y}<extra></extra>\",\"legendgroup\":\"Miscellaneous goods and services\",\"marker\":{\"color\":\"#EF553B\",\"pattern\":{\"shape\":\"\"}},\"name\":\"Miscellaneous goods and services\",\"offsetgroup\":\"Miscellaneous goods and services\",\"orientation\":\"v\",\"showlegend\":true,\"textposition\":\"auto\",\"x\":[\"Miscellaneous goods and services\"],\"xaxis\":\"x\",\"y\":[1.3],\"yaxis\":\"y\",\"type\":\"bar\"}],                        {\"template\":{\"data\":{\"histogram2dcontour\":[{\"type\":\"histogram2dcontour\",\"colorbar\":{\"outlinewidth\":0,\"ticks\":\"\"},\"colorscale\":[[0.0,\"#0d0887\"],[0.1111111111111111,\"#46039f\"],[0.2222222222222222,\"#7201a8\"],[0.3333333333333333,\"#9c179e\"],[0.4444444444444444,\"#bd3786\"],[0.5555555555555556,\"#d8576b\"],[0.6666666666666666,\"#ed7953\"],[0.7777777777777778,\"#fb9f3a\"],[0.8888888888888888,\"#fdca26\"],[1.0,\"#f0f921\"]]}],\"choropleth\":[{\"type\":\"choropleth\",\"colorbar\":{\"outlinewidth\":0,\"ticks\":\"\"}}],\"histogram2d\":[{\"type\":\"histogram2d\",\"colorbar\":{\"outlinewidth\":0,\"ticks\":\"\"},\"colorscale\":[[0.0,\"#0d0887\"],[0.1111111111111111,\"#46039f\"],[0.2222222222222222,\"#7201a8\"],[0.3333333333333333,\"#9c179e\"],[0.4444444444444444,\"#bd3786\"],[0.5555555555555556,\"#d8576b\"],[0.6666666666666666,\"#ed7953\"],[0.7777777777777778,\"#fb9f3a\"],[0.8888888888888888,\"#fdca26\"],[1.0,\"#f0f921\"]]}],\"heatmap\":[{\"type\":\"heatmap\",\"colorbar\":{\"outlinewidth\":0,\"ticks\":\"\"},\"colorscale\":[[0.0,\"#0d0887\"],[0.1111111111111111,\"#46039f\"],[0.2222222222222222,\"#7201a8\"],[0.3333333333333333,\"#9c179e\"],[0.4444444444444444,\"#bd3786\"],[0.5555555555555556,\"#d8576b\"],[0.6666666666666666,\"#ed7953\"],[0.7777777777777778,\"#fb9f3a\"],[0.8888888888888888,\"#fdca26\"],[1.0,\"#f0f921\"]]}],\"heatmapgl\":[{\"type\":\"heatmapgl\",\"colorbar\":{\"outlinewidth\":0,\"ticks\":\"\"},\"colorscale\":[[0.0,\"#0d0887\"],[0.1111111111111111,\"#46039f\"],[0.2222222222222222,\"#7201a8\"],[0.3333333333333333,\"#9c179e\"],[0.4444444444444444,\"#bd3786\"],[0.5555555555555556,\"#d8576b\"],[0.6666666666666666,\"#ed7953\"],[0.7777777777777778,\"#fb9f3a\"],[0.8888888888888888,\"#fdca26\"],[1.0,\"#f0f921\"]]}],\"contourcarpet\":[{\"type\":\"contourcarpet\",\"colorbar\":{\"outlinewidth\":0,\"ticks\":\"\"}}],\"contour\":[{\"type\":\"contour\",\"colorbar\":{\"outlinewidth\":0,\"ticks\":\"\"},\"colorscale\":[[0.0,\"#0d0887\"],[0.1111111111111111,\"#46039f\"],[0.2222222222222222,\"#7201a8\"],[0.3333333333333333,\"#9c179e\"],[0.4444444444444444,\"#bd3786\"],[0.5555555555555556,\"#d8576b\"],[0.6666666666666666,\"#ed7953\"],[0.7777777777777778,\"#fb9f3a\"],[0.8888888888888888,\"#fdca26\"],[1.0,\"#f0f921\"]]}],\"surface\":[{\"type\":\"surface\",\"colorbar\":{\"outlinewidth\":0,\"ticks\":\"\"},\"colorscale\":[[0.0,\"#0d0887\"],[0.1111111111111111,\"#46039f\"],[0.2222222222222222,\"#7201a8\"],[0.3333333333333333,\"#9c179e\"],[0.4444444444444444,\"#bd3786\"],[0.5555555555555556,\"#d8576b\"],[0.6666666666666666,\"#ed7953\"],[0.7777777777777778,\"#fb9f3a\"],[0.8888888888888888,\"#fdca26\"],[1.0,\"#f0f921\"]]}],\"mesh3d\":[{\"type\":\"mesh3d\",\"colorbar\":{\"outlinewidth\":0,\"ticks\":\"\"}}],\"scatter\":[{\"fillpattern\":{\"fillmode\":\"overlay\",\"size\":10,\"solidity\":0.2},\"type\":\"scatter\"}],\"parcoords\":[{\"type\":\"parcoords\",\"line\":{\"colorbar\":{\"outlinewidth\":0,\"ticks\":\"\"}}}],\"scatterpolargl\":[{\"type\":\"scatterpolargl\",\"marker\":{\"colorbar\":{\"outlinewidth\":0,\"ticks\":\"\"}}}],\"bar\":[{\"error_x\":{\"color\":\"#2a3f5f\"},\"error_y\":{\"color\":\"#2a3f5f\"},\"marker\":{\"line\":{\"color\":\"#E5ECF6\",\"width\":0.5},\"pattern\":{\"fillmode\":\"overlay\",\"size\":10,\"solidity\":0.2}},\"type\":\"bar\"}],\"scattergeo\":[{\"type\":\"scattergeo\",\"marker\":{\"colorbar\":{\"outlinewidth\":0,\"ticks\":\"\"}}}],\"scatterpolar\":[{\"type\":\"scatterpolar\",\"marker\":{\"colorbar\":{\"outlinewidth\":0,\"ticks\":\"\"}}}],\"histogram\":[{\"marker\":{\"pattern\":{\"fillmode\":\"overlay\",\"size\":10,\"solidity\":0.2}},\"type\":\"histogram\"}],\"scattergl\":[{\"type\":\"scattergl\",\"marker\":{\"colorbar\":{\"outlinewidth\":0,\"ticks\":\"\"}}}],\"scatter3d\":[{\"type\":\"scatter3d\",\"line\":{\"colorbar\":{\"outlinewidth\":0,\"ticks\":\"\"}},\"marker\":{\"colorbar\":{\"outlinewidth\":0,\"ticks\":\"\"}}}],\"scattermapbox\":[{\"type\":\"scattermapbox\",\"marker\":{\"colorbar\":{\"outlinewidth\":0,\"ticks\":\"\"}}}],\"scatterternary\":[{\"type\":\"scatterternary\",\"marker\":{\"colorbar\":{\"outlinewidth\":0,\"ticks\":\"\"}}}],\"scattercarpet\":[{\"type\":\"scattercarpet\",\"marker\":{\"colorbar\":{\"outlinewidth\":0,\"ticks\":\"\"}}}],\"carpet\":[{\"aaxis\":{\"endlinecolor\":\"#2a3f5f\",\"gridcolor\":\"white\",\"linecolor\":\"white\",\"minorgridcolor\":\"white\",\"startlinecolor\":\"#2a3f5f\"},\"baxis\":{\"endlinecolor\":\"#2a3f5f\",\"gridcolor\":\"white\",\"linecolor\":\"white\",\"minorgridcolor\":\"white\",\"startlinecolor\":\"#2a3f5f\"},\"type\":\"carpet\"}],\"table\":[{\"cells\":{\"fill\":{\"color\":\"#EBF0F8\"},\"line\":{\"color\":\"white\"}},\"header\":{\"fill\":{\"color\":\"#C8D4E3\"},\"line\":{\"color\":\"white\"}},\"type\":\"table\"}],\"barpolar\":[{\"marker\":{\"line\":{\"color\":\"#E5ECF6\",\"width\":0.5},\"pattern\":{\"fillmode\":\"overlay\",\"size\":10,\"solidity\":0.2}},\"type\":\"barpolar\"}],\"pie\":[{\"automargin\":true,\"type\":\"pie\"}]},\"layout\":{\"autotypenumbers\":\"strict\",\"colorway\":[\"#636efa\",\"#EF553B\",\"#00cc96\",\"#ab63fa\",\"#FFA15A\",\"#19d3f3\",\"#FF6692\",\"#B6E880\",\"#FF97FF\",\"#FECB52\"],\"font\":{\"color\":\"#2a3f5f\"},\"hovermode\":\"closest\",\"hoverlabel\":{\"align\":\"left\"},\"paper_bgcolor\":\"white\",\"plot_bgcolor\":\"#E5ECF6\",\"polar\":{\"bgcolor\":\"#E5ECF6\",\"angularaxis\":{\"gridcolor\":\"white\",\"linecolor\":\"white\",\"ticks\":\"\"},\"radialaxis\":{\"gridcolor\":\"white\",\"linecolor\":\"white\",\"ticks\":\"\"}},\"ternary\":{\"bgcolor\":\"#E5ECF6\",\"aaxis\":{\"gridcolor\":\"white\",\"linecolor\":\"white\",\"ticks\":\"\"},\"baxis\":{\"gridcolor\":\"white\",\"linecolor\":\"white\",\"ticks\":\"\"},\"caxis\":{\"gridcolor\":\"white\",\"linecolor\":\"white\",\"ticks\":\"\"}},\"coloraxis\":{\"colorbar\":{\"outlinewidth\":0,\"ticks\":\"\"}},\"colorscale\":{\"sequential\":[[0.0,\"#0d0887\"],[0.1111111111111111,\"#46039f\"],[0.2222222222222222,\"#7201a8\"],[0.3333333333333333,\"#9c179e\"],[0.4444444444444444,\"#bd3786\"],[0.5555555555555556,\"#d8576b\"],[0.6666666666666666,\"#ed7953\"],[0.7777777777777778,\"#fb9f3a\"],[0.8888888888888888,\"#fdca26\"],[1.0,\"#f0f921\"]],\"sequentialminus\":[[0.0,\"#0d0887\"],[0.1111111111111111,\"#46039f\"],[0.2222222222222222,\"#7201a8\"],[0.3333333333333333,\"#9c179e\"],[0.4444444444444444,\"#bd3786\"],[0.5555555555555556,\"#d8576b\"],[0.6666666666666666,\"#ed7953\"],[0.7777777777777778,\"#fb9f3a\"],[0.8888888888888888,\"#fdca26\"],[1.0,\"#f0f921\"]],\"diverging\":[[0,\"#8e0152\"],[0.1,\"#c51b7d\"],[0.2,\"#de77ae\"],[0.3,\"#f1b6da\"],[0.4,\"#fde0ef\"],[0.5,\"#f7f7f7\"],[0.6,\"#e6f5d0\"],[0.7,\"#b8e186\"],[0.8,\"#7fbc41\"],[0.9,\"#4d9221\"],[1,\"#276419\"]]},\"xaxis\":{\"gridcolor\":\"white\",\"linecolor\":\"white\",\"ticks\":\"\",\"title\":{\"standoff\":15},\"zerolinecolor\":\"white\",\"automargin\":true,\"zerolinewidth\":2},\"yaxis\":{\"gridcolor\":\"white\",\"linecolor\":\"white\",\"ticks\":\"\",\"title\":{\"standoff\":15},\"zerolinecolor\":\"white\",\"automargin\":true,\"zerolinewidth\":2},\"scene\":{\"xaxis\":{\"backgroundcolor\":\"#E5ECF6\",\"gridcolor\":\"white\",\"linecolor\":\"white\",\"showbackground\":true,\"ticks\":\"\",\"zerolinecolor\":\"white\",\"gridwidth\":2},\"yaxis\":{\"backgroundcolor\":\"#E5ECF6\",\"gridcolor\":\"white\",\"linecolor\":\"white\",\"showbackground\":true,\"ticks\":\"\",\"zerolinecolor\":\"white\",\"gridwidth\":2},\"zaxis\":{\"backgroundcolor\":\"#E5ECF6\",\"gridcolor\":\"white\",\"linecolor\":\"white\",\"showbackground\":true,\"ticks\":\"\",\"zerolinecolor\":\"white\",\"gridwidth\":2}},\"shapedefaults\":{\"line\":{\"color\":\"#2a3f5f\"}},\"annotationdefaults\":{\"arrowcolor\":\"#2a3f5f\",\"arrowhead\":0,\"arrowwidth\":1},\"geo\":{\"bgcolor\":\"white\",\"landcolor\":\"#E5ECF6\",\"subunitcolor\":\"white\",\"showland\":true,\"showlakes\":true,\"lakecolor\":\"white\"},\"title\":{\"x\":0.05},\"mapbox\":{\"style\":\"light\"}}},\"xaxis\":{\"anchor\":\"y\",\"domain\":[0.0,1.0],\"title\":{\"text\":\"EN_DESC\"},\"categoryorder\":\"array\",\"categoryarray\":[\"Food and non-alcoholic beverages\",\"Alcoholic beverages, tobacco and narcotics\",\"Clothing and footwear\",\"Housing, water, electricity, gas and other fuels\",\"Furnishings, household equipment and routine household maintenance\",\"Health\",\"Transport\",\"Communications\",\"Recreation and culture\",\"Education\",\"Restaurants and hotels\",\"Miscellaneous goods and services\"]},\"yaxis\":{\"anchor\":\"x\",\"domain\":[0.0,1.0],\"title\":{\"text\":\"perc_increase\"},\"range\":[-20,20]},\"legend\":{\"title\":{\"text\":\"EN_DESC\"},\"tracegroupgap\":0},\"margin\":{\"t\":60},\"barmode\":\"relative\",\"updatemenus\":[{\"buttons\":[{\"args\":[null,{\"frame\":{\"duration\":500,\"redraw\":true},\"mode\":\"immediate\",\"fromcurrent\":true,\"transition\":{\"duration\":500,\"easing\":\"linear\"}}],\"label\":\"&#9654;\",\"method\":\"animate\"},{\"args\":[[null],{\"frame\":{\"duration\":0,\"redraw\":true},\"mode\":\"immediate\",\"fromcurrent\":true,\"transition\":{\"duration\":0,\"easing\":\"linear\"}}],\"label\":\"&#9724;\",\"method\":\"animate\"}],\"direction\":\"left\",\"pad\":{\"r\":10,\"t\":70},\"showactive\":false,\"type\":\"buttons\",\"x\":0.1,\"xanchor\":\"right\",\"y\":0,\"yanchor\":\"top\"}],\"sliders\":[{\"active\":0,\"currentvalue\":{\"prefix\":\"month=\"},\"len\":0.9,\"pad\":{\"b\":10,\"t\":60},\"steps\":[{\"args\":[[\"2021-08\"],{\"frame\":{\"duration\":0,\"redraw\":true},\"mode\":\"immediate\",\"fromcurrent\":true,\"transition\":{\"duration\":0,\"easing\":\"linear\"}}],\"label\":\"2021-08\",\"method\":\"animate\"},{\"args\":[[\"2021-09\"],{\"frame\":{\"duration\":0,\"redraw\":true},\"mode\":\"immediate\",\"fromcurrent\":true,\"transition\":{\"duration\":0,\"easing\":\"linear\"}}],\"label\":\"2021-09\",\"method\":\"animate\"},{\"args\":[[\"2021-10\"],{\"frame\":{\"duration\":0,\"redraw\":true},\"mode\":\"immediate\",\"fromcurrent\":true,\"transition\":{\"duration\":0,\"easing\":\"linear\"}}],\"label\":\"2021-10\",\"method\":\"animate\"},{\"args\":[[\"2021-11\"],{\"frame\":{\"duration\":0,\"redraw\":true},\"mode\":\"immediate\",\"fromcurrent\":true,\"transition\":{\"duration\":0,\"easing\":\"linear\"}}],\"label\":\"2021-11\",\"method\":\"animate\"},{\"args\":[[\"2021-12\"],{\"frame\":{\"duration\":0,\"redraw\":true},\"mode\":\"immediate\",\"fromcurrent\":true,\"transition\":{\"duration\":0,\"easing\":\"linear\"}}],\"label\":\"2021-12\",\"method\":\"animate\"},{\"args\":[[\"2022-01\"],{\"frame\":{\"duration\":0,\"redraw\":true},\"mode\":\"immediate\",\"fromcurrent\":true,\"transition\":{\"duration\":0,\"easing\":\"linear\"}}],\"label\":\"2022-01\",\"method\":\"animate\"},{\"args\":[[\"2022-02\"],{\"frame\":{\"duration\":0,\"redraw\":true},\"mode\":\"immediate\",\"fromcurrent\":true,\"transition\":{\"duration\":0,\"easing\":\"linear\"}}],\"label\":\"2022-02\",\"method\":\"animate\"},{\"args\":[[\"2022-03\"],{\"frame\":{\"duration\":0,\"redraw\":true},\"mode\":\"immediate\",\"fromcurrent\":true,\"transition\":{\"duration\":0,\"easing\":\"linear\"}}],\"label\":\"2022-03\",\"method\":\"animate\"},{\"args\":[[\"2022-04\"],{\"frame\":{\"duration\":0,\"redraw\":true},\"mode\":\"immediate\",\"fromcurrent\":true,\"transition\":{\"duration\":0,\"easing\":\"linear\"}}],\"label\":\"2022-04\",\"method\":\"animate\"}],\"x\":0.1,\"xanchor\":\"left\",\"y\":0,\"yanchor\":\"top\"}]},                        {\"responsive\": true}                    ).then(function(){\n",
       "                            Plotly.addFrames('d3e074f6-bee7-4585-9b73-8bd8184dd2f4', [{\"data\":[{\"alignmentgroup\":\"True\",\"hovertemplate\":\"EN_DESC=%{x}<br>month=2021-08<br>perc_increase=%{y}<extra></extra>\",\"legendgroup\":\"Food and non-alcoholic beverages\",\"marker\":{\"color\":\"#636efa\",\"pattern\":{\"shape\":\"\"}},\"name\":\"Food and non-alcoholic beverages\",\"offsetgroup\":\"Food and non-alcoholic beverages\",\"orientation\":\"v\",\"showlegend\":true,\"textposition\":\"auto\",\"x\":[\"Food and non-alcoholic beverages\"],\"xaxis\":\"x\",\"y\":[0.7],\"yaxis\":\"y\",\"type\":\"bar\"},{\"alignmentgroup\":\"True\",\"hovertemplate\":\"EN_DESC=%{x}<br>month=2021-08<br>perc_increase=%{y}<extra></extra>\",\"legendgroup\":\"Alcoholic beverages, tobacco and narcotics\",\"marker\":{\"color\":\"#EF553B\",\"pattern\":{\"shape\":\"\"}},\"name\":\"Alcoholic beverages, tobacco and narcotics\",\"offsetgroup\":\"Alcoholic beverages, tobacco and narcotics\",\"orientation\":\"v\",\"showlegend\":true,\"textposition\":\"auto\",\"x\":[\"Alcoholic beverages, tobacco and narcotics\"],\"xaxis\":\"x\",\"y\":[0.6],\"yaxis\":\"y\",\"type\":\"bar\"},{\"alignmentgroup\":\"True\",\"hovertemplate\":\"EN_DESC=%{x}<br>month=2021-08<br>perc_increase=%{y}<extra></extra>\",\"legendgroup\":\"Clothing and footwear\",\"marker\":{\"color\":\"#00cc96\",\"pattern\":{\"shape\":\"\"}},\"name\":\"Clothing and footwear\",\"offsetgroup\":\"Clothing and footwear\",\"orientation\":\"v\",\"showlegend\":true,\"textposition\":\"auto\",\"x\":[\"Clothing and footwear\"],\"xaxis\":\"x\",\"y\":[0.9],\"yaxis\":\"y\",\"type\":\"bar\"},{\"alignmentgroup\":\"True\",\"hovertemplate\":\"EN_DESC=%{x}<br>month=2021-08<br>perc_increase=%{y}<extra></extra>\",\"legendgroup\":\"Housing, water, electricity, gas and other fuels\",\"marker\":{\"color\":\"#ab63fa\",\"pattern\":{\"shape\":\"\"}},\"name\":\"Housing, water, electricity, gas and other fuels\",\"offsetgroup\":\"Housing, water, electricity, gas and other fuels\",\"orientation\":\"v\",\"showlegend\":true,\"textposition\":\"auto\",\"x\":[\"Housing, water, electricity, gas and other fuels\"],\"xaxis\":\"x\",\"y\":[0.9],\"yaxis\":\"y\",\"type\":\"bar\"},{\"alignmentgroup\":\"True\",\"hovertemplate\":\"EN_DESC=%{x}<br>month=2021-08<br>perc_increase=%{y}<extra></extra>\",\"legendgroup\":\"Furnishings, household equipment and routine household maintenance\",\"marker\":{\"color\":\"#FFA15A\",\"pattern\":{\"shape\":\"\"}},\"name\":\"Furnishings, household equipment and routine household maintenance\",\"offsetgroup\":\"Furnishings, household equipment and routine household maintenance\",\"orientation\":\"v\",\"showlegend\":true,\"textposition\":\"auto\",\"x\":[\"Furnishings, household equipment and routine household maintenance\"],\"xaxis\":\"x\",\"y\":[1.3],\"yaxis\":\"y\",\"type\":\"bar\"},{\"alignmentgroup\":\"True\",\"hovertemplate\":\"EN_DESC=%{x}<br>month=2021-08<br>perc_increase=%{y}<extra></extra>\",\"legendgroup\":\"Health\",\"marker\":{\"color\":\"#19d3f3\",\"pattern\":{\"shape\":\"\"}},\"name\":\"Health\",\"offsetgroup\":\"Health\",\"orientation\":\"v\",\"showlegend\":true,\"textposition\":\"auto\",\"x\":[\"Health\"],\"xaxis\":\"x\",\"y\":[0.3],\"yaxis\":\"y\",\"type\":\"bar\"},{\"alignmentgroup\":\"True\",\"hovertemplate\":\"EN_DESC=%{x}<br>month=2021-08<br>perc_increase=%{y}<extra></extra>\",\"legendgroup\":\"Transport\",\"marker\":{\"color\":\"#FF6692\",\"pattern\":{\"shape\":\"\"}},\"name\":\"Transport\",\"offsetgroup\":\"Transport\",\"orientation\":\"v\",\"showlegend\":true,\"textposition\":\"auto\",\"x\":[\"Transport\"],\"xaxis\":\"x\",\"y\":[0.6],\"yaxis\":\"y\",\"type\":\"bar\"},{\"alignmentgroup\":\"True\",\"hovertemplate\":\"EN_DESC=%{x}<br>month=2021-08<br>perc_increase=%{y}<extra></extra>\",\"legendgroup\":\"Communications\",\"marker\":{\"color\":\"#B6E880\",\"pattern\":{\"shape\":\"\"}},\"name\":\"Communications\",\"offsetgroup\":\"Communications\",\"orientation\":\"v\",\"showlegend\":true,\"textposition\":\"auto\",\"x\":[\"Communications\"],\"xaxis\":\"x\",\"y\":[-0.1],\"yaxis\":\"y\",\"type\":\"bar\"},{\"alignmentgroup\":\"True\",\"hovertemplate\":\"EN_DESC=%{x}<br>month=2021-08<br>perc_increase=%{y}<extra></extra>\",\"legendgroup\":\"Recreation and culture\",\"marker\":{\"color\":\"#FF97FF\",\"pattern\":{\"shape\":\"\"}},\"name\":\"Recreation and culture\",\"offsetgroup\":\"Recreation and culture\",\"orientation\":\"v\",\"showlegend\":true,\"textposition\":\"auto\",\"x\":[\"Recreation and culture\"],\"xaxis\":\"x\",\"y\":[1.0],\"yaxis\":\"y\",\"type\":\"bar\"},{\"alignmentgroup\":\"True\",\"hovertemplate\":\"EN_DESC=%{x}<br>month=2021-08<br>perc_increase=%{y}<extra></extra>\",\"legendgroup\":\"Education\",\"marker\":{\"color\":\"#FECB52\",\"pattern\":{\"shape\":\"\"}},\"name\":\"Education\",\"offsetgroup\":\"Education\",\"orientation\":\"v\",\"showlegend\":true,\"textposition\":\"auto\",\"x\":[\"Education\"],\"xaxis\":\"x\",\"y\":[0.1],\"yaxis\":\"y\",\"type\":\"bar\"},{\"alignmentgroup\":\"True\",\"hovertemplate\":\"EN_DESC=%{x}<br>month=2021-08<br>perc_increase=%{y}<extra></extra>\",\"legendgroup\":\"Restaurants and hotels\",\"marker\":{\"color\":\"#636efa\",\"pattern\":{\"shape\":\"\"}},\"name\":\"Restaurants and hotels\",\"offsetgroup\":\"Restaurants and hotels\",\"orientation\":\"v\",\"showlegend\":true,\"textposition\":\"auto\",\"x\":[\"Restaurants and hotels\"],\"xaxis\":\"x\",\"y\":[-0.2],\"yaxis\":\"y\",\"type\":\"bar\"},{\"alignmentgroup\":\"True\",\"hovertemplate\":\"EN_DESC=%{x}<br>month=2021-08<br>perc_increase=%{y}<extra></extra>\",\"legendgroup\":\"Miscellaneous goods and services\",\"marker\":{\"color\":\"#EF553B\",\"pattern\":{\"shape\":\"\"}},\"name\":\"Miscellaneous goods and services\",\"offsetgroup\":\"Miscellaneous goods and services\",\"orientation\":\"v\",\"showlegend\":true,\"textposition\":\"auto\",\"x\":[\"Miscellaneous goods and services\"],\"xaxis\":\"x\",\"y\":[1.3],\"yaxis\":\"y\",\"type\":\"bar\"}],\"name\":\"2021-08\"},{\"data\":[{\"alignmentgroup\":\"True\",\"hovertemplate\":\"EN_DESC=%{x}<br>month=2021-09<br>perc_increase=%{y}<extra></extra>\",\"legendgroup\":\"Food and non-alcoholic beverages\",\"marker\":{\"color\":\"#636efa\",\"pattern\":{\"shape\":\"\"}},\"name\":\"Food and non-alcoholic beverages\",\"offsetgroup\":\"Food and non-alcoholic beverages\",\"orientation\":\"v\",\"showlegend\":true,\"textposition\":\"auto\",\"x\":[\"Food and non-alcoholic beverages\"],\"xaxis\":\"x\",\"y\":[-0.5],\"yaxis\":\"y\",\"type\":\"bar\"},{\"alignmentgroup\":\"True\",\"hovertemplate\":\"EN_DESC=%{x}<br>month=2021-09<br>perc_increase=%{y}<extra></extra>\",\"legendgroup\":\"Alcoholic beverages, tobacco and narcotics\",\"marker\":{\"color\":\"#EF553B\",\"pattern\":{\"shape\":\"\"}},\"name\":\"Alcoholic beverages, tobacco and narcotics\",\"offsetgroup\":\"Alcoholic beverages, tobacco and narcotics\",\"orientation\":\"v\",\"showlegend\":true,\"textposition\":\"auto\",\"x\":[\"Alcoholic beverages, tobacco and narcotics\"],\"xaxis\":\"x\",\"y\":[0.2],\"yaxis\":\"y\",\"type\":\"bar\"},{\"alignmentgroup\":\"True\",\"hovertemplate\":\"EN_DESC=%{x}<br>month=2021-09<br>perc_increase=%{y}<extra></extra>\",\"legendgroup\":\"Clothing and footwear\",\"marker\":{\"color\":\"#00cc96\",\"pattern\":{\"shape\":\"\"}},\"name\":\"Clothing and footwear\",\"offsetgroup\":\"Clothing and footwear\",\"orientation\":\"v\",\"showlegend\":true,\"textposition\":\"auto\",\"x\":[\"Clothing and footwear\"],\"xaxis\":\"x\",\"y\":[5.2],\"yaxis\":\"y\",\"type\":\"bar\"},{\"alignmentgroup\":\"True\",\"hovertemplate\":\"EN_DESC=%{x}<br>month=2021-09<br>perc_increase=%{y}<extra></extra>\",\"legendgroup\":\"Housing, water, electricity, gas and other fuels\",\"marker\":{\"color\":\"#ab63fa\",\"pattern\":{\"shape\":\"\"}},\"name\":\"Housing, water, electricity, gas and other fuels\",\"offsetgroup\":\"Housing, water, electricity, gas and other fuels\",\"orientation\":\"v\",\"showlegend\":true,\"textposition\":\"auto\",\"x\":[\"Housing, water, electricity, gas and other fuels\"],\"xaxis\":\"x\",\"y\":[7.5],\"yaxis\":\"y\",\"type\":\"bar\"},{\"alignmentgroup\":\"True\",\"hovertemplate\":\"EN_DESC=%{x}<br>month=2021-09<br>perc_increase=%{y}<extra></extra>\",\"legendgroup\":\"Furnishings, household equipment and routine household maintenance\",\"marker\":{\"color\":\"#FFA15A\",\"pattern\":{\"shape\":\"\"}},\"name\":\"Furnishings, household equipment and routine household maintenance\",\"offsetgroup\":\"Furnishings, household equipment and routine household maintenance\",\"orientation\":\"v\",\"showlegend\":true,\"textposition\":\"auto\",\"x\":[\"Furnishings, household equipment and routine household maintenance\"],\"xaxis\":\"x\",\"y\":[0.9],\"yaxis\":\"y\",\"type\":\"bar\"},{\"alignmentgroup\":\"True\",\"hovertemplate\":\"EN_DESC=%{x}<br>month=2021-09<br>perc_increase=%{y}<extra></extra>\",\"legendgroup\":\"Health\",\"marker\":{\"color\":\"#19d3f3\",\"pattern\":{\"shape\":\"\"}},\"name\":\"Health\",\"offsetgroup\":\"Health\",\"orientation\":\"v\",\"showlegend\":true,\"textposition\":\"auto\",\"x\":[\"Health\"],\"xaxis\":\"x\",\"y\":[0.0],\"yaxis\":\"y\",\"type\":\"bar\"},{\"alignmentgroup\":\"True\",\"hovertemplate\":\"EN_DESC=%{x}<br>month=2021-09<br>perc_increase=%{y}<extra></extra>\",\"legendgroup\":\"Transport\",\"marker\":{\"color\":\"#FF6692\",\"pattern\":{\"shape\":\"\"}},\"name\":\"Transport\",\"offsetgroup\":\"Transport\",\"orientation\":\"v\",\"showlegend\":true,\"textposition\":\"auto\",\"x\":[\"Transport\"],\"xaxis\":\"x\",\"y\":[0.1],\"yaxis\":\"y\",\"type\":\"bar\"},{\"alignmentgroup\":\"True\",\"hovertemplate\":\"EN_DESC=%{x}<br>month=2021-09<br>perc_increase=%{y}<extra></extra>\",\"legendgroup\":\"Communications\",\"marker\":{\"color\":\"#B6E880\",\"pattern\":{\"shape\":\"\"}},\"name\":\"Communications\",\"offsetgroup\":\"Communications\",\"orientation\":\"v\",\"showlegend\":true,\"textposition\":\"auto\",\"x\":[\"Communications\"],\"xaxis\":\"x\",\"y\":[-0.6],\"yaxis\":\"y\",\"type\":\"bar\"},{\"alignmentgroup\":\"True\",\"hovertemplate\":\"EN_DESC=%{x}<br>month=2021-09<br>perc_increase=%{y}<extra></extra>\",\"legendgroup\":\"Recreation and culture\",\"marker\":{\"color\":\"#FF97FF\",\"pattern\":{\"shape\":\"\"}},\"name\":\"Recreation and culture\",\"offsetgroup\":\"Recreation and culture\",\"orientation\":\"v\",\"showlegend\":true,\"textposition\":\"auto\",\"x\":[\"Recreation and culture\"],\"xaxis\":\"x\",\"y\":[0.3],\"yaxis\":\"y\",\"type\":\"bar\"},{\"alignmentgroup\":\"True\",\"hovertemplate\":\"EN_DESC=%{x}<br>month=2021-09<br>perc_increase=%{y}<extra></extra>\",\"legendgroup\":\"Education\",\"marker\":{\"color\":\"#FECB52\",\"pattern\":{\"shape\":\"\"}},\"name\":\"Education\",\"offsetgroup\":\"Education\",\"orientation\":\"v\",\"showlegend\":true,\"textposition\":\"auto\",\"x\":[\"Education\"],\"xaxis\":\"x\",\"y\":[1.2],\"yaxis\":\"y\",\"type\":\"bar\"},{\"alignmentgroup\":\"True\",\"hovertemplate\":\"EN_DESC=%{x}<br>month=2021-09<br>perc_increase=%{y}<extra></extra>\",\"legendgroup\":\"Restaurants and hotels\",\"marker\":{\"color\":\"#636efa\",\"pattern\":{\"shape\":\"\"}},\"name\":\"Restaurants and hotels\",\"offsetgroup\":\"Restaurants and hotels\",\"orientation\":\"v\",\"showlegend\":true,\"textposition\":\"auto\",\"x\":[\"Restaurants and hotels\"],\"xaxis\":\"x\",\"y\":[-3.6],\"yaxis\":\"y\",\"type\":\"bar\"},{\"alignmentgroup\":\"True\",\"hovertemplate\":\"EN_DESC=%{x}<br>month=2021-09<br>perc_increase=%{y}<extra></extra>\",\"legendgroup\":\"Miscellaneous goods and services\",\"marker\":{\"color\":\"#EF553B\",\"pattern\":{\"shape\":\"\"}},\"name\":\"Miscellaneous goods and services\",\"offsetgroup\":\"Miscellaneous goods and services\",\"orientation\":\"v\",\"showlegend\":true,\"textposition\":\"auto\",\"x\":[\"Miscellaneous goods and services\"],\"xaxis\":\"x\",\"y\":[0.6],\"yaxis\":\"y\",\"type\":\"bar\"}],\"name\":\"2021-09\"},{\"data\":[{\"alignmentgroup\":\"True\",\"hovertemplate\":\"EN_DESC=%{x}<br>month=2021-10<br>perc_increase=%{y}<extra></extra>\",\"legendgroup\":\"Food and non-alcoholic beverages\",\"marker\":{\"color\":\"#636efa\",\"pattern\":{\"shape\":\"\"}},\"name\":\"Food and non-alcoholic beverages\",\"offsetgroup\":\"Food and non-alcoholic beverages\",\"orientation\":\"v\",\"showlegend\":true,\"textposition\":\"auto\",\"x\":[\"Food and non-alcoholic beverages\"],\"xaxis\":\"x\",\"y\":[-1.1],\"yaxis\":\"y\",\"type\":\"bar\"},{\"alignmentgroup\":\"True\",\"hovertemplate\":\"EN_DESC=%{x}<br>month=2021-10<br>perc_increase=%{y}<extra></extra>\",\"legendgroup\":\"Alcoholic beverages, tobacco and narcotics\",\"marker\":{\"color\":\"#EF553B\",\"pattern\":{\"shape\":\"\"}},\"name\":\"Alcoholic beverages, tobacco and narcotics\",\"offsetgroup\":\"Alcoholic beverages, tobacco and narcotics\",\"orientation\":\"v\",\"showlegend\":true,\"textposition\":\"auto\",\"x\":[\"Alcoholic beverages, tobacco and narcotics\"],\"xaxis\":\"x\",\"y\":[1.2],\"yaxis\":\"y\",\"type\":\"bar\"},{\"alignmentgroup\":\"True\",\"hovertemplate\":\"EN_DESC=%{x}<br>month=2021-10<br>perc_increase=%{y}<extra></extra>\",\"legendgroup\":\"Clothing and footwear\",\"marker\":{\"color\":\"#00cc96\",\"pattern\":{\"shape\":\"\"}},\"name\":\"Clothing and footwear\",\"offsetgroup\":\"Clothing and footwear\",\"orientation\":\"v\",\"showlegend\":true,\"textposition\":\"auto\",\"x\":[\"Clothing and footwear\"],\"xaxis\":\"x\",\"y\":[2.3],\"yaxis\":\"y\",\"type\":\"bar\"},{\"alignmentgroup\":\"True\",\"hovertemplate\":\"EN_DESC=%{x}<br>month=2021-10<br>perc_increase=%{y}<extra></extra>\",\"legendgroup\":\"Housing, water, electricity, gas and other fuels\",\"marker\":{\"color\":\"#ab63fa\",\"pattern\":{\"shape\":\"\"}},\"name\":\"Housing, water, electricity, gas and other fuels\",\"offsetgroup\":\"Housing, water, electricity, gas and other fuels\",\"orientation\":\"v\",\"showlegend\":true,\"textposition\":\"auto\",\"x\":[\"Housing, water, electricity, gas and other fuels\"],\"xaxis\":\"x\",\"y\":[-4.2],\"yaxis\":\"y\",\"type\":\"bar\"},{\"alignmentgroup\":\"True\",\"hovertemplate\":\"EN_DESC=%{x}<br>month=2021-10<br>perc_increase=%{y}<extra></extra>\",\"legendgroup\":\"Furnishings, household equipment and routine household maintenance\",\"marker\":{\"color\":\"#FFA15A\",\"pattern\":{\"shape\":\"\"}},\"name\":\"Furnishings, household equipment and routine household maintenance\",\"offsetgroup\":\"Furnishings, household equipment and routine household maintenance\",\"orientation\":\"v\",\"showlegend\":true,\"textposition\":\"auto\",\"x\":[\"Furnishings, household equipment and routine household maintenance\"],\"xaxis\":\"x\",\"y\":[-0.2],\"yaxis\":\"y\",\"type\":\"bar\"},{\"alignmentgroup\":\"True\",\"hovertemplate\":\"EN_DESC=%{x}<br>month=2021-10<br>perc_increase=%{y}<extra></extra>\",\"legendgroup\":\"Health\",\"marker\":{\"color\":\"#19d3f3\",\"pattern\":{\"shape\":\"\"}},\"name\":\"Health\",\"offsetgroup\":\"Health\",\"orientation\":\"v\",\"showlegend\":true,\"textposition\":\"auto\",\"x\":[\"Health\"],\"xaxis\":\"x\",\"y\":[0.6],\"yaxis\":\"y\",\"type\":\"bar\"},{\"alignmentgroup\":\"True\",\"hovertemplate\":\"EN_DESC=%{x}<br>month=2021-10<br>perc_increase=%{y}<extra></extra>\",\"legendgroup\":\"Transport\",\"marker\":{\"color\":\"#FF6692\",\"pattern\":{\"shape\":\"\"}},\"name\":\"Transport\",\"offsetgroup\":\"Transport\",\"orientation\":\"v\",\"showlegend\":true,\"textposition\":\"auto\",\"x\":[\"Transport\"],\"xaxis\":\"x\",\"y\":[3.6],\"yaxis\":\"y\",\"type\":\"bar\"},{\"alignmentgroup\":\"True\",\"hovertemplate\":\"EN_DESC=%{x}<br>month=2021-10<br>perc_increase=%{y}<extra></extra>\",\"legendgroup\":\"Communications\",\"marker\":{\"color\":\"#B6E880\",\"pattern\":{\"shape\":\"\"}},\"name\":\"Communications\",\"offsetgroup\":\"Communications\",\"orientation\":\"v\",\"showlegend\":true,\"textposition\":\"auto\",\"x\":[\"Communications\"],\"xaxis\":\"x\",\"y\":[0.2],\"yaxis\":\"y\",\"type\":\"bar\"},{\"alignmentgroup\":\"True\",\"hovertemplate\":\"EN_DESC=%{x}<br>month=2021-10<br>perc_increase=%{y}<extra></extra>\",\"legendgroup\":\"Recreation and culture\",\"marker\":{\"color\":\"#FF97FF\",\"pattern\":{\"shape\":\"\"}},\"name\":\"Recreation and culture\",\"offsetgroup\":\"Recreation and culture\",\"orientation\":\"v\",\"showlegend\":true,\"textposition\":\"auto\",\"x\":[\"Recreation and culture\"],\"xaxis\":\"x\",\"y\":[0.2],\"yaxis\":\"y\",\"type\":\"bar\"},{\"alignmentgroup\":\"True\",\"hovertemplate\":\"EN_DESC=%{x}<br>month=2021-10<br>perc_increase=%{y}<extra></extra>\",\"legendgroup\":\"Education\",\"marker\":{\"color\":\"#FECB52\",\"pattern\":{\"shape\":\"\"}},\"name\":\"Education\",\"offsetgroup\":\"Education\",\"orientation\":\"v\",\"showlegend\":true,\"textposition\":\"auto\",\"x\":[\"Education\"],\"xaxis\":\"x\",\"y\":[0.0],\"yaxis\":\"y\",\"type\":\"bar\"},{\"alignmentgroup\":\"True\",\"hovertemplate\":\"EN_DESC=%{x}<br>month=2021-10<br>perc_increase=%{y}<extra></extra>\",\"legendgroup\":\"Restaurants and hotels\",\"marker\":{\"color\":\"#636efa\",\"pattern\":{\"shape\":\"\"}},\"name\":\"Restaurants and hotels\",\"offsetgroup\":\"Restaurants and hotels\",\"orientation\":\"v\",\"showlegend\":true,\"textposition\":\"auto\",\"x\":[\"Restaurants and hotels\"],\"xaxis\":\"x\",\"y\":[-1.2],\"yaxis\":\"y\",\"type\":\"bar\"},{\"alignmentgroup\":\"True\",\"hovertemplate\":\"EN_DESC=%{x}<br>month=2021-10<br>perc_increase=%{y}<extra></extra>\",\"legendgroup\":\"Miscellaneous goods and services\",\"marker\":{\"color\":\"#EF553B\",\"pattern\":{\"shape\":\"\"}},\"name\":\"Miscellaneous goods and services\",\"offsetgroup\":\"Miscellaneous goods and services\",\"orientation\":\"v\",\"showlegend\":true,\"textposition\":\"auto\",\"x\":[\"Miscellaneous goods and services\"],\"xaxis\":\"x\",\"y\":[-0.5],\"yaxis\":\"y\",\"type\":\"bar\"}],\"name\":\"2021-10\"},{\"data\":[{\"alignmentgroup\":\"True\",\"hovertemplate\":\"EN_DESC=%{x}<br>month=2021-11<br>perc_increase=%{y}<extra></extra>\",\"legendgroup\":\"Food and non-alcoholic beverages\",\"marker\":{\"color\":\"#636efa\",\"pattern\":{\"shape\":\"\"}},\"name\":\"Food and non-alcoholic beverages\",\"offsetgroup\":\"Food and non-alcoholic beverages\",\"orientation\":\"v\",\"showlegend\":true,\"textposition\":\"auto\",\"x\":[\"Food and non-alcoholic beverages\"],\"xaxis\":\"x\",\"y\":[2.0],\"yaxis\":\"y\",\"type\":\"bar\"},{\"alignmentgroup\":\"True\",\"hovertemplate\":\"EN_DESC=%{x}<br>month=2021-11<br>perc_increase=%{y}<extra></extra>\",\"legendgroup\":\"Alcoholic beverages, tobacco and narcotics\",\"marker\":{\"color\":\"#EF553B\",\"pattern\":{\"shape\":\"\"}},\"name\":\"Alcoholic beverages, tobacco and narcotics\",\"offsetgroup\":\"Alcoholic beverages, tobacco and narcotics\",\"orientation\":\"v\",\"showlegend\":true,\"textposition\":\"auto\",\"x\":[\"Alcoholic beverages, tobacco and narcotics\"],\"xaxis\":\"x\",\"y\":[0.0],\"yaxis\":\"y\",\"type\":\"bar\"},{\"alignmentgroup\":\"True\",\"hovertemplate\":\"EN_DESC=%{x}<br>month=2021-11<br>perc_increase=%{y}<extra></extra>\",\"legendgroup\":\"Clothing and footwear\",\"marker\":{\"color\":\"#00cc96\",\"pattern\":{\"shape\":\"\"}},\"name\":\"Clothing and footwear\",\"offsetgroup\":\"Clothing and footwear\",\"orientation\":\"v\",\"showlegend\":true,\"textposition\":\"auto\",\"x\":[\"Clothing and footwear\"],\"xaxis\":\"x\",\"y\":[1.8],\"yaxis\":\"y\",\"type\":\"bar\"},{\"alignmentgroup\":\"True\",\"hovertemplate\":\"EN_DESC=%{x}<br>month=2021-11<br>perc_increase=%{y}<extra></extra>\",\"legendgroup\":\"Housing, water, electricity, gas and other fuels\",\"marker\":{\"color\":\"#ab63fa\",\"pattern\":{\"shape\":\"\"}},\"name\":\"Housing, water, electricity, gas and other fuels\",\"offsetgroup\":\"Housing, water, electricity, gas and other fuels\",\"orientation\":\"v\",\"showlegend\":true,\"textposition\":\"auto\",\"x\":[\"Housing, water, electricity, gas and other fuels\"],\"xaxis\":\"x\",\"y\":[5.1],\"yaxis\":\"y\",\"type\":\"bar\"},{\"alignmentgroup\":\"True\",\"hovertemplate\":\"EN_DESC=%{x}<br>month=2021-11<br>perc_increase=%{y}<extra></extra>\",\"legendgroup\":\"Furnishings, household equipment and routine household maintenance\",\"marker\":{\"color\":\"#FFA15A\",\"pattern\":{\"shape\":\"\"}},\"name\":\"Furnishings, household equipment and routine household maintenance\",\"offsetgroup\":\"Furnishings, household equipment and routine household maintenance\",\"orientation\":\"v\",\"showlegend\":true,\"textposition\":\"auto\",\"x\":[\"Furnishings, household equipment and routine household maintenance\"],\"xaxis\":\"x\",\"y\":[0.8],\"yaxis\":\"y\",\"type\":\"bar\"},{\"alignmentgroup\":\"True\",\"hovertemplate\":\"EN_DESC=%{x}<br>month=2021-11<br>perc_increase=%{y}<extra></extra>\",\"legendgroup\":\"Health\",\"marker\":{\"color\":\"#19d3f3\",\"pattern\":{\"shape\":\"\"}},\"name\":\"Health\",\"offsetgroup\":\"Health\",\"orientation\":\"v\",\"showlegend\":true,\"textposition\":\"auto\",\"x\":[\"Health\"],\"xaxis\":\"x\",\"y\":[0.3],\"yaxis\":\"y\",\"type\":\"bar\"},{\"alignmentgroup\":\"True\",\"hovertemplate\":\"EN_DESC=%{x}<br>month=2021-11<br>perc_increase=%{y}<extra></extra>\",\"legendgroup\":\"Transport\",\"marker\":{\"color\":\"#FF6692\",\"pattern\":{\"shape\":\"\"}},\"name\":\"Transport\",\"offsetgroup\":\"Transport\",\"orientation\":\"v\",\"showlegend\":true,\"textposition\":\"auto\",\"x\":[\"Transport\"],\"xaxis\":\"x\",\"y\":[1.8],\"yaxis\":\"y\",\"type\":\"bar\"},{\"alignmentgroup\":\"True\",\"hovertemplate\":\"EN_DESC=%{x}<br>month=2021-11<br>perc_increase=%{y}<extra></extra>\",\"legendgroup\":\"Communications\",\"marker\":{\"color\":\"#B6E880\",\"pattern\":{\"shape\":\"\"}},\"name\":\"Communications\",\"offsetgroup\":\"Communications\",\"orientation\":\"v\",\"showlegend\":true,\"textposition\":\"auto\",\"x\":[\"Communications\"],\"xaxis\":\"x\",\"y\":[0.1],\"yaxis\":\"y\",\"type\":\"bar\"},{\"alignmentgroup\":\"True\",\"hovertemplate\":\"EN_DESC=%{x}<br>month=2021-11<br>perc_increase=%{y}<extra></extra>\",\"legendgroup\":\"Recreation and culture\",\"marker\":{\"color\":\"#FF97FF\",\"pattern\":{\"shape\":\"\"}},\"name\":\"Recreation and culture\",\"offsetgroup\":\"Recreation and culture\",\"orientation\":\"v\",\"showlegend\":true,\"textposition\":\"auto\",\"x\":[\"Recreation and culture\"],\"xaxis\":\"x\",\"y\":[0.9],\"yaxis\":\"y\",\"type\":\"bar\"},{\"alignmentgroup\":\"True\",\"hovertemplate\":\"EN_DESC=%{x}<br>month=2021-11<br>perc_increase=%{y}<extra></extra>\",\"legendgroup\":\"Education\",\"marker\":{\"color\":\"#FECB52\",\"pattern\":{\"shape\":\"\"}},\"name\":\"Education\",\"offsetgroup\":\"Education\",\"orientation\":\"v\",\"showlegend\":true,\"textposition\":\"auto\",\"x\":[\"Education\"],\"xaxis\":\"x\",\"y\":[0.4],\"yaxis\":\"y\",\"type\":\"bar\"},{\"alignmentgroup\":\"True\",\"hovertemplate\":\"EN_DESC=%{x}<br>month=2021-11<br>perc_increase=%{y}<extra></extra>\",\"legendgroup\":\"Restaurants and hotels\",\"marker\":{\"color\":\"#636efa\",\"pattern\":{\"shape\":\"\"}},\"name\":\"Restaurants and hotels\",\"offsetgroup\":\"Restaurants and hotels\",\"orientation\":\"v\",\"showlegend\":true,\"textposition\":\"auto\",\"x\":[\"Restaurants and hotels\"],\"xaxis\":\"x\",\"y\":[0.4],\"yaxis\":\"y\",\"type\":\"bar\"},{\"alignmentgroup\":\"True\",\"hovertemplate\":\"EN_DESC=%{x}<br>month=2021-11<br>perc_increase=%{y}<extra></extra>\",\"legendgroup\":\"Miscellaneous goods and services\",\"marker\":{\"color\":\"#EF553B\",\"pattern\":{\"shape\":\"\"}},\"name\":\"Miscellaneous goods and services\",\"offsetgroup\":\"Miscellaneous goods and services\",\"orientation\":\"v\",\"showlegend\":true,\"textposition\":\"auto\",\"x\":[\"Miscellaneous goods and services\"],\"xaxis\":\"x\",\"y\":[0.4],\"yaxis\":\"y\",\"type\":\"bar\"}],\"name\":\"2021-11\"},{\"data\":[{\"alignmentgroup\":\"True\",\"hovertemplate\":\"EN_DESC=%{x}<br>month=2021-12<br>perc_increase=%{y}<extra></extra>\",\"legendgroup\":\"Food and non-alcoholic beverages\",\"marker\":{\"color\":\"#636efa\",\"pattern\":{\"shape\":\"\"}},\"name\":\"Food and non-alcoholic beverages\",\"offsetgroup\":\"Food and non-alcoholic beverages\",\"orientation\":\"v\",\"showlegend\":true,\"textposition\":\"auto\",\"x\":[\"Food and non-alcoholic beverages\"],\"xaxis\":\"x\",\"y\":[-0.2],\"yaxis\":\"y\",\"type\":\"bar\"},{\"alignmentgroup\":\"True\",\"hovertemplate\":\"EN_DESC=%{x}<br>month=2021-12<br>perc_increase=%{y}<extra></extra>\",\"legendgroup\":\"Alcoholic beverages, tobacco and narcotics\",\"marker\":{\"color\":\"#EF553B\",\"pattern\":{\"shape\":\"\"}},\"name\":\"Alcoholic beverages, tobacco and narcotics\",\"offsetgroup\":\"Alcoholic beverages, tobacco and narcotics\",\"orientation\":\"v\",\"showlegend\":true,\"textposition\":\"auto\",\"x\":[\"Alcoholic beverages, tobacco and narcotics\"],\"xaxis\":\"x\",\"y\":[-0.7],\"yaxis\":\"y\",\"type\":\"bar\"},{\"alignmentgroup\":\"True\",\"hovertemplate\":\"EN_DESC=%{x}<br>month=2021-12<br>perc_increase=%{y}<extra></extra>\",\"legendgroup\":\"Clothing and footwear\",\"marker\":{\"color\":\"#00cc96\",\"pattern\":{\"shape\":\"\"}},\"name\":\"Clothing and footwear\",\"offsetgroup\":\"Clothing and footwear\",\"orientation\":\"v\",\"showlegend\":true,\"textposition\":\"auto\",\"x\":[\"Clothing and footwear\"],\"xaxis\":\"x\",\"y\":[-1.2],\"yaxis\":\"y\",\"type\":\"bar\"},{\"alignmentgroup\":\"True\",\"hovertemplate\":\"EN_DESC=%{x}<br>month=2021-12<br>perc_increase=%{y}<extra></extra>\",\"legendgroup\":\"Housing, water, electricity, gas and other fuels\",\"marker\":{\"color\":\"#ab63fa\",\"pattern\":{\"shape\":\"\"}},\"name\":\"Housing, water, electricity, gas and other fuels\",\"offsetgroup\":\"Housing, water, electricity, gas and other fuels\",\"orientation\":\"v\",\"showlegend\":true,\"textposition\":\"auto\",\"x\":[\"Housing, water, electricity, gas and other fuels\"],\"xaxis\":\"x\",\"y\":[20.5],\"yaxis\":\"y\",\"type\":\"bar\"},{\"alignmentgroup\":\"True\",\"hovertemplate\":\"EN_DESC=%{x}<br>month=2021-12<br>perc_increase=%{y}<extra></extra>\",\"legendgroup\":\"Furnishings, household equipment and routine household maintenance\",\"marker\":{\"color\":\"#FFA15A\",\"pattern\":{\"shape\":\"\"}},\"name\":\"Furnishings, household equipment and routine household maintenance\",\"offsetgroup\":\"Furnishings, household equipment and routine household maintenance\",\"orientation\":\"v\",\"showlegend\":true,\"textposition\":\"auto\",\"x\":[\"Furnishings, household equipment and routine household maintenance\"],\"xaxis\":\"x\",\"y\":[1.2],\"yaxis\":\"y\",\"type\":\"bar\"},{\"alignmentgroup\":\"True\",\"hovertemplate\":\"EN_DESC=%{x}<br>month=2021-12<br>perc_increase=%{y}<extra></extra>\",\"legendgroup\":\"Health\",\"marker\":{\"color\":\"#19d3f3\",\"pattern\":{\"shape\":\"\"}},\"name\":\"Health\",\"offsetgroup\":\"Health\",\"orientation\":\"v\",\"showlegend\":true,\"textposition\":\"auto\",\"x\":[\"Health\"],\"xaxis\":\"x\",\"y\":[0.9],\"yaxis\":\"y\",\"type\":\"bar\"},{\"alignmentgroup\":\"True\",\"hovertemplate\":\"EN_DESC=%{x}<br>month=2021-12<br>perc_increase=%{y}<extra></extra>\",\"legendgroup\":\"Transport\",\"marker\":{\"color\":\"#FF6692\",\"pattern\":{\"shape\":\"\"}},\"name\":\"Transport\",\"offsetgroup\":\"Transport\",\"orientation\":\"v\",\"showlegend\":true,\"textposition\":\"auto\",\"x\":[\"Transport\"],\"xaxis\":\"x\",\"y\":[0.0],\"yaxis\":\"y\",\"type\":\"bar\"},{\"alignmentgroup\":\"True\",\"hovertemplate\":\"EN_DESC=%{x}<br>month=2021-12<br>perc_increase=%{y}<extra></extra>\",\"legendgroup\":\"Communications\",\"marker\":{\"color\":\"#B6E880\",\"pattern\":{\"shape\":\"\"}},\"name\":\"Communications\",\"offsetgroup\":\"Communications\",\"orientation\":\"v\",\"showlegend\":true,\"textposition\":\"auto\",\"x\":[\"Communications\"],\"xaxis\":\"x\",\"y\":[-2.2],\"yaxis\":\"y\",\"type\":\"bar\"},{\"alignmentgroup\":\"True\",\"hovertemplate\":\"EN_DESC=%{x}<br>month=2021-12<br>perc_increase=%{y}<extra></extra>\",\"legendgroup\":\"Recreation and culture\",\"marker\":{\"color\":\"#FF97FF\",\"pattern\":{\"shape\":\"\"}},\"name\":\"Recreation and culture\",\"offsetgroup\":\"Recreation and culture\",\"orientation\":\"v\",\"showlegend\":true,\"textposition\":\"auto\",\"x\":[\"Recreation and culture\"],\"xaxis\":\"x\",\"y\":[0.1],\"yaxis\":\"y\",\"type\":\"bar\"},{\"alignmentgroup\":\"True\",\"hovertemplate\":\"EN_DESC=%{x}<br>month=2021-12<br>perc_increase=%{y}<extra></extra>\",\"legendgroup\":\"Education\",\"marker\":{\"color\":\"#FECB52\",\"pattern\":{\"shape\":\"\"}},\"name\":\"Education\",\"offsetgroup\":\"Education\",\"orientation\":\"v\",\"showlegend\":true,\"textposition\":\"auto\",\"x\":[\"Education\"],\"xaxis\":\"x\",\"y\":[0.0],\"yaxis\":\"y\",\"type\":\"bar\"},{\"alignmentgroup\":\"True\",\"hovertemplate\":\"EN_DESC=%{x}<br>month=2021-12<br>perc_increase=%{y}<extra></extra>\",\"legendgroup\":\"Restaurants and hotels\",\"marker\":{\"color\":\"#636efa\",\"pattern\":{\"shape\":\"\"}},\"name\":\"Restaurants and hotels\",\"offsetgroup\":\"Restaurants and hotels\",\"orientation\":\"v\",\"showlegend\":true,\"textposition\":\"auto\",\"x\":[\"Restaurants and hotels\"],\"xaxis\":\"x\",\"y\":[0.4],\"yaxis\":\"y\",\"type\":\"bar\"},{\"alignmentgroup\":\"True\",\"hovertemplate\":\"EN_DESC=%{x}<br>month=2021-12<br>perc_increase=%{y}<extra></extra>\",\"legendgroup\":\"Miscellaneous goods and services\",\"marker\":{\"color\":\"#EF553B\",\"pattern\":{\"shape\":\"\"}},\"name\":\"Miscellaneous goods and services\",\"offsetgroup\":\"Miscellaneous goods and services\",\"orientation\":\"v\",\"showlegend\":true,\"textposition\":\"auto\",\"x\":[\"Miscellaneous goods and services\"],\"xaxis\":\"x\",\"y\":[0.7],\"yaxis\":\"y\",\"type\":\"bar\"}],\"name\":\"2021-12\"},{\"data\":[{\"alignmentgroup\":\"True\",\"hovertemplate\":\"EN_DESC=%{x}<br>month=2022-01<br>perc_increase=%{y}<extra></extra>\",\"legendgroup\":\"Food and non-alcoholic beverages\",\"marker\":{\"color\":\"#636efa\",\"pattern\":{\"shape\":\"\"}},\"name\":\"Food and non-alcoholic beverages\",\"offsetgroup\":\"Food and non-alcoholic beverages\",\"orientation\":\"v\",\"showlegend\":true,\"textposition\":\"auto\",\"x\":[\"Food and non-alcoholic beverages\"],\"xaxis\":\"x\",\"y\":[3.9],\"yaxis\":\"y\",\"type\":\"bar\"},{\"alignmentgroup\":\"True\",\"hovertemplate\":\"EN_DESC=%{x}<br>month=2022-01<br>perc_increase=%{y}<extra></extra>\",\"legendgroup\":\"Alcoholic beverages, tobacco and narcotics\",\"marker\":{\"color\":\"#EF553B\",\"pattern\":{\"shape\":\"\"}},\"name\":\"Alcoholic beverages, tobacco and narcotics\",\"offsetgroup\":\"Alcoholic beverages, tobacco and narcotics\",\"orientation\":\"v\",\"showlegend\":true,\"textposition\":\"auto\",\"x\":[\"Alcoholic beverages, tobacco and narcotics\"],\"xaxis\":\"x\",\"y\":[1.0],\"yaxis\":\"y\",\"type\":\"bar\"},{\"alignmentgroup\":\"True\",\"hovertemplate\":\"EN_DESC=%{x}<br>month=2022-01<br>perc_increase=%{y}<extra></extra>\",\"legendgroup\":\"Clothing and footwear\",\"marker\":{\"color\":\"#00cc96\",\"pattern\":{\"shape\":\"\"}},\"name\":\"Clothing and footwear\",\"offsetgroup\":\"Clothing and footwear\",\"orientation\":\"v\",\"showlegend\":true,\"textposition\":\"auto\",\"x\":[\"Clothing and footwear\"],\"xaxis\":\"x\",\"y\":[-6.1],\"yaxis\":\"y\",\"type\":\"bar\"},{\"alignmentgroup\":\"True\",\"hovertemplate\":\"EN_DESC=%{x}<br>month=2022-01<br>perc_increase=%{y}<extra></extra>\",\"legendgroup\":\"Housing, water, electricity, gas and other fuels\",\"marker\":{\"color\":\"#ab63fa\",\"pattern\":{\"shape\":\"\"}},\"name\":\"Housing, water, electricity, gas and other fuels\",\"offsetgroup\":\"Housing, water, electricity, gas and other fuels\",\"orientation\":\"v\",\"showlegend\":true,\"textposition\":\"auto\",\"x\":[\"Housing, water, electricity, gas and other fuels\"],\"xaxis\":\"x\",\"y\":[-6.9],\"yaxis\":\"y\",\"type\":\"bar\"},{\"alignmentgroup\":\"True\",\"hovertemplate\":\"EN_DESC=%{x}<br>month=2022-01<br>perc_increase=%{y}<extra></extra>\",\"legendgroup\":\"Furnishings, household equipment and routine household maintenance\",\"marker\":{\"color\":\"#FFA15A\",\"pattern\":{\"shape\":\"\"}},\"name\":\"Furnishings, household equipment and routine household maintenance\",\"offsetgroup\":\"Furnishings, household equipment and routine household maintenance\",\"orientation\":\"v\",\"showlegend\":true,\"textposition\":\"auto\",\"x\":[\"Furnishings, household equipment and routine household maintenance\"],\"xaxis\":\"x\",\"y\":[-0.4],\"yaxis\":\"y\",\"type\":\"bar\"},{\"alignmentgroup\":\"True\",\"hovertemplate\":\"EN_DESC=%{x}<br>month=2022-01<br>perc_increase=%{y}<extra></extra>\",\"legendgroup\":\"Health\",\"marker\":{\"color\":\"#19d3f3\",\"pattern\":{\"shape\":\"\"}},\"name\":\"Health\",\"offsetgroup\":\"Health\",\"orientation\":\"v\",\"showlegend\":true,\"textposition\":\"auto\",\"x\":[\"Health\"],\"xaxis\":\"x\",\"y\":[1.7],\"yaxis\":\"y\",\"type\":\"bar\"},{\"alignmentgroup\":\"True\",\"hovertemplate\":\"EN_DESC=%{x}<br>month=2022-01<br>perc_increase=%{y}<extra></extra>\",\"legendgroup\":\"Transport\",\"marker\":{\"color\":\"#FF6692\",\"pattern\":{\"shape\":\"\"}},\"name\":\"Transport\",\"offsetgroup\":\"Transport\",\"orientation\":\"v\",\"showlegend\":true,\"textposition\":\"auto\",\"x\":[\"Transport\"],\"xaxis\":\"x\",\"y\":[1.2],\"yaxis\":\"y\",\"type\":\"bar\"},{\"alignmentgroup\":\"True\",\"hovertemplate\":\"EN_DESC=%{x}<br>month=2022-01<br>perc_increase=%{y}<extra></extra>\",\"legendgroup\":\"Communications\",\"marker\":{\"color\":\"#B6E880\",\"pattern\":{\"shape\":\"\"}},\"name\":\"Communications\",\"offsetgroup\":\"Communications\",\"orientation\":\"v\",\"showlegend\":true,\"textposition\":\"auto\",\"x\":[\"Communications\"],\"xaxis\":\"x\",\"y\":[-0.7],\"yaxis\":\"y\",\"type\":\"bar\"},{\"alignmentgroup\":\"True\",\"hovertemplate\":\"EN_DESC=%{x}<br>month=2022-01<br>perc_increase=%{y}<extra></extra>\",\"legendgroup\":\"Recreation and culture\",\"marker\":{\"color\":\"#FF97FF\",\"pattern\":{\"shape\":\"\"}},\"name\":\"Recreation and culture\",\"offsetgroup\":\"Recreation and culture\",\"orientation\":\"v\",\"showlegend\":true,\"textposition\":\"auto\",\"x\":[\"Recreation and culture\"],\"xaxis\":\"x\",\"y\":[-0.4],\"yaxis\":\"y\",\"type\":\"bar\"},{\"alignmentgroup\":\"True\",\"hovertemplate\":\"EN_DESC=%{x}<br>month=2022-01<br>perc_increase=%{y}<extra></extra>\",\"legendgroup\":\"Education\",\"marker\":{\"color\":\"#FECB52\",\"pattern\":{\"shape\":\"\"}},\"name\":\"Education\",\"offsetgroup\":\"Education\",\"orientation\":\"v\",\"showlegend\":true,\"textposition\":\"auto\",\"x\":[\"Education\"],\"xaxis\":\"x\",\"y\":[0.4],\"yaxis\":\"y\",\"type\":\"bar\"},{\"alignmentgroup\":\"True\",\"hovertemplate\":\"EN_DESC=%{x}<br>month=2022-01<br>perc_increase=%{y}<extra></extra>\",\"legendgroup\":\"Restaurants and hotels\",\"marker\":{\"color\":\"#636efa\",\"pattern\":{\"shape\":\"\"}},\"name\":\"Restaurants and hotels\",\"offsetgroup\":\"Restaurants and hotels\",\"orientation\":\"v\",\"showlegend\":true,\"textposition\":\"auto\",\"x\":[\"Restaurants and hotels\"],\"xaxis\":\"x\",\"y\":[0.9],\"yaxis\":\"y\",\"type\":\"bar\"},{\"alignmentgroup\":\"True\",\"hovertemplate\":\"EN_DESC=%{x}<br>month=2022-01<br>perc_increase=%{y}<extra></extra>\",\"legendgroup\":\"Miscellaneous goods and services\",\"marker\":{\"color\":\"#EF553B\",\"pattern\":{\"shape\":\"\"}},\"name\":\"Miscellaneous goods and services\",\"offsetgroup\":\"Miscellaneous goods and services\",\"orientation\":\"v\",\"showlegend\":true,\"textposition\":\"auto\",\"x\":[\"Miscellaneous goods and services\"],\"xaxis\":\"x\",\"y\":[1.1],\"yaxis\":\"y\",\"type\":\"bar\"}],\"name\":\"2022-01\"},{\"data\":[{\"alignmentgroup\":\"True\",\"hovertemplate\":\"EN_DESC=%{x}<br>month=2022-02<br>perc_increase=%{y}<extra></extra>\",\"legendgroup\":\"Food and non-alcoholic beverages\",\"marker\":{\"color\":\"#636efa\",\"pattern\":{\"shape\":\"\"}},\"name\":\"Food and non-alcoholic beverages\",\"offsetgroup\":\"Food and non-alcoholic beverages\",\"orientation\":\"v\",\"showlegend\":true,\"textposition\":\"auto\",\"x\":[\"Food and non-alcoholic beverages\"],\"xaxis\":\"x\",\"y\":[3.7],\"yaxis\":\"y\",\"type\":\"bar\"},{\"alignmentgroup\":\"True\",\"hovertemplate\":\"EN_DESC=%{x}<br>month=2022-02<br>perc_increase=%{y}<extra></extra>\",\"legendgroup\":\"Alcoholic beverages, tobacco and narcotics\",\"marker\":{\"color\":\"#EF553B\",\"pattern\":{\"shape\":\"\"}},\"name\":\"Alcoholic beverages, tobacco and narcotics\",\"offsetgroup\":\"Alcoholic beverages, tobacco and narcotics\",\"orientation\":\"v\",\"showlegend\":true,\"textposition\":\"auto\",\"x\":[\"Alcoholic beverages, tobacco and narcotics\"],\"xaxis\":\"x\",\"y\":[1.1],\"yaxis\":\"y\",\"type\":\"bar\"},{\"alignmentgroup\":\"True\",\"hovertemplate\":\"EN_DESC=%{x}<br>month=2022-02<br>perc_increase=%{y}<extra></extra>\",\"legendgroup\":\"Clothing and footwear\",\"marker\":{\"color\":\"#00cc96\",\"pattern\":{\"shape\":\"\"}},\"name\":\"Clothing and footwear\",\"offsetgroup\":\"Clothing and footwear\",\"orientation\":\"v\",\"showlegend\":true,\"textposition\":\"auto\",\"x\":[\"Clothing and footwear\"],\"xaxis\":\"x\",\"y\":[0.2],\"yaxis\":\"y\",\"type\":\"bar\"},{\"alignmentgroup\":\"True\",\"hovertemplate\":\"EN_DESC=%{x}<br>month=2022-02<br>perc_increase=%{y}<extra></extra>\",\"legendgroup\":\"Housing, water, electricity, gas and other fuels\",\"marker\":{\"color\":\"#ab63fa\",\"pattern\":{\"shape\":\"\"}},\"name\":\"Housing, water, electricity, gas and other fuels\",\"offsetgroup\":\"Housing, water, electricity, gas and other fuels\",\"orientation\":\"v\",\"showlegend\":true,\"textposition\":\"auto\",\"x\":[\"Housing, water, electricity, gas and other fuels\"],\"xaxis\":\"x\",\"y\":[-3.2],\"yaxis\":\"y\",\"type\":\"bar\"},{\"alignmentgroup\":\"True\",\"hovertemplate\":\"EN_DESC=%{x}<br>month=2022-02<br>perc_increase=%{y}<extra></extra>\",\"legendgroup\":\"Furnishings, household equipment and routine household maintenance\",\"marker\":{\"color\":\"#FFA15A\",\"pattern\":{\"shape\":\"\"}},\"name\":\"Furnishings, household equipment and routine household maintenance\",\"offsetgroup\":\"Furnishings, household equipment and routine household maintenance\",\"orientation\":\"v\",\"showlegend\":true,\"textposition\":\"auto\",\"x\":[\"Furnishings, household equipment and routine household maintenance\"],\"xaxis\":\"x\",\"y\":[2.0],\"yaxis\":\"y\",\"type\":\"bar\"},{\"alignmentgroup\":\"True\",\"hovertemplate\":\"EN_DESC=%{x}<br>month=2022-02<br>perc_increase=%{y}<extra></extra>\",\"legendgroup\":\"Health\",\"marker\":{\"color\":\"#19d3f3\",\"pattern\":{\"shape\":\"\"}},\"name\":\"Health\",\"offsetgroup\":\"Health\",\"orientation\":\"v\",\"showlegend\":true,\"textposition\":\"auto\",\"x\":[\"Health\"],\"xaxis\":\"x\",\"y\":[0.3],\"yaxis\":\"y\",\"type\":\"bar\"},{\"alignmentgroup\":\"True\",\"hovertemplate\":\"EN_DESC=%{x}<br>month=2022-02<br>perc_increase=%{y}<extra></extra>\",\"legendgroup\":\"Transport\",\"marker\":{\"color\":\"#FF6692\",\"pattern\":{\"shape\":\"\"}},\"name\":\"Transport\",\"offsetgroup\":\"Transport\",\"orientation\":\"v\",\"showlegend\":true,\"textposition\":\"auto\",\"x\":[\"Transport\"],\"xaxis\":\"x\",\"y\":[3.5],\"yaxis\":\"y\",\"type\":\"bar\"},{\"alignmentgroup\":\"True\",\"hovertemplate\":\"EN_DESC=%{x}<br>month=2022-02<br>perc_increase=%{y}<extra></extra>\",\"legendgroup\":\"Communications\",\"marker\":{\"color\":\"#B6E880\",\"pattern\":{\"shape\":\"\"}},\"name\":\"Communications\",\"offsetgroup\":\"Communications\",\"orientation\":\"v\",\"showlegend\":true,\"textposition\":\"auto\",\"x\":[\"Communications\"],\"xaxis\":\"x\",\"y\":[-0.2],\"yaxis\":\"y\",\"type\":\"bar\"},{\"alignmentgroup\":\"True\",\"hovertemplate\":\"EN_DESC=%{x}<br>month=2022-02<br>perc_increase=%{y}<extra></extra>\",\"legendgroup\":\"Recreation and culture\",\"marker\":{\"color\":\"#FF97FF\",\"pattern\":{\"shape\":\"\"}},\"name\":\"Recreation and culture\",\"offsetgroup\":\"Recreation and culture\",\"orientation\":\"v\",\"showlegend\":true,\"textposition\":\"auto\",\"x\":[\"Recreation and culture\"],\"xaxis\":\"x\",\"y\":[1.7],\"yaxis\":\"y\",\"type\":\"bar\"},{\"alignmentgroup\":\"True\",\"hovertemplate\":\"EN_DESC=%{x}<br>month=2022-02<br>perc_increase=%{y}<extra></extra>\",\"legendgroup\":\"Education\",\"marker\":{\"color\":\"#FECB52\",\"pattern\":{\"shape\":\"\"}},\"name\":\"Education\",\"offsetgroup\":\"Education\",\"orientation\":\"v\",\"showlegend\":true,\"textposition\":\"auto\",\"x\":[\"Education\"],\"xaxis\":\"x\",\"y\":[0.2],\"yaxis\":\"y\",\"type\":\"bar\"},{\"alignmentgroup\":\"True\",\"hovertemplate\":\"EN_DESC=%{x}<br>month=2022-02<br>perc_increase=%{y}<extra></extra>\",\"legendgroup\":\"Restaurants and hotels\",\"marker\":{\"color\":\"#636efa\",\"pattern\":{\"shape\":\"\"}},\"name\":\"Restaurants and hotels\",\"offsetgroup\":\"Restaurants and hotels\",\"orientation\":\"v\",\"showlegend\":true,\"textposition\":\"auto\",\"x\":[\"Restaurants and hotels\"],\"xaxis\":\"x\",\"y\":[1.7],\"yaxis\":\"y\",\"type\":\"bar\"},{\"alignmentgroup\":\"True\",\"hovertemplate\":\"EN_DESC=%{x}<br>month=2022-02<br>perc_increase=%{y}<extra></extra>\",\"legendgroup\":\"Miscellaneous goods and services\",\"marker\":{\"color\":\"#EF553B\",\"pattern\":{\"shape\":\"\"}},\"name\":\"Miscellaneous goods and services\",\"offsetgroup\":\"Miscellaneous goods and services\",\"orientation\":\"v\",\"showlegend\":true,\"textposition\":\"auto\",\"x\":[\"Miscellaneous goods and services\"],\"xaxis\":\"x\",\"y\":[1.2],\"yaxis\":\"y\",\"type\":\"bar\"}],\"name\":\"2022-02\"},{\"data\":[{\"alignmentgroup\":\"True\",\"hovertemplate\":\"EN_DESC=%{x}<br>month=2022-03<br>perc_increase=%{y}<extra></extra>\",\"legendgroup\":\"Food and non-alcoholic beverages\",\"marker\":{\"color\":\"#636efa\",\"pattern\":{\"shape\":\"\"}},\"name\":\"Food and non-alcoholic beverages\",\"offsetgroup\":\"Food and non-alcoholic beverages\",\"orientation\":\"v\",\"showlegend\":true,\"textposition\":\"auto\",\"x\":[\"Food and non-alcoholic beverages\"],\"xaxis\":\"x\",\"y\":[1.4],\"yaxis\":\"y\",\"type\":\"bar\"},{\"alignmentgroup\":\"True\",\"hovertemplate\":\"EN_DESC=%{x}<br>month=2022-03<br>perc_increase=%{y}<extra></extra>\",\"legendgroup\":\"Alcoholic beverages, tobacco and narcotics\",\"marker\":{\"color\":\"#EF553B\",\"pattern\":{\"shape\":\"\"}},\"name\":\"Alcoholic beverages, tobacco and narcotics\",\"offsetgroup\":\"Alcoholic beverages, tobacco and narcotics\",\"orientation\":\"v\",\"showlegend\":true,\"textposition\":\"auto\",\"x\":[\"Alcoholic beverages, tobacco and narcotics\"],\"xaxis\":\"x\",\"y\":[0.3],\"yaxis\":\"y\",\"type\":\"bar\"},{\"alignmentgroup\":\"True\",\"hovertemplate\":\"EN_DESC=%{x}<br>month=2022-03<br>perc_increase=%{y}<extra></extra>\",\"legendgroup\":\"Clothing and footwear\",\"marker\":{\"color\":\"#00cc96\",\"pattern\":{\"shape\":\"\"}},\"name\":\"Clothing and footwear\",\"offsetgroup\":\"Clothing and footwear\",\"orientation\":\"v\",\"showlegend\":true,\"textposition\":\"auto\",\"x\":[\"Clothing and footwear\"],\"xaxis\":\"x\",\"y\":[3.2],\"yaxis\":\"y\",\"type\":\"bar\"},{\"alignmentgroup\":\"True\",\"hovertemplate\":\"EN_DESC=%{x}<br>month=2022-03<br>perc_increase=%{y}<extra></extra>\",\"legendgroup\":\"Housing, water, electricity, gas and other fuels\",\"marker\":{\"color\":\"#ab63fa\",\"pattern\":{\"shape\":\"\"}},\"name\":\"Housing, water, electricity, gas and other fuels\",\"offsetgroup\":\"Housing, water, electricity, gas and other fuels\",\"orientation\":\"v\",\"showlegend\":true,\"textposition\":\"auto\",\"x\":[\"Housing, water, electricity, gas and other fuels\"],\"xaxis\":\"x\",\"y\":[3.5],\"yaxis\":\"y\",\"type\":\"bar\"},{\"alignmentgroup\":\"True\",\"hovertemplate\":\"EN_DESC=%{x}<br>month=2022-03<br>perc_increase=%{y}<extra></extra>\",\"legendgroup\":\"Furnishings, household equipment and routine household maintenance\",\"marker\":{\"color\":\"#FFA15A\",\"pattern\":{\"shape\":\"\"}},\"name\":\"Furnishings, household equipment and routine household maintenance\",\"offsetgroup\":\"Furnishings, household equipment and routine household maintenance\",\"orientation\":\"v\",\"showlegend\":true,\"textposition\":\"auto\",\"x\":[\"Furnishings, household equipment and routine household maintenance\"],\"xaxis\":\"x\",\"y\":[1.3],\"yaxis\":\"y\",\"type\":\"bar\"},{\"alignmentgroup\":\"True\",\"hovertemplate\":\"EN_DESC=%{x}<br>month=2022-03<br>perc_increase=%{y}<extra></extra>\",\"legendgroup\":\"Health\",\"marker\":{\"color\":\"#19d3f3\",\"pattern\":{\"shape\":\"\"}},\"name\":\"Health\",\"offsetgroup\":\"Health\",\"orientation\":\"v\",\"showlegend\":true,\"textposition\":\"auto\",\"x\":[\"Health\"],\"xaxis\":\"x\",\"y\":[0.5],\"yaxis\":\"y\",\"type\":\"bar\"},{\"alignmentgroup\":\"True\",\"hovertemplate\":\"EN_DESC=%{x}<br>month=2022-03<br>perc_increase=%{y}<extra></extra>\",\"legendgroup\":\"Transport\",\"marker\":{\"color\":\"#FF6692\",\"pattern\":{\"shape\":\"\"}},\"name\":\"Transport\",\"offsetgroup\":\"Transport\",\"orientation\":\"v\",\"showlegend\":true,\"textposition\":\"auto\",\"x\":[\"Transport\"],\"xaxis\":\"x\",\"y\":[8.7],\"yaxis\":\"y\",\"type\":\"bar\"},{\"alignmentgroup\":\"True\",\"hovertemplate\":\"EN_DESC=%{x}<br>month=2022-03<br>perc_increase=%{y}<extra></extra>\",\"legendgroup\":\"Communications\",\"marker\":{\"color\":\"#B6E880\",\"pattern\":{\"shape\":\"\"}},\"name\":\"Communications\",\"offsetgroup\":\"Communications\",\"orientation\":\"v\",\"showlegend\":true,\"textposition\":\"auto\",\"x\":[\"Communications\"],\"xaxis\":\"x\",\"y\":[1.0],\"yaxis\":\"y\",\"type\":\"bar\"},{\"alignmentgroup\":\"True\",\"hovertemplate\":\"EN_DESC=%{x}<br>month=2022-03<br>perc_increase=%{y}<extra></extra>\",\"legendgroup\":\"Recreation and culture\",\"marker\":{\"color\":\"#FF97FF\",\"pattern\":{\"shape\":\"\"}},\"name\":\"Recreation and culture\",\"offsetgroup\":\"Recreation and culture\",\"orientation\":\"v\",\"showlegend\":true,\"textposition\":\"auto\",\"x\":[\"Recreation and culture\"],\"xaxis\":\"x\",\"y\":[0.7],\"yaxis\":\"y\",\"type\":\"bar\"},{\"alignmentgroup\":\"True\",\"hovertemplate\":\"EN_DESC=%{x}<br>month=2022-03<br>perc_increase=%{y}<extra></extra>\",\"legendgroup\":\"Education\",\"marker\":{\"color\":\"#FECB52\",\"pattern\":{\"shape\":\"\"}},\"name\":\"Education\",\"offsetgroup\":\"Education\",\"orientation\":\"v\",\"showlegend\":true,\"textposition\":\"auto\",\"x\":[\"Education\"],\"xaxis\":\"x\",\"y\":[0.0],\"yaxis\":\"y\",\"type\":\"bar\"},{\"alignmentgroup\":\"True\",\"hovertemplate\":\"EN_DESC=%{x}<br>month=2022-03<br>perc_increase=%{y}<extra></extra>\",\"legendgroup\":\"Restaurants and hotels\",\"marker\":{\"color\":\"#636efa\",\"pattern\":{\"shape\":\"\"}},\"name\":\"Restaurants and hotels\",\"offsetgroup\":\"Restaurants and hotels\",\"orientation\":\"v\",\"showlegend\":true,\"textposition\":\"auto\",\"x\":[\"Restaurants and hotels\"],\"xaxis\":\"x\",\"y\":[0.9],\"yaxis\":\"y\",\"type\":\"bar\"},{\"alignmentgroup\":\"True\",\"hovertemplate\":\"EN_DESC=%{x}<br>month=2022-03<br>perc_increase=%{y}<extra></extra>\",\"legendgroup\":\"Miscellaneous goods and services\",\"marker\":{\"color\":\"#EF553B\",\"pattern\":{\"shape\":\"\"}},\"name\":\"Miscellaneous goods and services\",\"offsetgroup\":\"Miscellaneous goods and services\",\"orientation\":\"v\",\"showlegend\":true,\"textposition\":\"auto\",\"x\":[\"Miscellaneous goods and services\"],\"xaxis\":\"x\",\"y\":[1.1],\"yaxis\":\"y\",\"type\":\"bar\"}],\"name\":\"2022-03\"},{\"data\":[{\"alignmentgroup\":\"True\",\"hovertemplate\":\"EN_DESC=%{x}<br>month=2022-04<br>perc_increase=%{y}<extra></extra>\",\"legendgroup\":\"Food and non-alcoholic beverages\",\"marker\":{\"color\":\"#636efa\",\"pattern\":{\"shape\":\"\"}},\"name\":\"Food and non-alcoholic beverages\",\"offsetgroup\":\"Food and non-alcoholic beverages\",\"orientation\":\"v\",\"showlegend\":true,\"textposition\":\"auto\",\"x\":[\"Food and non-alcoholic beverages\"],\"xaxis\":\"x\",\"y\":[2.3],\"yaxis\":\"y\",\"type\":\"bar\"},{\"alignmentgroup\":\"True\",\"hovertemplate\":\"EN_DESC=%{x}<br>month=2022-04<br>perc_increase=%{y}<extra></extra>\",\"legendgroup\":\"Alcoholic beverages, tobacco and narcotics\",\"marker\":{\"color\":\"#EF553B\",\"pattern\":{\"shape\":\"\"}},\"name\":\"Alcoholic beverages, tobacco and narcotics\",\"offsetgroup\":\"Alcoholic beverages, tobacco and narcotics\",\"orientation\":\"v\",\"showlegend\":true,\"textposition\":\"auto\",\"x\":[\"Alcoholic beverages, tobacco and narcotics\"],\"xaxis\":\"x\",\"y\":[0.2],\"yaxis\":\"y\",\"type\":\"bar\"},{\"alignmentgroup\":\"True\",\"hovertemplate\":\"EN_DESC=%{x}<br>month=2022-04<br>perc_increase=%{y}<extra></extra>\",\"legendgroup\":\"Clothing and footwear\",\"marker\":{\"color\":\"#00cc96\",\"pattern\":{\"shape\":\"\"}},\"name\":\"Clothing and footwear\",\"offsetgroup\":\"Clothing and footwear\",\"orientation\":\"v\",\"showlegend\":true,\"textposition\":\"auto\",\"x\":[\"Clothing and footwear\"],\"xaxis\":\"x\",\"y\":[2.0],\"yaxis\":\"y\",\"type\":\"bar\"},{\"alignmentgroup\":\"True\",\"hovertemplate\":\"EN_DESC=%{x}<br>month=2022-04<br>perc_increase=%{y}<extra></extra>\",\"legendgroup\":\"Housing, water, electricity, gas and other fuels\",\"marker\":{\"color\":\"#ab63fa\",\"pattern\":{\"shape\":\"\"}},\"name\":\"Housing, water, electricity, gas and other fuels\",\"offsetgroup\":\"Housing, water, electricity, gas and other fuels\",\"orientation\":\"v\",\"showlegend\":true,\"textposition\":\"auto\",\"x\":[\"Housing, water, electricity, gas and other fuels\"],\"xaxis\":\"x\",\"y\":[20.5],\"yaxis\":\"y\",\"type\":\"bar\"},{\"alignmentgroup\":\"True\",\"hovertemplate\":\"EN_DESC=%{x}<br>month=2022-04<br>perc_increase=%{y}<extra></extra>\",\"legendgroup\":\"Furnishings, household equipment and routine household maintenance\",\"marker\":{\"color\":\"#FFA15A\",\"pattern\":{\"shape\":\"\"}},\"name\":\"Furnishings, household equipment and routine household maintenance\",\"offsetgroup\":\"Furnishings, household equipment and routine household maintenance\",\"orientation\":\"v\",\"showlegend\":true,\"textposition\":\"auto\",\"x\":[\"Furnishings, household equipment and routine household maintenance\"],\"xaxis\":\"x\",\"y\":[1.5],\"yaxis\":\"y\",\"type\":\"bar\"},{\"alignmentgroup\":\"True\",\"hovertemplate\":\"EN_DESC=%{x}<br>month=2022-04<br>perc_increase=%{y}<extra></extra>\",\"legendgroup\":\"Health\",\"marker\":{\"color\":\"#19d3f3\",\"pattern\":{\"shape\":\"\"}},\"name\":\"Health\",\"offsetgroup\":\"Health\",\"orientation\":\"v\",\"showlegend\":true,\"textposition\":\"auto\",\"x\":[\"Health\"],\"xaxis\":\"x\",\"y\":[0.2],\"yaxis\":\"y\",\"type\":\"bar\"},{\"alignmentgroup\":\"True\",\"hovertemplate\":\"EN_DESC=%{x}<br>month=2022-04<br>perc_increase=%{y}<extra></extra>\",\"legendgroup\":\"Transport\",\"marker\":{\"color\":\"#FF6692\",\"pattern\":{\"shape\":\"\"}},\"name\":\"Transport\",\"offsetgroup\":\"Transport\",\"orientation\":\"v\",\"showlegend\":true,\"textposition\":\"auto\",\"x\":[\"Transport\"],\"xaxis\":\"x\",\"y\":[-0.8],\"yaxis\":\"y\",\"type\":\"bar\"},{\"alignmentgroup\":\"True\",\"hovertemplate\":\"EN_DESC=%{x}<br>month=2022-04<br>perc_increase=%{y}<extra></extra>\",\"legendgroup\":\"Communications\",\"marker\":{\"color\":\"#B6E880\",\"pattern\":{\"shape\":\"\"}},\"name\":\"Communications\",\"offsetgroup\":\"Communications\",\"orientation\":\"v\",\"showlegend\":true,\"textposition\":\"auto\",\"x\":[\"Communications\"],\"xaxis\":\"x\",\"y\":[-0.2],\"yaxis\":\"y\",\"type\":\"bar\"},{\"alignmentgroup\":\"True\",\"hovertemplate\":\"EN_DESC=%{x}<br>month=2022-04<br>perc_increase=%{y}<extra></extra>\",\"legendgroup\":\"Recreation and culture\",\"marker\":{\"color\":\"#FF97FF\",\"pattern\":{\"shape\":\"\"}},\"name\":\"Recreation and culture\",\"offsetgroup\":\"Recreation and culture\",\"orientation\":\"v\",\"showlegend\":true,\"textposition\":\"auto\",\"x\":[\"Recreation and culture\"],\"xaxis\":\"x\",\"y\":[2.1],\"yaxis\":\"y\",\"type\":\"bar\"},{\"alignmentgroup\":\"True\",\"hovertemplate\":\"EN_DESC=%{x}<br>month=2022-04<br>perc_increase=%{y}<extra></extra>\",\"legendgroup\":\"Education\",\"marker\":{\"color\":\"#FECB52\",\"pattern\":{\"shape\":\"\"}},\"name\":\"Education\",\"offsetgroup\":\"Education\",\"orientation\":\"v\",\"showlegend\":true,\"textposition\":\"auto\",\"x\":[\"Education\"],\"xaxis\":\"x\",\"y\":[0.1],\"yaxis\":\"y\",\"type\":\"bar\"},{\"alignmentgroup\":\"True\",\"hovertemplate\":\"EN_DESC=%{x}<br>month=2022-04<br>perc_increase=%{y}<extra></extra>\",\"legendgroup\":\"Restaurants and hotels\",\"marker\":{\"color\":\"#636efa\",\"pattern\":{\"shape\":\"\"}},\"name\":\"Restaurants and hotels\",\"offsetgroup\":\"Restaurants and hotels\",\"orientation\":\"v\",\"showlegend\":true,\"textposition\":\"auto\",\"x\":[\"Restaurants and hotels\"],\"xaxis\":\"x\",\"y\":[4.2],\"yaxis\":\"y\",\"type\":\"bar\"},{\"alignmentgroup\":\"True\",\"hovertemplate\":\"EN_DESC=%{x}<br>month=2022-04<br>perc_increase=%{y}<extra></extra>\",\"legendgroup\":\"Miscellaneous goods and services\",\"marker\":{\"color\":\"#EF553B\",\"pattern\":{\"shape\":\"\"}},\"name\":\"Miscellaneous goods and services\",\"offsetgroup\":\"Miscellaneous goods and services\",\"orientation\":\"v\",\"showlegend\":true,\"textposition\":\"auto\",\"x\":[\"Miscellaneous goods and services\"],\"xaxis\":\"x\",\"y\":[1.2],\"yaxis\":\"y\",\"type\":\"bar\"}],\"name\":\"2022-04\"}]);\n",
       "                        }).then(function(){\n",
       "                            \n",
       "var gd = document.getElementById('d3e074f6-bee7-4585-9b73-8bd8184dd2f4');\n",
       "var x = new MutationObserver(function (mutations, observer) {{\n",
       "        var display = window.getComputedStyle(gd).display;\n",
       "        if (!display || display === 'none') {{\n",
       "            console.log([gd, 'removed!']);\n",
       "            Plotly.purge(gd);\n",
       "            observer.disconnect();\n",
       "        }}\n",
       "}});\n",
       "\n",
       "// Listen for the removal of the full notebook cells\n",
       "var notebookContainer = gd.closest('#notebook-container');\n",
       "if (notebookContainer) {{\n",
       "    x.observe(notebookContainer, {childList: true});\n",
       "}}\n",
       "\n",
       "// Listen for the clearing of the current output cell\n",
       "var outputEl = gd.closest('.output');\n",
       "if (outputEl) {{\n",
       "    x.observe(outputEl, {childList: true});\n",
       "}}\n",
       "\n",
       "                        })                };                });            </script>        </div>"
      ]
     },
     "metadata": {},
     "output_type": "display_data"
    }
   ],
   "source": [
    "fig = px.bar(monthly_long, x=\"EN_DESC\", y=\"perc_increase\", color=\"EN_DESC\",\n",
    "  animation_frame=\"month\", range_y=[-20,20])\n",
    "fig.show()"
   ]
  }
 ],
 "metadata": {
  "kernelspec": {
   "display_name": "Python 3 (ipykernel)",
   "language": "python",
   "name": "python3"
  },
  "language_info": {
   "codemirror_mode": {
    "name": "ipython",
    "version": 3
   },
   "file_extension": ".py",
   "mimetype": "text/x-python",
   "name": "python",
   "nbconvert_exporter": "python",
   "pygments_lexer": "ipython3",
   "version": "3.8.11"
  }
 },
 "nbformat": 4,
 "nbformat_minor": 5
}
